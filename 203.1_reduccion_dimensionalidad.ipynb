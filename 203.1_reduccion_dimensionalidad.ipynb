{
 "cells": [
  {
   "cell_type": "markdown",
   "source": [
    "# Caso de Estudio - Reducción de la dimensionalidad para el Iris"
   ],
   "metadata": {
    "collapsed": false
   },
   "id": "2c3f6a6048288a2d"
  },
  {
   "cell_type": "code",
   "execution_count": 1,
   "outputs": [
    {
     "name": "stdout",
     "output_type": "stream",
     "text": [
      "<class 'pandas.core.frame.DataFrame'>\n",
      "RangeIndex: 150 entries, 0 to 149\n",
      "Data columns (total 5 columns):\n",
      " #   Column        Non-Null Count  Dtype  \n",
      "---  ------        --------------  -----  \n",
      " 0   sepal.length  150 non-null    float64\n",
      " 1   sepal.width   150 non-null    float64\n",
      " 2   petal.length  150 non-null    float64\n",
      " 3   petal.width   150 non-null    float64\n",
      " 4   variety       150 non-null    object \n",
      "dtypes: float64(4), object(1)\n",
      "memory usage: 6.0+ KB\n"
     ]
    }
   ],
   "source": [
    "import pandas as pd\n",
    "\n",
    "iris = pd.read_csv(\"datasets/iris.csv\")\n",
    "\n",
    "iris.info()"
   ],
   "metadata": {
    "collapsed": false,
    "ExecuteTime": {
     "end_time": "2023-10-12T00:33:00.886614Z",
     "start_time": "2023-10-12T00:32:59.970527Z"
    }
   },
   "id": "1b93809201b8ed9c"
  },
  {
   "cell_type": "code",
   "execution_count": 2,
   "id": "initial_id",
   "metadata": {
    "collapsed": true,
    "ExecuteTime": {
     "end_time": "2023-10-12T00:34:13.172052Z",
     "start_time": "2023-10-12T00:34:13.150279Z"
    }
   },
   "outputs": [
    {
     "data": {
      "text/plain": "((150, 4), (150,))"
     },
     "execution_count": 2,
     "metadata": {},
     "output_type": "execute_result"
    }
   ],
   "source": [
    "X = iris[ [\"sepal.length\", \"sepal.width\", \"petal.length\", \"petal.width\"] ].values\n",
    "y = iris[\"variety\"].values\n",
    "\n",
    "X.shape, y.shape"
   ]
  },
  {
   "cell_type": "code",
   "execution_count": 3,
   "outputs": [
    {
     "data": {
      "text/plain": "1.0"
     },
     "execution_count": 3,
     "metadata": {},
     "output_type": "execute_result"
    }
   ],
   "source": [
    "from sklearn.tree import DecisionTreeClassifier\n",
    "\n",
    "clf = DecisionTreeClassifier()\n",
    "\n",
    "clf.fit(X, y)\n",
    "\n",
    "clf.score(X, y)"
   ],
   "metadata": {
    "collapsed": false,
    "ExecuteTime": {
     "end_time": "2023-10-12T00:35:07.369944Z",
     "start_time": "2023-10-12T00:35:05.400374Z"
    }
   },
   "id": "5013aed5a1215073"
  },
  {
   "cell_type": "code",
   "execution_count": 4,
   "outputs": [
    {
     "data": {
      "text/plain": "     sepal.length  sepal.width  petal.length  petal.width     variety\n12            4.8          3.0           1.4          0.1      Setosa\n60            5.0          2.0           3.5          1.0  Versicolor\n5             5.4          3.9           1.7          0.4      Setosa\n141           6.9          3.1           5.1          2.3   Virginica\n97            6.2          2.9           4.3          1.3  Versicolor\n131           7.9          3.8           6.4          2.0   Virginica\n44            5.1          3.8           1.9          0.4      Setosa\n27            5.2          3.5           1.5          0.2      Setosa\n36            5.5          3.5           1.3          0.2      Setosa\n15            5.7          4.4           1.5          0.4      Setosa",
      "text/html": "<div>\n<style scoped>\n    .dataframe tbody tr th:only-of-type {\n        vertical-align: middle;\n    }\n\n    .dataframe tbody tr th {\n        vertical-align: top;\n    }\n\n    .dataframe thead th {\n        text-align: right;\n    }\n</style>\n<table border=\"1\" class=\"dataframe\">\n  <thead>\n    <tr style=\"text-align: right;\">\n      <th></th>\n      <th>sepal.length</th>\n      <th>sepal.width</th>\n      <th>petal.length</th>\n      <th>petal.width</th>\n      <th>variety</th>\n    </tr>\n  </thead>\n  <tbody>\n    <tr>\n      <th>12</th>\n      <td>4.8</td>\n      <td>3.0</td>\n      <td>1.4</td>\n      <td>0.1</td>\n      <td>Setosa</td>\n    </tr>\n    <tr>\n      <th>60</th>\n      <td>5.0</td>\n      <td>2.0</td>\n      <td>3.5</td>\n      <td>1.0</td>\n      <td>Versicolor</td>\n    </tr>\n    <tr>\n      <th>5</th>\n      <td>5.4</td>\n      <td>3.9</td>\n      <td>1.7</td>\n      <td>0.4</td>\n      <td>Setosa</td>\n    </tr>\n    <tr>\n      <th>141</th>\n      <td>6.9</td>\n      <td>3.1</td>\n      <td>5.1</td>\n      <td>2.3</td>\n      <td>Virginica</td>\n    </tr>\n    <tr>\n      <th>97</th>\n      <td>6.2</td>\n      <td>2.9</td>\n      <td>4.3</td>\n      <td>1.3</td>\n      <td>Versicolor</td>\n    </tr>\n    <tr>\n      <th>131</th>\n      <td>7.9</td>\n      <td>3.8</td>\n      <td>6.4</td>\n      <td>2.0</td>\n      <td>Virginica</td>\n    </tr>\n    <tr>\n      <th>44</th>\n      <td>5.1</td>\n      <td>3.8</td>\n      <td>1.9</td>\n      <td>0.4</td>\n      <td>Setosa</td>\n    </tr>\n    <tr>\n      <th>27</th>\n      <td>5.2</td>\n      <td>3.5</td>\n      <td>1.5</td>\n      <td>0.2</td>\n      <td>Setosa</td>\n    </tr>\n    <tr>\n      <th>36</th>\n      <td>5.5</td>\n      <td>3.5</td>\n      <td>1.3</td>\n      <td>0.2</td>\n      <td>Setosa</td>\n    </tr>\n    <tr>\n      <th>15</th>\n      <td>5.7</td>\n      <td>4.4</td>\n      <td>1.5</td>\n      <td>0.4</td>\n      <td>Setosa</td>\n    </tr>\n  </tbody>\n</table>\n</div>"
     },
     "execution_count": 4,
     "metadata": {},
     "output_type": "execute_result"
    }
   ],
   "source": [
    "iris.sample(10)"
   ],
   "metadata": {
    "collapsed": false,
    "ExecuteTime": {
     "end_time": "2023-10-12T00:35:38.364210Z",
     "start_time": "2023-10-12T00:35:38.356218Z"
    }
   },
   "id": "dc15afc5bd543601"
  },
  {
   "cell_type": "code",
   "execution_count": 5,
   "outputs": [
    {
     "data": {
      "text/plain": "array(['Setosa', 'Versicolor', 'Virginica', 'Virginica'], dtype=object)"
     },
     "execution_count": 5,
     "metadata": {},
     "output_type": "execute_result"
    }
   ],
   "source": [
    "clf.predict([\n",
    "    [4.8, 3.1, 1.5, 0.2], # SETOSA\n",
    "    [5.1, 2.1, 3.4, 1.1], # VERSICOLOR\n",
    "    [8.0, 3.9, 6.3, 2.1], # VIRGINICA\n",
    "    [7.0, 3.0, 4.5, 1.8], # ¿VIRGINICA | VERSICOLOR?\n",
    "])"
   ],
   "metadata": {
    "collapsed": false,
    "ExecuteTime": {
     "end_time": "2023-10-12T00:37:36.502753Z",
     "start_time": "2023-10-12T00:37:36.485957Z"
    }
   },
   "id": "2db0a3bf01c82cd6"
  },
  {
   "cell_type": "markdown",
   "source": [
    "## Reducción de la Dimensionalidad\n",
    "\n",
    "La matriz X representa las características (columnas) de cada muestra (filas). Podemos reducir la dimensionalidad, que sería equivalente a decir que reducimos o sustituimos el número de características por nuevos componentes que tienen la mínima correlación entre ellos y la máxima varianza (dispersión). \n",
    "\n",
    "$X' = PCA(X, 2)$"
   ],
   "metadata": {
    "collapsed": false
   },
   "id": "663d2783b565715a"
  },
  {
   "cell_type": "code",
   "execution_count": 7,
   "outputs": [
    {
     "data": {
      "text/plain": "((150, 2), (150, 4))"
     },
     "execution_count": 7,
     "metadata": {},
     "output_type": "execute_result"
    }
   ],
   "source": [
    "from sklearn.decomposition import PCA\n",
    "\n",
    "Xp = PCA(n_components=2).fit_transform(X) # 4 -> 2\n",
    "\n",
    "Xp.shape, X.shape"
   ],
   "metadata": {
    "collapsed": false,
    "ExecuteTime": {
     "end_time": "2023-10-12T00:41:44.706958Z",
     "start_time": "2023-10-12T00:41:44.691949Z"
    }
   },
   "id": "b4f3728f80816dd6"
  },
  {
   "cell_type": "code",
   "execution_count": 8,
   "outputs": [
    {
     "data": {
      "text/plain": "array([[5.1, 3.5, 1.4, 0.2],\n       [4.9, 3. , 1.4, 0.2],\n       [4.7, 3.2, 1.3, 0.2],\n       [4.6, 3.1, 1.5, 0.2],\n       [5. , 3.6, 1.4, 0.2]])"
     },
     "execution_count": 8,
     "metadata": {},
     "output_type": "execute_result"
    }
   ],
   "source": [
    "X[:5]"
   ],
   "metadata": {
    "collapsed": false,
    "ExecuteTime": {
     "end_time": "2023-10-12T00:41:54.991224Z",
     "start_time": "2023-10-12T00:41:54.984Z"
    }
   },
   "id": "81973c459d7faeaf"
  },
  {
   "cell_type": "code",
   "execution_count": 9,
   "outputs": [
    {
     "data": {
      "text/plain": "array([[-2.68412563,  0.31939725],\n       [-2.71414169, -0.17700123],\n       [-2.88899057, -0.14494943],\n       [-2.74534286, -0.31829898],\n       [-2.72871654,  0.32675451]])"
     },
     "execution_count": 9,
     "metadata": {},
     "output_type": "execute_result"
    }
   ],
   "source": [
    "Xp[:5]"
   ],
   "metadata": {
    "collapsed": false,
    "ExecuteTime": {
     "end_time": "2023-10-12T00:42:20.694579Z",
     "start_time": "2023-10-12T00:42:20.689180Z"
    }
   },
   "id": "c29357f74ef71d75"
  },
  {
   "cell_type": "code",
   "execution_count": 11,
   "outputs": [
    {
     "data": {
      "text/plain": "<Figure size 640x480 with 1 Axes>",
      "image/png": "[encoded data removed]"
     },
     "metadata": {},
     "output_type": "display_data"
    }
   ],
   "source": [
    "import matplotlib.pyplot as plt\n",
    "\n",
    "plt.scatter(Xp[:, 0], Xp[:, 1])\n",
    "plt.show()"
   ],
   "metadata": {
    "collapsed": false,
    "ExecuteTime": {
     "end_time": "2023-10-12T00:44:11.930362Z",
     "start_time": "2023-10-12T00:44:11.801138Z"
    }
   },
   "id": "7e52285e37939534"
  },
  {
   "cell_type": "code",
   "execution_count": 13,
   "outputs": [
    {
     "data": {
      "text/plain": "<Figure size 640x480 with 1 Axes>",
      "image/png": "[encoded data removed]"
     },
     "metadata": {},
     "output_type": "display_data"
    }
   ],
   "source": [
    "import seaborn as sns\n",
    "\n",
    "sns.scatterplot(x=Xp[:, 0], y=Xp[:, 1], hue=y)\n",
    "plt.show()"
   ],
   "metadata": {
    "collapsed": false,
    "ExecuteTime": {
     "end_time": "2023-10-12T00:47:26.806200Z",
     "start_time": "2023-10-12T00:47:26.689322Z"
    }
   },
   "id": "3ccfc5eb11dfd9cb"
  },
  {
   "cell_type": "code",
   "execution_count": 14,
   "outputs": [
    {
     "data": {
      "text/plain": "1.0"
     },
     "execution_count": 14,
     "metadata": {},
     "output_type": "execute_result"
    }
   ],
   "source": [
    "from sklearn.tree import DecisionTreeClassifier\n",
    "\n",
    "clf = DecisionTreeClassifier()\n",
    "\n",
    "clf.fit(Xp, y)\n",
    "\n",
    "clf.score(Xp, y)"
   ],
   "metadata": {
    "collapsed": false,
    "ExecuteTime": {
     "end_time": "2023-10-12T00:48:54.491331Z",
     "start_time": "2023-10-12T00:48:54.479588Z"
    }
   },
   "id": "123c1b5318399993"
  },
  {
   "cell_type": "code",
   "execution_count": 15,
   "outputs": [
    {
     "data": {
      "text/plain": "0.9666666666666667"
     },
     "execution_count": 15,
     "metadata": {},
     "output_type": "execute_result"
    }
   ],
   "source": [
    "from sklearn.svm import SVC\n",
    "\n",
    "clf = SVC(kernel=\"linear\") # Súper rápido y eficiente\n",
    "\n",
    "clf.fit(Xp, y) # Sólo entrenamos con 150 * 2 = 300 versus 150 * 4 = 600 (50% menos memoria)\n",
    "\n",
    "clf.score(Xp, y)"
   ],
   "metadata": {
    "collapsed": false,
    "ExecuteTime": {
     "end_time": "2023-10-12T00:49:27.982030Z",
     "start_time": "2023-10-12T00:49:27.974944Z"
    }
   },
   "id": "ba1b7d8f3e971e6f"
  },
  {
   "cell_type": "code",
   "execution_count": 16,
   "outputs": [
    {
     "data": {
      "text/plain": "((150, 1), (150, 4))"
     },
     "execution_count": 16,
     "metadata": {},
     "output_type": "execute_result"
    }
   ],
   "source": [
    "from sklearn.decomposition import PCA\n",
    "\n",
    "Xpp = PCA(n_components=1).fit_transform(X)\n",
    "\n",
    "Xpp.shape, X.shape"
   ],
   "metadata": {
    "collapsed": false,
    "ExecuteTime": {
     "end_time": "2023-10-12T00:51:46.597420Z",
     "start_time": "2023-10-12T00:51:46.583868Z"
    }
   },
   "id": "7323ed669a05cb05"
  },
  {
   "cell_type": "code",
   "execution_count": 17,
   "outputs": [
    {
     "data": {
      "text/plain": "<Figure size 640x480 with 1 Axes>",
      "image/png": "[encoded data removed]"
     },
     "metadata": {},
     "output_type": "display_data"
    }
   ],
   "source": [
    "import matplotlib.pyplot as plt\n",
    "\n",
    "plt.scatter(Xpp[:, 0], y)\n",
    "plt.show()"
   ],
   "metadata": {
    "collapsed": false,
    "ExecuteTime": {
     "end_time": "2023-10-12T00:52:20.050025Z",
     "start_time": "2023-10-12T00:52:19.954400Z"
    }
   },
   "id": "b8c67cc4a71e77f"
  },
  {
   "cell_type": "code",
   "execution_count": 18,
   "outputs": [
    {
     "data": {
      "text/plain": "1.0"
     },
     "execution_count": 18,
     "metadata": {},
     "output_type": "execute_result"
    }
   ],
   "source": [
    "from sklearn.tree import DecisionTreeClassifier\n",
    "\n",
    "clf = DecisionTreeClassifier()\n",
    "\n",
    "clf.fit(Xpp, y)\n",
    "\n",
    "clf.score(Xpp, y)"
   ],
   "metadata": {
    "collapsed": false,
    "ExecuteTime": {
     "end_time": "2023-10-12T00:53:25.590048Z",
     "start_time": "2023-10-12T00:53:25.584657Z"
    }
   },
   "id": "751140dfd3c5f828"
  },
  {
   "cell_type": "code",
   "execution_count": 19,
   "outputs": [
    {
     "data": {
      "text/plain": "0.94"
     },
     "execution_count": 19,
     "metadata": {},
     "output_type": "execute_result"
    }
   ],
   "source": [
    "from sklearn.svm import SVC\n",
    "\n",
    "clf = SVC(kernel=\"linear\") # Súper rápido y eficiente\n",
    "\n",
    "clf.fit(Xpp, y) # Sólo entrenamos con 150 * 1 = 150 versus 150 * 4 = 600 (75% menos memoria)\n",
    "\n",
    "clf.score(Xpp, y)"
   ],
   "metadata": {
    "collapsed": false,
    "ExecuteTime": {
     "end_time": "2023-10-12T00:53:51.681198Z",
     "start_time": "2023-10-12T00:53:51.668634Z"
    }
   },
   "id": "8f37fb6e68a554e8"
  },
  {
   "cell_type": "code",
   "execution_count": 21,
   "outputs": [
    {
     "data": {
      "text/plain": "True"
     },
     "execution_count": 21,
     "metadata": {},
     "output_type": "execute_result"
    }
   ],
   "source": [
    "def test_clf(X, y, threshold=0.9):\n",
    "    from sklearn.decomposition import PCA\n",
    "    Xp = PCA(n_components=1).fit_transform(X)\n",
    "    from sklearn.svm import SVC\n",
    "    clf = SVC(kernel=\"linear\")\n",
    "    clf.fit(Xp, y)\n",
    "    return clf.score(Xp, y) >= threshold\n",
    "    \n",
    "test_clf(X, y)"
   ],
   "metadata": {
    "collapsed": false,
    "ExecuteTime": {
     "end_time": "2023-10-12T01:00:09.056329Z",
     "start_time": "2023-10-12T01:00:09.043205Z"
    }
   },
   "id": "edc1e8c172ebdda9"
  },
  {
   "cell_type": "code",
   "execution_count": 22,
   "outputs": [
    {
     "data": {
      "text/plain": "True"
     },
     "execution_count": 22,
     "metadata": {},
     "output_type": "execute_result"
    }
   ],
   "source": [
    "test_clf(X, y, threshold=0.75)"
   ],
   "metadata": {
    "collapsed": false,
    "ExecuteTime": {
     "end_time": "2023-10-12T01:00:33.941032Z",
     "start_time": "2023-10-12T01:00:33.931010Z"
    }
   },
   "id": "d5c3ecec8c2e700f"
  },
  {
   "cell_type": "markdown",
   "source": [
    "Reglas:\n",
    "\n",
    "* 1 Componente equivale a 1 dimensión de análisis (Test inmediato \"Lineal\")\n",
    "* 2-5 Componentes equivale a 2-5 dimensiones de análisis (Árboles de decisión)\n",
    "* 6-10 Componentes equivale a 6-10 dimensiones de análisis (Máquinas de Soporte Vectorial)\n",
    "* 1-1,000 Componentes equivale a 1-1,000 dimensiones de análisis (Redes Neuronales)"
   ],
   "metadata": {
    "collapsed": false
   },
   "id": "6110f0869af38646"
  },
  {
   "cell_type": "code",
   "execution_count": 32,
   "outputs": [
    {
     "name": "stdout",
     "output_type": "stream",
     "text": [
      "(1, 0.94)\n",
      "(2, 0.9666666666666667)\n",
      "(3, 0.9866666666666667)\n",
      "(4, 0.9933333333333333)\n"
     ]
    },
    {
     "data": {
      "text/plain": "<Figure size 640x480 with 1 Axes>",
      "image/png": "[encoded data removed]"
     },
     "metadata": {},
     "output_type": "display_data"
    }
   ],
   "source": [
    "def score_clf(X, y, n):\n",
    "    from sklearn.decomposition import PCA\n",
    "    Xp = PCA(n_components=n).fit_transform(X)\n",
    "    from sklearn.svm import SVC\n",
    "    clf = SVC(kernel=\"linear\")\n",
    "    clf.fit(Xp, y)\n",
    "    return clf.score(Xp, y)\n",
    "\n",
    "points = [(0, 0)]\n",
    "\n",
    "for n in range(1, X.shape[1] + 1):\n",
    "    point = (n, score_clf(X, y, n))\n",
    "    print(point)\n",
    "    points.append(point)\n",
    "    \n",
    "import matplotlib.pyplot as plt\n",
    "\n",
    "s1, s2 = zip(*points)\n",
    "\n",
    "plt.plot(s1, s2, \"ro--\")\n",
    "plt.ylim((0, 1))\n",
    "plt.show()"
   ],
   "metadata": {
    "collapsed": false,
    "ExecuteTime": {
     "end_time": "2023-10-12T01:19:57.344308Z",
     "start_time": "2023-10-12T01:19:57.240297Z"
    }
   },
   "id": "349819a8b4f36bfe"
  }
 ],
 "metadata": {
  "kernelspec": {
   "display_name": "Python 3",
   "language": "python",
   "name": "python3"
  },
  "language_info": {
   "codemirror_mode": {
    "name": "ipython",
    "version": 2
   },
   "file_extension": ".py",
   "mimetype": "text/x-python",
   "name": "python",
   "nbconvert_exporter": "python",
   "pygments_lexer": "ipython2",
   "version": "2.7.6"
  }
 },
 "nbformat": 4,
 "nbformat_minor": 5
}
