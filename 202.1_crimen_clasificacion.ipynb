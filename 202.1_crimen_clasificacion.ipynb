{
 "cells": [
  {
   "cell_type": "markdown",
   "source": [
    "# Caso de Uso - Clasificación de Crímenes"
   ],
   "metadata": {
    "collapsed": false
   },
   "id": "cfb9aae3dddce89d"
  },
  {
   "cell_type": "code",
   "execution_count": 2,
   "id": "initial_id",
   "metadata": {
    "collapsed": true,
    "ExecuteTime": {
     "end_time": "2023-10-11T01:28:57.877817Z",
     "start_time": "2023-10-11T01:28:54.424025Z"
    }
   },
   "outputs": [
    {
     "name": "stdout",
     "output_type": "stream",
     "text": [
      "<class 'pandas.core.frame.DataFrame'>\n",
      "RangeIndex: 811663 entries, 0 to 811662\n",
      "Data columns (total 28 columns):\n",
      " #   Column          Non-Null Count   Dtype  \n",
      "---  ------          --------------   -----  \n",
      " 0   DR_NO           811663 non-null  int64  \n",
      " 1   Date Rptd       811663 non-null  object \n",
      " 2   DATE OCC        811663 non-null  object \n",
      " 3   TIME OCC        811663 non-null  int64  \n",
      " 4   AREA            811663 non-null  int64  \n",
      " 5   AREA NAME       811663 non-null  object \n",
      " 6   Rpt Dist No     811663 non-null  int64  \n",
      " 7   Part 1-2        811663 non-null  int64  \n",
      " 8   Crm Cd          811663 non-null  int64  \n",
      " 9   Crm Cd Desc     811663 non-null  object \n",
      " 10  Mocodes         699639 non-null  object \n",
      " 11  Vict Age        811663 non-null  int64  \n",
      " 12  Vict Sex        705139 non-null  object \n",
      " 13  Vict Descent    705131 non-null  object \n",
      " 14  Premis Cd       811654 non-null  float64\n",
      " 15  Premis Desc     811184 non-null  object \n",
      " 16  Weapon Used Cd  282783 non-null  float64\n",
      " 17  Weapon Desc     282783 non-null  object \n",
      " 18  Status          811663 non-null  object \n",
      " 19  Status Desc     811663 non-null  object \n",
      " 20  Crm Cd 1        811653 non-null  float64\n",
      " 21  Crm Cd 2        59815 non-null   float64\n",
      " 22  Crm Cd 3        2000 non-null    float64\n",
      " 23  Crm Cd 4        60 non-null      float64\n",
      " 24  LOCATION        811663 non-null  object \n",
      " 25  Cross Street    129872 non-null  object \n",
      " 26  LAT             811663 non-null  float64\n",
      " 27  LON             811663 non-null  float64\n",
      "dtypes: float64(8), int64(7), object(13)\n",
      "memory usage: 173.4+ MB\n"
     ]
    }
   ],
   "source": [
    "import pandas as pd\n",
    "\n",
    "crimes = pd.read_csv(\"datasets/crime.csv\")\n",
    "\n",
    "crimes.info()"
   ]
  },
  {
   "cell_type": "code",
   "execution_count": 3,
   "outputs": [
    {
     "data": {
      "text/plain": "            DR_NO               Date Rptd                DATE OCC  TIME OCC  \\\n235824  210118304  10/08/2021 12:00:00 AM  10/03/2021 12:00:00 AM      2100   \n380643  211301019  09/17/2021 12:00:00 AM  09/15/2021 12:00:00 AM      1730   \n664379  231811165  05/29/2023 12:00:00 AM  05/25/2023 12:00:00 AM      2030   \n711612  231111106  07/14/2023 12:00:00 AM  07/13/2023 12:00:00 AM      1500   \n245182  211107747  04/19/2021 12:00:00 AM  04/18/2021 12:00:00 AM      2100   \n133763  201226019  12/08/2020 12:00:00 AM  12/08/2020 12:00:00 AM      2215   \n384906  210112596  06/27/2021 12:00:00 AM  06/26/2021 12:00:00 AM      1440   \n450720  220310175  05/05/2022 12:00:00 AM  05/05/2022 12:00:00 AM      1455   \n558252  221808578  03/04/2022 12:00:00 AM  03/04/2022 12:00:00 AM       310   \n41899   200613282  07/30/2020 12:00:00 AM  07/25/2020 12:00:00 AM      2000   \n\n        AREA    AREA NAME  Rpt Dist No  Part 1-2  Crm Cd  \\\n235824     1      Central          135         1     330   \n380643    13       Newton         1383         1     235   \n664379    18    Southeast         1881         1     510   \n711612    11    Northeast         1151         2     740   \n245182    11    Northeast         1184         2     740   \n133763    12  77th Street         1241         1     230   \n384906     1      Central          142         1     310   \n450720     3    Southwest          379         1     761   \n558252    18    Southeast         1841         2     624   \n41899      6    Hollywood          639         1     330   \n\n                                              Crm Cd Desc  ...   Status Desc  \\\n235824                              BURGLARY FROM VEHICLE  ...   Invest Cont   \n380643        CHILD ABUSE (PHYSICAL) - AGGRAVATED ASSAULT  ...   Adult Other   \n664379                                   VEHICLE - STOLEN  ...   Invest Cont   \n711612  VANDALISM - FELONY ($400 & OVER, ALL CHURCH VA...  ...  Adult Arrest   \n245182  VANDALISM - FELONY ($400 & OVER, ALL CHURCH VA...  ...   Invest Cont   \n133763     ASSAULT WITH DEADLY WEAPON, AGGRAVATED ASSAULT  ...   Invest Cont   \n384906                                           BURGLARY  ...   Invest Cont   \n450720                                    BRANDISH WEAPON  ...   Invest Cont   \n558252                           BATTERY - SIMPLE ASSAULT  ...   Invest Cont   \n41899                               BURGLARY FROM VEHICLE  ...   Invest Cont   \n\n        Crm Cd 1 Crm Cd 2 Crm Cd 3  Crm Cd 4  \\\n235824     330.0      NaN      NaN       NaN   \n380643     235.0      NaN      NaN       NaN   \n664379     510.0      NaN      NaN       NaN   \n711612     740.0      NaN      NaN       NaN   \n245182     740.0      NaN      NaN       NaN   \n133763     230.0      NaN      NaN       NaN   \n384906     310.0      NaN      NaN       NaN   \n450720     761.0    930.0      NaN       NaN   \n558252     624.0      NaN      NaN       NaN   \n41899      330.0      NaN      NaN       NaN   \n\n                                       LOCATION  \\\n235824   300 S  MAIN                         ST   \n380643   100 W  61ST                         ST   \n664379   800 W  REDONDO BEACH                BL   \n711612  1500 N  MARIPOSA                     AV   \n245182  1400    MCDUFF                       ST   \n133763          63RD                         ST   \n384906   400 S  FIGUEROA                     ST   \n450720  1000 W  MARTIN LUTHER KING JR        BL   \n558252   800 W  IMPERIAL                     HY   \n41899   1700 N  SERRANO                      AV   \n\n                           Cross Street      LAT       LON 1_HORARIO  \n235824                              NaN  34.0481 -118.2472         3  \n380643                              NaN  33.9842 -118.2739         2  \n664379                              NaN  33.8925 -118.2899         3  \n711612                              NaN  34.0981 -118.2994         2  \n245182                              NaN  34.0773 -118.2539         3  \n133763  BRYNHURST                    AV  33.9829 -118.3338         3  \n384906                              NaN  34.0533 -118.2561         2  \n450720                              NaN  34.0145 -118.2937         2  \n558252                              NaN  33.9367 -118.2871         1  \n41899                               NaN  34.1017 -118.3072         3  \n\n[10 rows x 29 columns]",
      "text/html": "<div>\n<style scoped>\n    .dataframe tbody tr th:only-of-type {\n        vertical-align: middle;\n    }\n\n    .dataframe tbody tr th {\n        vertical-align: top;\n    }\n\n    .dataframe thead th {\n        text-align: right;\n    }\n</style>\n<table border=\"1\" class=\"dataframe\">\n  <thead>\n    <tr style=\"text-align: right;\">\n      <th></th>\n      <th>DR_NO</th>\n      <th>Date Rptd</th>\n      <th>DATE OCC</th>\n      <th>TIME OCC</th>\n      <th>AREA</th>\n      <th>AREA NAME</th>\n      <th>Rpt Dist No</th>\n      <th>Part 1-2</th>\n      <th>Crm Cd</th>\n      <th>Crm Cd Desc</th>\n      <th>...</th>\n      <th>Status Desc</th>\n      <th>Crm Cd 1</th>\n      <th>Crm Cd 2</th>\n      <th>Crm Cd 3</th>\n      <th>Crm Cd 4</th>\n      <th>LOCATION</th>\n      <th>Cross Street</th>\n      <th>LAT</th>\n      <th>LON</th>\n      <th>1_HORARIO</th>\n    </tr>\n  </thead>\n  <tbody>\n    <tr>\n      <th>235824</th>\n      <td>210118304</td>\n      <td>10/08/2021 12:00:00 AM</td>\n      <td>10/03/2021 12:00:00 AM</td>\n      <td>2100</td>\n      <td>1</td>\n      <td>Central</td>\n      <td>135</td>\n      <td>1</td>\n      <td>330</td>\n      <td>BURGLARY FROM VEHICLE</td>\n      <td>...</td>\n      <td>Invest Cont</td>\n      <td>330.0</td>\n      <td>NaN</td>\n      <td>NaN</td>\n      <td>NaN</td>\n      <td>300 S  MAIN                         ST</td>\n      <td>NaN</td>\n      <td>34.0481</td>\n      <td>-118.2472</td>\n      <td>3</td>\n    </tr>\n    <tr>\n      <th>380643</th>\n      <td>211301019</td>\n      <td>09/17/2021 12:00:00 AM</td>\n      <td>09/15/2021 12:00:00 AM</td>\n      <td>1730</td>\n      <td>13</td>\n      <td>Newton</td>\n      <td>1383</td>\n      <td>1</td>\n      <td>235</td>\n      <td>CHILD ABUSE (PHYSICAL) - AGGRAVATED ASSAULT</td>\n      <td>...</td>\n      <td>Adult Other</td>\n      <td>235.0</td>\n      <td>NaN</td>\n      <td>NaN</td>\n      <td>NaN</td>\n      <td>100 W  61ST                         ST</td>\n      <td>NaN</td>\n      <td>33.9842</td>\n      <td>-118.2739</td>\n      <td>2</td>\n    </tr>\n    <tr>\n      <th>664379</th>\n      <td>231811165</td>\n      <td>05/29/2023 12:00:00 AM</td>\n      <td>05/25/2023 12:00:00 AM</td>\n      <td>2030</td>\n      <td>18</td>\n      <td>Southeast</td>\n      <td>1881</td>\n      <td>1</td>\n      <td>510</td>\n      <td>VEHICLE - STOLEN</td>\n      <td>...</td>\n      <td>Invest Cont</td>\n      <td>510.0</td>\n      <td>NaN</td>\n      <td>NaN</td>\n      <td>NaN</td>\n      <td>800 W  REDONDO BEACH                BL</td>\n      <td>NaN</td>\n      <td>33.8925</td>\n      <td>-118.2899</td>\n      <td>3</td>\n    </tr>\n    <tr>\n      <th>711612</th>\n      <td>231111106</td>\n      <td>07/14/2023 12:00:00 AM</td>\n      <td>07/13/2023 12:00:00 AM</td>\n      <td>1500</td>\n      <td>11</td>\n      <td>Northeast</td>\n      <td>1151</td>\n      <td>2</td>\n      <td>740</td>\n      <td>VANDALISM - FELONY ($400 &amp; OVER, ALL CHURCH VA...</td>\n      <td>...</td>\n      <td>Adult Arrest</td>\n      <td>740.0</td>\n      <td>NaN</td>\n      <td>NaN</td>\n      <td>NaN</td>\n      <td>1500 N  MARIPOSA                     AV</td>\n      <td>NaN</td>\n      <td>34.0981</td>\n      <td>-118.2994</td>\n      <td>2</td>\n    </tr>\n    <tr>\n      <th>245182</th>\n      <td>211107747</td>\n      <td>04/19/2021 12:00:00 AM</td>\n      <td>04/18/2021 12:00:00 AM</td>\n      <td>2100</td>\n      <td>11</td>\n      <td>Northeast</td>\n      <td>1184</td>\n      <td>2</td>\n      <td>740</td>\n      <td>VANDALISM - FELONY ($400 &amp; OVER, ALL CHURCH VA...</td>\n      <td>...</td>\n      <td>Invest Cont</td>\n      <td>740.0</td>\n      <td>NaN</td>\n      <td>NaN</td>\n      <td>NaN</td>\n      <td>1400    MCDUFF                       ST</td>\n      <td>NaN</td>\n      <td>34.0773</td>\n      <td>-118.2539</td>\n      <td>3</td>\n    </tr>\n    <tr>\n      <th>133763</th>\n      <td>201226019</td>\n      <td>12/08/2020 12:00:00 AM</td>\n      <td>12/08/2020 12:00:00 AM</td>\n      <td>2215</td>\n      <td>12</td>\n      <td>77th Street</td>\n      <td>1241</td>\n      <td>1</td>\n      <td>230</td>\n      <td>ASSAULT WITH DEADLY WEAPON, AGGRAVATED ASSAULT</td>\n      <td>...</td>\n      <td>Invest Cont</td>\n      <td>230.0</td>\n      <td>NaN</td>\n      <td>NaN</td>\n      <td>NaN</td>\n      <td>63RD                         ST</td>\n      <td>BRYNHURST                    AV</td>\n      <td>33.9829</td>\n      <td>-118.3338</td>\n      <td>3</td>\n    </tr>\n    <tr>\n      <th>384906</th>\n      <td>210112596</td>\n      <td>06/27/2021 12:00:00 AM</td>\n      <td>06/26/2021 12:00:00 AM</td>\n      <td>1440</td>\n      <td>1</td>\n      <td>Central</td>\n      <td>142</td>\n      <td>1</td>\n      <td>310</td>\n      <td>BURGLARY</td>\n      <td>...</td>\n      <td>Invest Cont</td>\n      <td>310.0</td>\n      <td>NaN</td>\n      <td>NaN</td>\n      <td>NaN</td>\n      <td>400 S  FIGUEROA                     ST</td>\n      <td>NaN</td>\n      <td>34.0533</td>\n      <td>-118.2561</td>\n      <td>2</td>\n    </tr>\n    <tr>\n      <th>450720</th>\n      <td>220310175</td>\n      <td>05/05/2022 12:00:00 AM</td>\n      <td>05/05/2022 12:00:00 AM</td>\n      <td>1455</td>\n      <td>3</td>\n      <td>Southwest</td>\n      <td>379</td>\n      <td>1</td>\n      <td>761</td>\n      <td>BRANDISH WEAPON</td>\n      <td>...</td>\n      <td>Invest Cont</td>\n      <td>761.0</td>\n      <td>930.0</td>\n      <td>NaN</td>\n      <td>NaN</td>\n      <td>1000 W  MARTIN LUTHER KING JR        BL</td>\n      <td>NaN</td>\n      <td>34.0145</td>\n      <td>-118.2937</td>\n      <td>2</td>\n    </tr>\n    <tr>\n      <th>558252</th>\n      <td>221808578</td>\n      <td>03/04/2022 12:00:00 AM</td>\n      <td>03/04/2022 12:00:00 AM</td>\n      <td>310</td>\n      <td>18</td>\n      <td>Southeast</td>\n      <td>1841</td>\n      <td>2</td>\n      <td>624</td>\n      <td>BATTERY - SIMPLE ASSAULT</td>\n      <td>...</td>\n      <td>Invest Cont</td>\n      <td>624.0</td>\n      <td>NaN</td>\n      <td>NaN</td>\n      <td>NaN</td>\n      <td>800 W  IMPERIAL                     HY</td>\n      <td>NaN</td>\n      <td>33.9367</td>\n      <td>-118.2871</td>\n      <td>1</td>\n    </tr>\n    <tr>\n      <th>41899</th>\n      <td>200613282</td>\n      <td>07/30/2020 12:00:00 AM</td>\n      <td>07/25/2020 12:00:00 AM</td>\n      <td>2000</td>\n      <td>6</td>\n      <td>Hollywood</td>\n      <td>639</td>\n      <td>1</td>\n      <td>330</td>\n      <td>BURGLARY FROM VEHICLE</td>\n      <td>...</td>\n      <td>Invest Cont</td>\n      <td>330.0</td>\n      <td>NaN</td>\n      <td>NaN</td>\n      <td>NaN</td>\n      <td>1700 N  SERRANO                      AV</td>\n      <td>NaN</td>\n      <td>34.1017</td>\n      <td>-118.3072</td>\n      <td>3</td>\n    </tr>\n  </tbody>\n</table>\n<p>10 rows × 29 columns</p>\n</div>"
     },
     "execution_count": 3,
     "metadata": {},
     "output_type": "execute_result"
    }
   ],
   "source": [
    "def time_occ_to_horario(time_occ):\n",
    "    if f\"{time_occ}\" == \"nan\":\n",
    "        return None\n",
    "    if time_occ >= 0 and time_occ <= 600:\n",
    "        return 1\n",
    "    elif time_occ > 600 and time_occ <= 1_800:\n",
    "        return 2\n",
    "    else:\n",
    "        return 3\n",
    "\n",
    "crimes[\"1_HORARIO\"] = crimes[\"TIME OCC\"].map(time_occ_to_horario)\n",
    "\n",
    "crimes.sample(10)"
   ],
   "metadata": {
    "collapsed": false,
    "ExecuteTime": {
     "end_time": "2023-10-11T01:35:46.720475Z",
     "start_time": "2023-10-11T01:35:46.397410Z"
    }
   },
   "id": "4c3eb2596fa7a854"
  },
  {
   "cell_type": "code",
   "execution_count": 4,
   "outputs": [
    {
     "data": {
      "text/plain": "            DR_NO               Date Rptd                DATE OCC  TIME OCC  \\\n502714  230510248  06/22/2023 12:00:00 AM  07/14/2022 12:00:00 AM      1610   \n231723  212007428  03/29/2021 12:00:00 AM  03/29/2021 12:00:00 AM      1015   \n379817  210911545  07/11/2021 12:00:00 AM  07/11/2021 12:00:00 AM       200   \n198206  231804935  01/17/2023 12:00:00 AM  01/05/2020 12:00:00 AM       900   \n476587  220914972  10/13/2022 12:00:00 AM  07/29/2022 12:00:00 AM       800   \n267601  212016951  11/12/2021 12:00:00 AM  11/11/2021 12:00:00 AM      2130   \n168282  201217056  07/24/2020 12:00:00 AM  07/24/2020 12:00:00 AM       930   \n271195  211320203  12/11/2021 12:00:00 AM  12/11/2021 12:00:00 AM       300   \n168647  202014321  09/07/2020 12:00:00 AM  09/07/2020 12:00:00 AM       200   \n337976  210906825  03/11/2021 12:00:00 AM  03/10/2021 12:00:00 AM      1600   \n\n        AREA    AREA NAME  Rpt Dist No  Part 1-2  Crm Cd  \\\n502714     5       Harbor          587         2     740   \n231723    20      Olympic         2081         2     624   \n379817     9     Van Nuys          906         1     320   \n198206    18    Southeast         1822         2     354   \n476587     9     Van Nuys          905         2     354   \n267601    20      Olympic         2011         2     762   \n168282    12  77th Street         1257         1     510   \n271195    13       Newton         1323         2     740   \n168647    20      Olympic         2004         1     220   \n337976     9     Van Nuys          971         1     330   \n\n                                              Crm Cd Desc  ... Crm Cd 1  \\\n502714  VANDALISM - FELONY ($400 & OVER, ALL CHURCH VA...  ...    740.0   \n231723                           BATTERY - SIMPLE ASSAULT  ...    624.0   \n379817                                BURGLARY, ATTEMPTED  ...    320.0   \n198206                                  THEFT OF IDENTITY  ...    354.0   \n476587                                  THEFT OF IDENTITY  ...    354.0   \n267601                                       LEWD CONDUCT  ...    762.0   \n168282                                   VEHICLE - STOLEN  ...    510.0   \n271195  VANDALISM - FELONY ($400 & OVER, ALL CHURCH VA...  ...    740.0   \n168647                                  ATTEMPTED ROBBERY  ...    220.0   \n337976                              BURGLARY FROM VEHICLE  ...    330.0   \n\n        Crm Cd 2 Crm Cd 3 Crm Cd 4                                  LOCATION  \\\n502714       NaN      NaN      NaN   3300 S  CAROLINA                     ST   \n231723       NaN      NaN      NaN   1800    ARLINGTON                    AV   \n379817       NaN      NaN      NaN   7200    CEDAR                        RD   \n198206       NaN      NaN      NaN    200 W  93RD                         ST   \n476587       NaN      NaN      NaN  14700    SHERMAN                      WY   \n267601     932.0      NaN      NaN    100 S  ST ANDREWS                   PL   \n168282       NaN      NaN      NaN    600 W  77TH                         ST   \n271195       NaN      NaN      NaN   2600    GRIFFITH                     AV   \n168647       NaN      NaN      NaN           SERRANO                      AV   \n337976       NaN      NaN      NaN   4700 N  SEPULVEDA                    BL   \n\n                           Cross Street      LAT       LON 1_HORARIO  \\\n502714                              NaN  33.7143 -118.2907         2   \n231723                              NaN  34.0407 -118.3177         2   \n379817                              NaN  34.2012 -118.4407         1   \n198206                              NaN  33.9519 -118.2762         2   \n476587                              NaN  34.2013 -118.4541         2   \n267601                              NaN  34.0725 -118.3153         3   \n168282                              NaN  33.9698 -118.2860         2   \n271195                              NaN  34.0194 -118.2578         1   \n168647  BEVERLY                      BL  34.0763 -118.3069         1   \n337976                              NaN  34.1557 -118.4661         2   \n\n       2_TIPO_CRIMEN  \n502714           740  \n231723           624  \n379817           320  \n198206           354  \n476587           354  \n267601           762  \n168282           510  \n271195           740  \n168647           220  \n337976           330  \n\n[10 rows x 30 columns]",
      "text/html": "<div>\n<style scoped>\n    .dataframe tbody tr th:only-of-type {\n        vertical-align: middle;\n    }\n\n    .dataframe tbody tr th {\n        vertical-align: top;\n    }\n\n    .dataframe thead th {\n        text-align: right;\n    }\n</style>\n<table border=\"1\" class=\"dataframe\">\n  <thead>\n    <tr style=\"text-align: right;\">\n      <th></th>\n      <th>DR_NO</th>\n      <th>Date Rptd</th>\n      <th>DATE OCC</th>\n      <th>TIME OCC</th>\n      <th>AREA</th>\n      <th>AREA NAME</th>\n      <th>Rpt Dist No</th>\n      <th>Part 1-2</th>\n      <th>Crm Cd</th>\n      <th>Crm Cd Desc</th>\n      <th>...</th>\n      <th>Crm Cd 1</th>\n      <th>Crm Cd 2</th>\n      <th>Crm Cd 3</th>\n      <th>Crm Cd 4</th>\n      <th>LOCATION</th>\n      <th>Cross Street</th>\n      <th>LAT</th>\n      <th>LON</th>\n      <th>1_HORARIO</th>\n      <th>2_TIPO_CRIMEN</th>\n    </tr>\n  </thead>\n  <tbody>\n    <tr>\n      <th>502714</th>\n      <td>230510248</td>\n      <td>06/22/2023 12:00:00 AM</td>\n      <td>07/14/2022 12:00:00 AM</td>\n      <td>1610</td>\n      <td>5</td>\n      <td>Harbor</td>\n      <td>587</td>\n      <td>2</td>\n      <td>740</td>\n      <td>VANDALISM - FELONY ($400 &amp; OVER, ALL CHURCH VA...</td>\n      <td>...</td>\n      <td>740.0</td>\n      <td>NaN</td>\n      <td>NaN</td>\n      <td>NaN</td>\n      <td>3300 S  CAROLINA                     ST</td>\n      <td>NaN</td>\n      <td>33.7143</td>\n      <td>-118.2907</td>\n      <td>2</td>\n      <td>740</td>\n    </tr>\n    <tr>\n      <th>231723</th>\n      <td>212007428</td>\n      <td>03/29/2021 12:00:00 AM</td>\n      <td>03/29/2021 12:00:00 AM</td>\n      <td>1015</td>\n      <td>20</td>\n      <td>Olympic</td>\n      <td>2081</td>\n      <td>2</td>\n      <td>624</td>\n      <td>BATTERY - SIMPLE ASSAULT</td>\n      <td>...</td>\n      <td>624.0</td>\n      <td>NaN</td>\n      <td>NaN</td>\n      <td>NaN</td>\n      <td>1800    ARLINGTON                    AV</td>\n      <td>NaN</td>\n      <td>34.0407</td>\n      <td>-118.3177</td>\n      <td>2</td>\n      <td>624</td>\n    </tr>\n    <tr>\n      <th>379817</th>\n      <td>210911545</td>\n      <td>07/11/2021 12:00:00 AM</td>\n      <td>07/11/2021 12:00:00 AM</td>\n      <td>200</td>\n      <td>9</td>\n      <td>Van Nuys</td>\n      <td>906</td>\n      <td>1</td>\n      <td>320</td>\n      <td>BURGLARY, ATTEMPTED</td>\n      <td>...</td>\n      <td>320.0</td>\n      <td>NaN</td>\n      <td>NaN</td>\n      <td>NaN</td>\n      <td>7200    CEDAR                        RD</td>\n      <td>NaN</td>\n      <td>34.2012</td>\n      <td>-118.4407</td>\n      <td>1</td>\n      <td>320</td>\n    </tr>\n    <tr>\n      <th>198206</th>\n      <td>231804935</td>\n      <td>01/17/2023 12:00:00 AM</td>\n      <td>01/05/2020 12:00:00 AM</td>\n      <td>900</td>\n      <td>18</td>\n      <td>Southeast</td>\n      <td>1822</td>\n      <td>2</td>\n      <td>354</td>\n      <td>THEFT OF IDENTITY</td>\n      <td>...</td>\n      <td>354.0</td>\n      <td>NaN</td>\n      <td>NaN</td>\n      <td>NaN</td>\n      <td>200 W  93RD                         ST</td>\n      <td>NaN</td>\n      <td>33.9519</td>\n      <td>-118.2762</td>\n      <td>2</td>\n      <td>354</td>\n    </tr>\n    <tr>\n      <th>476587</th>\n      <td>220914972</td>\n      <td>10/13/2022 12:00:00 AM</td>\n      <td>07/29/2022 12:00:00 AM</td>\n      <td>800</td>\n      <td>9</td>\n      <td>Van Nuys</td>\n      <td>905</td>\n      <td>2</td>\n      <td>354</td>\n      <td>THEFT OF IDENTITY</td>\n      <td>...</td>\n      <td>354.0</td>\n      <td>NaN</td>\n      <td>NaN</td>\n      <td>NaN</td>\n      <td>14700    SHERMAN                      WY</td>\n      <td>NaN</td>\n      <td>34.2013</td>\n      <td>-118.4541</td>\n      <td>2</td>\n      <td>354</td>\n    </tr>\n    <tr>\n      <th>267601</th>\n      <td>212016951</td>\n      <td>11/12/2021 12:00:00 AM</td>\n      <td>11/11/2021 12:00:00 AM</td>\n      <td>2130</td>\n      <td>20</td>\n      <td>Olympic</td>\n      <td>2011</td>\n      <td>2</td>\n      <td>762</td>\n      <td>LEWD CONDUCT</td>\n      <td>...</td>\n      <td>762.0</td>\n      <td>932.0</td>\n      <td>NaN</td>\n      <td>NaN</td>\n      <td>100 S  ST ANDREWS                   PL</td>\n      <td>NaN</td>\n      <td>34.0725</td>\n      <td>-118.3153</td>\n      <td>3</td>\n      <td>762</td>\n    </tr>\n    <tr>\n      <th>168282</th>\n      <td>201217056</td>\n      <td>07/24/2020 12:00:00 AM</td>\n      <td>07/24/2020 12:00:00 AM</td>\n      <td>930</td>\n      <td>12</td>\n      <td>77th Street</td>\n      <td>1257</td>\n      <td>1</td>\n      <td>510</td>\n      <td>VEHICLE - STOLEN</td>\n      <td>...</td>\n      <td>510.0</td>\n      <td>NaN</td>\n      <td>NaN</td>\n      <td>NaN</td>\n      <td>600 W  77TH                         ST</td>\n      <td>NaN</td>\n      <td>33.9698</td>\n      <td>-118.2860</td>\n      <td>2</td>\n      <td>510</td>\n    </tr>\n    <tr>\n      <th>271195</th>\n      <td>211320203</td>\n      <td>12/11/2021 12:00:00 AM</td>\n      <td>12/11/2021 12:00:00 AM</td>\n      <td>300</td>\n      <td>13</td>\n      <td>Newton</td>\n      <td>1323</td>\n      <td>2</td>\n      <td>740</td>\n      <td>VANDALISM - FELONY ($400 &amp; OVER, ALL CHURCH VA...</td>\n      <td>...</td>\n      <td>740.0</td>\n      <td>NaN</td>\n      <td>NaN</td>\n      <td>NaN</td>\n      <td>2600    GRIFFITH                     AV</td>\n      <td>NaN</td>\n      <td>34.0194</td>\n      <td>-118.2578</td>\n      <td>1</td>\n      <td>740</td>\n    </tr>\n    <tr>\n      <th>168647</th>\n      <td>202014321</td>\n      <td>09/07/2020 12:00:00 AM</td>\n      <td>09/07/2020 12:00:00 AM</td>\n      <td>200</td>\n      <td>20</td>\n      <td>Olympic</td>\n      <td>2004</td>\n      <td>1</td>\n      <td>220</td>\n      <td>ATTEMPTED ROBBERY</td>\n      <td>...</td>\n      <td>220.0</td>\n      <td>NaN</td>\n      <td>NaN</td>\n      <td>NaN</td>\n      <td>SERRANO                      AV</td>\n      <td>BEVERLY                      BL</td>\n      <td>34.0763</td>\n      <td>-118.3069</td>\n      <td>1</td>\n      <td>220</td>\n    </tr>\n    <tr>\n      <th>337976</th>\n      <td>210906825</td>\n      <td>03/11/2021 12:00:00 AM</td>\n      <td>03/10/2021 12:00:00 AM</td>\n      <td>1600</td>\n      <td>9</td>\n      <td>Van Nuys</td>\n      <td>971</td>\n      <td>1</td>\n      <td>330</td>\n      <td>BURGLARY FROM VEHICLE</td>\n      <td>...</td>\n      <td>330.0</td>\n      <td>NaN</td>\n      <td>NaN</td>\n      <td>NaN</td>\n      <td>4700 N  SEPULVEDA                    BL</td>\n      <td>NaN</td>\n      <td>34.1557</td>\n      <td>-118.4661</td>\n      <td>2</td>\n      <td>330</td>\n    </tr>\n  </tbody>\n</table>\n<p>10 rows × 30 columns</p>\n</div>"
     },
     "execution_count": 4,
     "metadata": {},
     "output_type": "execute_result"
    }
   ],
   "source": [
    "crimes[\"2_TIPO_CRIMEN\"] = crimes[\"Crm Cd\"]\n",
    "\n",
    "crimes.sample(10)"
   ],
   "metadata": {
    "collapsed": false,
    "ExecuteTime": {
     "end_time": "2023-10-11T01:39:07.765673Z",
     "start_time": "2023-10-11T01:39:07.717322Z"
    }
   },
   "id": "2a49789527132ec5"
  },
  {
   "cell_type": "code",
   "execution_count": 5,
   "outputs": [
    {
     "data": {
      "text/plain": "array(['F', 'M', 'X', nan, 'H', '-'], dtype=object)"
     },
     "execution_count": 5,
     "metadata": {},
     "output_type": "execute_result"
    }
   ],
   "source": [
    "crimes[\"Vict Sex\"].unique()"
   ],
   "metadata": {
    "collapsed": false,
    "ExecuteTime": {
     "end_time": "2023-10-11T01:41:53.991170Z",
     "start_time": "2023-10-11T01:41:53.987512Z"
    }
   },
   "id": "c19c2b26ce32ec71"
  },
  {
   "cell_type": "code",
   "execution_count": 9,
   "outputs": [
    {
     "data": {
      "text/plain": "            DR_NO               Date Rptd                DATE OCC  TIME OCC  \\\n779244  230308591  03/30/2023 12:00:00 AM  03/30/2023 12:00:00 AM      2340   \n400041  212108876  05/14/2021 12:00:00 AM  05/11/2021 12:00:00 AM      1000   \n221989  212107158  03/30/2021 12:00:00 AM  03/28/2021 12:00:00 AM      1330   \n232573  211811562  06/05/2021 12:00:00 AM  06/05/2021 12:00:00 AM      2000   \n177269  201214438  06/10/2020 12:00:00 AM  06/09/2020 12:00:00 AM      1230   \n365576  210914748  10/01/2021 12:00:00 AM  09/28/2021 12:00:00 AM      1935   \n413690  221108576  05/01/2022 12:00:00 AM  04/26/2022 12:00:00 AM      1030   \n237071  211809116  04/15/2021 12:00:00 AM  04/15/2021 12:00:00 AM      2140   \n544252  221715890  11/10/2022 12:00:00 AM  11/09/2022 12:00:00 AM      2200   \n331968  211909870  06/16/2021 12:00:00 AM  06/15/2021 12:00:00 AM      1550   \n\n        AREA    AREA NAME  Rpt Dist No  Part 1-2  Crm Cd  \\\n779244     3    Southwest          398         2     901   \n400041    21      Topanga         2155         1     341   \n221989    21      Topanga         2129         2     624   \n232573    18    Southeast         1863         1     230   \n177269    12  77th Street         1239         1     510   \n365576     9     Van Nuys          904         2     354   \n413690    11    Northeast         1152         1     440   \n237071    18    Southeast         1822         2     624   \n544252    17   Devonshire         1795         1     510   \n331968    19      Mission         1963         1     510   \n\n                                              Crm Cd Desc  ... Crm Cd 3  \\\n779244                     VIOLATION OF RESTRAINING ORDER  ...      NaN   \n400041  THEFT-GRAND ($950.01 & OVER)EXCPT,GUNS,FOWL,LI...  ...      NaN   \n221989                           BATTERY - SIMPLE ASSAULT  ...      NaN   \n232573     ASSAULT WITH DEADLY WEAPON, AGGRAVATED ASSAULT  ...      NaN   \n177269                                   VEHICLE - STOLEN  ...      NaN   \n365576                                  THEFT OF IDENTITY  ...      NaN   \n413690                 THEFT PLAIN - PETTY ($950 & UNDER)  ...      NaN   \n237071                           BATTERY - SIMPLE ASSAULT  ...      NaN   \n544252                                   VEHICLE - STOLEN  ...      NaN   \n331968                                   VEHICLE - STOLEN  ...      NaN   \n\n        Crm Cd 4                                  LOCATION  \\\n779244       NaN    500 W  41ST                         ST   \n400041       NaN   6300    GLADE                        AV   \n221989       NaN  19900    ROSCOE                       BL   \n232573       NaN  11500    AVALON                       BL   \n177269       NaN   1100 W  60TH                         PL   \n365576       NaN  15100    SHERMAN                      WY   \n413690       NaN   4200    FOUNTAIN                     AV   \n237071       NaN    100 W  102ND                        ST   \n544252       NaN  17100    ROSCOE                       BL   \n331968       NaN           VAN NUYS                     BL   \n\n                           Cross Street      LAT       LON  1_HORARIO  \\\n779244                              NaN  34.0097 -118.2827          3   \n400041                              NaN  34.1847 -118.6077          2   \n221989                              NaN  34.2203 -118.5671          2   \n232573                              NaN  33.9292 -118.2652          3   \n177269                              NaN  33.9850 -118.2937          2   \n365576                              NaN  34.2013 -118.4659          3   \n413690                              NaN  34.0993 -118.2837          2   \n237071                              NaN  33.9438 -118.2744          3   \n544252                              NaN  34.2214 -118.5055          3   \n331968  PLUMMER                      ST  34.2427 -118.4502          2   \n\n       2_TIPO_CRIMEN 3_VICTIMA_SEXO 4_VICTIMA_EDAD  \n779244           901            1.0             21  \n400041           341            2.0             28  \n221989           624            1.0             59  \n232573           230            2.0             48  \n177269           510            5.0              0  \n365576           354            2.0             48  \n413690           440            1.0             31  \n237071           624            1.0             52  \n544252           510            5.0              0  \n331968           510            5.0              0  \n\n[10 rows x 32 columns]",
      "text/html": "<div>\n<style scoped>\n    .dataframe tbody tr th:only-of-type {\n        vertical-align: middle;\n    }\n\n    .dataframe tbody tr th {\n        vertical-align: top;\n    }\n\n    .dataframe thead th {\n        text-align: right;\n    }\n</style>\n<table border=\"1\" class=\"dataframe\">\n  <thead>\n    <tr style=\"text-align: right;\">\n      <th></th>\n      <th>DR_NO</th>\n      <th>Date Rptd</th>\n      <th>DATE OCC</th>\n      <th>TIME OCC</th>\n      <th>AREA</th>\n      <th>AREA NAME</th>\n      <th>Rpt Dist No</th>\n      <th>Part 1-2</th>\n      <th>Crm Cd</th>\n      <th>Crm Cd Desc</th>\n      <th>...</th>\n      <th>Crm Cd 3</th>\n      <th>Crm Cd 4</th>\n      <th>LOCATION</th>\n      <th>Cross Street</th>\n      <th>LAT</th>\n      <th>LON</th>\n      <th>1_HORARIO</th>\n      <th>2_TIPO_CRIMEN</th>\n      <th>3_VICTIMA_SEXO</th>\n      <th>4_VICTIMA_EDAD</th>\n    </tr>\n  </thead>\n  <tbody>\n    <tr>\n      <th>779244</th>\n      <td>230308591</td>\n      <td>03/30/2023 12:00:00 AM</td>\n      <td>03/30/2023 12:00:00 AM</td>\n      <td>2340</td>\n      <td>3</td>\n      <td>Southwest</td>\n      <td>398</td>\n      <td>2</td>\n      <td>901</td>\n      <td>VIOLATION OF RESTRAINING ORDER</td>\n      <td>...</td>\n      <td>NaN</td>\n      <td>NaN</td>\n      <td>500 W  41ST                         ST</td>\n      <td>NaN</td>\n      <td>34.0097</td>\n      <td>-118.2827</td>\n      <td>3</td>\n      <td>901</td>\n      <td>1.0</td>\n      <td>21</td>\n    </tr>\n    <tr>\n      <th>400041</th>\n      <td>212108876</td>\n      <td>05/14/2021 12:00:00 AM</td>\n      <td>05/11/2021 12:00:00 AM</td>\n      <td>1000</td>\n      <td>21</td>\n      <td>Topanga</td>\n      <td>2155</td>\n      <td>1</td>\n      <td>341</td>\n      <td>THEFT-GRAND ($950.01 &amp; OVER)EXCPT,GUNS,FOWL,LI...</td>\n      <td>...</td>\n      <td>NaN</td>\n      <td>NaN</td>\n      <td>6300    GLADE                        AV</td>\n      <td>NaN</td>\n      <td>34.1847</td>\n      <td>-118.6077</td>\n      <td>2</td>\n      <td>341</td>\n      <td>2.0</td>\n      <td>28</td>\n    </tr>\n    <tr>\n      <th>221989</th>\n      <td>212107158</td>\n      <td>03/30/2021 12:00:00 AM</td>\n      <td>03/28/2021 12:00:00 AM</td>\n      <td>1330</td>\n      <td>21</td>\n      <td>Topanga</td>\n      <td>2129</td>\n      <td>2</td>\n      <td>624</td>\n      <td>BATTERY - SIMPLE ASSAULT</td>\n      <td>...</td>\n      <td>NaN</td>\n      <td>NaN</td>\n      <td>19900    ROSCOE                       BL</td>\n      <td>NaN</td>\n      <td>34.2203</td>\n      <td>-118.5671</td>\n      <td>2</td>\n      <td>624</td>\n      <td>1.0</td>\n      <td>59</td>\n    </tr>\n    <tr>\n      <th>232573</th>\n      <td>211811562</td>\n      <td>06/05/2021 12:00:00 AM</td>\n      <td>06/05/2021 12:00:00 AM</td>\n      <td>2000</td>\n      <td>18</td>\n      <td>Southeast</td>\n      <td>1863</td>\n      <td>1</td>\n      <td>230</td>\n      <td>ASSAULT WITH DEADLY WEAPON, AGGRAVATED ASSAULT</td>\n      <td>...</td>\n      <td>NaN</td>\n      <td>NaN</td>\n      <td>11500    AVALON                       BL</td>\n      <td>NaN</td>\n      <td>33.9292</td>\n      <td>-118.2652</td>\n      <td>3</td>\n      <td>230</td>\n      <td>2.0</td>\n      <td>48</td>\n    </tr>\n    <tr>\n      <th>177269</th>\n      <td>201214438</td>\n      <td>06/10/2020 12:00:00 AM</td>\n      <td>06/09/2020 12:00:00 AM</td>\n      <td>1230</td>\n      <td>12</td>\n      <td>77th Street</td>\n      <td>1239</td>\n      <td>1</td>\n      <td>510</td>\n      <td>VEHICLE - STOLEN</td>\n      <td>...</td>\n      <td>NaN</td>\n      <td>NaN</td>\n      <td>1100 W  60TH                         PL</td>\n      <td>NaN</td>\n      <td>33.9850</td>\n      <td>-118.2937</td>\n      <td>2</td>\n      <td>510</td>\n      <td>5.0</td>\n      <td>0</td>\n    </tr>\n    <tr>\n      <th>365576</th>\n      <td>210914748</td>\n      <td>10/01/2021 12:00:00 AM</td>\n      <td>09/28/2021 12:00:00 AM</td>\n      <td>1935</td>\n      <td>9</td>\n      <td>Van Nuys</td>\n      <td>904</td>\n      <td>2</td>\n      <td>354</td>\n      <td>THEFT OF IDENTITY</td>\n      <td>...</td>\n      <td>NaN</td>\n      <td>NaN</td>\n      <td>15100    SHERMAN                      WY</td>\n      <td>NaN</td>\n      <td>34.2013</td>\n      <td>-118.4659</td>\n      <td>3</td>\n      <td>354</td>\n      <td>2.0</td>\n      <td>48</td>\n    </tr>\n    <tr>\n      <th>413690</th>\n      <td>221108576</td>\n      <td>05/01/2022 12:00:00 AM</td>\n      <td>04/26/2022 12:00:00 AM</td>\n      <td>1030</td>\n      <td>11</td>\n      <td>Northeast</td>\n      <td>1152</td>\n      <td>1</td>\n      <td>440</td>\n      <td>THEFT PLAIN - PETTY ($950 &amp; UNDER)</td>\n      <td>...</td>\n      <td>NaN</td>\n      <td>NaN</td>\n      <td>4200    FOUNTAIN                     AV</td>\n      <td>NaN</td>\n      <td>34.0993</td>\n      <td>-118.2837</td>\n      <td>2</td>\n      <td>440</td>\n      <td>1.0</td>\n      <td>31</td>\n    </tr>\n    <tr>\n      <th>237071</th>\n      <td>211809116</td>\n      <td>04/15/2021 12:00:00 AM</td>\n      <td>04/15/2021 12:00:00 AM</td>\n      <td>2140</td>\n      <td>18</td>\n      <td>Southeast</td>\n      <td>1822</td>\n      <td>2</td>\n      <td>624</td>\n      <td>BATTERY - SIMPLE ASSAULT</td>\n      <td>...</td>\n      <td>NaN</td>\n      <td>NaN</td>\n      <td>100 W  102ND                        ST</td>\n      <td>NaN</td>\n      <td>33.9438</td>\n      <td>-118.2744</td>\n      <td>3</td>\n      <td>624</td>\n      <td>1.0</td>\n      <td>52</td>\n    </tr>\n    <tr>\n      <th>544252</th>\n      <td>221715890</td>\n      <td>11/10/2022 12:00:00 AM</td>\n      <td>11/09/2022 12:00:00 AM</td>\n      <td>2200</td>\n      <td>17</td>\n      <td>Devonshire</td>\n      <td>1795</td>\n      <td>1</td>\n      <td>510</td>\n      <td>VEHICLE - STOLEN</td>\n      <td>...</td>\n      <td>NaN</td>\n      <td>NaN</td>\n      <td>17100    ROSCOE                       BL</td>\n      <td>NaN</td>\n      <td>34.2214</td>\n      <td>-118.5055</td>\n      <td>3</td>\n      <td>510</td>\n      <td>5.0</td>\n      <td>0</td>\n    </tr>\n    <tr>\n      <th>331968</th>\n      <td>211909870</td>\n      <td>06/16/2021 12:00:00 AM</td>\n      <td>06/15/2021 12:00:00 AM</td>\n      <td>1550</td>\n      <td>19</td>\n      <td>Mission</td>\n      <td>1963</td>\n      <td>1</td>\n      <td>510</td>\n      <td>VEHICLE - STOLEN</td>\n      <td>...</td>\n      <td>NaN</td>\n      <td>NaN</td>\n      <td>VAN NUYS                     BL</td>\n      <td>PLUMMER                      ST</td>\n      <td>34.2427</td>\n      <td>-118.4502</td>\n      <td>2</td>\n      <td>510</td>\n      <td>5.0</td>\n      <td>0</td>\n    </tr>\n  </tbody>\n</table>\n<p>10 rows × 32 columns</p>\n</div>"
     },
     "execution_count": 9,
     "metadata": {},
     "output_type": "execute_result"
    }
   ],
   "source": [
    "crimes[\"3_VICTIMA_SEXO\"] = crimes[\"Vict Sex\"].map({ \"F\": 1, \"M\": 2, \"H\": 3, \"X\": 4 }).fillna(5)\n",
    "\n",
    "crimes.sample(10)"
   ],
   "metadata": {
    "collapsed": false,
    "ExecuteTime": {
     "end_time": "2023-10-11T01:48:24.507121Z",
     "start_time": "2023-10-11T01:48:24.470329Z"
    }
   },
   "id": "a35a89d088916455"
  },
  {
   "cell_type": "code",
   "execution_count": 10,
   "outputs": [
    {
     "data": {
      "text/plain": "            DR_NO               Date Rptd                DATE OCC  TIME OCC  \\\n613340  220911887  07/26/2022 12:00:00 AM  07/23/2022 12:00:00 AM      1600   \n416316  221320739  11/09/2022 12:00:00 AM  11/01/2022 12:00:00 AM      1053   \n284598  210709360  06/01/2021 12:00:00 AM  06/01/2021 12:00:00 AM       830   \n157941  201906641  02/24/2020 12:00:00 AM  02/23/2020 12:00:00 AM      2300   \n255944  210214975  09/21/2021 12:00:00 AM  09/17/2021 12:00:00 AM       740   \n301653  211320701  12/20/2021 12:00:00 AM  12/19/2021 12:00:00 AM      2145   \n140523  201704933  01/23/2020 12:00:00 AM  01/22/2020 12:00:00 AM      2100   \n85932   200917480  11/20/2020 12:00:00 AM  11/19/2020 12:00:00 AM      2315   \n100901  202005464  02/01/2020 12:00:00 AM  02/01/2020 12:00:00 AM       730   \n379932  210106265  02/19/2021 12:00:00 AM  02/19/2021 12:00:00 AM        15   \n\n        AREA   AREA NAME  Rpt Dist No  Part 1-2  Crm Cd  \\\n613340     9    Van Nuys          916         2     888   \n416316    13      Newton         1351         2     354   \n284598     7    Wilshire          727         1     480   \n157941    19     Mission         1907         2     626   \n255944     2     Rampart          202         1     210   \n301653    13      Newton         1333         1     330   \n140523    17  Devonshire         1723         1     310   \n85932      9    Van Nuys          905         1     440   \n100901    20     Olympic         2026         2     626   \n379932     1     Central          153         1     341   \n\n                                              Crm Cd Desc  ... Crm Cd 3  \\\n613340                                        TRESPASSING  ...      NaN   \n416316                                  THEFT OF IDENTITY  ...      NaN   \n284598                                      BIKE - STOLEN  ...      NaN   \n157941                  INTIMATE PARTNER - SIMPLE ASSAULT  ...      NaN   \n255944                                            ROBBERY  ...      NaN   \n301653                              BURGLARY FROM VEHICLE  ...      NaN   \n140523                                           BURGLARY  ...      NaN   \n85932                  THEFT PLAIN - PETTY ($950 & UNDER)  ...      NaN   \n100901                  INTIMATE PARTNER - SIMPLE ASSAULT  ...      NaN   \n379932  THEFT-GRAND ($950.01 & OVER)EXCPT,GUNS,FOWL,LI...  ...      NaN   \n\n        Crm Cd 4                                  LOCATION  \\\n613340       NaN   6900    COLBATH                      AV   \n416316       NaN    100 W  43RD                         ST   \n284598       NaN    100 S  HIGHLAND                     AV   \n157941       NaN  13500    HERRON                       ST   \n255944       NaN   4400    SANTA MONICA                 BL   \n301653       NaN           STANFORD                     AV   \n140523       NaN  21100    DEVONSHIRE                   ST   \n85932        NaN                                   SATICOY   \n100901       NaN    400 S  BERENDO                      ST   \n379932       NaN    500 S  HILL                         ST   \n\n                              Cross Street      LAT       LON  1_HORARIO  \\\n613340                                 NaN  34.1959 -118.4367          2   \n416316                                 NaN  34.0056 -118.2740          2   \n284598                                 NaN  34.0710 -118.3385          2   \n157941                                 NaN  34.3148 -118.4269          3   \n255944                                 NaN  34.0909 -118.2851          2   \n301653  E  29TH                         ST  34.0181 -118.2612          3   \n140523                                 NaN  34.2651 -118.5820          3   \n85932                               BURNET  34.2048 -118.4531          3   \n100901                                 NaN  34.0674 -118.2941          2   \n379932                                 NaN  34.0486 -118.2519          1   \n\n       2_TIPO_CRIMEN 3_VICTIMA_SEXO 4_VICTIMA_EDAD  \n613340           888            2.0             51  \n416316           354            1.0             24  \n284598           480            1.0             53  \n157941           626            1.0             48  \n255944           210            4.0              0  \n301653           330            1.0             35  \n140523           310            4.0              0  \n85932            440            2.0             15  \n100901           626            1.0             35  \n379932           341            1.0             50  \n\n[10 rows x 32 columns]",
      "text/html": "<div>\n<style scoped>\n    .dataframe tbody tr th:only-of-type {\n        vertical-align: middle;\n    }\n\n    .dataframe tbody tr th {\n        vertical-align: top;\n    }\n\n    .dataframe thead th {\n        text-align: right;\n    }\n</style>\n<table border=\"1\" class=\"dataframe\">\n  <thead>\n    <tr style=\"text-align: right;\">\n      <th></th>\n      <th>DR_NO</th>\n      <th>Date Rptd</th>\n      <th>DATE OCC</th>\n      <th>TIME OCC</th>\n      <th>AREA</th>\n      <th>AREA NAME</th>\n      <th>Rpt Dist No</th>\n      <th>Part 1-2</th>\n      <th>Crm Cd</th>\n      <th>Crm Cd Desc</th>\n      <th>...</th>\n      <th>Crm Cd 3</th>\n      <th>Crm Cd 4</th>\n      <th>LOCATION</th>\n      <th>Cross Street</th>\n      <th>LAT</th>\n      <th>LON</th>\n      <th>1_HORARIO</th>\n      <th>2_TIPO_CRIMEN</th>\n      <th>3_VICTIMA_SEXO</th>\n      <th>4_VICTIMA_EDAD</th>\n    </tr>\n  </thead>\n  <tbody>\n    <tr>\n      <th>613340</th>\n      <td>220911887</td>\n      <td>07/26/2022 12:00:00 AM</td>\n      <td>07/23/2022 12:00:00 AM</td>\n      <td>1600</td>\n      <td>9</td>\n      <td>Van Nuys</td>\n      <td>916</td>\n      <td>2</td>\n      <td>888</td>\n      <td>TRESPASSING</td>\n      <td>...</td>\n      <td>NaN</td>\n      <td>NaN</td>\n      <td>6900    COLBATH                      AV</td>\n      <td>NaN</td>\n      <td>34.1959</td>\n      <td>-118.4367</td>\n      <td>2</td>\n      <td>888</td>\n      <td>2.0</td>\n      <td>51</td>\n    </tr>\n    <tr>\n      <th>416316</th>\n      <td>221320739</td>\n      <td>11/09/2022 12:00:00 AM</td>\n      <td>11/01/2022 12:00:00 AM</td>\n      <td>1053</td>\n      <td>13</td>\n      <td>Newton</td>\n      <td>1351</td>\n      <td>2</td>\n      <td>354</td>\n      <td>THEFT OF IDENTITY</td>\n      <td>...</td>\n      <td>NaN</td>\n      <td>NaN</td>\n      <td>100 W  43RD                         ST</td>\n      <td>NaN</td>\n      <td>34.0056</td>\n      <td>-118.2740</td>\n      <td>2</td>\n      <td>354</td>\n      <td>1.0</td>\n      <td>24</td>\n    </tr>\n    <tr>\n      <th>284598</th>\n      <td>210709360</td>\n      <td>06/01/2021 12:00:00 AM</td>\n      <td>06/01/2021 12:00:00 AM</td>\n      <td>830</td>\n      <td>7</td>\n      <td>Wilshire</td>\n      <td>727</td>\n      <td>1</td>\n      <td>480</td>\n      <td>BIKE - STOLEN</td>\n      <td>...</td>\n      <td>NaN</td>\n      <td>NaN</td>\n      <td>100 S  HIGHLAND                     AV</td>\n      <td>NaN</td>\n      <td>34.0710</td>\n      <td>-118.3385</td>\n      <td>2</td>\n      <td>480</td>\n      <td>1.0</td>\n      <td>53</td>\n    </tr>\n    <tr>\n      <th>157941</th>\n      <td>201906641</td>\n      <td>02/24/2020 12:00:00 AM</td>\n      <td>02/23/2020 12:00:00 AM</td>\n      <td>2300</td>\n      <td>19</td>\n      <td>Mission</td>\n      <td>1907</td>\n      <td>2</td>\n      <td>626</td>\n      <td>INTIMATE PARTNER - SIMPLE ASSAULT</td>\n      <td>...</td>\n      <td>NaN</td>\n      <td>NaN</td>\n      <td>13500    HERRON                       ST</td>\n      <td>NaN</td>\n      <td>34.3148</td>\n      <td>-118.4269</td>\n      <td>3</td>\n      <td>626</td>\n      <td>1.0</td>\n      <td>48</td>\n    </tr>\n    <tr>\n      <th>255944</th>\n      <td>210214975</td>\n      <td>09/21/2021 12:00:00 AM</td>\n      <td>09/17/2021 12:00:00 AM</td>\n      <td>740</td>\n      <td>2</td>\n      <td>Rampart</td>\n      <td>202</td>\n      <td>1</td>\n      <td>210</td>\n      <td>ROBBERY</td>\n      <td>...</td>\n      <td>NaN</td>\n      <td>NaN</td>\n      <td>4400    SANTA MONICA                 BL</td>\n      <td>NaN</td>\n      <td>34.0909</td>\n      <td>-118.2851</td>\n      <td>2</td>\n      <td>210</td>\n      <td>4.0</td>\n      <td>0</td>\n    </tr>\n    <tr>\n      <th>301653</th>\n      <td>211320701</td>\n      <td>12/20/2021 12:00:00 AM</td>\n      <td>12/19/2021 12:00:00 AM</td>\n      <td>2145</td>\n      <td>13</td>\n      <td>Newton</td>\n      <td>1333</td>\n      <td>1</td>\n      <td>330</td>\n      <td>BURGLARY FROM VEHICLE</td>\n      <td>...</td>\n      <td>NaN</td>\n      <td>NaN</td>\n      <td>STANFORD                     AV</td>\n      <td>E  29TH                         ST</td>\n      <td>34.0181</td>\n      <td>-118.2612</td>\n      <td>3</td>\n      <td>330</td>\n      <td>1.0</td>\n      <td>35</td>\n    </tr>\n    <tr>\n      <th>140523</th>\n      <td>201704933</td>\n      <td>01/23/2020 12:00:00 AM</td>\n      <td>01/22/2020 12:00:00 AM</td>\n      <td>2100</td>\n      <td>17</td>\n      <td>Devonshire</td>\n      <td>1723</td>\n      <td>1</td>\n      <td>310</td>\n      <td>BURGLARY</td>\n      <td>...</td>\n      <td>NaN</td>\n      <td>NaN</td>\n      <td>21100    DEVONSHIRE                   ST</td>\n      <td>NaN</td>\n      <td>34.2651</td>\n      <td>-118.5820</td>\n      <td>3</td>\n      <td>310</td>\n      <td>4.0</td>\n      <td>0</td>\n    </tr>\n    <tr>\n      <th>85932</th>\n      <td>200917480</td>\n      <td>11/20/2020 12:00:00 AM</td>\n      <td>11/19/2020 12:00:00 AM</td>\n      <td>2315</td>\n      <td>9</td>\n      <td>Van Nuys</td>\n      <td>905</td>\n      <td>1</td>\n      <td>440</td>\n      <td>THEFT PLAIN - PETTY ($950 &amp; UNDER)</td>\n      <td>...</td>\n      <td>NaN</td>\n      <td>NaN</td>\n      <td>SATICOY</td>\n      <td>BURNET</td>\n      <td>34.2048</td>\n      <td>-118.4531</td>\n      <td>3</td>\n      <td>440</td>\n      <td>2.0</td>\n      <td>15</td>\n    </tr>\n    <tr>\n      <th>100901</th>\n      <td>202005464</td>\n      <td>02/01/2020 12:00:00 AM</td>\n      <td>02/01/2020 12:00:00 AM</td>\n      <td>730</td>\n      <td>20</td>\n      <td>Olympic</td>\n      <td>2026</td>\n      <td>2</td>\n      <td>626</td>\n      <td>INTIMATE PARTNER - SIMPLE ASSAULT</td>\n      <td>...</td>\n      <td>NaN</td>\n      <td>NaN</td>\n      <td>400 S  BERENDO                      ST</td>\n      <td>NaN</td>\n      <td>34.0674</td>\n      <td>-118.2941</td>\n      <td>2</td>\n      <td>626</td>\n      <td>1.0</td>\n      <td>35</td>\n    </tr>\n    <tr>\n      <th>379932</th>\n      <td>210106265</td>\n      <td>02/19/2021 12:00:00 AM</td>\n      <td>02/19/2021 12:00:00 AM</td>\n      <td>15</td>\n      <td>1</td>\n      <td>Central</td>\n      <td>153</td>\n      <td>1</td>\n      <td>341</td>\n      <td>THEFT-GRAND ($950.01 &amp; OVER)EXCPT,GUNS,FOWL,LI...</td>\n      <td>...</td>\n      <td>NaN</td>\n      <td>NaN</td>\n      <td>500 S  HILL                         ST</td>\n      <td>NaN</td>\n      <td>34.0486</td>\n      <td>-118.2519</td>\n      <td>1</td>\n      <td>341</td>\n      <td>1.0</td>\n      <td>50</td>\n    </tr>\n  </tbody>\n</table>\n<p>10 rows × 32 columns</p>\n</div>"
     },
     "execution_count": 10,
     "metadata": {},
     "output_type": "execute_result"
    }
   ],
   "source": [
    "def fix_victim_age(age):\n",
    "    if f\"{age}\" == \"nan\":\n",
    "        import numpy as np\n",
    "        return np.random.normal(crimes[\"Vict Age\"].mean(), crimes[\"Vict Age\"].std())\n",
    "    return age\n",
    "\n",
    "crimes[\"4_VICTIMA_EDAD\"] = crimes[\"Vict Age\"].map(fix_victim_age)\n",
    "\n",
    "crimes.sample(10)"
   ],
   "metadata": {
    "collapsed": false,
    "ExecuteTime": {
     "end_time": "2023-10-11T01:48:38.008472Z",
     "start_time": "2023-10-11T01:48:37.694817Z"
    }
   },
   "id": "14ff2e896ba68152"
  },
  {
   "cell_type": "code",
   "execution_count": 11,
   "outputs": [
    {
     "data": {
      "text/plain": "4_VICTIMA_EDAD\n-3           1\n-2          12\n-1          55\n 0      199917\n 2         358\n         ...  \n 96         84\n 97         61\n 98         64\n 99        305\n 120         1\nName: 4_VICTIMA_EDAD, Length: 103, dtype: int64"
     },
     "execution_count": 11,
     "metadata": {},
     "output_type": "execute_result"
    }
   ],
   "source": [
    "crimes.groupby(\"4_VICTIMA_EDAD\")[\"4_VICTIMA_EDAD\"].agg(\"count\")"
   ],
   "metadata": {
    "collapsed": false,
    "ExecuteTime": {
     "end_time": "2023-10-11T01:49:43.446305Z",
     "start_time": "2023-10-11T01:49:43.417407Z"
    }
   },
   "id": "679ffb6c0354fcfe"
  },
  {
   "cell_type": "code",
   "execution_count": 12,
   "outputs": [
    {
     "data": {
      "text/plain": "            DR_NO               Date Rptd                DATE OCC  TIME OCC  \\\n446780  220708191  04/19/2022 12:00:00 AM  04/19/2022 12:00:00 AM      1330   \n210383  210414961  11/15/2021 12:00:00 AM  11/15/2021 12:00:00 AM      2100   \n797949  231211116  04/30/2023 12:00:00 AM  04/30/2023 12:00:00 AM      1900   \n771075  230511590  07/26/2023 12:00:00 AM  07/26/2023 12:00:00 AM       830   \n594727  220221717  12/14/2022 12:00:00 AM  12/13/2022 12:00:00 AM       600   \n633968  220320574  11/21/2022 12:00:00 AM  11/20/2022 12:00:00 AM      2000   \n260355  211612629  10/16/2021 12:00:00 AM  10/16/2021 12:00:00 AM      1124   \n40817   200715577  11/02/2020 12:00:00 AM  11/02/2020 12:00:00 AM      1430   \n184680  201605565  02/06/2020 12:00:00 AM  02/01/2020 12:00:00 AM      1900   \n659510  230615507  09/19/2023 12:00:00 AM  09/18/2023 12:00:00 AM       400   \n\n        AREA    AREA NAME  Rpt Dist No  Part 1-2  Crm Cd  \\\n446780     7     Wilshire          753         1     330   \n210383     4   Hollenbeck          497         1     236   \n797949    12  77th Street         1239         1     440   \n771075     5       Harbor          501         1     330   \n594727     2      Rampart          245         1     330   \n633968     3    Southwest          338         1     522   \n260355    16     Foothill         1669         1     331   \n40817      7     Wilshire          734         2     901   \n184680    16     Foothill         1656         2     740   \n659510     6    Hollywood          656         2     626   \n\n                                              Crm Cd Desc  ... Crm Cd 4  \\\n446780                              BURGLARY FROM VEHICLE  ...      NaN   \n210383              INTIMATE PARTNER - AGGRAVATED ASSAULT  ...      NaN   \n797949                 THEFT PLAIN - PETTY ($950 & UNDER)  ...      NaN   \n771075                              BURGLARY FROM VEHICLE  ...      NaN   \n594727                              BURGLARY FROM VEHICLE  ...      NaN   \n633968  VEHICLE, STOLEN - OTHER (MOTORIZED SCOOTERS, B...  ...      NaN   \n260355  THEFT FROM MOTOR VEHICLE - GRAND ($950.01 AND ...  ...      NaN   \n40817                      VIOLATION OF RESTRAINING ORDER  ...      NaN   \n184680  VANDALISM - FELONY ($400 & OVER, ALL CHURCH VA...  ...      NaN   \n659510                  INTIMATE PARTNER - SIMPLE ASSAULT  ...      NaN   \n\n                                       LOCATION  \\\n446780          SAN VICENTE                  BL   \n210383  3200 E  OLYMPIC                      BL   \n797949  5800 S  VERMONT                      AV   \n771075   700 W  182ND                        ST   \n594727   400 S  GRAND VIEW                   ST   \n633968  1000 W  30TH                         ST   \n260355                           LA TUNA CANYON   \n40817    300    HAUSER                       BL   \n184680  8300    FOOTHILL                     BL   \n659510                                   WILCOX   \n\n                           Cross Street      LAT       LON 1_HORARIO  \\\n446780  FAIRFAX                      AV  34.0537 -118.3619         2   \n210383                              NaN  34.0198 -118.2097         3   \n797949                              NaN  33.9856 -118.2915         3   \n771075                              NaN  33.8696 -118.2863         2   \n594727                              NaN  34.0633 -118.2751         1   \n633968                              NaN  34.0274 -118.2846         3   \n260355                   TUJUNGA CANYON  34.2340 -118.2703         2   \n40817                               NaN  34.0693 -118.3510         2   \n184680                              NaN  34.2597 -118.3137         3   \n659510                     SANTA MONICA  34.0907 -118.3310         1   \n\n        2_TIPO_CRIMEN 3_VICTIMA_SEXO 4_VICTIMA_EDAD 5_HAY_ARMA  \n446780            330            2.0             26          0  \n210383            236            1.0             29          1  \n797949            440            4.0              0          0  \n771075            330            4.0              0          0  \n594727            330            1.0             58          0  \n633968            522            5.0              0          0  \n260355            331            2.0             34          0  \n40817             901            1.0             41          0  \n184680            740            2.0             31          0  \n659510            626            1.0             33          1  \n\n[10 rows x 33 columns]",
      "text/html": "<div>\n<style scoped>\n    .dataframe tbody tr th:only-of-type {\n        vertical-align: middle;\n    }\n\n    .dataframe tbody tr th {\n        vertical-align: top;\n    }\n\n    .dataframe thead th {\n        text-align: right;\n    }\n</style>\n<table border=\"1\" class=\"dataframe\">\n  <thead>\n    <tr style=\"text-align: right;\">\n      <th></th>\n      <th>DR_NO</th>\n      <th>Date Rptd</th>\n      <th>DATE OCC</th>\n      <th>TIME OCC</th>\n      <th>AREA</th>\n      <th>AREA NAME</th>\n      <th>Rpt Dist No</th>\n      <th>Part 1-2</th>\n      <th>Crm Cd</th>\n      <th>Crm Cd Desc</th>\n      <th>...</th>\n      <th>Crm Cd 4</th>\n      <th>LOCATION</th>\n      <th>Cross Street</th>\n      <th>LAT</th>\n      <th>LON</th>\n      <th>1_HORARIO</th>\n      <th>2_TIPO_CRIMEN</th>\n      <th>3_VICTIMA_SEXO</th>\n      <th>4_VICTIMA_EDAD</th>\n      <th>5_HAY_ARMA</th>\n    </tr>\n  </thead>\n  <tbody>\n    <tr>\n      <th>446780</th>\n      <td>220708191</td>\n      <td>04/19/2022 12:00:00 AM</td>\n      <td>04/19/2022 12:00:00 AM</td>\n      <td>1330</td>\n      <td>7</td>\n      <td>Wilshire</td>\n      <td>753</td>\n      <td>1</td>\n      <td>330</td>\n      <td>BURGLARY FROM VEHICLE</td>\n      <td>...</td>\n      <td>NaN</td>\n      <td>SAN VICENTE                  BL</td>\n      <td>FAIRFAX                      AV</td>\n      <td>34.0537</td>\n      <td>-118.3619</td>\n      <td>2</td>\n      <td>330</td>\n      <td>2.0</td>\n      <td>26</td>\n      <td>0</td>\n    </tr>\n    <tr>\n      <th>210383</th>\n      <td>210414961</td>\n      <td>11/15/2021 12:00:00 AM</td>\n      <td>11/15/2021 12:00:00 AM</td>\n      <td>2100</td>\n      <td>4</td>\n      <td>Hollenbeck</td>\n      <td>497</td>\n      <td>1</td>\n      <td>236</td>\n      <td>INTIMATE PARTNER - AGGRAVATED ASSAULT</td>\n      <td>...</td>\n      <td>NaN</td>\n      <td>3200 E  OLYMPIC                      BL</td>\n      <td>NaN</td>\n      <td>34.0198</td>\n      <td>-118.2097</td>\n      <td>3</td>\n      <td>236</td>\n      <td>1.0</td>\n      <td>29</td>\n      <td>1</td>\n    </tr>\n    <tr>\n      <th>797949</th>\n      <td>231211116</td>\n      <td>04/30/2023 12:00:00 AM</td>\n      <td>04/30/2023 12:00:00 AM</td>\n      <td>1900</td>\n      <td>12</td>\n      <td>77th Street</td>\n      <td>1239</td>\n      <td>1</td>\n      <td>440</td>\n      <td>THEFT PLAIN - PETTY ($950 &amp; UNDER)</td>\n      <td>...</td>\n      <td>NaN</td>\n      <td>5800 S  VERMONT                      AV</td>\n      <td>NaN</td>\n      <td>33.9856</td>\n      <td>-118.2915</td>\n      <td>3</td>\n      <td>440</td>\n      <td>4.0</td>\n      <td>0</td>\n      <td>0</td>\n    </tr>\n    <tr>\n      <th>771075</th>\n      <td>230511590</td>\n      <td>07/26/2023 12:00:00 AM</td>\n      <td>07/26/2023 12:00:00 AM</td>\n      <td>830</td>\n      <td>5</td>\n      <td>Harbor</td>\n      <td>501</td>\n      <td>1</td>\n      <td>330</td>\n      <td>BURGLARY FROM VEHICLE</td>\n      <td>...</td>\n      <td>NaN</td>\n      <td>700 W  182ND                        ST</td>\n      <td>NaN</td>\n      <td>33.8696</td>\n      <td>-118.2863</td>\n      <td>2</td>\n      <td>330</td>\n      <td>4.0</td>\n      <td>0</td>\n      <td>0</td>\n    </tr>\n    <tr>\n      <th>594727</th>\n      <td>220221717</td>\n      <td>12/14/2022 12:00:00 AM</td>\n      <td>12/13/2022 12:00:00 AM</td>\n      <td>600</td>\n      <td>2</td>\n      <td>Rampart</td>\n      <td>245</td>\n      <td>1</td>\n      <td>330</td>\n      <td>BURGLARY FROM VEHICLE</td>\n      <td>...</td>\n      <td>NaN</td>\n      <td>400 S  GRAND VIEW                   ST</td>\n      <td>NaN</td>\n      <td>34.0633</td>\n      <td>-118.2751</td>\n      <td>1</td>\n      <td>330</td>\n      <td>1.0</td>\n      <td>58</td>\n      <td>0</td>\n    </tr>\n    <tr>\n      <th>633968</th>\n      <td>220320574</td>\n      <td>11/21/2022 12:00:00 AM</td>\n      <td>11/20/2022 12:00:00 AM</td>\n      <td>2000</td>\n      <td>3</td>\n      <td>Southwest</td>\n      <td>338</td>\n      <td>1</td>\n      <td>522</td>\n      <td>VEHICLE, STOLEN - OTHER (MOTORIZED SCOOTERS, B...</td>\n      <td>...</td>\n      <td>NaN</td>\n      <td>1000 W  30TH                         ST</td>\n      <td>NaN</td>\n      <td>34.0274</td>\n      <td>-118.2846</td>\n      <td>3</td>\n      <td>522</td>\n      <td>5.0</td>\n      <td>0</td>\n      <td>0</td>\n    </tr>\n    <tr>\n      <th>260355</th>\n      <td>211612629</td>\n      <td>10/16/2021 12:00:00 AM</td>\n      <td>10/16/2021 12:00:00 AM</td>\n      <td>1124</td>\n      <td>16</td>\n      <td>Foothill</td>\n      <td>1669</td>\n      <td>1</td>\n      <td>331</td>\n      <td>THEFT FROM MOTOR VEHICLE - GRAND ($950.01 AND ...</td>\n      <td>...</td>\n      <td>NaN</td>\n      <td>LA TUNA CANYON</td>\n      <td>TUJUNGA CANYON</td>\n      <td>34.2340</td>\n      <td>-118.2703</td>\n      <td>2</td>\n      <td>331</td>\n      <td>2.0</td>\n      <td>34</td>\n      <td>0</td>\n    </tr>\n    <tr>\n      <th>40817</th>\n      <td>200715577</td>\n      <td>11/02/2020 12:00:00 AM</td>\n      <td>11/02/2020 12:00:00 AM</td>\n      <td>1430</td>\n      <td>7</td>\n      <td>Wilshire</td>\n      <td>734</td>\n      <td>2</td>\n      <td>901</td>\n      <td>VIOLATION OF RESTRAINING ORDER</td>\n      <td>...</td>\n      <td>NaN</td>\n      <td>300    HAUSER                       BL</td>\n      <td>NaN</td>\n      <td>34.0693</td>\n      <td>-118.3510</td>\n      <td>2</td>\n      <td>901</td>\n      <td>1.0</td>\n      <td>41</td>\n      <td>0</td>\n    </tr>\n    <tr>\n      <th>184680</th>\n      <td>201605565</td>\n      <td>02/06/2020 12:00:00 AM</td>\n      <td>02/01/2020 12:00:00 AM</td>\n      <td>1900</td>\n      <td>16</td>\n      <td>Foothill</td>\n      <td>1656</td>\n      <td>2</td>\n      <td>740</td>\n      <td>VANDALISM - FELONY ($400 &amp; OVER, ALL CHURCH VA...</td>\n      <td>...</td>\n      <td>NaN</td>\n      <td>8300    FOOTHILL                     BL</td>\n      <td>NaN</td>\n      <td>34.2597</td>\n      <td>-118.3137</td>\n      <td>3</td>\n      <td>740</td>\n      <td>2.0</td>\n      <td>31</td>\n      <td>0</td>\n    </tr>\n    <tr>\n      <th>659510</th>\n      <td>230615507</td>\n      <td>09/19/2023 12:00:00 AM</td>\n      <td>09/18/2023 12:00:00 AM</td>\n      <td>400</td>\n      <td>6</td>\n      <td>Hollywood</td>\n      <td>656</td>\n      <td>2</td>\n      <td>626</td>\n      <td>INTIMATE PARTNER - SIMPLE ASSAULT</td>\n      <td>...</td>\n      <td>NaN</td>\n      <td>WILCOX</td>\n      <td>SANTA MONICA</td>\n      <td>34.0907</td>\n      <td>-118.3310</td>\n      <td>1</td>\n      <td>626</td>\n      <td>1.0</td>\n      <td>33</td>\n      <td>1</td>\n    </tr>\n  </tbody>\n</table>\n<p>10 rows × 33 columns</p>\n</div>"
     },
     "execution_count": 12,
     "metadata": {},
     "output_type": "execute_result"
    }
   ],
   "source": [
    "def has_weapon(weapon):\n",
    "    if f\"{weapon}\" == \"nan\":\n",
    "        return 0\n",
    "    else:\n",
    "        return 1\n",
    "\n",
    "crimes[\"5_HAY_ARMA\"] = crimes[\"Weapon Used Cd\"].map(has_weapon)\n",
    "\n",
    "crimes.sample(10)"
   ],
   "metadata": {
    "collapsed": false,
    "ExecuteTime": {
     "end_time": "2023-10-11T01:52:57.163230Z",
     "start_time": "2023-10-11T01:52:56.816899Z"
    }
   },
   "id": "110dd69f7a6ba8c9"
  },
  {
   "cell_type": "code",
   "execution_count": 14,
   "outputs": [
    {
     "data": {
      "text/plain": "            DR_NO               Date Rptd                DATE OCC  TIME OCC  \\\n22034   200306667  02/14/2020 12:00:00 AM  02/14/2020 12:00:00 AM      1900   \n170161  201800695  05/08/2020 12:00:00 AM  05/08/2020 12:00:00 AM      1830   \n406796  211318764  11/11/2021 12:00:00 AM  11/11/2021 12:00:00 AM       930   \n19674   200510557  06/13/2020 12:00:00 AM  06/13/2020 12:00:00 AM       140   \n676478  231605705  02/22/2023 12:00:00 AM  02/21/2023 12:00:00 AM        30   \n353338  211517180  11/08/2021 12:00:00 AM  10/25/2021 12:00:00 AM      1700   \n722400  231706173  02/26/2023 12:00:00 AM  02/19/2023 12:00:00 AM      1145   \n302837  210618178  10/29/2021 12:00:00 AM  10/26/2021 12:00:00 AM       600   \n281251  210213387  08/17/2021 12:00:00 AM  08/17/2021 12:00:00 AM      1920   \n221594  211610888  08/25/2021 12:00:00 AM  08/23/2021 12:00:00 AM      1930   \n\n        AREA    AREA NAME  Rpt Dist No  Part 1-2  Crm Cd  \\\n22034      3    Southwest          334         1     210   \n170161    18    Southeast         1838         1     230   \n406796    13       Newton         1324         1     510   \n19674      5       Harbor          519         1     761   \n676478    16     Foothill         1673         1     510   \n353338    15  N Hollywood         1547         1     420   \n722400    17   Devonshire         1793         2     354   \n302837     6    Hollywood          648         2     745   \n281251     2      Rampart          202         2     626   \n221594    16     Foothill         1621         1     310   \n\n                                            Crm Cd Desc  ...  \\\n22034                                           ROBBERY  ...   \n170161   ASSAULT WITH DEADLY WEAPON, AGGRAVATED ASSAULT  ...   \n406796                                 VEHICLE - STOLEN  ...   \n19674                                   BRANDISH WEAPON  ...   \n676478                                 VEHICLE - STOLEN  ...   \n353338  THEFT FROM MOTOR VEHICLE - PETTY ($950 & UNDER)  ...   \n722400                                THEFT OF IDENTITY  ...   \n302837         VANDALISM - MISDEAMEANOR ($399 OR UNDER)  ...   \n281251                INTIMATE PARTNER - SIMPLE ASSAULT  ...   \n221594                                         BURGLARY  ...   \n\n                           Cross Street      LAT       LON 1_HORARIO  \\\n22034                               NaN  34.0326 -118.3350         3   \n170161  GRAPE                        ST  33.9406 -118.2369         3   \n406796                              NaN  34.0206 -118.2541         2   \n19674                               NaN  33.7917 -118.2482         1   \n676478                              NaN  34.2271 -118.3878         1   \n353338                              NaN  34.1713 -118.3822         2   \n722400                              NaN  34.2237 -118.5501         2   \n302837                              NaN  34.1000 -118.3113         1   \n281251                              NaN  34.0888 -118.2881         3   \n221594                              NaN  34.2648 -118.4311         3   \n\n        2_TIPO_CRIMEN 3_VICTIMA_SEXO  4_VICTIMA_EDAD 5_HAY_ARMA  \\\n22034             210            2.0              70          1   \n170161            230            2.0              19          1   \n406796            510            5.0               0          0   \n19674             761            1.0              21          1   \n676478            510            5.0               0          0   \n353338            420            5.0               0          0   \n722400            354            2.0              32          0   \n302837            745            4.0               0          0   \n281251            626            1.0              32          1   \n221594            310            2.0              34          0   \n\n       5_LUGAR_CRIMEN 6_LUGAR_CRIMEN  \n22034           108.0          108.0  \n170161          101.0          101.0  \n406796          101.0          101.0  \n19674           101.0          101.0  \n676478          101.0          101.0  \n353338          101.0          101.0  \n722400          501.0          501.0  \n302837          108.0          108.0  \n281251          101.0          101.0  \n221594          501.0          501.0  \n\n[10 rows x 35 columns]",
      "text/html": "<div>\n<style scoped>\n    .dataframe tbody tr th:only-of-type {\n        vertical-align: middle;\n    }\n\n    .dataframe tbody tr th {\n        vertical-align: top;\n    }\n\n    .dataframe thead th {\n        text-align: right;\n    }\n</style>\n<table border=\"1\" class=\"dataframe\">\n  <thead>\n    <tr style=\"text-align: right;\">\n      <th></th>\n      <th>DR_NO</th>\n      <th>Date Rptd</th>\n      <th>DATE OCC</th>\n      <th>TIME OCC</th>\n      <th>AREA</th>\n      <th>AREA NAME</th>\n      <th>Rpt Dist No</th>\n      <th>Part 1-2</th>\n      <th>Crm Cd</th>\n      <th>Crm Cd Desc</th>\n      <th>...</th>\n      <th>Cross Street</th>\n      <th>LAT</th>\n      <th>LON</th>\n      <th>1_HORARIO</th>\n      <th>2_TIPO_CRIMEN</th>\n      <th>3_VICTIMA_SEXO</th>\n      <th>4_VICTIMA_EDAD</th>\n      <th>5_HAY_ARMA</th>\n      <th>5_LUGAR_CRIMEN</th>\n      <th>6_LUGAR_CRIMEN</th>\n    </tr>\n  </thead>\n  <tbody>\n    <tr>\n      <th>22034</th>\n      <td>200306667</td>\n      <td>02/14/2020 12:00:00 AM</td>\n      <td>02/14/2020 12:00:00 AM</td>\n      <td>1900</td>\n      <td>3</td>\n      <td>Southwest</td>\n      <td>334</td>\n      <td>1</td>\n      <td>210</td>\n      <td>ROBBERY</td>\n      <td>...</td>\n      <td>NaN</td>\n      <td>34.0326</td>\n      <td>-118.3350</td>\n      <td>3</td>\n      <td>210</td>\n      <td>2.0</td>\n      <td>70</td>\n      <td>1</td>\n      <td>108.0</td>\n      <td>108.0</td>\n    </tr>\n    <tr>\n      <th>170161</th>\n      <td>201800695</td>\n      <td>05/08/2020 12:00:00 AM</td>\n      <td>05/08/2020 12:00:00 AM</td>\n      <td>1830</td>\n      <td>18</td>\n      <td>Southeast</td>\n      <td>1838</td>\n      <td>1</td>\n      <td>230</td>\n      <td>ASSAULT WITH DEADLY WEAPON, AGGRAVATED ASSAULT</td>\n      <td>...</td>\n      <td>GRAPE                        ST</td>\n      <td>33.9406</td>\n      <td>-118.2369</td>\n      <td>3</td>\n      <td>230</td>\n      <td>2.0</td>\n      <td>19</td>\n      <td>1</td>\n      <td>101.0</td>\n      <td>101.0</td>\n    </tr>\n    <tr>\n      <th>406796</th>\n      <td>211318764</td>\n      <td>11/11/2021 12:00:00 AM</td>\n      <td>11/11/2021 12:00:00 AM</td>\n      <td>930</td>\n      <td>13</td>\n      <td>Newton</td>\n      <td>1324</td>\n      <td>1</td>\n      <td>510</td>\n      <td>VEHICLE - STOLEN</td>\n      <td>...</td>\n      <td>NaN</td>\n      <td>34.0206</td>\n      <td>-118.2541</td>\n      <td>2</td>\n      <td>510</td>\n      <td>5.0</td>\n      <td>0</td>\n      <td>0</td>\n      <td>101.0</td>\n      <td>101.0</td>\n    </tr>\n    <tr>\n      <th>19674</th>\n      <td>200510557</td>\n      <td>06/13/2020 12:00:00 AM</td>\n      <td>06/13/2020 12:00:00 AM</td>\n      <td>140</td>\n      <td>5</td>\n      <td>Harbor</td>\n      <td>519</td>\n      <td>1</td>\n      <td>761</td>\n      <td>BRANDISH WEAPON</td>\n      <td>...</td>\n      <td>NaN</td>\n      <td>33.7917</td>\n      <td>-118.2482</td>\n      <td>1</td>\n      <td>761</td>\n      <td>1.0</td>\n      <td>21</td>\n      <td>1</td>\n      <td>101.0</td>\n      <td>101.0</td>\n    </tr>\n    <tr>\n      <th>676478</th>\n      <td>231605705</td>\n      <td>02/22/2023 12:00:00 AM</td>\n      <td>02/21/2023 12:00:00 AM</td>\n      <td>30</td>\n      <td>16</td>\n      <td>Foothill</td>\n      <td>1673</td>\n      <td>1</td>\n      <td>510</td>\n      <td>VEHICLE - STOLEN</td>\n      <td>...</td>\n      <td>NaN</td>\n      <td>34.2271</td>\n      <td>-118.3878</td>\n      <td>1</td>\n      <td>510</td>\n      <td>5.0</td>\n      <td>0</td>\n      <td>0</td>\n      <td>101.0</td>\n      <td>101.0</td>\n    </tr>\n    <tr>\n      <th>353338</th>\n      <td>211517180</td>\n      <td>11/08/2021 12:00:00 AM</td>\n      <td>10/25/2021 12:00:00 AM</td>\n      <td>1700</td>\n      <td>15</td>\n      <td>N Hollywood</td>\n      <td>1547</td>\n      <td>1</td>\n      <td>420</td>\n      <td>THEFT FROM MOTOR VEHICLE - PETTY ($950 &amp; UNDER)</td>\n      <td>...</td>\n      <td>NaN</td>\n      <td>34.1713</td>\n      <td>-118.3822</td>\n      <td>2</td>\n      <td>420</td>\n      <td>5.0</td>\n      <td>0</td>\n      <td>0</td>\n      <td>101.0</td>\n      <td>101.0</td>\n    </tr>\n    <tr>\n      <th>722400</th>\n      <td>231706173</td>\n      <td>02/26/2023 12:00:00 AM</td>\n      <td>02/19/2023 12:00:00 AM</td>\n      <td>1145</td>\n      <td>17</td>\n      <td>Devonshire</td>\n      <td>1793</td>\n      <td>2</td>\n      <td>354</td>\n      <td>THEFT OF IDENTITY</td>\n      <td>...</td>\n      <td>NaN</td>\n      <td>34.2237</td>\n      <td>-118.5501</td>\n      <td>2</td>\n      <td>354</td>\n      <td>2.0</td>\n      <td>32</td>\n      <td>0</td>\n      <td>501.0</td>\n      <td>501.0</td>\n    </tr>\n    <tr>\n      <th>302837</th>\n      <td>210618178</td>\n      <td>10/29/2021 12:00:00 AM</td>\n      <td>10/26/2021 12:00:00 AM</td>\n      <td>600</td>\n      <td>6</td>\n      <td>Hollywood</td>\n      <td>648</td>\n      <td>2</td>\n      <td>745</td>\n      <td>VANDALISM - MISDEAMEANOR ($399 OR UNDER)</td>\n      <td>...</td>\n      <td>NaN</td>\n      <td>34.1000</td>\n      <td>-118.3113</td>\n      <td>1</td>\n      <td>745</td>\n      <td>4.0</td>\n      <td>0</td>\n      <td>0</td>\n      <td>108.0</td>\n      <td>108.0</td>\n    </tr>\n    <tr>\n      <th>281251</th>\n      <td>210213387</td>\n      <td>08/17/2021 12:00:00 AM</td>\n      <td>08/17/2021 12:00:00 AM</td>\n      <td>1920</td>\n      <td>2</td>\n      <td>Rampart</td>\n      <td>202</td>\n      <td>2</td>\n      <td>626</td>\n      <td>INTIMATE PARTNER - SIMPLE ASSAULT</td>\n      <td>...</td>\n      <td>NaN</td>\n      <td>34.0888</td>\n      <td>-118.2881</td>\n      <td>3</td>\n      <td>626</td>\n      <td>1.0</td>\n      <td>32</td>\n      <td>1</td>\n      <td>101.0</td>\n      <td>101.0</td>\n    </tr>\n    <tr>\n      <th>221594</th>\n      <td>211610888</td>\n      <td>08/25/2021 12:00:00 AM</td>\n      <td>08/23/2021 12:00:00 AM</td>\n      <td>1930</td>\n      <td>16</td>\n      <td>Foothill</td>\n      <td>1621</td>\n      <td>1</td>\n      <td>310</td>\n      <td>BURGLARY</td>\n      <td>...</td>\n      <td>NaN</td>\n      <td>34.2648</td>\n      <td>-118.4311</td>\n      <td>3</td>\n      <td>310</td>\n      <td>2.0</td>\n      <td>34</td>\n      <td>0</td>\n      <td>501.0</td>\n      <td>501.0</td>\n    </tr>\n  </tbody>\n</table>\n<p>10 rows × 35 columns</p>\n</div>"
     },
     "execution_count": 14,
     "metadata": {},
     "output_type": "execute_result"
    }
   ],
   "source": [
    "crimes[\"6_LUGAR_CRIMEN\"] = crimes[\"Premis Cd\"]\n",
    "\n",
    "crimes.sample(10)"
   ],
   "metadata": {
    "collapsed": false,
    "ExecuteTime": {
     "end_time": "2023-10-11T01:56:17.207643Z",
     "start_time": "2023-10-11T01:56:17.164099Z"
    }
   },
   "id": "50d62a8cfcc1aaad"
  },
  {
   "cell_type": "code",
   "execution_count": 19,
   "outputs": [
    {
     "data": {
      "text/plain": "   1_HORARIO  2_TIPO_CRIMEN  3_VICTIMA_SEXO  4_VICTIMA_EDAD  5_HAY_ARMA  \\\n0          3            624             1.0              36           1   \n1          1            624             2.0              25           1   \n2          2            845             4.0               0           0   \n3          2            745             1.0              76           0   \n4          1            740             4.0              31           0   \n5          1            121             1.0              25           1   \n6          2            442             2.0              23           0   \n7          1            946             4.0               0           0   \n8          1            341             2.0              23           0   \n9          3            341             4.0               0           0   \n\n   6_LUGAR_CRIMEN  \n0           501.0  \n1           102.0  \n2           726.0  \n3           502.0  \n4           409.0  \n5           735.0  \n6           404.0  \n7           726.0  \n8           502.0  \n9           203.0  ",
      "text/html": "<div>\n<style scoped>\n    .dataframe tbody tr th:only-of-type {\n        vertical-align: middle;\n    }\n\n    .dataframe tbody tr th {\n        vertical-align: top;\n    }\n\n    .dataframe thead th {\n        text-align: right;\n    }\n</style>\n<table border=\"1\" class=\"dataframe\">\n  <thead>\n    <tr style=\"text-align: right;\">\n      <th></th>\n      <th>1_HORARIO</th>\n      <th>2_TIPO_CRIMEN</th>\n      <th>3_VICTIMA_SEXO</th>\n      <th>4_VICTIMA_EDAD</th>\n      <th>5_HAY_ARMA</th>\n      <th>6_LUGAR_CRIMEN</th>\n    </tr>\n  </thead>\n  <tbody>\n    <tr>\n      <th>0</th>\n      <td>3</td>\n      <td>624</td>\n      <td>1.0</td>\n      <td>36</td>\n      <td>1</td>\n      <td>501.0</td>\n    </tr>\n    <tr>\n      <th>1</th>\n      <td>1</td>\n      <td>624</td>\n      <td>2.0</td>\n      <td>25</td>\n      <td>1</td>\n      <td>102.0</td>\n    </tr>\n    <tr>\n      <th>2</th>\n      <td>2</td>\n      <td>845</td>\n      <td>4.0</td>\n      <td>0</td>\n      <td>0</td>\n      <td>726.0</td>\n    </tr>\n    <tr>\n      <th>3</th>\n      <td>2</td>\n      <td>745</td>\n      <td>1.0</td>\n      <td>76</td>\n      <td>0</td>\n      <td>502.0</td>\n    </tr>\n    <tr>\n      <th>4</th>\n      <td>1</td>\n      <td>740</td>\n      <td>4.0</td>\n      <td>31</td>\n      <td>0</td>\n      <td>409.0</td>\n    </tr>\n    <tr>\n      <th>5</th>\n      <td>1</td>\n      <td>121</td>\n      <td>1.0</td>\n      <td>25</td>\n      <td>1</td>\n      <td>735.0</td>\n    </tr>\n    <tr>\n      <th>6</th>\n      <td>2</td>\n      <td>442</td>\n      <td>2.0</td>\n      <td>23</td>\n      <td>0</td>\n      <td>404.0</td>\n    </tr>\n    <tr>\n      <th>7</th>\n      <td>1</td>\n      <td>946</td>\n      <td>4.0</td>\n      <td>0</td>\n      <td>0</td>\n      <td>726.0</td>\n    </tr>\n    <tr>\n      <th>8</th>\n      <td>1</td>\n      <td>341</td>\n      <td>2.0</td>\n      <td>23</td>\n      <td>0</td>\n      <td>502.0</td>\n    </tr>\n    <tr>\n      <th>9</th>\n      <td>3</td>\n      <td>341</td>\n      <td>4.0</td>\n      <td>0</td>\n      <td>0</td>\n      <td>203.0</td>\n    </tr>\n  </tbody>\n</table>\n</div>"
     },
     "execution_count": 19,
     "metadata": {},
     "output_type": "execute_result"
    }
   ],
   "source": [
    "crimes_studio = crimes[ [\"1_HORARIO\", \"2_TIPO_CRIMEN\", \"3_VICTIMA_SEXO\", \"4_VICTIMA_EDAD\", \"5_HAY_ARMA\", \"6_LUGAR_CRIMEN\"] ].dropna()\n",
    "\n",
    "crimes_studio.head(10)"
   ],
   "metadata": {
    "collapsed": false,
    "ExecuteTime": {
     "end_time": "2023-10-11T01:59:44.592962Z",
     "start_time": "2023-10-11T01:59:44.517990Z"
    }
   },
   "id": "dd8909b995116e93"
  },
  {
   "cell_type": "code",
   "execution_count": 23,
   "outputs": [
    {
     "data": {
      "text/plain": "(811654, 5)"
     },
     "execution_count": 23,
     "metadata": {},
     "output_type": "execute_result"
    }
   ],
   "source": [
    "X = crimes_studio[ [\"1_HORARIO\", \"2_TIPO_CRIMEN\", \"3_VICTIMA_SEXO\", \"4_VICTIMA_EDAD\", \"6_LUGAR_CRIMEN\"] ].values\n",
    "\n",
    "X.shape"
   ],
   "metadata": {
    "collapsed": false,
    "ExecuteTime": {
     "end_time": "2023-10-11T02:00:34.747744Z",
     "start_time": "2023-10-11T02:00:34.696693Z"
    }
   },
   "id": "aaa45bc10ba664f0"
  },
  {
   "cell_type": "code",
   "execution_count": 24,
   "outputs": [
    {
     "data": {
      "text/plain": "(811654,)"
     },
     "execution_count": 24,
     "metadata": {},
     "output_type": "execute_result"
    }
   ],
   "source": [
    "y = crimes_studio[\"5_HAY_ARMA\"].values\n",
    "\n",
    "y.shape"
   ],
   "metadata": {
    "collapsed": false,
    "ExecuteTime": {
     "end_time": "2023-10-11T02:00:36.084937Z",
     "start_time": "2023-10-11T02:00:36.076698Z"
    }
   },
   "id": "93de946e7c47e0d"
  },
  {
   "cell_type": "code",
   "execution_count": 25,
   "outputs": [
    {
     "data": {
      "text/plain": "0.9724525475140885"
     },
     "execution_count": 25,
     "metadata": {},
     "output_type": "execute_result"
    }
   ],
   "source": [
    "from sklearn.tree import DecisionTreeClassifier\n",
    "\n",
    "clf = DecisionTreeClassifier()\n",
    "\n",
    "clf.fit(X, y)\n",
    "\n",
    "clf.score(X, y)"
   ],
   "metadata": {
    "collapsed": false,
    "ExecuteTime": {
     "end_time": "2023-10-11T02:00:40.880524Z",
     "start_time": "2023-10-11T02:00:38.259454Z"
    }
   },
   "id": "6aad247910b49380"
  },
  {
   "cell_type": "code",
   "execution_count": 29,
   "outputs": [
    {
     "data": {
      "text/plain": "array([1])"
     },
     "execution_count": 29,
     "metadata": {},
     "output_type": "execute_result"
    }
   ],
   "source": [
    "clf.predict([\n",
    "    [1, 624, 1, 28, 409]\n",
    "])"
   ],
   "metadata": {
    "collapsed": false,
    "ExecuteTime": {
     "end_time": "2023-10-11T02:04:52.020485Z",
     "start_time": "2023-10-11T02:04:52.011221Z"
    }
   },
   "id": "5b36a2758de9dcab"
  }
 ],
 "metadata": {
  "kernelspec": {
   "display_name": "Python 3",
   "language": "python",
   "name": "python3"
  },
  "language_info": {
   "codemirror_mode": {
    "name": "ipython",
    "version": 2
   },
   "file_extension": ".py",
   "mimetype": "text/x-python",
   "name": "python",
   "nbconvert_exporter": "python",
   "pygments_lexer": "ipython2",
   "version": "2.7.6"
  }
 },
 "nbformat": 4,
 "nbformat_minor": 5
}
