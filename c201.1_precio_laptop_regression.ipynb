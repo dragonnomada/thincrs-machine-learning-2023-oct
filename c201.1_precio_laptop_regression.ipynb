{
 "cells": [
  {
   "cell_type": "markdown",
   "source": [
    "# Calcular el precio de una laptop dadas sus características (Problema de Regresión)"
   ],
   "metadata": {
    "collapsed": false
   },
   "id": "eb0003236568d5f7"
  },
  {
   "cell_type": "markdown",
   "source": [
    "> PASO 1 - Adquirir los datos de las ventas de Laptops de Amazon"
   ],
   "metadata": {
    "collapsed": false
   },
   "id": "8c23f62c2a17c356"
  },
  {
   "cell_type": "code",
   "execution_count": 1,
   "id": "initial_id",
   "metadata": {
    "collapsed": true,
    "ExecuteTime": {
     "end_time": "2023-10-10T15:21:51.116629Z",
     "start_time": "2023-10-10T15:21:50.567374Z"
    }
   },
   "outputs": [
    {
     "data": {
      "text/plain": "   brand                  model   screen_size       color harddisk  \\\n0   ROKC                    NaN     14 Inches        Blue  1000 GB   \n1     HP                    NaN   15.6 Inches      Silver  1000 GB   \n2    MSI  Vector GP66 12UGS-267  15.66 Inches  Core Black      NaN   \n3  Apple            MacBook Air   13.3 Inches      Silver   256 GB   \n4  Apple            MacBook Air   15.3 Inches    Midnight   256 GB   \n\n             cpu    ram               OS  special_features    graphics  \\\n0  Intel Core i7   8 GB       Windows 11               NaN  Integrated   \n1  Intel Core i5  64 GB   Windows 11 Pro  Backlit Keyboard  Integrated   \n2  Intel Core i9  32 GB  Windows 11 Home               NaN   Dedicated   \n3        Unknown   8 GB           Mac OS  Backlit Keyboard  Integrated   \n4        Unknown   8 GB           Mac OS               NaN  Integrated   \n\n  graphics_coprocessor cpu_speed  rating       price  \n0                Intel   1.2 GHz     NaN    $589.99   \n1                Intel       NaN     4.5    $999.99   \n2                  NaN   1.8 GHz     5.0  $1,599.00   \n3                  NaN       NaN     4.8    $689.99   \n4                  NaN       NaN     4.8  $1,144.48   ",
      "text/html": "<div>\n<style scoped>\n    .dataframe tbody tr th:only-of-type {\n        vertical-align: middle;\n    }\n\n    .dataframe tbody tr th {\n        vertical-align: top;\n    }\n\n    .dataframe thead th {\n        text-align: right;\n    }\n</style>\n<table border=\"1\" class=\"dataframe\">\n  <thead>\n    <tr style=\"text-align: right;\">\n      <th></th>\n      <th>brand</th>\n      <th>model</th>\n      <th>screen_size</th>\n      <th>color</th>\n      <th>harddisk</th>\n      <th>cpu</th>\n      <th>ram</th>\n      <th>OS</th>\n      <th>special_features</th>\n      <th>graphics</th>\n      <th>graphics_coprocessor</th>\n      <th>cpu_speed</th>\n      <th>rating</th>\n      <th>price</th>\n    </tr>\n  </thead>\n  <tbody>\n    <tr>\n      <th>0</th>\n      <td>ROKC</td>\n      <td>NaN</td>\n      <td>14 Inches</td>\n      <td>Blue</td>\n      <td>1000 GB</td>\n      <td>Intel Core i7</td>\n      <td>8 GB</td>\n      <td>Windows 11</td>\n      <td>NaN</td>\n      <td>Integrated</td>\n      <td>Intel</td>\n      <td>1.2 GHz</td>\n      <td>NaN</td>\n      <td>$589.99</td>\n    </tr>\n    <tr>\n      <th>1</th>\n      <td>HP</td>\n      <td>NaN</td>\n      <td>15.6 Inches</td>\n      <td>Silver</td>\n      <td>1000 GB</td>\n      <td>Intel Core i5</td>\n      <td>64 GB</td>\n      <td>Windows 11 Pro</td>\n      <td>Backlit Keyboard</td>\n      <td>Integrated</td>\n      <td>Intel</td>\n      <td>NaN</td>\n      <td>4.5</td>\n      <td>$999.99</td>\n    </tr>\n    <tr>\n      <th>2</th>\n      <td>MSI</td>\n      <td>Vector GP66 12UGS-267</td>\n      <td>15.66 Inches</td>\n      <td>Core Black</td>\n      <td>NaN</td>\n      <td>Intel Core i9</td>\n      <td>32 GB</td>\n      <td>Windows 11 Home</td>\n      <td>NaN</td>\n      <td>Dedicated</td>\n      <td>NaN</td>\n      <td>1.8 GHz</td>\n      <td>5.0</td>\n      <td>$1,599.00</td>\n    </tr>\n    <tr>\n      <th>3</th>\n      <td>Apple</td>\n      <td>MacBook Air</td>\n      <td>13.3 Inches</td>\n      <td>Silver</td>\n      <td>256 GB</td>\n      <td>Unknown</td>\n      <td>8 GB</td>\n      <td>Mac OS</td>\n      <td>Backlit Keyboard</td>\n      <td>Integrated</td>\n      <td>NaN</td>\n      <td>NaN</td>\n      <td>4.8</td>\n      <td>$689.99</td>\n    </tr>\n    <tr>\n      <th>4</th>\n      <td>Apple</td>\n      <td>MacBook Air</td>\n      <td>15.3 Inches</td>\n      <td>Midnight</td>\n      <td>256 GB</td>\n      <td>Unknown</td>\n      <td>8 GB</td>\n      <td>Mac OS</td>\n      <td>NaN</td>\n      <td>Integrated</td>\n      <td>NaN</td>\n      <td>NaN</td>\n      <td>4.8</td>\n      <td>$1,144.48</td>\n    </tr>\n  </tbody>\n</table>\n</div>"
     },
     "execution_count": 1,
     "metadata": {},
     "output_type": "execute_result"
    }
   ],
   "source": [
    "import pandas as pd\n",
    "\n",
    "laptops = pd.read_csv(\"datasets/amazon_laptop_prices.csv\")\n",
    "\n",
    "laptops.head(5)"
   ]
  },
  {
   "cell_type": "code",
   "execution_count": 93,
   "outputs": [
    {
     "name": "stdout",
     "output_type": "stream",
     "text": [
      "<class 'pandas.core.frame.DataFrame'>\n",
      "RangeIndex: 4446 entries, 0 to 4445\n",
      "Data columns (total 14 columns):\n",
      " #   Column                Non-Null Count  Dtype  \n",
      "---  ------                --------------  -----  \n",
      " 0   brand                 4446 non-null   object \n",
      " 1   model                 3282 non-null   object \n",
      " 2   screen_size           4417 non-null   object \n",
      " 3   color                 3867 non-null   object \n",
      " 4   harddisk              3870 non-null   object \n",
      " 5   cpu                   4346 non-null   object \n",
      " 6   ram                   4385 non-null   object \n",
      " 7   OS                    4420 non-null   object \n",
      " 8   special_features      2054 non-null   object \n",
      " 9   graphics              4381 non-null   object \n",
      " 10  graphics_coprocessor  2574 non-null   object \n",
      " 11  cpu_speed             1520 non-null   object \n",
      " 12  rating                2174 non-null   float64\n",
      " 13  price                 4441 non-null   object \n",
      "dtypes: float64(1), object(13)\n",
      "memory usage: 486.4+ KB\n"
     ]
    }
   ],
   "source": [
    "laptops.info()"
   ],
   "metadata": {
    "collapsed": false,
    "ExecuteTime": {
     "end_time": "2023-10-10T01:51:19.552569Z",
     "start_time": "2023-10-10T01:51:19.223154Z"
    }
   },
   "id": "b6022a9399fafda4"
  },
  {
   "cell_type": "code",
   "execution_count": 94,
   "outputs": [
    {
     "data": {
      "text/plain": "12.955465587044529"
     },
     "execution_count": 94,
     "metadata": {},
     "output_type": "execute_result"
    }
   ],
   "source": [
    "100 - 100 * laptops[\"harddisk\"].count() / len(laptops)"
   ],
   "metadata": {
    "collapsed": false,
    "ExecuteTime": {
     "end_time": "2023-10-10T01:51:19.553489Z",
     "start_time": "2023-10-10T01:51:19.233468Z"
    }
   },
   "id": "693d1987f2f23b3c"
  },
  {
   "cell_type": "markdown",
   "source": [
    "> PASO 2 - Selección de características\n",
    "\n",
    "En un problema de regresión debemos considerar que las características sean valores continuos en su mayoría para que tenga sentido la regresión, es decir, el modelo busca generar una variable continua a partir de la combinación de otras variables continuas, por lo que debemos evitar valores categóricos o valores que puedan afectar el modelo continuo."
   ],
   "metadata": {
    "collapsed": false
   },
   "id": "5bc06e0b8b8075a8"
  },
  {
   "cell_type": "code",
   "execution_count": 95,
   "outputs": [],
   "source": [
    "features = [\"screen_size\", \"harddisk\", \"ram\", \"rating\"]"
   ],
   "metadata": {
    "collapsed": false,
    "ExecuteTime": {
     "end_time": "2023-10-10T01:51:19.553809Z",
     "start_time": "2023-10-10T01:51:19.238202Z"
    }
   },
   "id": "30e9b2e9c57178dc"
  },
  {
   "cell_type": "code",
   "execution_count": 96,
   "outputs": [
    {
     "data": {
      "text/plain": "       screen_size harddisk    ram  rating\n2157     14 Inches     1 TB  16 GB     4.5\n2573     14 Inches   512 GB  16 GB     NaN\n3158   15.6 Inches  1000 GB  20 GB     NaN\n1933   15.6 Inches      NaN  32 GB     1.0\n1652   15.6 Inches      NaN  32 GB     1.0\n3480   15.6 Inches      NaN  32 GB     1.0\n1979  15.66 Inches      NaN  32 GB     5.0\n228    11.6 Inches    64 GB   4 GB     4.0\n4403     14 Inches  1000 GB   8 GB     NaN\n3891     14 Inches  1000 GB   8 GB     NaN",
      "text/html": "<div>\n<style scoped>\n    .dataframe tbody tr th:only-of-type {\n        vertical-align: middle;\n    }\n\n    .dataframe tbody tr th {\n        vertical-align: top;\n    }\n\n    .dataframe thead th {\n        text-align: right;\n    }\n</style>\n<table border=\"1\" class=\"dataframe\">\n  <thead>\n    <tr style=\"text-align: right;\">\n      <th></th>\n      <th>screen_size</th>\n      <th>harddisk</th>\n      <th>ram</th>\n      <th>rating</th>\n    </tr>\n  </thead>\n  <tbody>\n    <tr>\n      <th>2157</th>\n      <td>14 Inches</td>\n      <td>1 TB</td>\n      <td>16 GB</td>\n      <td>4.5</td>\n    </tr>\n    <tr>\n      <th>2573</th>\n      <td>14 Inches</td>\n      <td>512 GB</td>\n      <td>16 GB</td>\n      <td>NaN</td>\n    </tr>\n    <tr>\n      <th>3158</th>\n      <td>15.6 Inches</td>\n      <td>1000 GB</td>\n      <td>20 GB</td>\n      <td>NaN</td>\n    </tr>\n    <tr>\n      <th>1933</th>\n      <td>15.6 Inches</td>\n      <td>NaN</td>\n      <td>32 GB</td>\n      <td>1.0</td>\n    </tr>\n    <tr>\n      <th>1652</th>\n      <td>15.6 Inches</td>\n      <td>NaN</td>\n      <td>32 GB</td>\n      <td>1.0</td>\n    </tr>\n    <tr>\n      <th>3480</th>\n      <td>15.6 Inches</td>\n      <td>NaN</td>\n      <td>32 GB</td>\n      <td>1.0</td>\n    </tr>\n    <tr>\n      <th>1979</th>\n      <td>15.66 Inches</td>\n      <td>NaN</td>\n      <td>32 GB</td>\n      <td>5.0</td>\n    </tr>\n    <tr>\n      <th>228</th>\n      <td>11.6 Inches</td>\n      <td>64 GB</td>\n      <td>4 GB</td>\n      <td>4.0</td>\n    </tr>\n    <tr>\n      <th>4403</th>\n      <td>14 Inches</td>\n      <td>1000 GB</td>\n      <td>8 GB</td>\n      <td>NaN</td>\n    </tr>\n    <tr>\n      <th>3891</th>\n      <td>14 Inches</td>\n      <td>1000 GB</td>\n      <td>8 GB</td>\n      <td>NaN</td>\n    </tr>\n  </tbody>\n</table>\n</div>"
     },
     "execution_count": 96,
     "metadata": {},
     "output_type": "execute_result"
    }
   ],
   "source": [
    "laptops[ features ].sample(10)"
   ],
   "metadata": {
    "collapsed": false,
    "ExecuteTime": {
     "end_time": "2023-10-10T01:51:19.555208Z",
     "start_time": "2023-10-10T01:51:19.244607Z"
    }
   },
   "id": "c582a6f913c30cc9"
  },
  {
   "cell_type": "markdown",
   "source": [
    "> PASO 3 - Limpieza de datos (normalizar las características)"
   ],
   "metadata": {
    "collapsed": false
   },
   "id": "5f4502d3c3f765a9"
  },
  {
   "cell_type": "code",
   "execution_count": 97,
   "outputs": [
    {
     "data": {
      "text/plain": "16.66"
     },
     "execution_count": 97,
     "metadata": {},
     "output_type": "execute_result"
    }
   ],
   "source": [
    "texto = \"16.66 Inches\"\n",
    "\n",
    "# Regular Expressions (Expresiones Regulares)\n",
    "import re\n",
    "\n",
    "# Pattern: \\d+\\.?\\d*\n",
    "match = re.match(r\"[0-9]+\\.?[0-9]*\", texto)\n",
    "\n",
    "valor = None\n",
    "\n",
    "if not match == None:\n",
    "    valor = float(match.group(0))\n",
    "    \n",
    "valor"
   ],
   "metadata": {
    "collapsed": false,
    "ExecuteTime": {
     "end_time": "2023-10-10T01:51:19.555656Z",
     "start_time": "2023-10-10T01:51:19.255012Z"
    }
   },
   "id": "9fde343294060304"
  },
  {
   "cell_type": "code",
   "execution_count": 98,
   "outputs": [],
   "source": [
    "def clean_screen_size(screen_size):\n",
    "    if f\"{screen_size}\" == \"nan\":\n",
    "        return None\n",
    "    \n",
    "    # Regular Expressions (Expresiones Regulares)\n",
    "    import re\n",
    "    \n",
    "    # Pattern: \\d+\\.?\\d*\n",
    "    match = re.match(r\"[0-9]+\\.?[0-9]*\", screen_size)\n",
    "    \n",
    "    valor = None\n",
    "    \n",
    "    if not match == None:\n",
    "        valor = float(match.group(0))\n",
    "        \n",
    "    return valor\n",
    "\n",
    "laptops[\"screen_size\"] = laptops[\"screen_size\"].map(clean_screen_size)"
   ],
   "metadata": {
    "collapsed": false,
    "ExecuteTime": {
     "end_time": "2023-10-10T01:51:19.555872Z",
     "start_time": "2023-10-10T01:51:19.264479Z"
    }
   },
   "id": "90c794045876532c"
  },
  {
   "cell_type": "code",
   "execution_count": 99,
   "outputs": [
    {
     "data": {
      "text/plain": "      screen_size harddisk    ram  rating\n0           14.00  1000 GB   8 GB     NaN\n1           15.60  1000 GB  64 GB     4.5\n2           15.66      NaN  32 GB     5.0\n3           13.30   256 GB   8 GB     4.8\n4           15.30   256 GB   8 GB     4.8\n...           ...      ...    ...     ...\n4441        15.60      NaN  32 GB     1.0\n4442        14.00  1000 GB   8 GB     NaN\n4443        15.60   512 GB   8 GB     NaN\n4444        14.00   512 GB   8 GB     NaN\n4445        14.00   256 GB    NaN     NaN\n\n[4446 rows x 4 columns]",
      "text/html": "<div>\n<style scoped>\n    .dataframe tbody tr th:only-of-type {\n        vertical-align: middle;\n    }\n\n    .dataframe tbody tr th {\n        vertical-align: top;\n    }\n\n    .dataframe thead th {\n        text-align: right;\n    }\n</style>\n<table border=\"1\" class=\"dataframe\">\n  <thead>\n    <tr style=\"text-align: right;\">\n      <th></th>\n      <th>screen_size</th>\n      <th>harddisk</th>\n      <th>ram</th>\n      <th>rating</th>\n    </tr>\n  </thead>\n  <tbody>\n    <tr>\n      <th>0</th>\n      <td>14.00</td>\n      <td>1000 GB</td>\n      <td>8 GB</td>\n      <td>NaN</td>\n    </tr>\n    <tr>\n      <th>1</th>\n      <td>15.60</td>\n      <td>1000 GB</td>\n      <td>64 GB</td>\n      <td>4.5</td>\n    </tr>\n    <tr>\n      <th>2</th>\n      <td>15.66</td>\n      <td>NaN</td>\n      <td>32 GB</td>\n      <td>5.0</td>\n    </tr>\n    <tr>\n      <th>3</th>\n      <td>13.30</td>\n      <td>256 GB</td>\n      <td>8 GB</td>\n      <td>4.8</td>\n    </tr>\n    <tr>\n      <th>4</th>\n      <td>15.30</td>\n      <td>256 GB</td>\n      <td>8 GB</td>\n      <td>4.8</td>\n    </tr>\n    <tr>\n      <th>...</th>\n      <td>...</td>\n      <td>...</td>\n      <td>...</td>\n      <td>...</td>\n    </tr>\n    <tr>\n      <th>4441</th>\n      <td>15.60</td>\n      <td>NaN</td>\n      <td>32 GB</td>\n      <td>1.0</td>\n    </tr>\n    <tr>\n      <th>4442</th>\n      <td>14.00</td>\n      <td>1000 GB</td>\n      <td>8 GB</td>\n      <td>NaN</td>\n    </tr>\n    <tr>\n      <th>4443</th>\n      <td>15.60</td>\n      <td>512 GB</td>\n      <td>8 GB</td>\n      <td>NaN</td>\n    </tr>\n    <tr>\n      <th>4444</th>\n      <td>14.00</td>\n      <td>512 GB</td>\n      <td>8 GB</td>\n      <td>NaN</td>\n    </tr>\n    <tr>\n      <th>4445</th>\n      <td>14.00</td>\n      <td>256 GB</td>\n      <td>NaN</td>\n      <td>NaN</td>\n    </tr>\n  </tbody>\n</table>\n<p>4446 rows × 4 columns</p>\n</div>"
     },
     "execution_count": 99,
     "metadata": {},
     "output_type": "execute_result"
    }
   ],
   "source": [
    "laptops[ features ]"
   ],
   "metadata": {
    "collapsed": false,
    "ExecuteTime": {
     "end_time": "2023-10-10T01:51:19.567224Z",
     "start_time": "2023-10-10T01:51:19.275278Z"
    }
   },
   "id": "182059f6ef64373f"
  },
  {
   "cell_type": "code",
   "execution_count": 100,
   "outputs": [
    {
     "data": {
      "text/plain": "10.0"
     },
     "execution_count": 100,
     "metadata": {},
     "output_type": "execute_result"
    }
   ],
   "source": [
    "laptops[\"screen_size\"].min()"
   ],
   "metadata": {
    "collapsed": false,
    "ExecuteTime": {
     "end_time": "2023-10-10T01:51:19.569184Z",
     "start_time": "2023-10-10T01:51:19.280391Z"
    }
   },
   "id": "80d5fc102a9ffbe6"
  },
  {
   "cell_type": "code",
   "execution_count": 101,
   "outputs": [
    {
     "data": {
      "text/plain": "27.0"
     },
     "execution_count": 101,
     "metadata": {},
     "output_type": "execute_result"
    }
   ],
   "source": [
    "laptops[\"screen_size\"].max()"
   ],
   "metadata": {
    "collapsed": false,
    "ExecuteTime": {
     "end_time": "2023-10-10T01:51:19.577334Z",
     "start_time": "2023-10-10T01:51:19.299651Z"
    }
   },
   "id": "28ab9db4e3d65631"
  },
  {
   "cell_type": "code",
   "execution_count": 102,
   "outputs": [
    {
     "data": {
      "text/plain": "15.074589087616028"
     },
     "execution_count": 102,
     "metadata": {},
     "output_type": "execute_result"
    }
   ],
   "source": [
    "laptops[\"screen_size\"].mean()"
   ],
   "metadata": {
    "collapsed": false,
    "ExecuteTime": {
     "end_time": "2023-10-10T01:51:19.577857Z",
     "start_time": "2023-10-10T01:51:19.306936Z"
    }
   },
   "id": "e8e26dd52e806ed0"
  },
  {
   "cell_type": "code",
   "execution_count": 103,
   "outputs": [
    {
     "data": {
      "text/plain": "1.1903568304821281"
     },
     "execution_count": 103,
     "metadata": {},
     "output_type": "execute_result"
    }
   ],
   "source": [
    "laptops[\"screen_size\"].std()"
   ],
   "metadata": {
    "collapsed": false,
    "ExecuteTime": {
     "end_time": "2023-10-10T01:51:19.578412Z",
     "start_time": "2023-10-10T01:51:19.311811Z"
    }
   },
   "id": "6d61fb132807d113"
  },
  {
   "cell_type": "code",
   "execution_count": 104,
   "outputs": [
    {
     "data": {
      "text/plain": "array([14.47647317, 16.37351562, 16.85061031, 16.29043499, 17.87429439])"
     },
     "execution_count": 104,
     "metadata": {},
     "output_type": "execute_result"
    }
   ],
   "source": [
    "import numpy as np\n",
    "\n",
    "np.random.normal(laptops[\"screen_size\"].mean(), laptops[\"screen_size\"].std(), 5)"
   ],
   "metadata": {
    "collapsed": false,
    "ExecuteTime": {
     "end_time": "2023-10-10T01:51:19.578886Z",
     "start_time": "2023-10-10T01:51:19.315654Z"
    }
   },
   "id": "91cc7c80370886e2"
  },
  {
   "cell_type": "code",
   "execution_count": 105,
   "outputs": [
    {
     "data": {
      "text/plain": "array([14.  , 15.6 , 15.66, 13.3 , 15.3 , 16.  , 17.3 , 11.6 , 15.  ,\n       13.4 , 18.  , 17.  , 16.2 , 13.6 , 14.4 , 13.  , 14.5 , 12.45,\n       12.2 , 13.5 , 13.1 , 12.  ,   nan, 10.5 , 12.3 , 10.1 , 13.9 ,\n       14.1 , 11.  , 12.4 , 15.4 , 12.5 , 16.1 , 22.  , 27.  , 10.  ])"
     },
     "execution_count": 105,
     "metadata": {},
     "output_type": "execute_result"
    }
   ],
   "source": [
    "laptops[\"screen_size\"].unique()"
   ],
   "metadata": {
    "collapsed": false,
    "ExecuteTime": {
     "end_time": "2023-10-10T01:51:19.579306Z",
     "start_time": "2023-10-10T01:51:19.326070Z"
    }
   },
   "id": "72a2e03a8924c6b6"
  },
  {
   "cell_type": "code",
   "execution_count": 106,
   "outputs": [
    {
     "data": {
      "text/plain": "screen_size\n10.00       1\n10.10       7\n10.50       1\n11.00       2\n11.60      84\n12.00       7\n12.20       1\n12.30       3\n12.40       2\n12.45       2\n12.50      10\n13.00      36\n13.10       6\n13.30     194\n13.40      43\n13.50      11\n13.60       4\n13.90       3\n14.00    1113\n14.10       9\n14.40       1\n14.50       4\n15.00      25\n15.30       1\n15.40       3\n15.60    1995\n15.66     196\n16.00     362\n16.10       5\n16.20       4\n17.00      89\n17.30     150\n18.00      41\n22.00       1\n27.00       1\nName: screen_size, dtype: int64"
     },
     "execution_count": 106,
     "metadata": {},
     "output_type": "execute_result"
    }
   ],
   "source": [
    "laptops.groupby(\"screen_size\")[\"screen_size\"].agg(\"count\")"
   ],
   "metadata": {
    "collapsed": false,
    "ExecuteTime": {
     "end_time": "2023-10-10T01:51:19.579748Z",
     "start_time": "2023-10-10T01:51:19.331651Z"
    }
   },
   "id": "1b3f1bba6b5ea638"
  },
  {
   "cell_type": "code",
   "execution_count": 107,
   "outputs": [
    {
     "data": {
      "text/plain": "[10.0,\n 10.1,\n 10.1,\n 10.1,\n 10.1,\n 10.1,\n 10.1,\n 10.1,\n 10.5,\n 11.0,\n 11.0,\n 11.6,\n 11.6,\n 11.6,\n 11.6,\n 11.6,\n 11.6,\n 11.6,\n 11.6,\n 11.6,\n 11.6,\n 11.6,\n 11.6,\n 11.6,\n 11.6,\n 11.6,\n 11.6,\n 11.6,\n 11.6,\n 11.6,\n 11.6,\n 11.6,\n 11.6,\n 11.6,\n 11.6,\n 11.6,\n 11.6,\n 11.6,\n 11.6,\n 11.6,\n 11.6,\n 11.6,\n 11.6,\n 11.6,\n 11.6,\n 11.6,\n 11.6,\n 11.6,\n 11.6,\n 11.6,\n 11.6,\n 11.6,\n 11.6,\n 11.6,\n 11.6,\n 11.6,\n 11.6,\n 11.6,\n 11.6,\n 11.6,\n 11.6,\n 11.6,\n 11.6,\n 11.6,\n 11.6,\n 11.6,\n 11.6,\n 11.6,\n 11.6,\n 11.6,\n 11.6,\n 11.6,\n 11.6,\n 11.6,\n 11.6,\n 11.6,\n 11.6,\n 11.6,\n 11.6,\n 11.6,\n 11.6,\n 11.6,\n 11.6,\n 11.6,\n 11.6,\n 11.6,\n 11.6,\n 11.6,\n 11.6,\n 11.6,\n 11.6,\n 11.6,\n 11.6,\n 11.6,\n 11.6,\n 12.0,\n 12.0,\n 12.0,\n 12.0,\n 12.0,\n 12.0,\n 12.0,\n 12.2,\n 12.3,\n 12.3,\n 12.3,\n 12.4,\n 12.4,\n 12.45,\n 12.45,\n 12.5,\n 12.5,\n 12.5,\n 12.5,\n 12.5,\n 12.5,\n 12.5,\n 12.5,\n 12.5,\n 12.5,\n 13.0,\n 13.0,\n 13.0,\n 13.0,\n 13.0,\n 13.0,\n 13.0,\n 13.0,\n 13.0,\n 13.0,\n 13.0,\n 13.0,\n 13.0,\n 13.0,\n 13.0,\n 13.0,\n 13.0,\n 13.0,\n 13.0,\n 13.0,\n 13.0,\n 13.0,\n 13.0,\n 13.0,\n 13.0,\n 13.0,\n 13.0,\n 13.0,\n 13.0,\n 13.0,\n 13.0,\n 13.0,\n 13.0,\n 13.0,\n 13.0,\n 13.0,\n 13.1,\n 13.1,\n 13.1,\n 13.1,\n 13.1,\n 13.1,\n 13.3,\n 13.3,\n 13.3,\n 13.3,\n 13.3,\n 13.3,\n 13.3,\n 13.3,\n 13.3,\n 13.3,\n 13.3,\n 13.3,\n 13.3,\n 13.3,\n 13.3,\n 13.3,\n 13.3,\n 13.3,\n 13.3,\n 13.3,\n 13.3,\n 13.3,\n 13.3,\n 13.3,\n 13.3,\n 13.3,\n 13.3,\n 13.3,\n 13.3,\n 13.3,\n 13.3,\n 13.3,\n 13.3,\n 13.3,\n 13.3,\n 13.3,\n 13.3,\n 13.3,\n 13.3,\n 13.3,\n 13.3,\n 13.3,\n 13.3,\n 13.3,\n 13.3,\n 13.3,\n 13.3,\n 13.3,\n 13.3,\n 13.3,\n 13.3,\n 13.3,\n 13.3,\n 13.3,\n 13.3,\n 13.3,\n 13.3,\n 13.3,\n 13.3,\n 13.3,\n 13.3,\n 13.3,\n 13.3,\n 13.3,\n 13.3,\n 13.3,\n 13.3,\n 13.3,\n 13.3,\n 13.3,\n 13.3,\n 13.3,\n 13.3,\n 13.3,\n 13.3,\n 13.3,\n 13.3,\n 13.3,\n 13.3,\n 13.3,\n 13.3,\n 13.3,\n 13.3,\n 13.3,\n 13.3,\n 13.3,\n 13.3,\n 13.3,\n 13.3,\n 13.3,\n 13.3,\n 13.3,\n 13.3,\n 13.3,\n 13.3,\n 13.3,\n 13.3,\n 13.3,\n 13.3,\n 13.3,\n 13.3,\n 13.3,\n 13.3,\n 13.3,\n 13.3,\n 13.3,\n 13.3,\n 13.3,\n 13.3,\n 13.3,\n 13.3,\n 13.3,\n 13.3,\n 13.3,\n 13.3,\n 13.3,\n 13.3,\n 13.3,\n 13.3,\n 13.3,\n 13.3,\n 13.3,\n 13.3,\n 13.3,\n 13.3,\n 13.3,\n 13.3,\n 13.3,\n 13.3,\n 13.3,\n 13.3,\n 13.3,\n 13.3,\n 13.3,\n 13.3,\n 13.3,\n 13.3,\n 13.3,\n 13.3,\n 13.3,\n 13.3,\n 13.3,\n 13.3,\n 13.3,\n 13.3,\n 13.3,\n 13.3,\n 13.3,\n 13.3,\n 13.3,\n 13.3,\n 13.3,\n 13.3,\n 13.3,\n 13.3,\n 13.3,\n 13.3,\n 13.3,\n 13.3,\n 13.3,\n 13.3,\n 13.3,\n 13.3,\n 13.3,\n 13.3,\n 13.3,\n 13.3,\n 13.3,\n 13.3,\n 13.3,\n 13.3,\n 13.3,\n 13.3,\n 13.3,\n 13.3,\n 13.3,\n 13.3,\n 13.3,\n 13.3,\n 13.3,\n 13.3,\n 13.3,\n 13.3,\n 13.3,\n 13.3,\n 13.3,\n 13.3,\n 13.3,\n 13.3,\n 13.3,\n 13.3,\n 13.3,\n 13.3,\n 13.3,\n 13.4,\n 13.4,\n 13.4,\n 13.4,\n 13.4,\n 13.4,\n 13.4,\n 13.4,\n 13.4,\n 13.4,\n 13.4,\n 13.4,\n 13.4,\n 13.4,\n 13.4,\n 13.4,\n 13.4,\n 13.4,\n 13.4,\n 13.4,\n 13.4,\n 13.4,\n 13.4,\n 13.4,\n 13.4,\n 13.4,\n 13.4,\n 13.4,\n 13.4,\n 13.4,\n 13.4,\n 13.4,\n 13.4,\n 13.4,\n 13.4,\n 13.4,\n 13.4,\n 13.4,\n 13.4,\n 13.4,\n 13.4,\n 13.4,\n 13.4,\n 13.5,\n 13.5,\n 13.5,\n 13.5,\n 13.5,\n 13.5,\n 13.5,\n 13.5,\n 13.5,\n 13.5,\n 13.5,\n 13.6,\n 13.6,\n 13.6,\n 13.6,\n 13.9,\n 13.9,\n 13.9,\n 14.0,\n 14.0,\n 14.0,\n 14.0,\n 14.0,\n 14.0,\n 14.0,\n 14.0,\n 14.0,\n 14.0,\n 14.0,\n 14.0,\n 14.0,\n 14.0,\n 14.0,\n 14.0,\n 14.0,\n 14.0,\n 14.0,\n 14.0,\n 14.0,\n 14.0,\n 14.0,\n 14.0,\n 14.0,\n 14.0,\n 14.0,\n 14.0,\n 14.0,\n 14.0,\n 14.0,\n 14.0,\n 14.0,\n 14.0,\n 14.0,\n 14.0,\n 14.0,\n 14.0,\n 14.0,\n 14.0,\n 14.0,\n 14.0,\n 14.0,\n 14.0,\n 14.0,\n 14.0,\n 14.0,\n 14.0,\n 14.0,\n 14.0,\n 14.0,\n 14.0,\n 14.0,\n 14.0,\n 14.0,\n 14.0,\n 14.0,\n 14.0,\n 14.0,\n 14.0,\n 14.0,\n 14.0,\n 14.0,\n 14.0,\n 14.0,\n 14.0,\n 14.0,\n 14.0,\n 14.0,\n 14.0,\n 14.0,\n 14.0,\n 14.0,\n 14.0,\n 14.0,\n 14.0,\n 14.0,\n 14.0,\n 14.0,\n 14.0,\n 14.0,\n 14.0,\n 14.0,\n 14.0,\n 14.0,\n 14.0,\n 14.0,\n 14.0,\n 14.0,\n 14.0,\n 14.0,\n 14.0,\n 14.0,\n 14.0,\n 14.0,\n 14.0,\n 14.0,\n 14.0,\n 14.0,\n 14.0,\n 14.0,\n 14.0,\n 14.0,\n 14.0,\n 14.0,\n 14.0,\n 14.0,\n 14.0,\n 14.0,\n 14.0,\n 14.0,\n 14.0,\n 14.0,\n 14.0,\n 14.0,\n 14.0,\n 14.0,\n 14.0,\n 14.0,\n 14.0,\n 14.0,\n 14.0,\n 14.0,\n 14.0,\n 14.0,\n 14.0,\n 14.0,\n 14.0,\n 14.0,\n 14.0,\n 14.0,\n 14.0,\n 14.0,\n 14.0,\n 14.0,\n 14.0,\n 14.0,\n 14.0,\n 14.0,\n 14.0,\n 14.0,\n 14.0,\n 14.0,\n 14.0,\n 14.0,\n 14.0,\n 14.0,\n 14.0,\n 14.0,\n 14.0,\n 14.0,\n 14.0,\n 14.0,\n 14.0,\n 14.0,\n 14.0,\n 14.0,\n 14.0,\n 14.0,\n 14.0,\n 14.0,\n 14.0,\n 14.0,\n 14.0,\n 14.0,\n 14.0,\n 14.0,\n 14.0,\n 14.0,\n 14.0,\n 14.0,\n 14.0,\n 14.0,\n 14.0,\n 14.0,\n 14.0,\n 14.0,\n 14.0,\n 14.0,\n 14.0,\n 14.0,\n 14.0,\n 14.0,\n 14.0,\n 14.0,\n 14.0,\n 14.0,\n 14.0,\n 14.0,\n 14.0,\n 14.0,\n 14.0,\n 14.0,\n 14.0,\n 14.0,\n 14.0,\n 14.0,\n 14.0,\n 14.0,\n 14.0,\n 14.0,\n 14.0,\n 14.0,\n 14.0,\n 14.0,\n 14.0,\n 14.0,\n 14.0,\n 14.0,\n 14.0,\n 14.0,\n 14.0,\n 14.0,\n 14.0,\n 14.0,\n 14.0,\n 14.0,\n 14.0,\n 14.0,\n 14.0,\n 14.0,\n 14.0,\n 14.0,\n 14.0,\n 14.0,\n 14.0,\n 14.0,\n 14.0,\n 14.0,\n 14.0,\n 14.0,\n 14.0,\n 14.0,\n 14.0,\n 14.0,\n 14.0,\n 14.0,\n 14.0,\n 14.0,\n 14.0,\n 14.0,\n 14.0,\n 14.0,\n 14.0,\n 14.0,\n 14.0,\n 14.0,\n 14.0,\n 14.0,\n 14.0,\n 14.0,\n 14.0,\n 14.0,\n 14.0,\n 14.0,\n 14.0,\n 14.0,\n 14.0,\n 14.0,\n 14.0,\n 14.0,\n 14.0,\n 14.0,\n 14.0,\n 14.0,\n 14.0,\n 14.0,\n 14.0,\n 14.0,\n 14.0,\n 14.0,\n 14.0,\n 14.0,\n 14.0,\n 14.0,\n 14.0,\n 14.0,\n 14.0,\n 14.0,\n 14.0,\n 14.0,\n 14.0,\n 14.0,\n 14.0,\n 14.0,\n 14.0,\n 14.0,\n 14.0,\n 14.0,\n 14.0,\n 14.0,\n 14.0,\n 14.0,\n 14.0,\n 14.0,\n 14.0,\n 14.0,\n 14.0,\n 14.0,\n 14.0,\n 14.0,\n 14.0,\n 14.0,\n 14.0,\n 14.0,\n 14.0,\n 14.0,\n 14.0,\n 14.0,\n 14.0,\n 14.0,\n 14.0,\n 14.0,\n 14.0,\n 14.0,\n 14.0,\n 14.0,\n 14.0,\n 14.0,\n 14.0,\n 14.0,\n 14.0,\n 14.0,\n 14.0,\n 14.0,\n 14.0,\n 14.0,\n 14.0,\n 14.0,\n 14.0,\n 14.0,\n 14.0,\n 14.0,\n 14.0,\n 14.0,\n 14.0,\n 14.0,\n 14.0,\n 14.0,\n 14.0,\n 14.0,\n 14.0,\n 14.0,\n 14.0,\n 14.0,\n 14.0,\n 14.0,\n 14.0,\n 14.0,\n 14.0,\n 14.0,\n 14.0,\n 14.0,\n 14.0,\n 14.0,\n 14.0,\n 14.0,\n 14.0,\n 14.0,\n 14.0,\n 14.0,\n 14.0,\n 14.0,\n 14.0,\n 14.0,\n 14.0,\n 14.0,\n 14.0,\n 14.0,\n 14.0,\n 14.0,\n 14.0,\n 14.0,\n 14.0,\n 14.0,\n 14.0,\n 14.0,\n 14.0,\n 14.0,\n 14.0,\n 14.0,\n 14.0,\n 14.0,\n 14.0,\n 14.0,\n 14.0,\n 14.0,\n 14.0,\n 14.0,\n 14.0,\n 14.0,\n 14.0,\n 14.0,\n 14.0,\n 14.0,\n 14.0,\n 14.0,\n 14.0,\n 14.0,\n 14.0,\n 14.0,\n 14.0,\n 14.0,\n 14.0,\n 14.0,\n 14.0,\n 14.0,\n 14.0,\n 14.0,\n 14.0,\n 14.0,\n 14.0,\n 14.0,\n 14.0,\n 14.0,\n 14.0,\n 14.0,\n 14.0,\n 14.0,\n 14.0,\n 14.0,\n 14.0,\n 14.0,\n 14.0,\n 14.0,\n 14.0,\n 14.0,\n 14.0,\n 14.0,\n 14.0,\n 14.0,\n 14.0,\n 14.0,\n 14.0,\n 14.0,\n 14.0,\n 14.0,\n 14.0,\n 14.0,\n 14.0,\n 14.0,\n 14.0,\n 14.0,\n 14.0,\n 14.0,\n 14.0,\n 14.0,\n 14.0,\n 14.0,\n 14.0,\n 14.0,\n 14.0,\n 14.0,\n 14.0,\n 14.0,\n 14.0,\n 14.0,\n 14.0,\n 14.0,\n 14.0,\n 14.0,\n 14.0,\n 14.0,\n 14.0,\n 14.0,\n 14.0,\n 14.0,\n 14.0,\n 14.0,\n 14.0,\n 14.0,\n 14.0,\n 14.0,\n 14.0,\n 14.0,\n 14.0,\n 14.0,\n 14.0,\n 14.0,\n 14.0,\n 14.0,\n 14.0,\n 14.0,\n 14.0,\n 14.0,\n 14.0,\n 14.0,\n 14.0,\n 14.0,\n 14.0,\n 14.0,\n 14.0,\n 14.0,\n 14.0,\n 14.0,\n 14.0,\n 14.0,\n 14.0,\n 14.0,\n 14.0,\n 14.0,\n 14.0,\n 14.0,\n 14.0,\n 14.0,\n 14.0,\n 14.0,\n 14.0,\n 14.0,\n 14.0,\n 14.0,\n 14.0,\n 14.0,\n 14.0,\n 14.0,\n 14.0,\n 14.0,\n 14.0,\n 14.0,\n 14.0,\n 14.0,\n 14.0,\n 14.0,\n 14.0,\n 14.0,\n 14.0,\n 14.0,\n 14.0,\n 14.0,\n 14.0,\n 14.0,\n 14.0,\n 14.0,\n 14.0,\n 14.0,\n 14.0,\n 14.0,\n 14.0,\n 14.0,\n 14.0,\n 14.0,\n 14.0,\n 14.0,\n 14.0,\n 14.0,\n 14.0,\n 14.0,\n 14.0,\n 14.0,\n 14.0,\n 14.0,\n 14.0,\n 14.0,\n 14.0,\n 14.0,\n 14.0,\n 14.0,\n 14.0,\n 14.0,\n 14.0,\n 14.0,\n 14.0,\n 14.0,\n 14.0,\n 14.0,\n 14.0,\n 14.0,\n 14.0,\n 14.0,\n 14.0,\n 14.0,\n 14.0,\n 14.0,\n 14.0,\n 14.0,\n 14.0,\n 14.0,\n 14.0,\n 14.0,\n 14.0,\n 14.0,\n 14.0,\n 14.0,\n ...]"
     },
     "execution_count": 107,
     "metadata": {},
     "output_type": "execute_result"
    }
   ],
   "source": [
    "pool = []\n",
    "\n",
    "for screen_size, repeats in laptops.groupby(\"screen_size\")[\"screen_size\"].agg(\"count\").items():\n",
    "    pool.extend([screen_size] * repeats)\n",
    "    \n",
    "pool"
   ],
   "metadata": {
    "collapsed": false,
    "ExecuteTime": {
     "end_time": "2023-10-10T01:51:19.582024Z",
     "start_time": "2023-10-10T01:51:19.339098Z"
    }
   },
   "id": "d4759ca1e0342104"
  },
  {
   "cell_type": "code",
   "execution_count": 108,
   "outputs": [
    {
     "data": {
      "text/plain": "0       14.00\n1       15.60\n2       15.66\n3       13.30\n4       15.30\n        ...  \n4441    15.60\n4442    14.00\n4443    15.60\n4444    14.00\n4445    14.00\nName: screen_size, Length: 4417, dtype: float64"
     },
     "execution_count": 108,
     "metadata": {},
     "output_type": "execute_result"
    }
   ],
   "source": [
    "laptops[\"screen_size\"].dropna()"
   ],
   "metadata": {
    "collapsed": false,
    "ExecuteTime": {
     "end_time": "2023-10-10T01:51:19.583408Z",
     "start_time": "2023-10-10T01:51:19.350193Z"
    }
   },
   "id": "6c1f1e9c1317b671"
  },
  {
   "cell_type": "code",
   "execution_count": 109,
   "outputs": [
    {
     "data": {
      "text/plain": "15.6"
     },
     "execution_count": 109,
     "metadata": {},
     "output_type": "execute_result"
    }
   ],
   "source": [
    "import random\n",
    "\n",
    "random.choice(pool)"
   ],
   "metadata": {
    "collapsed": false,
    "ExecuteTime": {
     "end_time": "2023-10-10T01:51:19.583762Z",
     "start_time": "2023-10-10T01:51:19.355474Z"
    }
   },
   "id": "762074deea4652f"
  },
  {
   "cell_type": "code",
   "execution_count": 110,
   "outputs": [
    {
     "data": {
      "text/plain": "13.5"
     },
     "execution_count": 110,
     "metadata": {},
     "output_type": "execute_result"
    }
   ],
   "source": [
    "random.choice(laptops[\"screen_size\"].dropna())"
   ],
   "metadata": {
    "collapsed": false,
    "ExecuteTime": {
     "end_time": "2023-10-10T01:51:19.584044Z",
     "start_time": "2023-10-10T01:51:19.359959Z"
    }
   },
   "id": "201f6eceb70e8132"
  },
  {
   "cell_type": "code",
   "execution_count": 111,
   "outputs": [
    {
     "data": {
      "text/plain": "      screen_size harddisk    ram  rating\n0           14.00  1000 GB   8 GB     NaN\n1           15.60  1000 GB  64 GB     4.5\n2           15.66      NaN  32 GB     5.0\n3           13.30   256 GB   8 GB     4.8\n4           15.30   256 GB   8 GB     4.8\n...           ...      ...    ...     ...\n4441        15.60      NaN  32 GB     1.0\n4442        14.00  1000 GB   8 GB     NaN\n4443        15.60   512 GB   8 GB     NaN\n4444        14.00   512 GB   8 GB     NaN\n4445        14.00   256 GB    NaN     NaN\n\n[4446 rows x 4 columns]",
      "text/html": "<div>\n<style scoped>\n    .dataframe tbody tr th:only-of-type {\n        vertical-align: middle;\n    }\n\n    .dataframe tbody tr th {\n        vertical-align: top;\n    }\n\n    .dataframe thead th {\n        text-align: right;\n    }\n</style>\n<table border=\"1\" class=\"dataframe\">\n  <thead>\n    <tr style=\"text-align: right;\">\n      <th></th>\n      <th>screen_size</th>\n      <th>harddisk</th>\n      <th>ram</th>\n      <th>rating</th>\n    </tr>\n  </thead>\n  <tbody>\n    <tr>\n      <th>0</th>\n      <td>14.00</td>\n      <td>1000 GB</td>\n      <td>8 GB</td>\n      <td>NaN</td>\n    </tr>\n    <tr>\n      <th>1</th>\n      <td>15.60</td>\n      <td>1000 GB</td>\n      <td>64 GB</td>\n      <td>4.5</td>\n    </tr>\n    <tr>\n      <th>2</th>\n      <td>15.66</td>\n      <td>NaN</td>\n      <td>32 GB</td>\n      <td>5.0</td>\n    </tr>\n    <tr>\n      <th>3</th>\n      <td>13.30</td>\n      <td>256 GB</td>\n      <td>8 GB</td>\n      <td>4.8</td>\n    </tr>\n    <tr>\n      <th>4</th>\n      <td>15.30</td>\n      <td>256 GB</td>\n      <td>8 GB</td>\n      <td>4.8</td>\n    </tr>\n    <tr>\n      <th>...</th>\n      <td>...</td>\n      <td>...</td>\n      <td>...</td>\n      <td>...</td>\n    </tr>\n    <tr>\n      <th>4441</th>\n      <td>15.60</td>\n      <td>NaN</td>\n      <td>32 GB</td>\n      <td>1.0</td>\n    </tr>\n    <tr>\n      <th>4442</th>\n      <td>14.00</td>\n      <td>1000 GB</td>\n      <td>8 GB</td>\n      <td>NaN</td>\n    </tr>\n    <tr>\n      <th>4443</th>\n      <td>15.60</td>\n      <td>512 GB</td>\n      <td>8 GB</td>\n      <td>NaN</td>\n    </tr>\n    <tr>\n      <th>4444</th>\n      <td>14.00</td>\n      <td>512 GB</td>\n      <td>8 GB</td>\n      <td>NaN</td>\n    </tr>\n    <tr>\n      <th>4445</th>\n      <td>14.00</td>\n      <td>256 GB</td>\n      <td>NaN</td>\n      <td>NaN</td>\n    </tr>\n  </tbody>\n</table>\n<p>4446 rows × 4 columns</p>\n</div>"
     },
     "execution_count": 111,
     "metadata": {},
     "output_type": "execute_result"
    }
   ],
   "source": [
    "def fix_screen_size(screen_size):\n",
    "    if f\"{screen_size}\" == \"nan\":\n",
    "        return random.choice(list(laptops[\"screen_size\"].dropna()))\n",
    "    return screen_size\n",
    "\n",
    "# Al reparar los datos faltantes del tamaño de pantalla\n",
    "# supusimos que podía ser sustituido por algún tamaño aleatorio\n",
    "# bajo la misma probabilidad (* Hipótesis 1)\n",
    "laptops[\"screen_size\"] = laptops[\"screen_size\"].map(fix_screen_size)\n",
    "\n",
    "laptops[ features ]"
   ],
   "metadata": {
    "collapsed": false,
    "ExecuteTime": {
     "end_time": "2023-10-10T01:51:19.585370Z",
     "start_time": "2023-10-10T01:51:19.367900Z"
    }
   },
   "id": "46d3edb4f71c2e83"
  },
  {
   "cell_type": "code",
   "execution_count": 112,
   "outputs": [
    {
     "data": {
      "text/plain": "harddisk\n1 TB        315\n1.5 TB        1\n1.92 TB       1\n1000 GB    1334\n1024 GB       2\n1152 GB     177\n120 GB        1\n1256 GB       1\n128 GB      114\n128 MB        1\n1512 GB       1\n16 GB         8\n160 GB        4\n2 TB        124\n2000 GB     165\n2048 GB       1\n240 GB        2\n250 GB        1\n256           1\n256 GB      476\n3 TB          1\n300 GB        1\n32 GB        48\n32 MB         1\n320 GB        8\n4 TB         26\n4000 GB      47\n480 GB        2\n500 GB       34\n512           1\n512 GB      747\n512 MB        1\n6000 GB       3\n64            1\n64 GB       194\n64 MB         1\n640 GB        1\n65 GB         1\n8 GB          2\n8 TB          2\n8000 GB      18\nName: harddisk, dtype: int64"
     },
     "execution_count": 112,
     "metadata": {},
     "output_type": "execute_result"
    }
   ],
   "source": [
    "laptops.groupby(\"harddisk\")[\"harddisk\"].agg(\"count\")"
   ],
   "metadata": {
    "collapsed": false,
    "ExecuteTime": {
     "end_time": "2023-10-10T01:51:19.586525Z",
     "start_time": "2023-10-10T01:51:19.390568Z"
    }
   },
   "id": "194af3cb444f9857"
  },
  {
   "cell_type": "code",
   "execution_count": 113,
   "outputs": [
    {
     "data": {
      "text/plain": "      screen_size  harddisk    ram  rating\n0           14.00    1000.0   8 GB     NaN\n1           15.60    1000.0  64 GB     4.5\n2           15.66       NaN  32 GB     5.0\n3           13.30     256.0   8 GB     4.8\n4           15.30     256.0   8 GB     4.8\n...           ...       ...    ...     ...\n4441        15.60       NaN  32 GB     1.0\n4442        14.00    1000.0   8 GB     NaN\n4443        15.60     512.0   8 GB     NaN\n4444        14.00     512.0   8 GB     NaN\n4445        14.00     256.0    NaN     NaN\n\n[4446 rows x 4 columns]",
      "text/html": "<div>\n<style scoped>\n    .dataframe tbody tr th:only-of-type {\n        vertical-align: middle;\n    }\n\n    .dataframe tbody tr th {\n        vertical-align: top;\n    }\n\n    .dataframe thead th {\n        text-align: right;\n    }\n</style>\n<table border=\"1\" class=\"dataframe\">\n  <thead>\n    <tr style=\"text-align: right;\">\n      <th></th>\n      <th>screen_size</th>\n      <th>harddisk</th>\n      <th>ram</th>\n      <th>rating</th>\n    </tr>\n  </thead>\n  <tbody>\n    <tr>\n      <th>0</th>\n      <td>14.00</td>\n      <td>1000.0</td>\n      <td>8 GB</td>\n      <td>NaN</td>\n    </tr>\n    <tr>\n      <th>1</th>\n      <td>15.60</td>\n      <td>1000.0</td>\n      <td>64 GB</td>\n      <td>4.5</td>\n    </tr>\n    <tr>\n      <th>2</th>\n      <td>15.66</td>\n      <td>NaN</td>\n      <td>32 GB</td>\n      <td>5.0</td>\n    </tr>\n    <tr>\n      <th>3</th>\n      <td>13.30</td>\n      <td>256.0</td>\n      <td>8 GB</td>\n      <td>4.8</td>\n    </tr>\n    <tr>\n      <th>4</th>\n      <td>15.30</td>\n      <td>256.0</td>\n      <td>8 GB</td>\n      <td>4.8</td>\n    </tr>\n    <tr>\n      <th>...</th>\n      <td>...</td>\n      <td>...</td>\n      <td>...</td>\n      <td>...</td>\n    </tr>\n    <tr>\n      <th>4441</th>\n      <td>15.60</td>\n      <td>NaN</td>\n      <td>32 GB</td>\n      <td>1.0</td>\n    </tr>\n    <tr>\n      <th>4442</th>\n      <td>14.00</td>\n      <td>1000.0</td>\n      <td>8 GB</td>\n      <td>NaN</td>\n    </tr>\n    <tr>\n      <th>4443</th>\n      <td>15.60</td>\n      <td>512.0</td>\n      <td>8 GB</td>\n      <td>NaN</td>\n    </tr>\n    <tr>\n      <th>4444</th>\n      <td>14.00</td>\n      <td>512.0</td>\n      <td>8 GB</td>\n      <td>NaN</td>\n    </tr>\n    <tr>\n      <th>4445</th>\n      <td>14.00</td>\n      <td>256.0</td>\n      <td>NaN</td>\n      <td>NaN</td>\n    </tr>\n  </tbody>\n</table>\n<p>4446 rows × 4 columns</p>\n</div>"
     },
     "execution_count": 113,
     "metadata": {},
     "output_type": "execute_result"
    }
   ],
   "source": [
    "def clean_harddisk(harddisk):\n",
    "    if f\"{harddisk}\" == \"nan\":\n",
    "        return None\n",
    "    import re\n",
    "    if not re.search(r\"MB\", harddisk) == None:\n",
    "        match = re.search(r\"\\d+.?\\d*\", harddisk)\n",
    "        if not match == None:\n",
    "            valor = float(match.group(0))\n",
    "            return valor / 1000\n",
    "    elif not re.search(r\"GB\", harddisk) == None:\n",
    "        match = re.search(r\"\\d+.?\\d*\", harddisk)\n",
    "        if not match == None:\n",
    "            valor = float(match.group(0))\n",
    "            return valor\n",
    "    elif not re.search(r\"TB\", harddisk) == None:\n",
    "        match = re.search(r\"\\d+.?\\d*\", harddisk)\n",
    "        if not match == None:\n",
    "            valor = float(match.group(0))\n",
    "            return valor * 1000\n",
    "    return None\n",
    "\n",
    "laptops[\"harddisk\"] = laptops[\"harddisk\"].map(clean_harddisk)\n",
    "\n",
    "laptops[ features ]"
   ],
   "metadata": {
    "collapsed": false,
    "ExecuteTime": {
     "end_time": "2023-10-10T01:51:19.594601Z",
     "start_time": "2023-10-10T01:51:19.415162Z"
    }
   },
   "id": "b39baa8e9d42cb2f"
  },
  {
   "cell_type": "code",
   "execution_count": 186,
   "outputs": [
    {
     "data": {
      "text/plain": "256.0"
     },
     "execution_count": 186,
     "metadata": {},
     "output_type": "execute_result"
    }
   ],
   "source": [
    "random.choice(list(laptops[\"harddisk\"].dropna()))"
   ],
   "metadata": {
    "collapsed": false,
    "ExecuteTime": {
     "end_time": "2023-10-10T01:53:32.694266Z",
     "start_time": "2023-10-10T01:53:32.686720Z"
    }
   },
   "id": "23bfa9759cf34cfe"
  },
  {
   "cell_type": "code",
   "execution_count": 187,
   "outputs": [
    {
     "data": {
      "text/plain": "      screen_size  harddisk    ram  rating\n0           14.00    1000.0   8 GB     NaN\n1           15.60    1000.0  64 GB     4.5\n2           15.66     512.0  32 GB     5.0\n3           13.30     256.0   8 GB     4.8\n4           15.30     256.0   8 GB     4.8\n...           ...       ...    ...     ...\n4441        15.60    1000.0  32 GB     1.0\n4442        14.00    1000.0   8 GB     NaN\n4443        15.60     512.0   8 GB     NaN\n4444        14.00     512.0   8 GB     NaN\n4445        14.00     256.0    NaN     NaN\n\n[4446 rows x 4 columns]",
      "text/html": "<div>\n<style scoped>\n    .dataframe tbody tr th:only-of-type {\n        vertical-align: middle;\n    }\n\n    .dataframe tbody tr th {\n        vertical-align: top;\n    }\n\n    .dataframe thead th {\n        text-align: right;\n    }\n</style>\n<table border=\"1\" class=\"dataframe\">\n  <thead>\n    <tr style=\"text-align: right;\">\n      <th></th>\n      <th>screen_size</th>\n      <th>harddisk</th>\n      <th>ram</th>\n      <th>rating</th>\n    </tr>\n  </thead>\n  <tbody>\n    <tr>\n      <th>0</th>\n      <td>14.00</td>\n      <td>1000.0</td>\n      <td>8 GB</td>\n      <td>NaN</td>\n    </tr>\n    <tr>\n      <th>1</th>\n      <td>15.60</td>\n      <td>1000.0</td>\n      <td>64 GB</td>\n      <td>4.5</td>\n    </tr>\n    <tr>\n      <th>2</th>\n      <td>15.66</td>\n      <td>512.0</td>\n      <td>32 GB</td>\n      <td>5.0</td>\n    </tr>\n    <tr>\n      <th>3</th>\n      <td>13.30</td>\n      <td>256.0</td>\n      <td>8 GB</td>\n      <td>4.8</td>\n    </tr>\n    <tr>\n      <th>4</th>\n      <td>15.30</td>\n      <td>256.0</td>\n      <td>8 GB</td>\n      <td>4.8</td>\n    </tr>\n    <tr>\n      <th>...</th>\n      <td>...</td>\n      <td>...</td>\n      <td>...</td>\n      <td>...</td>\n    </tr>\n    <tr>\n      <th>4441</th>\n      <td>15.60</td>\n      <td>1000.0</td>\n      <td>32 GB</td>\n      <td>1.0</td>\n    </tr>\n    <tr>\n      <th>4442</th>\n      <td>14.00</td>\n      <td>1000.0</td>\n      <td>8 GB</td>\n      <td>NaN</td>\n    </tr>\n    <tr>\n      <th>4443</th>\n      <td>15.60</td>\n      <td>512.0</td>\n      <td>8 GB</td>\n      <td>NaN</td>\n    </tr>\n    <tr>\n      <th>4444</th>\n      <td>14.00</td>\n      <td>512.0</td>\n      <td>8 GB</td>\n      <td>NaN</td>\n    </tr>\n    <tr>\n      <th>4445</th>\n      <td>14.00</td>\n      <td>256.0</td>\n      <td>NaN</td>\n      <td>NaN</td>\n    </tr>\n  </tbody>\n</table>\n<p>4446 rows × 4 columns</p>\n</div>"
     },
     "execution_count": 187,
     "metadata": {},
     "output_type": "execute_result"
    }
   ],
   "source": [
    "def fix_harddisk(harddisk):\n",
    "    import random\n",
    "    if f\"{harddisk}\" == \"nan\":\n",
    "        return random.choice(list(laptops[\"harddisk\"].dropna()))\n",
    "    return harddisk\n",
    "\n",
    "laptops[\"harddisk\"] = laptops[\"harddisk\"].map(fix_harddisk)\n",
    "\n",
    "laptops[ features ]"
   ],
   "metadata": {
    "collapsed": false,
    "ExecuteTime": {
     "end_time": "2023-10-10T01:53:39.154668Z",
     "start_time": "2023-10-10T01:53:38.720778Z"
    }
   },
   "id": "775b3fa32b789e3c"
  },
  {
   "cell_type": "code",
   "execution_count": 189,
   "outputs": [
    {
     "data": {
      "text/plain": "      screen_size  harddisk   ram  rating\n0           14.00    1000.0   8.0     1.0\n1           15.60    1000.0  64.0     4.5\n2           15.66     512.0  32.0     5.0\n3           13.30     256.0   8.0     4.8\n4           15.30     256.0   8.0     4.8\n...           ...       ...   ...     ...\n4441        15.60    1000.0  32.0     1.0\n4442        14.00    1000.0   8.0     1.0\n4443        15.60     512.0   8.0     4.5\n4444        14.00     512.0   8.0     4.5\n4445        14.00     256.0   NaN     4.5\n\n[4446 rows x 4 columns]",
      "text/html": "<div>\n<style scoped>\n    .dataframe tbody tr th:only-of-type {\n        vertical-align: middle;\n    }\n\n    .dataframe tbody tr th {\n        vertical-align: top;\n    }\n\n    .dataframe thead th {\n        text-align: right;\n    }\n</style>\n<table border=\"1\" class=\"dataframe\">\n  <thead>\n    <tr style=\"text-align: right;\">\n      <th></th>\n      <th>screen_size</th>\n      <th>harddisk</th>\n      <th>ram</th>\n      <th>rating</th>\n    </tr>\n  </thead>\n  <tbody>\n    <tr>\n      <th>0</th>\n      <td>14.00</td>\n      <td>1000.0</td>\n      <td>8.0</td>\n      <td>1.0</td>\n    </tr>\n    <tr>\n      <th>1</th>\n      <td>15.60</td>\n      <td>1000.0</td>\n      <td>64.0</td>\n      <td>4.5</td>\n    </tr>\n    <tr>\n      <th>2</th>\n      <td>15.66</td>\n      <td>512.0</td>\n      <td>32.0</td>\n      <td>5.0</td>\n    </tr>\n    <tr>\n      <th>3</th>\n      <td>13.30</td>\n      <td>256.0</td>\n      <td>8.0</td>\n      <td>4.8</td>\n    </tr>\n    <tr>\n      <th>4</th>\n      <td>15.30</td>\n      <td>256.0</td>\n      <td>8.0</td>\n      <td>4.8</td>\n    </tr>\n    <tr>\n      <th>...</th>\n      <td>...</td>\n      <td>...</td>\n      <td>...</td>\n      <td>...</td>\n    </tr>\n    <tr>\n      <th>4441</th>\n      <td>15.60</td>\n      <td>1000.0</td>\n      <td>32.0</td>\n      <td>1.0</td>\n    </tr>\n    <tr>\n      <th>4442</th>\n      <td>14.00</td>\n      <td>1000.0</td>\n      <td>8.0</td>\n      <td>1.0</td>\n    </tr>\n    <tr>\n      <th>4443</th>\n      <td>15.60</td>\n      <td>512.0</td>\n      <td>8.0</td>\n      <td>4.5</td>\n    </tr>\n    <tr>\n      <th>4444</th>\n      <td>14.00</td>\n      <td>512.0</td>\n      <td>8.0</td>\n      <td>4.5</td>\n    </tr>\n    <tr>\n      <th>4445</th>\n      <td>14.00</td>\n      <td>256.0</td>\n      <td>NaN</td>\n      <td>4.5</td>\n    </tr>\n  </tbody>\n</table>\n<p>4446 rows × 4 columns</p>\n</div>"
     },
     "execution_count": 189,
     "metadata": {},
     "output_type": "execute_result"
    }
   ],
   "source": [
    "def clean_ram(ram):\n",
    "    if f\"{ram}\" == \"nan\":\n",
    "        return None\n",
    "    import re\n",
    "    if not re.search(r\"MB\", ram) == None:\n",
    "        match = re.search(r\"\\d+.?\\d*\", ram)\n",
    "        if not match == None:\n",
    "            valor = float(match.group(0))\n",
    "            return valor / 1000\n",
    "    elif not re.search(r\"GB\", ram) == None:\n",
    "        match = re.search(r\"\\d+.?\\d*\", ram)\n",
    "        if not match == None:\n",
    "            valor = float(match.group(0))\n",
    "            return valor\n",
    "    elif not re.search(r\"TB\", ram) == None:\n",
    "        match = re.search(r\"\\d+.?\\d*\", ram)\n",
    "        if not match == None:\n",
    "            valor = float(match.group(0))\n",
    "            return valor * 1000\n",
    "    return None\n",
    "\n",
    "laptops[\"ram\"] = laptops[\"ram\"].map(clean_ram)\n",
    "\n",
    "laptops[ features ]"
   ],
   "metadata": {
    "collapsed": false,
    "ExecuteTime": {
     "end_time": "2023-10-10T01:56:19.793806Z",
     "start_time": "2023-10-10T01:56:19.785692Z"
    }
   },
   "id": "4270f31964b0e7ee"
  },
  {
   "cell_type": "code",
   "execution_count": 191,
   "outputs": [
    {
     "data": {
      "text/plain": "      screen_size  harddisk   ram  rating\n0           14.00    1000.0   8.0     1.0\n1           15.60    1000.0  64.0     4.5\n2           15.66     512.0  32.0     5.0\n3           13.30     256.0   8.0     4.8\n4           15.30     256.0   8.0     4.8\n...           ...       ...   ...     ...\n4441        15.60    1000.0  32.0     1.0\n4442        14.00    1000.0   8.0     1.0\n4443        15.60     512.0   8.0     4.5\n4444        14.00     512.0   8.0     4.5\n4445        14.00     256.0  16.0     4.5\n\n[4446 rows x 4 columns]",
      "text/html": "<div>\n<style scoped>\n    .dataframe tbody tr th:only-of-type {\n        vertical-align: middle;\n    }\n\n    .dataframe tbody tr th {\n        vertical-align: top;\n    }\n\n    .dataframe thead th {\n        text-align: right;\n    }\n</style>\n<table border=\"1\" class=\"dataframe\">\n  <thead>\n    <tr style=\"text-align: right;\">\n      <th></th>\n      <th>screen_size</th>\n      <th>harddisk</th>\n      <th>ram</th>\n      <th>rating</th>\n    </tr>\n  </thead>\n  <tbody>\n    <tr>\n      <th>0</th>\n      <td>14.00</td>\n      <td>1000.0</td>\n      <td>8.0</td>\n      <td>1.0</td>\n    </tr>\n    <tr>\n      <th>1</th>\n      <td>15.60</td>\n      <td>1000.0</td>\n      <td>64.0</td>\n      <td>4.5</td>\n    </tr>\n    <tr>\n      <th>2</th>\n      <td>15.66</td>\n      <td>512.0</td>\n      <td>32.0</td>\n      <td>5.0</td>\n    </tr>\n    <tr>\n      <th>3</th>\n      <td>13.30</td>\n      <td>256.0</td>\n      <td>8.0</td>\n      <td>4.8</td>\n    </tr>\n    <tr>\n      <th>4</th>\n      <td>15.30</td>\n      <td>256.0</td>\n      <td>8.0</td>\n      <td>4.8</td>\n    </tr>\n    <tr>\n      <th>...</th>\n      <td>...</td>\n      <td>...</td>\n      <td>...</td>\n      <td>...</td>\n    </tr>\n    <tr>\n      <th>4441</th>\n      <td>15.60</td>\n      <td>1000.0</td>\n      <td>32.0</td>\n      <td>1.0</td>\n    </tr>\n    <tr>\n      <th>4442</th>\n      <td>14.00</td>\n      <td>1000.0</td>\n      <td>8.0</td>\n      <td>1.0</td>\n    </tr>\n    <tr>\n      <th>4443</th>\n      <td>15.60</td>\n      <td>512.0</td>\n      <td>8.0</td>\n      <td>4.5</td>\n    </tr>\n    <tr>\n      <th>4444</th>\n      <td>14.00</td>\n      <td>512.0</td>\n      <td>8.0</td>\n      <td>4.5</td>\n    </tr>\n    <tr>\n      <th>4445</th>\n      <td>14.00</td>\n      <td>256.0</td>\n      <td>16.0</td>\n      <td>4.5</td>\n    </tr>\n  </tbody>\n</table>\n<p>4446 rows × 4 columns</p>\n</div>"
     },
     "execution_count": 191,
     "metadata": {},
     "output_type": "execute_result"
    }
   ],
   "source": [
    "def fix_ram(ram):\n",
    "    import random\n",
    "    if f\"{ram}\" == \"nan\":\n",
    "        return random.choice(list(laptops[\"ram\"].dropna()))\n",
    "    return ram\n",
    "\n",
    "laptops[\"ram\"] = laptops[\"ram\"].map(fix_ram)\n",
    "\n",
    "laptops[ features ]"
   ],
   "metadata": {
    "collapsed": false,
    "ExecuteTime": {
     "end_time": "2023-10-10T01:56:53.569881Z",
     "start_time": "2023-10-10T01:56:53.527774Z"
    }
   },
   "id": "d66c47bcf2293f71"
  },
  {
   "cell_type": "code",
   "execution_count": 188,
   "outputs": [
    {
     "data": {
      "text/plain": "      screen_size  harddisk    ram  rating\n0           14.00    1000.0   8 GB     1.0\n1           15.60    1000.0  64 GB     4.5\n2           15.66     512.0  32 GB     5.0\n3           13.30     256.0   8 GB     4.8\n4           15.30     256.0   8 GB     4.8\n...           ...       ...    ...     ...\n4441        15.60    1000.0  32 GB     1.0\n4442        14.00    1000.0   8 GB     1.0\n4443        15.60     512.0   8 GB     4.5\n4444        14.00     512.0   8 GB     4.5\n4445        14.00     256.0    NaN     4.5\n\n[4446 rows x 4 columns]",
      "text/html": "<div>\n<style scoped>\n    .dataframe tbody tr th:only-of-type {\n        vertical-align: middle;\n    }\n\n    .dataframe tbody tr th {\n        vertical-align: top;\n    }\n\n    .dataframe thead th {\n        text-align: right;\n    }\n</style>\n<table border=\"1\" class=\"dataframe\">\n  <thead>\n    <tr style=\"text-align: right;\">\n      <th></th>\n      <th>screen_size</th>\n      <th>harddisk</th>\n      <th>ram</th>\n      <th>rating</th>\n    </tr>\n  </thead>\n  <tbody>\n    <tr>\n      <th>0</th>\n      <td>14.00</td>\n      <td>1000.0</td>\n      <td>8 GB</td>\n      <td>1.0</td>\n    </tr>\n    <tr>\n      <th>1</th>\n      <td>15.60</td>\n      <td>1000.0</td>\n      <td>64 GB</td>\n      <td>4.5</td>\n    </tr>\n    <tr>\n      <th>2</th>\n      <td>15.66</td>\n      <td>512.0</td>\n      <td>32 GB</td>\n      <td>5.0</td>\n    </tr>\n    <tr>\n      <th>3</th>\n      <td>13.30</td>\n      <td>256.0</td>\n      <td>8 GB</td>\n      <td>4.8</td>\n    </tr>\n    <tr>\n      <th>4</th>\n      <td>15.30</td>\n      <td>256.0</td>\n      <td>8 GB</td>\n      <td>4.8</td>\n    </tr>\n    <tr>\n      <th>...</th>\n      <td>...</td>\n      <td>...</td>\n      <td>...</td>\n      <td>...</td>\n    </tr>\n    <tr>\n      <th>4441</th>\n      <td>15.60</td>\n      <td>1000.0</td>\n      <td>32 GB</td>\n      <td>1.0</td>\n    </tr>\n    <tr>\n      <th>4442</th>\n      <td>14.00</td>\n      <td>1000.0</td>\n      <td>8 GB</td>\n      <td>1.0</td>\n    </tr>\n    <tr>\n      <th>4443</th>\n      <td>15.60</td>\n      <td>512.0</td>\n      <td>8 GB</td>\n      <td>4.5</td>\n    </tr>\n    <tr>\n      <th>4444</th>\n      <td>14.00</td>\n      <td>512.0</td>\n      <td>8 GB</td>\n      <td>4.5</td>\n    </tr>\n    <tr>\n      <th>4445</th>\n      <td>14.00</td>\n      <td>256.0</td>\n      <td>NaN</td>\n      <td>4.5</td>\n    </tr>\n  </tbody>\n</table>\n<p>4446 rows × 4 columns</p>\n</div>"
     },
     "execution_count": 188,
     "metadata": {},
     "output_type": "execute_result"
    }
   ],
   "source": [
    "def fix_rating(rating):\n",
    "    import random\n",
    "    if f\"{rating}\" == \"nan\":\n",
    "        return random.choice(list(laptops[\"rating\"].dropna()))\n",
    "    return rating\n",
    "\n",
    "laptops[\"rating\"] = laptops[\"rating\"].map(fix_rating)\n",
    "\n",
    "laptops[ features ]"
   ],
   "metadata": {
    "collapsed": false,
    "ExecuteTime": {
     "end_time": "2023-10-10T01:55:10.705173Z",
     "start_time": "2023-10-10T01:55:10.235194Z"
    }
   },
   "id": "f04435ebddb27779"
  },
  {
   "cell_type": "code",
   "execution_count": 192,
   "outputs": [
    {
     "data": {
      "text/plain": "array([[  14.  , 1000.  ,    8.  ,    1.  ],\n       [  15.6 , 1000.  ,   64.  ,    4.5 ],\n       [  15.66,  512.  ,   32.  ,    5.  ],\n       ...,\n       [  15.6 ,  512.  ,    8.  ,    4.5 ],\n       [  14.  ,  512.  ,    8.  ,    4.5 ],\n       [  14.  ,  256.  ,   16.  ,    4.5 ]])"
     },
     "execution_count": 192,
     "metadata": {},
     "output_type": "execute_result"
    }
   ],
   "source": [
    "X = laptops[ features ].values\n",
    "\n",
    "X"
   ],
   "metadata": {
    "collapsed": false,
    "ExecuteTime": {
     "end_time": "2023-10-10T01:57:19.515471Z",
     "start_time": "2023-10-10T01:57:19.510006Z"
    }
   },
   "id": "fab9b3e66e7ea38c"
  },
  {
   "cell_type": "code",
   "execution_count": 193,
   "outputs": [
    {
     "data": {
      "text/plain": "0         $589.99 \n1         $999.99 \n2       $1,599.00 \n3         $689.99 \n4       $1,144.48 \n           ...    \n4441    $1,699.00 \n4442      $589.99 \n4443      $591.99 \n4444    $1,771.99 \n4445      $938.99 \nName: price, Length: 4446, dtype: object"
     },
     "execution_count": 193,
     "metadata": {},
     "output_type": "execute_result"
    }
   ],
   "source": [
    "laptops[\"price\"]"
   ],
   "metadata": {
    "collapsed": false,
    "ExecuteTime": {
     "end_time": "2023-10-10T01:57:35.393422Z",
     "start_time": "2023-10-10T01:57:35.388065Z"
    }
   },
   "id": "9c0fbbfee389a7b6"
  },
  {
   "cell_type": "code",
   "execution_count": 195,
   "outputs": [
    {
     "data": {
      "text/plain": "0        589.99\n1        999.99\n2       1599.00\n3        689.99\n4       1144.48\n         ...   \n4441    1699.00\n4442     589.99\n4443     591.99\n4444    1771.99\n4445     938.99\nName: price, Length: 4446, dtype: float64"
     },
     "execution_count": 195,
     "metadata": {},
     "output_type": "execute_result"
    }
   ],
   "source": [
    "def clean_price(price):\n",
    "    if f\"{price}\" == \"nan\":\n",
    "        return None\n",
    "    return float(price.replace(\"$\", \"\").replace(\",\", \"\"))\n",
    "\n",
    "laptops[\"price\"] = laptops[\"price\"].map(clean_price)\n",
    "\n",
    "laptops[\"price\"]"
   ],
   "metadata": {
    "collapsed": false,
    "ExecuteTime": {
     "end_time": "2023-10-10T01:59:37.524662Z",
     "start_time": "2023-10-10T01:59:37.516672Z"
    }
   },
   "id": "b4d76e4b4fc9e5ea"
  },
  {
   "cell_type": "code",
   "execution_count": 198,
   "outputs": [
    {
     "data": {
      "text/plain": "        price  screen_size  harddisk   ram  rating\n0      589.99        14.00    1000.0   8.0     1.0\n1      999.99        15.60    1000.0  64.0     4.5\n2     1599.00        15.66     512.0  32.0     5.0\n3      689.99        13.30     256.0   8.0     4.8\n4     1144.48        15.30     256.0   8.0     4.8\n...       ...          ...       ...   ...     ...\n4441  1699.00        15.60    1000.0  32.0     1.0\n4442   589.99        14.00    1000.0   8.0     1.0\n4443   591.99        15.60     512.0   8.0     4.5\n4444  1771.99        14.00     512.0   8.0     4.5\n4445   938.99        14.00     256.0  16.0     4.5\n\n[4441 rows x 5 columns]",
      "text/html": "<div>\n<style scoped>\n    .dataframe tbody tr th:only-of-type {\n        vertical-align: middle;\n    }\n\n    .dataframe tbody tr th {\n        vertical-align: top;\n    }\n\n    .dataframe thead th {\n        text-align: right;\n    }\n</style>\n<table border=\"1\" class=\"dataframe\">\n  <thead>\n    <tr style=\"text-align: right;\">\n      <th></th>\n      <th>price</th>\n      <th>screen_size</th>\n      <th>harddisk</th>\n      <th>ram</th>\n      <th>rating</th>\n    </tr>\n  </thead>\n  <tbody>\n    <tr>\n      <th>0</th>\n      <td>589.99</td>\n      <td>14.00</td>\n      <td>1000.0</td>\n      <td>8.0</td>\n      <td>1.0</td>\n    </tr>\n    <tr>\n      <th>1</th>\n      <td>999.99</td>\n      <td>15.60</td>\n      <td>1000.0</td>\n      <td>64.0</td>\n      <td>4.5</td>\n    </tr>\n    <tr>\n      <th>2</th>\n      <td>1599.00</td>\n      <td>15.66</td>\n      <td>512.0</td>\n      <td>32.0</td>\n      <td>5.0</td>\n    </tr>\n    <tr>\n      <th>3</th>\n      <td>689.99</td>\n      <td>13.30</td>\n      <td>256.0</td>\n      <td>8.0</td>\n      <td>4.8</td>\n    </tr>\n    <tr>\n      <th>4</th>\n      <td>1144.48</td>\n      <td>15.30</td>\n      <td>256.0</td>\n      <td>8.0</td>\n      <td>4.8</td>\n    </tr>\n    <tr>\n      <th>...</th>\n      <td>...</td>\n      <td>...</td>\n      <td>...</td>\n      <td>...</td>\n      <td>...</td>\n    </tr>\n    <tr>\n      <th>4441</th>\n      <td>1699.00</td>\n      <td>15.60</td>\n      <td>1000.0</td>\n      <td>32.0</td>\n      <td>1.0</td>\n    </tr>\n    <tr>\n      <th>4442</th>\n      <td>589.99</td>\n      <td>14.00</td>\n      <td>1000.0</td>\n      <td>8.0</td>\n      <td>1.0</td>\n    </tr>\n    <tr>\n      <th>4443</th>\n      <td>591.99</td>\n      <td>15.60</td>\n      <td>512.0</td>\n      <td>8.0</td>\n      <td>4.5</td>\n    </tr>\n    <tr>\n      <th>4444</th>\n      <td>1771.99</td>\n      <td>14.00</td>\n      <td>512.0</td>\n      <td>8.0</td>\n      <td>4.5</td>\n    </tr>\n    <tr>\n      <th>4445</th>\n      <td>938.99</td>\n      <td>14.00</td>\n      <td>256.0</td>\n      <td>16.0</td>\n      <td>4.5</td>\n    </tr>\n  </tbody>\n</table>\n<p>4441 rows × 5 columns</p>\n</div>"
     },
     "execution_count": 198,
     "metadata": {},
     "output_type": "execute_result"
    }
   ],
   "source": [
    "columns = [\"price\"]\n",
    "columns.extend(features)\n",
    "\n",
    "laptops_analysis = laptops[ columns ].dropna()\n",
    "\n",
    "laptops_analysis"
   ],
   "metadata": {
    "collapsed": false,
    "ExecuteTime": {
     "end_time": "2023-10-10T02:02:18.935183Z",
     "start_time": "2023-10-10T02:02:18.920746Z"
    }
   },
   "id": "db9ff1d4d104ac7c"
  },
  {
   "cell_type": "code",
   "execution_count": 199,
   "outputs": [],
   "source": [
    "X = laptops_analysis[ features ].values\n",
    "y = laptops_analysis[\"price\"].values"
   ],
   "metadata": {
    "collapsed": false,
    "ExecuteTime": {
     "end_time": "2023-10-10T02:03:02.943041Z",
     "start_time": "2023-10-10T02:03:02.849825Z"
    }
   },
   "id": "2997944e2c453525"
  },
  {
   "cell_type": "code",
   "execution_count": 202,
   "outputs": [
    {
     "data": {
      "text/plain": "<Figure size 640x480 with 1 Axes>",
      "image/png": "[encoded data removed]"
     },
     "metadata": {},
     "output_type": "display_data"
    }
   ],
   "source": [
    "import matplotlib.pyplot as plt\n",
    "\n",
    "plt.plot(X[:,0], y, \"o\")\n",
    "plt.show()"
   ],
   "metadata": {
    "collapsed": false,
    "ExecuteTime": {
     "end_time": "2023-10-10T02:04:11.642966Z",
     "start_time": "2023-10-10T02:04:11.550560Z"
    }
   },
   "id": "48ce54994821fe7a"
  },
  {
   "cell_type": "code",
   "execution_count": 203,
   "outputs": [
    {
     "data": {
      "text/plain": "<Figure size 640x480 with 1 Axes>",
      "image/png": "[encoded data removed]"
     },
     "metadata": {},
     "output_type": "display_data"
    }
   ],
   "source": [
    "import matplotlib.pyplot as plt\n",
    "\n",
    "plt.plot(X[:,1], y, \"o\")\n",
    "plt.show()"
   ],
   "metadata": {
    "collapsed": false,
    "ExecuteTime": {
     "end_time": "2023-10-10T02:04:28.022070Z",
     "start_time": "2023-10-10T02:04:27.913580Z"
    }
   },
   "id": "bbef76a690971bbe"
  },
  {
   "cell_type": "code",
   "execution_count": 204,
   "outputs": [
    {
     "data": {
      "text/plain": "<Figure size 640x480 with 1 Axes>",
      "image/png": "[encoded data removed]"
     },
     "metadata": {},
     "output_type": "display_data"
    }
   ],
   "source": [
    "import matplotlib.pyplot as plt\n",
    "\n",
    "plt.plot(X[:,2], y, \"o\")\n",
    "plt.show()"
   ],
   "metadata": {
    "collapsed": false,
    "ExecuteTime": {
     "end_time": "2023-10-10T02:04:49.724615Z",
     "start_time": "2023-10-10T02:04:49.397839Z"
    }
   },
   "id": "dc76e936fa1ed8fe"
  },
  {
   "cell_type": "code",
   "execution_count": 205,
   "outputs": [
    {
     "data": {
      "text/plain": "<Figure size 640x480 with 1 Axes>",
      "image/png": "[encoded data removed]"
     },
     "metadata": {},
     "output_type": "display_data"
    }
   ],
   "source": [
    "import matplotlib.pyplot as plt\n",
    "\n",
    "plt.plot(X[:,3], y, \"o\")\n",
    "plt.show()"
   ],
   "metadata": {
    "collapsed": false,
    "ExecuteTime": {
     "end_time": "2023-10-10T02:05:00.020065Z",
     "start_time": "2023-10-10T02:04:59.862185Z"
    }
   },
   "id": "f79c0bf665b1d43c"
  },
  {
   "cell_type": "code",
   "execution_count": 206,
   "outputs": [
    {
     "data": {
      "text/plain": "0.2641001335453307"
     },
     "execution_count": 206,
     "metadata": {},
     "output_type": "execute_result"
    }
   ],
   "source": [
    "from sklearn.linear_model import LinearRegression\n",
    "\n",
    "reg = LinearRegression()\n",
    "\n",
    "reg.fit(X, y)\n",
    "\n",
    "reg.score(X, y)"
   ],
   "metadata": {
    "collapsed": false,
    "ExecuteTime": {
     "end_time": "2023-10-10T02:07:42.758812Z",
     "start_time": "2023-10-10T02:07:40.710616Z"
    }
   },
   "id": "814772491f76ca52"
  },
  {
   "cell_type": "code",
   "execution_count": 207,
   "outputs": [
    {
     "data": {
      "text/plain": "-0.02441614214379717"
     },
     "execution_count": 207,
     "metadata": {},
     "output_type": "execute_result"
    }
   ],
   "source": [
    "from sklearn.svm import SVR\n",
    "\n",
    "reg = SVR()\n",
    "\n",
    "reg.fit(X, y)\n",
    "\n",
    "reg.score(X, y)"
   ],
   "metadata": {
    "collapsed": false,
    "ExecuteTime": {
     "end_time": "2023-10-10T02:08:16.307243Z",
     "start_time": "2023-10-10T02:08:14.702591Z"
    }
   },
   "id": "aaa8edba718e6416"
  },
  {
   "cell_type": "code",
   "execution_count": 208,
   "outputs": [
    {
     "data": {
      "text/plain": "array([[  98.03110202,  -16.68068301],\n       [  98.40099279,   39.33833347],\n       [-389.79941639,   10.57282204],\n       ...,\n       [-389.95773397,  -13.42000121],\n       [-389.9582928 ,  -13.46091062],\n       [-645.89994083,   -3.77340781]])"
     },
     "execution_count": 208,
     "metadata": {},
     "output_type": "execute_result"
    }
   ],
   "source": [
    "from sklearn.decomposition import PCA\n",
    "\n",
    "pca = PCA(n_components=2)\n",
    "\n",
    "Xp = pca.fit_transform(X)\n",
    "\n",
    "Xp"
   ],
   "metadata": {
    "collapsed": false,
    "ExecuteTime": {
     "end_time": "2023-10-10T02:10:25.405990Z",
     "start_time": "2023-10-10T02:10:25.332417Z"
    }
   },
   "id": "a20ff08da268d04a"
  },
  {
   "cell_type": "code",
   "execution_count": 209,
   "outputs": [
    {
     "data": {
      "text/plain": "0.208616446914755"
     },
     "execution_count": 209,
     "metadata": {},
     "output_type": "execute_result"
    }
   ],
   "source": [
    "from sklearn.linear_model import LinearRegression\n",
    "\n",
    "reg = LinearRegression()\n",
    "\n",
    "reg.fit(Xp, y)\n",
    "\n",
    "reg.score(Xp, y)"
   ],
   "metadata": {
    "collapsed": false,
    "ExecuteTime": {
     "end_time": "2023-10-10T02:11:00.822242Z",
     "start_time": "2023-10-10T02:11:00.792036Z"
    }
   },
   "id": "d6553c03ff4b6200"
  },
  {
   "cell_type": "code",
   "execution_count": 210,
   "outputs": [
    {
     "name": "stderr",
     "output_type": "stream",
     "text": [
      "/Users/dragonnomada/Desktop/thincrs-machine-learning-2023-oct/venv/lib/python3.11/site-packages/sklearn/neural_network/_multilayer_perceptron.py:691: ConvergenceWarning: Stochastic Optimizer: Maximum iterations (200) reached and the optimization hasn't converged yet.\n",
      "  warnings.warn(\n"
     ]
    },
    {
     "data": {
      "text/plain": "0.25422259688898274"
     },
     "execution_count": 210,
     "metadata": {},
     "output_type": "execute_result"
    }
   ],
   "source": [
    "from sklearn.neural_network import MLPRegressor\n",
    "\n",
    "reg = MLPRegressor()\n",
    "\n",
    "reg.fit(X, y)\n",
    "\n",
    "reg.score(X, y)"
   ],
   "metadata": {
    "collapsed": false,
    "ExecuteTime": {
     "end_time": "2023-10-10T15:06:24.736667Z",
     "start_time": "2023-10-10T15:06:20.411736Z"
    }
   },
   "id": "dd645dd332797caf"
  },
  {
   "cell_type": "code",
   "execution_count": 214,
   "outputs": [
    {
     "data": {
      "text/plain": "array([1, 2, 3, ..., 2, 4, 2])"
     },
     "execution_count": 214,
     "metadata": {},
     "output_type": "execute_result"
    }
   ],
   "source": [
    "def quarter(yi):\n",
    "    if yi <= np.quantile(y, 0.25):\n",
    "        return 1\n",
    "    elif yi <= np.quantile(y, 0.50):\n",
    "        return 2\n",
    "    elif yi <= np.quantile(y, 0.75):\n",
    "        return 3\n",
    "    else:\n",
    "        return 4\n",
    "\n",
    "yp = pd.Series(y).map(quarter).values\n",
    "\n",
    "yp"
   ],
   "metadata": {
    "collapsed": false,
    "ExecuteTime": {
     "end_time": "2023-10-10T15:10:35.008216Z",
     "start_time": "2023-10-10T15:10:33.590507Z"
    }
   },
   "id": "c49fb91081e38cdc"
  },
  {
   "cell_type": "code",
   "execution_count": 215,
   "outputs": [
    {
     "data": {
      "text/plain": "0.4926818284170232"
     },
     "execution_count": 215,
     "metadata": {},
     "output_type": "execute_result"
    }
   ],
   "source": [
    "from sklearn.svm import SVC\n",
    "\n",
    "clf = SVC()\n",
    "\n",
    "clf.fit(X, yp)\n",
    "\n",
    "clf.score(X, yp)"
   ],
   "metadata": {
    "collapsed": false,
    "ExecuteTime": {
     "end_time": "2023-10-10T15:11:19.478819Z",
     "start_time": "2023-10-10T15:11:18.072268Z"
    }
   },
   "id": "73fb6048bec4d034"
  },
  {
   "cell_type": "code",
   "execution_count": 216,
   "outputs": [
    {
     "data": {
      "text/plain": "0.5172258500337762"
     },
     "execution_count": 216,
     "metadata": {},
     "output_type": "execute_result"
    }
   ],
   "source": [
    "from sklearn.neural_network import MLPClassifier\n",
    "\n",
    "clf = MLPClassifier()\n",
    "\n",
    "clf.fit(X, yp)\n",
    "\n",
    "clf.score(X, yp)"
   ],
   "metadata": {
    "collapsed": false,
    "ExecuteTime": {
     "end_time": "2023-10-10T15:11:52.053566Z",
     "start_time": "2023-10-10T15:11:51.761180Z"
    }
   },
   "id": "7f3f811f9cb25755"
  },
  {
   "cell_type": "code",
   "execution_count": 217,
   "outputs": [
    {
     "data": {
      "text/plain": "array([1, 2, 3, ..., 2, 4, 2])"
     },
     "execution_count": 217,
     "metadata": {},
     "output_type": "execute_result"
    }
   ],
   "source": [
    "def decile(yi):\n",
    "    i = 1\n",
    "    for d in [0.1, 0.2, 0.3, 0.4, 0.5, 0.6, 0.7, 0.8, 0.9, 1.0]:\n",
    "        if yi <= np.quantile(y, d):\n",
    "            return i\n",
    "        i += 1\n",
    "    return 10\n",
    "\n",
    "ypp = pd.Series(y).map(quarter).values\n",
    "\n",
    "ypp"
   ],
   "metadata": {
    "collapsed": false,
    "ExecuteTime": {
     "end_time": "2023-10-10T15:14:11.161176Z",
     "start_time": "2023-10-10T15:14:09.949718Z"
    }
   },
   "id": "2ea34cc90da27882"
  },
  {
   "cell_type": "code",
   "execution_count": 218,
   "outputs": [
    {
     "data": {
      "text/plain": "0.4926818284170232"
     },
     "execution_count": 218,
     "metadata": {},
     "output_type": "execute_result"
    }
   ],
   "source": [
    "from sklearn.svm import SVC\n",
    "\n",
    "clf = SVC()\n",
    "\n",
    "clf.fit(X, ypp)\n",
    "\n",
    "clf.score(X, ypp)"
   ],
   "metadata": {
    "collapsed": false,
    "ExecuteTime": {
     "end_time": "2023-10-10T15:14:28.505094Z",
     "start_time": "2023-10-10T15:14:26.738267Z"
    }
   },
   "id": "adaa3e2169564b29"
  },
  {
   "cell_type": "code",
   "execution_count": 219,
   "outputs": [
    {
     "data": {
      "text/plain": "0.5039405539292952"
     },
     "execution_count": 219,
     "metadata": {},
     "output_type": "execute_result"
    }
   ],
   "source": [
    "from sklearn.neural_network import MLPClassifier\n",
    "\n",
    "clf = MLPClassifier()\n",
    "\n",
    "clf.fit(X, ypp)\n",
    "\n",
    "clf.score(X, ypp)"
   ],
   "metadata": {
    "collapsed": false,
    "ExecuteTime": {
     "end_time": "2023-10-10T15:14:46.357193Z",
     "start_time": "2023-10-10T15:14:46.064681Z"
    }
   },
   "id": "8b43099d2dd3f904"
  }
 ],
 "metadata": {
  "kernelspec": {
   "display_name": "Python 3",
   "language": "python",
   "name": "python3"
  },
  "language_info": {
   "codemirror_mode": {
    "name": "ipython",
    "version": 2
   },
   "file_extension": ".py",
   "mimetype": "text/x-python",
   "name": "python",
   "nbconvert_exporter": "python",
   "pygments_lexer": "ipython2",
   "version": "2.7.6"
  }
 },
 "nbformat": 4,
 "nbformat_minor": 5
}
