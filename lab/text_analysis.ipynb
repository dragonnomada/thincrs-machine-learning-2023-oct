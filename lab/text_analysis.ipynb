{
 "cells": [
  {
   "cell_type": "markdown",
   "source": [
    "https://ai.stanford.edu/~amaas/data/sentiment/"
   ],
   "metadata": {
    "collapsed": false
   },
   "id": "4831e0fa37f41909"
  },
  {
   "cell_type": "code",
   "execution_count": 2,
   "id": "initial_id",
   "metadata": {
    "collapsed": true,
    "ExecuteTime": {
     "end_time": "2023-10-23T21:16:38.190376Z",
     "start_time": "2023-10-23T21:16:30.228636Z"
    }
   },
   "outputs": [
    {
     "name": "stdout",
     "output_type": "stream",
     "text": [
      "<class 'pandas.core.frame.DataFrame'>\n",
      "RangeIndex: 25000 entries, 0 to 24999\n",
      "Data columns (total 4 columns):\n",
      " #   Column     Non-Null Count  Dtype \n",
      "---  ------     --------------  ----- \n",
      " 0   ID         25000 non-null  int64 \n",
      " 1   RANK       25000 non-null  int64 \n",
      " 2   SENTIMENT  25000 non-null  bool  \n",
      " 3   CONTENT    25000 non-null  object\n",
      "dtypes: bool(1), int64(2), object(1)\n",
      "memory usage: 610.5+ KB\n",
      "None\n",
      "<class 'pandas.core.frame.DataFrame'>\n",
      "RangeIndex: 25000 entries, 0 to 24999\n",
      "Data columns (total 4 columns):\n",
      " #   Column     Non-Null Count  Dtype \n",
      "---  ------     --------------  ----- \n",
      " 0   ID         25000 non-null  int64 \n",
      " 1   RANK       25000 non-null  int64 \n",
      " 2   SENTIMENT  25000 non-null  bool  \n",
      " 3   CONTENT    25000 non-null  object\n",
      "dtypes: bool(1), int64(2), object(1)\n",
      "memory usage: 610.5+ KB\n",
      "None\n"
     ]
    }
   ],
   "source": [
    "import os\n",
    "\n",
    "train_pos = os.listdir(\"/Users/dragonnomada/Downloads/aclImdb/train/pos\")\n",
    "train_neg = os.listdir(\"/Users/dragonnomada/Downloads/aclImdb/train/neg\")\n",
    "test_pos = os.listdir(\"/Users/dragonnomada/Downloads/aclImdb/test/pos\")\n",
    "test_neg = os.listdir(\"/Users/dragonnomada/Downloads/aclImdb/test/neg\")\n",
    "\n",
    "train_ids = []\n",
    "train_ranks = []\n",
    "train_sentiments = []\n",
    "train_contents = []\n",
    "\n",
    "import re\n",
    "\n",
    "for filename in train_pos:\n",
    "    match = re.match(r\"(\\d+)\\_(\\d+)\", filename)\n",
    "    id = int(match.group(1))\n",
    "    rank = int(match.group(2))\n",
    "    train_ids.append(id)\n",
    "    train_ranks.append(rank)\n",
    "    train_sentiments.append(True)\n",
    "    with open(f\"/Users/dragonnomada/Downloads/aclImdb/train/pos/{filename}\", \"r\") as file:\n",
    "        content = file.read()\n",
    "        train_contents.append(content)\n",
    "    \n",
    "for filename in train_neg:\n",
    "    match = re.match(r\"(\\d+)\\_(\\d+)\", filename)\n",
    "    id = int(match.group(1))\n",
    "    rank = int(match.group(2))\n",
    "    train_ids.append(id)\n",
    "    train_ranks.append(rank)\n",
    "    train_sentiments.append(False)\n",
    "    with open(f\"/Users/dragonnomada/Downloads/aclImdb/train/neg/{filename}\", \"r\") as file:\n",
    "        content = file.read()\n",
    "        train_contents.append(content)\n",
    "\n",
    "test_ids = []\n",
    "test_ranks = []\n",
    "test_sentiments = []\n",
    "test_contents = []\n",
    "\n",
    "for filename in test_pos:\n",
    "    match = re.match(r\"(\\d+)\\_(\\d+)\", filename)\n",
    "    id = int(match.group(1))\n",
    "    rank = int(match.group(2))\n",
    "    test_ids.append(id)\n",
    "    test_ranks.append(rank)\n",
    "    test_sentiments.append(True)\n",
    "    with open(f\"/Users/dragonnomada/Downloads/aclImdb/test/pos/{filename}\", \"r\") as file:\n",
    "        content = file.read()\n",
    "        test_contents.append(content)\n",
    "    \n",
    "for filename in test_neg:\n",
    "    match = re.match(r\"(\\d+)\\_(\\d+)\", filename)\n",
    "    id = int(match.group(1))\n",
    "    rank = int(match.group(2))\n",
    "    test_ids.append(id)\n",
    "    test_ranks.append(rank)\n",
    "    test_sentiments.append(False)\n",
    "    with open(f\"/Users/dragonnomada/Downloads/aclImdb/test/neg/{filename}\", \"r\") as file:\n",
    "        content = file.read()\n",
    "        test_contents.append(content)\n",
    "    \n",
    "import pandas as pd\n",
    "    \n",
    "train_data = pd.DataFrame({\n",
    "    \"ID\": train_ids,\n",
    "    \"RANK\": train_ranks,\n",
    "    \"SENTIMENT\": train_sentiments,\n",
    "    \"CONTENT\": train_contents,\n",
    "})\n",
    "\n",
    "test_data = pd.DataFrame({\n",
    "    \"ID\": test_ids,\n",
    "    \"RANK\": test_ranks,\n",
    "    \"SENTIMENT\": test_sentiments,\n",
    "    \"CONTENT\": test_contents,\n",
    "})\n",
    "\n",
    "print(train_data.info())\n",
    "print(test_data.info())"
   ]
  },
  {
   "cell_type": "code",
   "execution_count": 6,
   "outputs": [
    {
     "data": {
      "text/plain": "          ID  RANK  SENTIMENT  \\\n3078    7853     9       True   \n16951   1751     2      False   \n7086   11836    10       True   \n15854   6827     4      False   \n12111   8528     7       True   \n\n                                                 CONTENT  \n3078   For animation buffs it's a must, but even gene...  \n16951  Watched on Hulu (far too many commercials!) so...  \n7086   This animated movie is a masterpiece! The narr...  \n15854  Dumb is as dumb does, in this thoroughly unint...  \n12111  I like Peter Sellers, most of the time. I had ...  ",
      "text/html": "<div>\n<style scoped>\n    .dataframe tbody tr th:only-of-type {\n        vertical-align: middle;\n    }\n\n    .dataframe tbody tr th {\n        vertical-align: top;\n    }\n\n    .dataframe thead th {\n        text-align: right;\n    }\n</style>\n<table border=\"1\" class=\"dataframe\">\n  <thead>\n    <tr style=\"text-align: right;\">\n      <th></th>\n      <th>ID</th>\n      <th>RANK</th>\n      <th>SENTIMENT</th>\n      <th>CONTENT</th>\n    </tr>\n  </thead>\n  <tbody>\n    <tr>\n      <th>3078</th>\n      <td>7853</td>\n      <td>9</td>\n      <td>True</td>\n      <td>For animation buffs it's a must, but even gene...</td>\n    </tr>\n    <tr>\n      <th>16951</th>\n      <td>1751</td>\n      <td>2</td>\n      <td>False</td>\n      <td>Watched on Hulu (far too many commercials!) so...</td>\n    </tr>\n    <tr>\n      <th>7086</th>\n      <td>11836</td>\n      <td>10</td>\n      <td>True</td>\n      <td>This animated movie is a masterpiece! The narr...</td>\n    </tr>\n    <tr>\n      <th>15854</th>\n      <td>6827</td>\n      <td>4</td>\n      <td>False</td>\n      <td>Dumb is as dumb does, in this thoroughly unint...</td>\n    </tr>\n    <tr>\n      <th>12111</th>\n      <td>8528</td>\n      <td>7</td>\n      <td>True</td>\n      <td>I like Peter Sellers, most of the time. I had ...</td>\n    </tr>\n  </tbody>\n</table>\n</div>"
     },
     "execution_count": 6,
     "metadata": {},
     "output_type": "execute_result"
    }
   ],
   "source": [
    "train_data.sample(5)"
   ],
   "metadata": {
    "collapsed": false,
    "ExecuteTime": {
     "end_time": "2023-10-23T21:17:30.984293Z",
     "start_time": "2023-10-23T21:17:30.981533Z"
    }
   },
   "id": "a448db7e3ed7b02b"
  },
  {
   "cell_type": "code",
   "execution_count": 7,
   "outputs": [
    {
     "data": {
      "text/plain": "{'hello': 1,\n 'world': 6,\n 'this': 5,\n 'is': 2,\n 'sample': 3,\n 'text': 4,\n 'another': 0}"
     },
     "execution_count": 7,
     "metadata": {},
     "output_type": "execute_result"
    }
   ],
   "source": [
    "from sklearn.feature_extraction.text import CountVectorizer\n",
    "\n",
    "texts = [\"Hello world\", \"This is a sample text\", \"Is this another text?\"]\n",
    "\n",
    "vectorizer = CountVectorizer()\n",
    "\n",
    "vectorizer.fit(texts)\n",
    "\n",
    "vectorizer.vocabulary_"
   ],
   "metadata": {
    "collapsed": false,
    "ExecuteTime": {
     "end_time": "2023-10-23T21:23:44.945686Z",
     "start_time": "2023-10-23T21:23:42.869191Z"
    }
   },
   "id": "d124f97a4445d944"
  },
  {
   "cell_type": "code",
   "execution_count": 9,
   "outputs": [
    {
     "data": {
      "text/plain": "array([[1, 0, 1, 0, 1, 1, 0],\n       [0, 1, 1, 0, 0, 0, 1]])"
     },
     "execution_count": 9,
     "metadata": {},
     "output_type": "execute_result"
    }
   ],
   "source": [
    "vectorizer.transform([\"This is another text\", \"World is hello\"]).toarray()"
   ],
   "metadata": {
    "collapsed": false,
    "ExecuteTime": {
     "end_time": "2023-10-23T21:25:10.371249Z",
     "start_time": "2023-10-23T21:25:10.369141Z"
    }
   },
   "id": "1d46936618055140"
  },
  {
   "cell_type": "code",
   "execution_count": 10,
   "outputs": [
    {
     "data": {
      "text/plain": "{'for': 25450,\n 'movie': 44147,\n 'that': 66322,\n 'gets': 27312,\n 'no': 45805,\n 'respect': 55262,\n 'there': 66432,\n 'sure': 64589,\n 'are': 4124,\n 'lot': 39486,\n 'of': 46680,\n 'memorable': 42134,\n 'quotes': 53071,\n 'listed': 38985,\n 'this': 66562,\n 'gem': 27073,\n 'imagine': 32667,\n 'where': 72757,\n 'joe': 35415,\n 'piscopo': 50102,\n 'is': 34585,\n 'actually': 1670,\n 'funny': 26385,\n 'maureen': 41471,\n 'stapleton': 62846,\n 'scene': 57873,\n 'stealer': 63002,\n 'the': 66339,\n 'moroni': 43900,\n 'character': 11615,\n 'an': 3167,\n 'absolute': 1316,\n 'scream': 58249,\n 'watch': 72246,\n 'alan': 2464,\n 'skipper': 60644,\n 'hale': 29499,\n 'jr': 35627,\n 'as': 4465,\n 'police': 50646,\n 'sgt': 59148,\n 'bizarre': 7518,\n 'horror': 31685,\n 'filled': 24523,\n 'with': 73342,\n 'famous': 23697,\n 'faces': 23493,\n 'but': 9881,\n 'stolen': 63334,\n 'by': 9962,\n 'cristina': 15604,\n 'raines': 53293,\n 'later': 37864,\n 'tv': 68685,\n 'flamingo': 24887,\n 'road': 56050,\n 'pretty': 51594,\n 'somewhat': 61646,\n 'unstable': 70164,\n 'model': 43376,\n 'gummy': 29113,\n 'smile': 61092,\n 'who': 72904,\n 'slated': 60757,\n 'to': 67125,\n 'pay': 48834,\n 'her': 30646,\n 'attempted': 4874,\n 'suicides': 64225,\n 'guarding': 28965,\n 'gateway': 26916,\n 'hell': 30505,\n 'scenes': 57878,\n 'modeling': 43378,\n 'very': 71159,\n 'well': 72557,\n 'captured': 10581,\n 'mood': 43730,\n 'music': 44529,\n 'perfect': 49221,\n 'deborah': 16851,\n 'raffin': 53209,\n 'charming': 11698,\n 'pal': 48092,\n 'when': 72753,\n 'moves': 44146,\n 'into': 34255,\n 'creepy': 15488,\n 'brooklyn': 9278,\n 'heights': 30456,\n 'brownstone': 9326,\n 'inhabited': 33632,\n 'blind': 7774,\n 'priest': 51652,\n 'on': 46916,\n 'top': 67361,\n 'floor': 25137,\n 'things': 66524,\n 'really': 53839,\n 'start': 62902,\n 'cooking': 14691,\n 'neighbors': 45271,\n 'including': 33138,\n 'fantastically': 23768,\n 'wicked': 72977,\n 'burgess': 9728,\n 'meredith': 42279,\n 'and': 3258,\n 'kinky': 36663,\n 'couple': 15136,\n 'sylvia': 65040,\n 'miles': 42732,\n 'beverly': 7125,\n 'angelo': 3354,\n 'diabolical': 18174,\n 'eli': 21303,\n 'wallach': 72008,\n 'great': 28545,\n 'fun': 26333,\n 'wily': 73143,\n 'detective': 17949,\n 'nearly': 45141,\n 'cross': 15705,\n 'pollination': 50699,\n 'rosemary': 56449,\n 'baby': 5400,\n 'exorcist': 23099,\n 'what': 72703,\n 'combination': 13464,\n 'based': 6117,\n 'best': 7045,\n 'seller': 58717,\n 'jeffrey': 35139,\n 'konvitz': 37020,\n 'sentinel': 58867,\n 'entertainingly': 22057,\n 'spooky': 62406,\n 'full': 26307,\n 'shocks': 59733,\n 'brought': 9307,\n 'off': 46684,\n 'director': 18577,\n 'michael': 42541,\n 'winner': 73230,\n 'mounts': 44103,\n 'thoughtfully': 66623,\n 'downbeat': 19855,\n 'ending': 21795,\n 'skill': 60604,\n 'from': 26180,\n 'solid': 61563,\n 'if': 32517,\n 'unremarkable': 70063,\n 'film': 24536,\n 'matthau': 41429,\n 'einstein': 21144,\n 'was': 72196,\n 'wonderful': 73496,\n 'my': 44639,\n 'favorite': 24001,\n 'part': 48525,\n 'only': 46957,\n 'thing': 66518,\n 'would': 73714,\n 'make': 40421,\n 'me': 41798,\n 'go': 27863,\n 'out': 47449,\n 'way': 72339,\n 'see': 58585,\n 'again': 2148,\n 'physicists': 49794,\n 'playing': 50328,\n 'badmitton': 5539,\n 'loved': 39570,\n 'sweaters': 64859,\n 'conversation': 14629,\n 'while': 72784,\n 'they': 66474,\n 'waited': 71946,\n 'robbins': 56099,\n 'retrieve': 55440,\n 'birdie': 7432,\n 'it': 34683,\n 'strange': 63495,\n 'feeling': 24125,\n 'sit': 60478,\n 'alone': 2779,\n 'in': 33004,\n 'theater': 66343,\n 'occupied': 46587,\n 'parents': 48437,\n 'their': 66367,\n 'rollicking': 56287,\n 'kids': 36529,\n 'felt': 24199,\n 'like': 38755,\n 'instead': 33891,\n 'ticket': 66825,\n 'should': 59848,\n 'have': 30118,\n 'been': 6543,\n 'given': 27619,\n 'nambla': 44847,\n 'membership': 42125,\n 'br': 8724,\n 'upon': 70377,\n 'thomas': 66577,\n 'rockwell': 56180,\n 'respected': 55266,\n 'book': 8377,\n 'how': 31858,\n 'eat': 20796,\n 'fried': 26087,\n 'worms': 73668,\n 'starts': 62913,\n 'any': 3703,\n 'children': 12053,\n 'story': 63422,\n 'moving': 44172,\n 'new': 45440,\n 'town': 67594,\n 'kid': 36505,\n 'fifth': 24466,\n 'grader': 28335,\n 'billy': 7356,\n 'forrester': 25632,\n 'once': 46921,\n 'popular': 50852,\n 'has': 29999,\n 'anew': 3334,\n 'making': 40441,\n 'friends': 26104,\n 'never': 45429,\n 'easy': 20793,\n 'especially': 22482,\n 'prospect': 52128,\n 'poindexter': 50577,\n 'adam': 1692,\n 'or': 47142,\n 'erica': 22328,\n 'at': 4753,\n 'feet': 24131,\n 'giant': 27406,\n 'further': 26422,\n 'complicating': 13800,\n 'bully': 9630,\n 'his': 31095,\n 'freckled': 25950,\n 'face': 23484,\n 'sleeveless': 60831,\n 'shirts': 59684,\n 'daunting': 16655,\n 'he': 30211,\n 'antagonizes': 3566,\n 'death': 16805,\n 'ring': 55881,\n 'crackerjack': 15277,\n 'rumored': 56787,\n 'kill': 36560,\n 'you': 74324,\n 're': 53749,\n 'punched': 52533,\n 'not': 46050,\n 'immediately': 32729,\n 'unleashes': 69830,\n 'poison': 50598,\n 'kills': 36574,\n 'eight': 21124,\n 'grade': 28333,\n 'axis': 5298,\n 'evil': 22793,\n 'welcome': 72544,\n 'smuggling': 61170,\n 'handful': 29665,\n 'slimy': 60881,\n 'thermos': 66452,\n 'discovered': 18760,\n 'plays': 50337,\n 'cool': 14695,\n 'swearing': 64852,\n 'eats': 20804,\n 'all': 2662,\n 'time': 66925,\n 'then': 66390,\n 'throws': 66716,\n 'them': 66376,\n 'ewww': 22848,\n 'win': 73157,\n 'over': 47612,\n 'reluctantly': 54733,\n 'bets': 7089,\n 'can': 10357,\n '10': 39,\n 'boiled': 8174,\n 'marinated': 40973,\n 'hot': 31769,\n 'sauce': 57629,\n 'squashed': 62571,\n 'spread': 62472,\n 'peanut': 48907,\n 'butter': 9902,\n 'sandwich': 57384,\n 'each': 20694,\n 'meal': 41810,\n 'dubbed': 20280,\n 'exotic': 23102,\n 'name': 44849,\n 'radioactive': 53183,\n 'slime': 60874,\n 'delight': 17333,\n 'which': 72773,\n 'finally': 24616,\n 'live': 39056,\n 'dream': 20040,\n 'microwaving': 42602,\n 'living': 39079,\n 'organism': 47234,\n 've': 70920,\n 'ever': 22737,\n 'met': 42396,\n 'll': 39101,\n 'know': 36915,\n 'uncontrollably': 69235,\n 'hearty': 30328,\n 'laugh': 37918,\n 'creep': 15474,\n 'erupting': 22402,\n 'toddler': 67156,\n 'whining': 72805,\n 'dilly': 18440,\n 'dick': 18255,\n 'hurts': 32193,\n 'wonderfully': 73498,\n 'disgusting': 18840,\n 'rated': 53596,\n 'farrelly': 23861,\n 'brothers': 9304,\n 'both': 8583,\n 'vomitous': 71736,\n 'delightful': 17335,\n 'writer': 73829,\n 'bob': 8053,\n 'dolman': 19506,\n 'also': 2821,\n 'savvy': 57692,\n 'storyteller': 63437,\n 'raise': 53309,\n 'stakes': 62740,\n 'must': 44560,\n 'be': 6334,\n 'consumed': 14413,\n 'pm': 50510,\n 'addition': 1732,\n 'holds': 31307,\n 'dark': 16541,\n 'secret': 58522,\n 'ultra': 68965,\n 'sensitive': 58828,\n 'stomach': 63341,\n 'keen': 36247,\n 'sense': 58812,\n 'perspective': 49413,\n 'such': 64115,\n 'accuracy': 1497,\n 'draws': 20026,\n 'insecurities': 33798,\n 'tendency': 66021,\n 'exaggerate': 22860,\n 'mundane': 44421,\n 'dilemmas': 18424,\n 'were': 72601,\n 'hyperbolize': 32289,\n 'do': 19326,\n 'quandaries': 52860,\n 'will': 73091,\n 'essentially': 22524,\n 'about': 1277,\n 'war': 72098,\n 'freedom': 25973,\n 'fighter': 24479,\n 'hater': 30060,\n 'use': 70505,\n 'pubescent': 52404,\n 'boys': 8714,\n 'pawns': 48826,\n 'proxy': 52258,\n 'wars': 72184,\n 'learn': 38118,\n 'valuable': 70730,\n 'lesson': 38458,\n 'unity': 69787,\n 'international': 34143,\n 'leaders': 38084,\n 'two': 68769,\n 'global': 27768,\n 'peacekeeping': 48887,\n 'end': 21770,\n 'comforted': 13514,\n 'chaperoning': 11593,\n 'mothers': 44022,\n 'behind': 6648,\n 'looked': 39367,\n 'other': 47407,\n 'befuddlement': 6590,\n 'agreed': 2241,\n 'now': 46152,\n 'won': 73491,\n 'register': 54454,\n 'myself': 44671,\n 'lawful': 38000,\n 'databases': 16631,\n 'probably': 51773,\n 'already': 2814,\n 'additional': 1733,\n 'episodes': 22219,\n 'aired': 2349,\n 'viewed': 71333,\n 'abc': 1173,\n 'com': 13449,\n 'watched': 72253,\n 'television': 65937,\n 'years': 74158,\n 'possibly': 51012,\n 'show': 59873,\n 'crime': 15540,\n 'beautifully': 6444,\n 'written': 73840,\n 'acted': 1617,\n 'canceled': 10369,\n 'actors': 1657,\n 'played': 50315,\n 'laura': 37955,\n 'whit': 72849,\n 'carlos': 10709,\n 'mae': 40215,\n 'damian': 16378,\n 'anya': 3704,\n 'omg': 46895,\n 'steven': 63170,\n 'caseman': 10899,\n 'incredible': 33223,\n 'so': 61380,\n 'natural': 45025,\n 'those': 66615,\n 'roles': 56270,\n 'even': 22718,\n 'sad': 57047,\n 'gone': 28048,\n 'course': 15153,\n 'wonder': 73492,\n 'reasons': 53888,\n 'let': 38466,\n 'believe': 6720,\n 'ms': 44212,\n 'moynahan': 44190,\n 'pregnancy': 51397,\n 'had': 29369,\n 'anything': 3718,\n 'slot': 60950,\n 'market': 41015,\n 'hope': 31595,\n 'come': 13485,\n 'dvd': 20584,\n 'some': 61617,\n 'day': 16697,\n 'thanks': 66312,\n 'reading': 53787,\n 'saw': 57693,\n 'grown': 28871,\n 'although': 2861,\n 'clever': 12803,\n 'shrek': 59917,\n 'thought': 66621,\n 'rather': 53602,\n 'good': 28068,\n 'theatre': 66346,\n 'surrounded': 64667,\n 'spring': 62483,\n 'break': 8911,\n 'sound': 61831,\n 'liked': 38759,\n 'seemed': 58607,\n 'engaged': 21857,\n 'apparent': 3840,\n 'characters': 11635,\n 'appropriate': 3957,\n 'gasps': 26898,\n 'comments': 13585,\n 'hopefully': 31598,\n 'people': 49147,\n 'realize': 53831,\n 'made': 40170,\n 'successful': 64092,\n 'too': 67324,\n 'personally': 49395,\n 'scrat': 58236,\n 'using': 70525,\n 'imdb': 32698,\n 'hefty': 30433,\n 'votes': 71763,\n 'your': 74349,\n 'favourite': 24012,\n 'films': 24581,\n 'something': 61638,\n 'enjoy': 21922,\n 'doing': 19472,\n 'because': 6459,\n 'fifty': 24471,\n 'seconds': 58517,\n 'one': 46932,\n 'world': 73651,\n 'ends': 21816,\n 'another': 3538,\n 'begins': 6613,\n 'ten': 66008,\n 'give': 27616,\n 'seven': 59062,\n 'exactly': 22857,\n 'could': 15056,\n 'first': 24750,\n 'better': 7095,\n 'record': 54116,\n 'long': 39320,\n 'still': 63226,\n 'opening': 47033,\n 'shot': 59838,\n 'showmanship': 59897,\n 'superb': 64397,\n 'innovation': 33739,\n 'perfectly': 49228,\n 'suited': 64235,\n 'situation': 60495,\n 'dog': 19431,\n 'bike': 7299,\n 'lovely': 39585,\n 'touch': 67529,\n 'within': 73361,\n 'word': 73599,\n 'genius': 27147,\n 'often': 46741,\n 'overused': 47859,\n 'powerful': 51151,\n 'message': 42369,\n 'love': 39562,\n 'redemption': 54207,\n 'transformation': 67799,\n 'brother': 9300,\n 'repercussions': 54967,\n 'horrible': 31669,\n 'disease': 18803,\n 'family': 23690,\n 'directed': 18564,\n 'flaws': 24983,\n 'say': 57715,\n 'showed': 59883,\n 'typical': 68811,\n 'suburban': 64064,\n 'difficulties': 18349,\n 'cultural': 15973,\n 'backgrounds': 5455,\n 'these': 66458,\n 'cultures': 15979,\n 'shown': 59898,\n 'real': 53809,\n 'life': 38683,\n 'nevertheless': 45437,\n 'soared': 61396,\n 'terms': 66136,\n 'its': 34721,\n 'values': 70736,\n 'understanding': 69393,\n 'bring': 9127,\n 'someone': 61624,\n 'closer': 12935,\n 'maker': 40429,\n 'tears': 65783,\n 'eyes': 23427,\n 'after': 2121,\n 'quartet': 52894,\n 'trio': 68192,\n 'continued': 14517,\n 'quality': 52855,\n 'earlier': 20724,\n 'versions': 71138,\n 'short': 59806,\n 'stories': 63405,\n 'maugham': 41459,\n 'here': 30670,\n 'three': 66658,\n 'verger': 71085,\n 'mr': 44205,\n 'sanitorium': 57415,\n 'comic': 13518,\n 'prolonged': 51981,\n 'joke': 35477,\n 'last': 37840,\n 'more': 43838,\n 'serious': 58973,\n 'health': 30269,\n 'issues': 34674,\n 'involved': 34428,\n 'author': 5067,\n 'introduces': 34294,\n 'james': 34916,\n 'hayter': 30178,\n 'soon': 61706,\n 'signature': 60178,\n 'role': 56269,\n 'samuel': 57319,\n 'pickwick': 49853,\n 'hero': 30717,\n 'small': 61038,\n 'custodial': 16110,\n 'type': 68799,\n 'job': 35385,\n 'church': 12367,\n 'vicar': 71229,\n 'hordern': 31627,\n 'intellectual': 33985,\n 'snob': 61301,\n 'hears': 30293,\n 'schooling': 58039,\n 'fires': 24728,\n 'him': 31002,\n 'saved': 57669,\n 'money': 43572,\n 'tells': 65953,\n 'wife': 73028,\n 'kathleen': 36137,\n 'harrison': 29957,\n 'fancies': 23715,\n 'buying': 9932,\n 'news': 45475,\n 'tobacco': 67137,\n 'shop': 59785,\n 'eye': 23406,\n 'store': 63396,\n 'thrives': 66682,\n 'whole': 72911,\n 'chain': 11448,\n 'stores': 63401,\n 'grandchild': 28389,\n 'christened': 12266,\n 'latter': 37895,\n 'amazed': 2950,\n 'prosperous': 52139,\n 'ex': 22850,\n 'payoff': 48854,\n 'bank': 5843,\n 'manager': 40597,\n 'felix': 24176,\n 'aylmer': 5315,\n 'meets': 41979,\n 'diversifying': 19240,\n 'investments': 34386,\n 'leave': 38145,\n 'hear': 30280,\n 'unintentional': 69756,\n 'ironic': 34510,\n 'coda': 13154,\n 'meeting': 41977,\n 'according': 1468,\n 'man': 40591,\n 'max': 41491,\n 'kelada': 36288,\n 'nigel': 45629,\n 'patrick': 48737,\n 'cruise': 15792,\n 'splashy': 62306,\n 'friendly': 26103,\n 'slightly': 60871,\n 'overbearing': 47629,\n 'middle': 42610,\n 'east': 20777,\n 'business': 9847,\n 'trip': 68195,\n 'regarding': 54425,\n 'jewelry': 35276,\n 'steamship': 63022,\n 'state': 62927,\n 'room': 56383,\n 'mate': 41342,\n 'grey': 28639,\n 'quiet': 52992,\n 'proper': 52064,\n 'wilfred': 73078,\n 'hyde': 32251,\n 'white': 72852,\n 'silently': 60227,\n 'disapproving': 18650,\n 'likes': 38769,\n 'enliven': 21947,\n 'heavily': 30357,\n 'ship': 59641,\n 'entertainment': 22058,\n 'point': 50578,\n 'resembles': 55155,\n 'plot': 50428,\n 'non': 45890,\n 'china': 12089,\n 'seas': 58459,\n '1935': 332,\n 'makes': 40431,\n 'bet': 7064,\n 'tell': 65944,\n 'piece': 49884,\n 'fake': 23605,\n 'insisting': 33843,\n 'spotted': 62445,\n 'describe': 17779,\n 'rises': 55951,\n 'occasion': 46561,\n 'longest': 39326,\n 'segment': 58635,\n 'roland': 56265,\n 'culver': 15981,\n 'ashenden': 4503,\n 'fictional': 24407,\n 'alter': 2833,\n 'ego': 21077,\n 'spy': 62545,\n 'hitchcock': 31125,\n 'agent': 2164,\n 'months': 43705,\n 'finds': 24635,\n 'remarkable': 54754,\n 'crew': 15517,\n 'jean': 35099,\n 'simmons': 60295,\n 'frail': 25793,\n 'beautiful': 6440,\n 'young': 74334,\n 'woman': 73473,\n 'finlay': 24676,\n 'currie': 16060,\n 'irascible': 34480,\n 'scotsman': 58188,\n 'john': 35445,\n 'laurie': 37972,\n 'second': 58513,\n 'raymond': 53717,\n 'huntley': 32149,\n 'patient': 48714,\n 'shows': 59901,\n 'internal': 34136,\n 'anger': 3362,\n 'up': 70331,\n 'rennie': 54881,\n 'threatening': 66654,\n 'illness': 32606,\n 'watches': 72256,\n 'among': 3093,\n 'play': 50310,\n 'conclusions': 13966,\n 'dealing': 16778,\n 'deeply': 17069,\n 'dandy': 16438,\n 'follow': 25353,\n 'worth': 73702,\n 'watching': 72259,\n 'mature': 41447,\n 'admit': 1833,\n 'shed': 59441,\n 'tear': 65773,\n 'response': 55286,\n 'need': 45203,\n 'perhaps': 49254,\n 'same': 57283,\n 'viewing': 71337,\n 'advent': 1933,\n 'moved': 44136,\n 'us': 70492,\n 'next': 45507,\n 'level': 38507,\n 'aileen': 2312,\n 'gonsalves': 28057,\n 'girlfriend': 27568,\n 'secretary': 58525,\n 'main': 40365,\n 'she': 59426,\n 'roshan': 56472,\n 'seth': 59030,\n 'restaurant': 55307,\n 'information': 33565,\n 'website': 72429,\n 'having': 30131,\n 'stated': 62928,\n 'personal': 49390,\n 'interest': 34075,\n 'think': 66526,\n 'filmed': 24552,\n 'jonathan': 35505,\n 'demme': 17439,\n 'directorial': 18579,\n 'debut': 16868,\n 'roger': 56236,\n 'corman': 14838,\n 'legendary': 38234,\n 'exploitation': 23208,\n 'outfit': 47485,\n 'pictures': 49867,\n 'rates': 53599,\n 'highly': 30923,\n 'finest': 24648,\n 'chicks': 12013,\n 'chains': 11453,\n '70': 860,\n 'grindhouse': 28716,\n 'classics': 12682,\n 'grace': 28314,\n 'celluloid': 11297,\n 'beauteous': 6436,\n 'russ': 56843,\n 'meyer': 42499,\n 'starlet': 62880,\n 'eric': 22327,\n 'vixen': 71626,\n 'beyond': 7145,\n 'valley': 70717,\n 'dolls': 19502,\n 'gavin': 26961,\n 'gives': 27622,\n 'robust': 56140,\n 'winning': 73233,\n 'performance': 49241,\n 'brassy': 8852,\n 'resilient': 55209,\n 'fish': 24758,\n 'does': 19421,\n 'persevere': 49366,\n 'grimy': 28706,\n 'hellish': 30523,\n 'penitentiary': 49100,\n 'always': 2893,\n 'fabulous': 23479,\n 'barbara': 5916,\n 'steele': 63036,\n 'offers': 46707,\n 'deliciously': 17331,\n 'portrayal': 50947,\n 'mean': 41813,\n 'crippled': 15576,\n 'sexually': 59130,\n 'frustrated': 26226,\n 'warden': 72108,\n 'erotic': 22369,\n 'slow': 60971,\n 'steamy': 63023,\n 'striptease': 63664,\n 'front': 26183,\n 'lady': 37468,\n 'inmates': 33705,\n 'longtime': 39352,\n 'actress': 1660,\n 'roberta': 56107,\n 'arousers': 4302,\n 'unholy': 69694,\n 'rollers': 56286,\n 'collins': 13358,\n 'delivers': 17360,\n 'hilariously': 30962,\n 'raunchy': 53650,\n 'endearing': 21777,\n 'turn': 68612,\n 'cheerfully': 11841,\n 'forward': 25681,\n 'foul': 25708,\n 'mouthed': 44125,\n 'kleptomaniac': 36803,\n 'felon': 24195,\n 'gut': 29213,\n 'busting': 9871,\n 'dirty': 18605,\n 'pinnochio': 50039,\n 'lynda': 39945,\n 'gold': 27980,\n 'crystin': 15864,\n 'sinclaire': 60357,\n 'tobe': 67139,\n 'hooper': 31568,\n 'eaten': 20797,\n 'alive': 2656,\n 'curtis': 16079,\n 'harrington': 29955,\n 'ruby': 56696,\n 'lively': 39063,\n 'uninhibited': 69741,\n 'wildcat': 73054,\n 'crazy': 15413,\n 'alice': 2619,\n 'cuddly': 15921,\n 'cheryl': 11935,\n 'rainbeaux': 53284,\n 'smith': 61111,\n 'touching': 67534,\n 'reprise': 55063,\n 'fragile': 25782,\n 'frightened': 26115,\n 'innocent': 33729,\n 'lemora': 38334,\n 'child': 12040,\n 'tale': 65365,\n 'supernatural': 64467,\n 'picture': 49865,\n 'deliver': 17351,\n 'expected': 23130,\n 'ample': 3126,\n 'amount': 3107,\n 'coarse': 13068,\n 'language': 37697,\n 'nudity': 46209,\n 'rape': 53500,\n 'violence': 71466,\n 'means': 41840,\n 'typically': 68812,\n 'crass': 15371,\n 'sexist': 59109,\n 'lurid': 39849,\n 'mindless': 42861,\n 'filth': 24597,\n 'effectively': 21018,\n 'explores': 23229,\n 'many': 40829,\n 'ways': 72352,\n 'men': 42153,\n 'cruelly': 15787,\n 'exploit': 23207,\n 'women': 73487,\n 'strongly': 63703,\n 'asserts': 4617,\n 'pro': 51766,\n 'feminist': 24209,\n 'notion': 46090,\n 'overcome': 47645,\n 'obstacles': 46523,\n 'band': 5796,\n 'together': 67175,\n 'group': 28847,\n 'bravely': 8871,\n 'misogynistic': 43155,\n 'oppressors': 47108,\n 'mighty': 42662,\n 'fighting': 24483,\n 'force': 25463,\n 'zesty': 74616,\n 'confidant': 14075,\n 'direction': 18568,\n 'comes': 13508,\n 'through': 66699,\n 'glorious': 27798,\n 'abundance': 1355,\n 'astutely': 4744,\n 'observed': 46504,\n 'incidental': 33108,\n 'details': 17938,\n 'moments': 43531,\n 'engagingly': 21862,\n 'quirky': 53037,\n 'human': 32021,\n 'behavior': 6633,\n 'furthermore': 26426,\n 'tak': 65322,\n 'fujimoto': 26292,\n 'vibrant': 71218,\n 'cinematography': 12480,\n 'cale': 10165,\n 'marvelously': 41169,\n 'dolorous': 19509,\n 'oddball': 46635,\n 'blues': 7962,\n 'score': 58161,\n '100': 40,\n 'excellent': 22912,\n 'wright': 73806,\n 'sheriff': 59536,\n 'mack': 40095,\n 'uproariously': 70393,\n 'awful': 5266,\n 'cheap': 11782,\n 'rubber': 56671,\n 'monster': 43658,\n 'suit': 64229,\n 'creature': 15443,\n 'feature': 24077,\n 'howler': 31874,\n 'track': 67650,\n 'moonbeast': 43744,\n 'sidesplitting': 60112,\n 'bit': 7485,\n 'jerky': 35219,\n 'cop': 14738,\n 'car': 10589,\n 'prison': 51725,\n 'escapees': 22427,\n 'stops': 63392,\n 'gas': 26879,\n 'station': 62944,\n 'bathroom': 6222,\n 'rousing': 56582,\n ...}"
     },
     "execution_count": 10,
     "metadata": {},
     "output_type": "execute_result"
    }
   ],
   "source": [
    "from sklearn.feature_extraction.text import CountVectorizer\n",
    "\n",
    "vectorizer = CountVectorizer()\n",
    "\n",
    "vectorizer.fit(train_data[\"CONTENT\"])\n",
    "\n",
    "vectorizer.vocabulary_"
   ],
   "metadata": {
    "collapsed": false,
    "ExecuteTime": {
     "end_time": "2023-10-23T21:27:37.548521Z",
     "start_time": "2023-10-23T21:27:33.615766Z"
    }
   },
   "id": "4555283dd0ab86d6"
  },
  {
   "cell_type": "code",
   "execution_count": 13,
   "outputs": [
    {
     "data": {
      "text/plain": "((25000, 74849), (25000, 74849))"
     },
     "execution_count": 13,
     "metadata": {},
     "output_type": "execute_result"
    }
   ],
   "source": [
    "X_train = vectorizer.transform(train_data[\"CONTENT\"])\n",
    "X_test = vectorizer.transform(test_data[\"CONTENT\"])\n",
    "\n",
    "X_train.shape, X_test.shape"
   ],
   "metadata": {
    "collapsed": false,
    "ExecuteTime": {
     "end_time": "2023-10-23T21:30:19.818270Z",
     "start_time": "2023-10-23T21:30:13.753562Z"
    }
   },
   "id": "a65f150eabec6876"
  },
  {
   "cell_type": "code",
   "execution_count": 14,
   "outputs": [
    {
     "data": {
      "text/plain": "((25000,), (25000,))"
     },
     "execution_count": 14,
     "metadata": {},
     "output_type": "execute_result"
    }
   ],
   "source": [
    "y_train = train_data[\"SENTIMENT\"]\n",
    "y_test = test_data[\"SENTIMENT\"]\n",
    "\n",
    "y_train.shape, y_test.shape"
   ],
   "metadata": {
    "collapsed": false,
    "ExecuteTime": {
     "end_time": "2023-10-23T21:30:49.480368Z",
     "start_time": "2023-10-23T21:30:49.447749Z"
    }
   },
   "id": "40e257f38e6d8b3e"
  },
  {
   "cell_type": "code",
   "execution_count": 15,
   "outputs": [
    {
     "data": {
      "text/plain": "0.81356"
     },
     "execution_count": 15,
     "metadata": {},
     "output_type": "execute_result"
    }
   ],
   "source": [
    "from sklearn.naive_bayes import MultinomialNB\n",
    "\n",
    "clf = MultinomialNB()\n",
    "\n",
    "clf.fit(X_train, y_train)\n",
    "\n",
    "clf.score(X_test, y_test)"
   ],
   "metadata": {
    "collapsed": false,
    "ExecuteTime": {
     "end_time": "2023-10-23T21:31:00.790516Z",
     "start_time": "2023-10-23T21:31:00.536766Z"
    }
   },
   "id": "4796f0be67b8ce81"
  },
  {
   "cell_type": "code",
   "execution_count": 17,
   "outputs": [
    {
     "data": {
      "text/plain": "array([False,  True, False])"
     },
     "execution_count": 17,
     "metadata": {},
     "output_type": "execute_result"
    }
   ],
   "source": [
    "X_samples = vectorizer.transform([\n",
    "    \"This movie is not very good\",\n",
    "    \"This movie is amazing\",\n",
    "    \"The intro is good, but in general is boring\",\n",
    "])\n",
    "\n",
    "y_predict = clf.predict(X_samples)\n",
    "\n",
    "y_predict"
   ],
   "metadata": {
    "collapsed": false,
    "ExecuteTime": {
     "end_time": "2023-10-23T21:32:19.627333Z",
     "start_time": "2023-10-23T21:32:19.620971Z"
    }
   },
   "id": "12283a8bdef35e82"
  }
 ],
 "metadata": {
  "kernelspec": {
   "display_name": "Python 3",
   "language": "python",
   "name": "python3"
  },
  "language_info": {
   "codemirror_mode": {
    "name": "ipython",
    "version": 2
   },
   "file_extension": ".py",
   "mimetype": "text/x-python",
   "name": "python",
   "nbconvert_exporter": "python",
   "pygments_lexer": "ipython2",
   "version": "2.7.6"
  }
 },
 "nbformat": 4,
 "nbformat_minor": 5
}
