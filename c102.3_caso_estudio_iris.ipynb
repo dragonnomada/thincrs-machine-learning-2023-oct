{
 "cells": [
  {
   "cell_type": "markdown",
   "source": [
    "# Caso de Estudio: Clasificación de la Planta Iris\n",
    "\n",
    "[Alan Badillo Salas](mailto:alan@nomadacode.com)\n",
    "\n",
    "Etapas de Machine Learning:\n",
    "\n",
    "1. Adquicisión de los datos (desde un CSV con `pandas`)\n",
    "2. Inspección de los datos (ver muestras aleatorias, valores únicos, visualización, etc.)\n",
    "3. Construcción del modelo de aprendizaje (Árobles de Decisión, Máquinas de Soporte Vectorial, Redes Neuronales)\n",
    "4. Entrenar el modelo de aprendizaje (construir la matriz `X` y el vector `y`)\n",
    "5. Evaluar el desempeño (métricas de exactitud)\n"
   ],
   "metadata": {
    "collapsed": false
   },
   "id": "a1646d7e59e1204a"
  },
  {
   "cell_type": "markdown",
   "source": [
    "## 1. Adquicisión de los datos (desde un CSV con `pandas`)\n",
    "\n",
    "> PASO 1 - Descargar el CSV desde la url [https://gist.githubusercontent.com/netj/8836201/raw/6f9306ad21398ea43cba4f7d537619d0e07d5ae3/iris.csv](https://gist.githubusercontent.com/netj/8836201/raw/6f9306ad21398ea43cba4f7d537619d0e07d5ae3/iris.csv)"
   ],
   "metadata": {
    "collapsed": false
   },
   "id": "f91335ec5fc0d849"
  },
  {
   "cell_type": "code",
   "execution_count": 31,
   "id": "initial_id",
   "metadata": {
    "collapsed": true,
    "ExecuteTime": {
     "end_time": "2023-10-05T00:17:26.790271Z",
     "start_time": "2023-10-05T00:17:26.574615Z"
    }
   },
   "outputs": [],
   "source": [
    "url = \"https://gist.githubusercontent.com/netj/8836201/raw/6f9306ad21398ea43cba4f7d537619d0e07d5ae3/iris.csv\""
   ]
  },
  {
   "cell_type": "markdown",
   "source": [
    "> PASO 2 - Instalar la librería de `pandas` \n",
    "> \n",
    "> con el comando `pip install pandas`"
   ],
   "metadata": {
    "collapsed": false
   },
   "id": "90091dcbb234264c"
  },
  {
   "cell_type": "code",
   "execution_count": 32,
   "outputs": [
    {
     "name": "stdout",
     "output_type": "stream",
     "text": [
      "Requirement already satisfied: pandas in ./venv/lib/python3.11/site-packages (2.1.1)\r\n",
      "Requirement already satisfied: numpy>=1.23.2 in ./venv/lib/python3.11/site-packages (from pandas) (1.26.0)\r\n",
      "Requirement already satisfied: python-dateutil>=2.8.2 in ./venv/lib/python3.11/site-packages (from pandas) (2.8.2)\r\n",
      "Requirement already satisfied: pytz>=2020.1 in ./venv/lib/python3.11/site-packages (from pandas) (2023.3.post1)\r\n",
      "Requirement already satisfied: tzdata>=2022.1 in ./venv/lib/python3.11/site-packages (from pandas) (2023.3)\r\n",
      "Requirement already satisfied: six>=1.5 in ./venv/lib/python3.11/site-packages (from python-dateutil>=2.8.2->pandas) (1.16.0)\r\n"
     ]
    }
   ],
   "source": [
    "# Nota: Lo recomendable es abrir una terminal del sistema y ejecutar\n",
    "#       $ pip install pandas\n",
    "! pip install pandas "
   ],
   "metadata": {
    "collapsed": false,
    "ExecuteTime": {
     "end_time": "2023-10-05T00:17:30.271108Z",
     "start_time": "2023-10-05T00:17:26.588303Z"
    }
   },
   "id": "13a7bf11d1cb4ba0"
  },
  {
   "cell_type": "markdown",
   "source": [
    "> PASO 3 - Importar pandas"
   ],
   "metadata": {
    "collapsed": false
   },
   "id": "28bf2de71b18fe7b"
  },
  {
   "cell_type": "code",
   "execution_count": 33,
   "outputs": [],
   "source": [
    "import pandas as pd"
   ],
   "metadata": {
    "collapsed": false,
    "ExecuteTime": {
     "end_time": "2023-10-05T00:17:30.283653Z",
     "start_time": "2023-10-05T00:17:30.274182Z"
    }
   },
   "id": "e97523f6989f7880"
  },
  {
   "cell_type": "markdown",
   "source": [
    "> PASO 4 - Abrir el CSV directamente de la URL"
   ],
   "metadata": {
    "collapsed": false
   },
   "id": "d8b64bd24fb3b6a3"
  },
  {
   "cell_type": "code",
   "execution_count": 34,
   "outputs": [
    {
     "data": {
      "text/plain": "     sepal.length  sepal.width  petal.length  petal.width    variety\n0             5.1          3.5           1.4          0.2     Setosa\n1             4.9          3.0           1.4          0.2     Setosa\n2             4.7          3.2           1.3          0.2     Setosa\n3             4.6          3.1           1.5          0.2     Setosa\n4             5.0          3.6           1.4          0.2     Setosa\n..            ...          ...           ...          ...        ...\n145           6.7          3.0           5.2          2.3  Virginica\n146           6.3          2.5           5.0          1.9  Virginica\n147           6.5          3.0           5.2          2.0  Virginica\n148           6.2          3.4           5.4          2.3  Virginica\n149           5.9          3.0           5.1          1.8  Virginica\n\n[150 rows x 5 columns]",
      "text/html": "<div>\n<style scoped>\n    .dataframe tbody tr th:only-of-type {\n        vertical-align: middle;\n    }\n\n    .dataframe tbody tr th {\n        vertical-align: top;\n    }\n\n    .dataframe thead th {\n        text-align: right;\n    }\n</style>\n<table border=\"1\" class=\"dataframe\">\n  <thead>\n    <tr style=\"text-align: right;\">\n      <th></th>\n      <th>sepal.length</th>\n      <th>sepal.width</th>\n      <th>petal.length</th>\n      <th>petal.width</th>\n      <th>variety</th>\n    </tr>\n  </thead>\n  <tbody>\n    <tr>\n      <th>0</th>\n      <td>5.1</td>\n      <td>3.5</td>\n      <td>1.4</td>\n      <td>0.2</td>\n      <td>Setosa</td>\n    </tr>\n    <tr>\n      <th>1</th>\n      <td>4.9</td>\n      <td>3.0</td>\n      <td>1.4</td>\n      <td>0.2</td>\n      <td>Setosa</td>\n    </tr>\n    <tr>\n      <th>2</th>\n      <td>4.7</td>\n      <td>3.2</td>\n      <td>1.3</td>\n      <td>0.2</td>\n      <td>Setosa</td>\n    </tr>\n    <tr>\n      <th>3</th>\n      <td>4.6</td>\n      <td>3.1</td>\n      <td>1.5</td>\n      <td>0.2</td>\n      <td>Setosa</td>\n    </tr>\n    <tr>\n      <th>4</th>\n      <td>5.0</td>\n      <td>3.6</td>\n      <td>1.4</td>\n      <td>0.2</td>\n      <td>Setosa</td>\n    </tr>\n    <tr>\n      <th>...</th>\n      <td>...</td>\n      <td>...</td>\n      <td>...</td>\n      <td>...</td>\n      <td>...</td>\n    </tr>\n    <tr>\n      <th>145</th>\n      <td>6.7</td>\n      <td>3.0</td>\n      <td>5.2</td>\n      <td>2.3</td>\n      <td>Virginica</td>\n    </tr>\n    <tr>\n      <th>146</th>\n      <td>6.3</td>\n      <td>2.5</td>\n      <td>5.0</td>\n      <td>1.9</td>\n      <td>Virginica</td>\n    </tr>\n    <tr>\n      <th>147</th>\n      <td>6.5</td>\n      <td>3.0</td>\n      <td>5.2</td>\n      <td>2.0</td>\n      <td>Virginica</td>\n    </tr>\n    <tr>\n      <th>148</th>\n      <td>6.2</td>\n      <td>3.4</td>\n      <td>5.4</td>\n      <td>2.3</td>\n      <td>Virginica</td>\n    </tr>\n    <tr>\n      <th>149</th>\n      <td>5.9</td>\n      <td>3.0</td>\n      <td>5.1</td>\n      <td>1.8</td>\n      <td>Virginica</td>\n    </tr>\n  </tbody>\n</table>\n<p>150 rows × 5 columns</p>\n</div>"
     },
     "execution_count": 34,
     "metadata": {},
     "output_type": "execute_result"
    }
   ],
   "source": [
    "# iris = pd.read_csv(\"/Users/<usuario>/Downloads/iris.csv\")\n",
    "iris = pd.read_csv(url)\n",
    "\n",
    "iris # print(iris)"
   ],
   "metadata": {
    "collapsed": false,
    "ExecuteTime": {
     "end_time": "2023-10-05T00:17:30.626152Z",
     "start_time": "2023-10-05T00:17:30.308526Z"
    }
   },
   "id": "f9bd54955964aa"
  },
  {
   "cell_type": "markdown",
   "source": [
    "## 2. Inspección de los datos (ver muestras aleatorias, valores únicos, visualización, etc.)\n",
    "\n",
    "> PASO 1 - Mostrar los primeros 5 registros y los últimos 5"
   ],
   "metadata": {
    "collapsed": false
   },
   "id": "7fa619769578228b"
  },
  {
   "cell_type": "code",
   "execution_count": 35,
   "outputs": [
    {
     "data": {
      "text/plain": "   sepal.length  sepal.width  petal.length  petal.width variety\n0           5.1          3.5           1.4          0.2  Setosa\n1           4.9          3.0           1.4          0.2  Setosa\n2           4.7          3.2           1.3          0.2  Setosa\n3           4.6          3.1           1.5          0.2  Setosa\n4           5.0          3.6           1.4          0.2  Setosa",
      "text/html": "<div>\n<style scoped>\n    .dataframe tbody tr th:only-of-type {\n        vertical-align: middle;\n    }\n\n    .dataframe tbody tr th {\n        vertical-align: top;\n    }\n\n    .dataframe thead th {\n        text-align: right;\n    }\n</style>\n<table border=\"1\" class=\"dataframe\">\n  <thead>\n    <tr style=\"text-align: right;\">\n      <th></th>\n      <th>sepal.length</th>\n      <th>sepal.width</th>\n      <th>petal.length</th>\n      <th>petal.width</th>\n      <th>variety</th>\n    </tr>\n  </thead>\n  <tbody>\n    <tr>\n      <th>0</th>\n      <td>5.1</td>\n      <td>3.5</td>\n      <td>1.4</td>\n      <td>0.2</td>\n      <td>Setosa</td>\n    </tr>\n    <tr>\n      <th>1</th>\n      <td>4.9</td>\n      <td>3.0</td>\n      <td>1.4</td>\n      <td>0.2</td>\n      <td>Setosa</td>\n    </tr>\n    <tr>\n      <th>2</th>\n      <td>4.7</td>\n      <td>3.2</td>\n      <td>1.3</td>\n      <td>0.2</td>\n      <td>Setosa</td>\n    </tr>\n    <tr>\n      <th>3</th>\n      <td>4.6</td>\n      <td>3.1</td>\n      <td>1.5</td>\n      <td>0.2</td>\n      <td>Setosa</td>\n    </tr>\n    <tr>\n      <th>4</th>\n      <td>5.0</td>\n      <td>3.6</td>\n      <td>1.4</td>\n      <td>0.2</td>\n      <td>Setosa</td>\n    </tr>\n  </tbody>\n</table>\n</div>"
     },
     "execution_count": 35,
     "metadata": {},
     "output_type": "execute_result"
    }
   ],
   "source": [
    "iris.head(5)"
   ],
   "metadata": {
    "collapsed": false,
    "ExecuteTime": {
     "end_time": "2023-10-05T00:17:30.635291Z",
     "start_time": "2023-10-05T00:17:30.627048Z"
    }
   },
   "id": "7e09163e9838d00e"
  },
  {
   "cell_type": "code",
   "execution_count": 36,
   "outputs": [
    {
     "data": {
      "text/plain": "     sepal.length  sepal.width  petal.length  petal.width    variety\n145           6.7          3.0           5.2          2.3  Virginica\n146           6.3          2.5           5.0          1.9  Virginica\n147           6.5          3.0           5.2          2.0  Virginica\n148           6.2          3.4           5.4          2.3  Virginica\n149           5.9          3.0           5.1          1.8  Virginica",
      "text/html": "<div>\n<style scoped>\n    .dataframe tbody tr th:only-of-type {\n        vertical-align: middle;\n    }\n\n    .dataframe tbody tr th {\n        vertical-align: top;\n    }\n\n    .dataframe thead th {\n        text-align: right;\n    }\n</style>\n<table border=\"1\" class=\"dataframe\">\n  <thead>\n    <tr style=\"text-align: right;\">\n      <th></th>\n      <th>sepal.length</th>\n      <th>sepal.width</th>\n      <th>petal.length</th>\n      <th>petal.width</th>\n      <th>variety</th>\n    </tr>\n  </thead>\n  <tbody>\n    <tr>\n      <th>145</th>\n      <td>6.7</td>\n      <td>3.0</td>\n      <td>5.2</td>\n      <td>2.3</td>\n      <td>Virginica</td>\n    </tr>\n    <tr>\n      <th>146</th>\n      <td>6.3</td>\n      <td>2.5</td>\n      <td>5.0</td>\n      <td>1.9</td>\n      <td>Virginica</td>\n    </tr>\n    <tr>\n      <th>147</th>\n      <td>6.5</td>\n      <td>3.0</td>\n      <td>5.2</td>\n      <td>2.0</td>\n      <td>Virginica</td>\n    </tr>\n    <tr>\n      <th>148</th>\n      <td>6.2</td>\n      <td>3.4</td>\n      <td>5.4</td>\n      <td>2.3</td>\n      <td>Virginica</td>\n    </tr>\n    <tr>\n      <th>149</th>\n      <td>5.9</td>\n      <td>3.0</td>\n      <td>5.1</td>\n      <td>1.8</td>\n      <td>Virginica</td>\n    </tr>\n  </tbody>\n</table>\n</div>"
     },
     "execution_count": 36,
     "metadata": {},
     "output_type": "execute_result"
    }
   ],
   "source": [
    "iris.tail(5)"
   ],
   "metadata": {
    "collapsed": false,
    "ExecuteTime": {
     "end_time": "2023-10-05T00:17:30.672345Z",
     "start_time": "2023-10-05T00:17:30.637349Z"
    }
   },
   "id": "50e32e198e80e6f4"
  },
  {
   "cell_type": "markdown",
   "source": [
    "> PASO 2 - Mostrar 5 muestras aleatorias"
   ],
   "metadata": {
    "collapsed": false
   },
   "id": "345d2b2de42705e4"
  },
  {
   "cell_type": "code",
   "execution_count": 37,
   "outputs": [
    {
     "data": {
      "text/plain": "     sepal.length  sepal.width  petal.length  petal.width     variety\n94            5.6          2.7           4.2          1.3  Versicolor\n27            5.2          3.5           1.5          0.2      Setosa\n99            5.7          2.8           4.1          1.3  Versicolor\n145           6.7          3.0           5.2          2.3   Virginica\n132           6.4          2.8           5.6          2.2   Virginica",
      "text/html": "<div>\n<style scoped>\n    .dataframe tbody tr th:only-of-type {\n        vertical-align: middle;\n    }\n\n    .dataframe tbody tr th {\n        vertical-align: top;\n    }\n\n    .dataframe thead th {\n        text-align: right;\n    }\n</style>\n<table border=\"1\" class=\"dataframe\">\n  <thead>\n    <tr style=\"text-align: right;\">\n      <th></th>\n      <th>sepal.length</th>\n      <th>sepal.width</th>\n      <th>petal.length</th>\n      <th>petal.width</th>\n      <th>variety</th>\n    </tr>\n  </thead>\n  <tbody>\n    <tr>\n      <th>94</th>\n      <td>5.6</td>\n      <td>2.7</td>\n      <td>4.2</td>\n      <td>1.3</td>\n      <td>Versicolor</td>\n    </tr>\n    <tr>\n      <th>27</th>\n      <td>5.2</td>\n      <td>3.5</td>\n      <td>1.5</td>\n      <td>0.2</td>\n      <td>Setosa</td>\n    </tr>\n    <tr>\n      <th>99</th>\n      <td>5.7</td>\n      <td>2.8</td>\n      <td>4.1</td>\n      <td>1.3</td>\n      <td>Versicolor</td>\n    </tr>\n    <tr>\n      <th>145</th>\n      <td>6.7</td>\n      <td>3.0</td>\n      <td>5.2</td>\n      <td>2.3</td>\n      <td>Virginica</td>\n    </tr>\n    <tr>\n      <th>132</th>\n      <td>6.4</td>\n      <td>2.8</td>\n      <td>5.6</td>\n      <td>2.2</td>\n      <td>Virginica</td>\n    </tr>\n  </tbody>\n</table>\n</div>"
     },
     "execution_count": 37,
     "metadata": {},
     "output_type": "execute_result"
    }
   ],
   "source": [
    "iris.sample(5)"
   ],
   "metadata": {
    "collapsed": false,
    "ExecuteTime": {
     "end_time": "2023-10-05T00:17:30.787007Z",
     "start_time": "2023-10-05T00:17:30.648497Z"
    }
   },
   "id": "2332488470f87be4"
  },
  {
   "cell_type": "markdown",
   "source": [
    "> PASO 3 - Recuperar los valores únicos para la columna `variety`"
   ],
   "metadata": {
    "collapsed": false
   },
   "id": "28b27594e9b9ffea"
  },
  {
   "cell_type": "code",
   "execution_count": 38,
   "outputs": [
    {
     "data": {
      "text/plain": "array(['Setosa', 'Versicolor', 'Virginica'], dtype=object)"
     },
     "execution_count": 38,
     "metadata": {},
     "output_type": "execute_result"
    }
   ],
   "source": [
    "iris[\"variety\"].unique()"
   ],
   "metadata": {
    "collapsed": false,
    "ExecuteTime": {
     "end_time": "2023-10-05T00:17:31.054705Z",
     "start_time": "2023-10-05T00:17:30.663231Z"
    }
   },
   "id": "d48dbaa0bce3fac4"
  },
  {
   "cell_type": "markdown",
   "source": [
    "> PASO 4 - Agrupar el promedio de `sepal.length` para la columna `variety`"
   ],
   "metadata": {
    "collapsed": false
   },
   "id": "77f777e6df18b26d"
  },
  {
   "cell_type": "code",
   "execution_count": 39,
   "outputs": [
    {
     "data": {
      "text/plain": "variety\nSetosa        5.006\nVersicolor    5.936\nVirginica     6.588\nName: sepal.length, dtype: float64"
     },
     "execution_count": 39,
     "metadata": {},
     "output_type": "execute_result"
    }
   ],
   "source": [
    "iris.groupby(\"variety\")[\"sepal.length\"].apply(\"mean\")"
   ],
   "metadata": {
    "collapsed": false,
    "ExecuteTime": {
     "end_time": "2023-10-05T00:17:31.151417Z",
     "start_time": "2023-10-05T00:17:30.682604Z"
    }
   },
   "id": "9e9fd908d8b521c7"
  },
  {
   "cell_type": "markdown",
   "source": [
    "Podemos usar alternativamente otras agregaciones como contar cuántos registros hay"
   ],
   "metadata": {
    "collapsed": false
   },
   "id": "1b775eb4b6c10548"
  },
  {
   "cell_type": "code",
   "execution_count": 40,
   "outputs": [
    {
     "data": {
      "text/plain": "variety\nSetosa        50\nVersicolor    50\nVirginica     50\nName: sepal.length, dtype: int64"
     },
     "execution_count": 40,
     "metadata": {},
     "output_type": "execute_result"
    }
   ],
   "source": [
    "iris.groupby(\"variety\")[\"sepal.length\"].apply(\"count\")"
   ],
   "metadata": {
    "collapsed": false,
    "ExecuteTime": {
     "end_time": "2023-10-05T00:17:31.226986Z",
     "start_time": "2023-10-05T00:17:30.690098Z"
    }
   },
   "id": "f152e44ad2fc911c"
  },
  {
   "cell_type": "markdown",
   "source": [
    "O podemos encontrar el mínimo de cada `sepal.length` por `variety`"
   ],
   "metadata": {
    "collapsed": false
   },
   "id": "b123f5c7e5b0419e"
  },
  {
   "cell_type": "code",
   "execution_count": 41,
   "outputs": [
    {
     "data": {
      "text/plain": "variety\nSetosa        4.3\nVersicolor    4.9\nVirginica     4.9\nName: sepal.length, dtype: float64"
     },
     "execution_count": 41,
     "metadata": {},
     "output_type": "execute_result"
    }
   ],
   "source": [
    "iris.groupby(\"variety\")[\"sepal.length\"].apply(\"min\")"
   ],
   "metadata": {
    "collapsed": false,
    "ExecuteTime": {
     "end_time": "2023-10-05T00:17:31.228462Z",
     "start_time": "2023-10-05T00:17:30.700688Z"
    }
   },
   "id": "117dc30943aa7180"
  },
  {
   "cell_type": "markdown",
   "source": [
    "O podemos encontrar el máximo de cada `sepal.length` por `variety`"
   ],
   "metadata": {
    "collapsed": false
   },
   "id": "58df8384aeb8071"
  },
  {
   "cell_type": "code",
   "execution_count": 42,
   "outputs": [
    {
     "data": {
      "text/plain": "variety\nSetosa        5.8\nVersicolor    7.0\nVirginica     7.9\nName: sepal.length, dtype: float64"
     },
     "execution_count": 42,
     "metadata": {},
     "output_type": "execute_result"
    }
   ],
   "source": [
    "iris.groupby(\"variety\")[\"sepal.length\"].apply(\"max\")"
   ],
   "metadata": {
    "collapsed": false,
    "ExecuteTime": {
     "end_time": "2023-10-05T00:17:31.371905Z",
     "start_time": "2023-10-05T00:17:30.711275Z"
    }
   },
   "id": "4e68624b9c6fdaaa"
  },
  {
   "cell_type": "markdown",
   "source": [
    "> Paso 5 - Hacer visualizaciones de datos"
   ],
   "metadata": {
    "collapsed": false
   },
   "id": "3751d5f58b66fd7"
  },
  {
   "cell_type": "code",
   "execution_count": 50,
   "outputs": [
    {
     "data": {
      "text/plain": "            sepal.length  sepal.width  petal.length  petal.width\nvariety                                                         \nSetosa               5.8          4.4           1.9          0.6\nVersicolor           7.0          3.4           5.1          1.8\nVirginica            7.9          3.8           6.9          2.5",
      "text/html": "<div>\n<style scoped>\n    .dataframe tbody tr th:only-of-type {\n        vertical-align: middle;\n    }\n\n    .dataframe tbody tr th {\n        vertical-align: top;\n    }\n\n    .dataframe thead th {\n        text-align: right;\n    }\n</style>\n<table border=\"1\" class=\"dataframe\">\n  <thead>\n    <tr style=\"text-align: right;\">\n      <th></th>\n      <th>sepal.length</th>\n      <th>sepal.width</th>\n      <th>petal.length</th>\n      <th>petal.width</th>\n    </tr>\n    <tr>\n      <th>variety</th>\n      <th></th>\n      <th></th>\n      <th></th>\n      <th></th>\n    </tr>\n  </thead>\n  <tbody>\n    <tr>\n      <th>Setosa</th>\n      <td>5.8</td>\n      <td>4.4</td>\n      <td>1.9</td>\n      <td>0.6</td>\n    </tr>\n    <tr>\n      <th>Versicolor</th>\n      <td>7.0</td>\n      <td>3.4</td>\n      <td>5.1</td>\n      <td>1.8</td>\n    </tr>\n    <tr>\n      <th>Virginica</th>\n      <td>7.9</td>\n      <td>3.8</td>\n      <td>6.9</td>\n      <td>2.5</td>\n    </tr>\n  </tbody>\n</table>\n</div>"
     },
     "execution_count": 50,
     "metadata": {},
     "output_type": "execute_result"
    }
   ],
   "source": [
    "iris.groupby(\"variety\").apply(\"max\")"
   ],
   "metadata": {
    "collapsed": false,
    "ExecuteTime": {
     "end_time": "2023-10-05T00:17:49.932821Z",
     "start_time": "2023-10-05T00:17:48.292419Z"
    }
   },
   "id": "62f05a4c11ad826d"
  },
  {
   "cell_type": "markdown",
   "source": [
    "Instalamos las librerías más utilizadas para visualización de datos:"
   ],
   "metadata": {
    "collapsed": false
   },
   "id": "f09f6bb28c456c7f"
  },
  {
   "cell_type": "code",
   "execution_count": 43,
   "outputs": [
    {
     "name": "stdout",
     "output_type": "stream",
     "text": [
      "Requirement already satisfied: matplotlib in ./venv/lib/python3.11/site-packages (3.8.0)\r\n",
      "Requirement already satisfied: seaborn in ./venv/lib/python3.11/site-packages (0.13.0)\r\n",
      "Requirement already satisfied: contourpy>=1.0.1 in ./venv/lib/python3.11/site-packages (from matplotlib) (1.1.1)\r\n",
      "Requirement already satisfied: cycler>=0.10 in ./venv/lib/python3.11/site-packages (from matplotlib) (0.12.0)\r\n",
      "Requirement already satisfied: fonttools>=4.22.0 in ./venv/lib/python3.11/site-packages (from matplotlib) (4.43.0)\r\n",
      "Requirement already satisfied: kiwisolver>=1.0.1 in ./venv/lib/python3.11/site-packages (from matplotlib) (1.4.5)\r\n",
      "Requirement already satisfied: numpy<2,>=1.21 in ./venv/lib/python3.11/site-packages (from matplotlib) (1.26.0)\r\n",
      "Requirement already satisfied: packaging>=20.0 in ./venv/lib/python3.11/site-packages (from matplotlib) (23.2)\r\n",
      "Requirement already satisfied: pillow>=6.2.0 in ./venv/lib/python3.11/site-packages (from matplotlib) (10.0.1)\r\n",
      "Requirement already satisfied: pyparsing>=2.3.1 in ./venv/lib/python3.11/site-packages (from matplotlib) (3.1.1)\r\n",
      "Requirement already satisfied: python-dateutil>=2.7 in ./venv/lib/python3.11/site-packages (from matplotlib) (2.8.2)\r\n",
      "Requirement already satisfied: pandas>=1.2 in ./venv/lib/python3.11/site-packages (from seaborn) (2.1.1)\r\n",
      "Requirement already satisfied: pytz>=2020.1 in ./venv/lib/python3.11/site-packages (from pandas>=1.2->seaborn) (2023.3.post1)\r\n",
      "Requirement already satisfied: tzdata>=2022.1 in ./venv/lib/python3.11/site-packages (from pandas>=1.2->seaborn) (2023.3)\r\n",
      "Requirement already satisfied: six>=1.5 in ./venv/lib/python3.11/site-packages (from python-dateutil>=2.7->matplotlib) (1.16.0)\r\n"
     ]
    }
   ],
   "source": [
    "# $ pip install matplotlib seaborn\n",
    "! pip install matplotlib seaborn"
   ],
   "metadata": {
    "collapsed": false,
    "ExecuteTime": {
     "end_time": "2023-10-05T00:17:36.308950Z",
     "start_time": "2023-10-05T00:17:30.720661Z"
    }
   },
   "id": "85062949ddc35b0f"
  },
  {
   "cell_type": "markdown",
   "source": [
    "*Histograma*\n",
    "\n",
    "Representa las regiones de acumulaciones de valores para un 1-eje, dónde el eje horizontal representa el intervalo de nuestros valores (por ejemplo, desde el mínimo hasta el máximo para el `sepal.length`), y el eje vertical representaría cuántos valores caen en ese rango. Cada rango se conoce como un `bin`."
   ],
   "metadata": {
    "collapsed": false
   },
   "id": "2eec4829e069feb6"
  },
  {
   "cell_type": "code",
   "execution_count": 44,
   "outputs": [
    {
     "data": {
      "text/plain": "<Figure size 640x480 with 1 Axes>",
      "image/png": "[encoded data removed]"
     },
     "metadata": {},
     "output_type": "display_data"
    }
   ],
   "source": [
    "import matplotlib.pyplot as plt\n",
    "\n",
    "plt.hist(iris[\"sepal.length\"], bins=5)\n",
    "plt.show()"
   ],
   "metadata": {
    "collapsed": false,
    "ExecuteTime": {
     "end_time": "2023-10-05T00:17:37.362094Z",
     "start_time": "2023-10-05T00:17:36.381247Z"
    }
   },
   "id": "ac151b34e9ba1661"
  },
  {
   "cell_type": "markdown",
   "source": [
    "Podemos calcular manualmente los valores del histograma"
   ],
   "metadata": {
    "collapsed": false
   },
   "id": "2310bc50a3fe56ee"
  },
  {
   "cell_type": "code",
   "execution_count": 45,
   "outputs": [
    {
     "data": {
      "text/plain": "(array([32, 41, 42, 24, 11]), array([4.3 , 5.02, 5.74, 6.46, 7.18, 7.9 ]))"
     },
     "execution_count": 45,
     "metadata": {},
     "output_type": "execute_result"
    }
   ],
   "source": [
    "import numpy as np\n",
    "\n",
    "np.histogram(iris[\"sepal.length\"], bins=5)"
   ],
   "metadata": {
    "collapsed": false,
    "ExecuteTime": {
     "end_time": "2023-10-05T00:17:37.363619Z",
     "start_time": "2023-10-05T00:17:37.310907Z"
    }
   },
   "id": "761667be76448089"
  },
  {
   "cell_type": "markdown",
   "source": [
    "*Correlación*\n",
    "\n",
    "Representa dos ejes de análisis contrastados entre el horizontal y el vertical, indicando si hay una tendencia lineal (significaría que a mayor de uno mayor del otro `directa` o a mayor del uno menor del otro `inversa`)"
   ],
   "metadata": {
    "collapsed": false
   },
   "id": "b8827a70adcca160"
  },
  {
   "cell_type": "code",
   "execution_count": 46,
   "outputs": [
    {
     "data": {
      "text/plain": "<Figure size 640x480 with 1 Axes>",
      "image/png": "[encoded data removed]"
     },
     "metadata": {},
     "output_type": "display_data"
    }
   ],
   "source": [
    "import matplotlib.pyplot as plt\n",
    "\n",
    "plt.scatter(iris[\"sepal.length\"], iris[\"petal.length\"])\n",
    "plt.show()"
   ],
   "metadata": {
    "collapsed": false,
    "ExecuteTime": {
     "end_time": "2023-10-05T00:17:37.885206Z",
     "start_time": "2023-10-05T00:17:37.322304Z"
    }
   },
   "id": "439ca936bbcfb65c"
  },
  {
   "cell_type": "markdown",
   "source": [
    "Podemos calcular manualmente la correlación"
   ],
   "metadata": {
    "collapsed": false
   },
   "id": "c41654ea1756e0a3"
  },
  {
   "cell_type": "code",
   "execution_count": 47,
   "outputs": [
    {
     "data": {
      "text/plain": "0.8717537758865831"
     },
     "execution_count": 47,
     "metadata": {},
     "output_type": "execute_result"
    }
   ],
   "source": [
    "iris[\"sepal.length\"].corr(iris[\"petal.length\"])"
   ],
   "metadata": {
    "collapsed": false,
    "ExecuteTime": {
     "end_time": "2023-10-05T00:17:38.099756Z",
     "start_time": "2023-10-05T00:17:37.905243Z"
    }
   },
   "id": "54f07fcbe2f8d841"
  },
  {
   "cell_type": "code",
   "execution_count": 48,
   "outputs": [
    {
     "data": {
      "text/plain": "-0.11756978413300198"
     },
     "execution_count": 48,
     "metadata": {},
     "output_type": "execute_result"
    }
   ],
   "source": [
    "iris[\"sepal.length\"].corr(iris[\"sepal.width\"])"
   ],
   "metadata": {
    "collapsed": false,
    "ExecuteTime": {
     "end_time": "2023-10-05T00:17:38.100558Z",
     "start_time": "2023-10-05T00:17:37.973344Z"
    }
   },
   "id": "f427716b00514819"
  },
  {
   "cell_type": "markdown",
   "source": [
    "La gráfica en parejas nos muestra las correlaciones e histogramas columna-columna"
   ],
   "metadata": {
    "collapsed": false
   },
   "id": "ab40e766b87ac95d"
  },
  {
   "cell_type": "code",
   "execution_count": 49,
   "outputs": [
    {
     "data": {
      "text/plain": "<Figure size 1000x1000 with 20 Axes>",
      "image/png": "[encoded data removed]"
     },
     "metadata": {},
     "output_type": "display_data"
    }
   ],
   "source": [
    "import matplotlib.pyplot as plt\n",
    "import seaborn as sns\n",
    "\n",
    "sns.pairplot(iris)\n",
    "plt.show()"
   ],
   "metadata": {
    "collapsed": false,
    "ExecuteTime": {
     "end_time": "2023-10-05T00:17:46.677126Z",
     "start_time": "2023-10-05T00:17:38.024003Z"
    }
   },
   "id": "26008c84a8ed7f15"
  },
  {
   "cell_type": "markdown",
   "source": [
    "Podemos generar cajas de error para contrastar los datos"
   ],
   "metadata": {
    "collapsed": false
   },
   "id": "cf384f924a17275e"
  },
  {
   "cell_type": "code",
   "execution_count": 51,
   "outputs": [
    {
     "data": {
      "text/plain": "<Axes: >"
     },
     "execution_count": 51,
     "metadata": {},
     "output_type": "execute_result"
    },
    {
     "data": {
      "text/plain": "<Figure size 640x480 with 1 Axes>",
      "image/png": "[encoded data removed]"
     },
     "metadata": {},
     "output_type": "display_data"
    }
   ],
   "source": [
    "import seaborn\n",
    "\n",
    "seaborn.boxenplot(iris)"
   ],
   "metadata": {
    "collapsed": false,
    "ExecuteTime": {
     "end_time": "2023-10-05T00:23:49.030541Z",
     "start_time": "2023-10-05T00:23:48.813876Z"
    }
   },
   "id": "3184fbf909cdba7a"
  },
  {
   "cell_type": "code",
   "execution_count": 52,
   "outputs": [
    {
     "name": "stdout",
     "output_type": "stream",
     "text": [
      "<class 'pandas.core.frame.DataFrame'>\n",
      "RangeIndex: 150 entries, 0 to 149\n",
      "Data columns (total 5 columns):\n",
      " #   Column        Non-Null Count  Dtype  \n",
      "---  ------        --------------  -----  \n",
      " 0   sepal.length  150 non-null    float64\n",
      " 1   sepal.width   150 non-null    float64\n",
      " 2   petal.length  150 non-null    float64\n",
      " 3   petal.width   150 non-null    float64\n",
      " 4   variety       150 non-null    object \n",
      "dtypes: float64(4), object(1)\n",
      "memory usage: 6.0+ KB\n"
     ]
    }
   ],
   "source": [
    "iris.info()"
   ],
   "metadata": {
    "collapsed": false,
    "ExecuteTime": {
     "end_time": "2023-10-05T00:24:18.445012Z",
     "start_time": "2023-10-05T00:24:18.362720Z"
    }
   },
   "id": "2bce9f2e659df121"
  },
  {
   "cell_type": "code",
   "execution_count": 53,
   "outputs": [
    {
     "data": {
      "text/plain": "       sepal.length  sepal.width  petal.length  petal.width\ncount    150.000000   150.000000    150.000000   150.000000\nmean       5.843333     3.057333      3.758000     1.199333\nstd        0.828066     0.435866      1.765298     0.762238\nmin        4.300000     2.000000      1.000000     0.100000\n25%        5.100000     2.800000      1.600000     0.300000\n50%        5.800000     3.000000      4.350000     1.300000\n75%        6.400000     3.300000      5.100000     1.800000\nmax        7.900000     4.400000      6.900000     2.500000",
      "text/html": "<div>\n<style scoped>\n    .dataframe tbody tr th:only-of-type {\n        vertical-align: middle;\n    }\n\n    .dataframe tbody tr th {\n        vertical-align: top;\n    }\n\n    .dataframe thead th {\n        text-align: right;\n    }\n</style>\n<table border=\"1\" class=\"dataframe\">\n  <thead>\n    <tr style=\"text-align: right;\">\n      <th></th>\n      <th>sepal.length</th>\n      <th>sepal.width</th>\n      <th>petal.length</th>\n      <th>petal.width</th>\n    </tr>\n  </thead>\n  <tbody>\n    <tr>\n      <th>count</th>\n      <td>150.000000</td>\n      <td>150.000000</td>\n      <td>150.000000</td>\n      <td>150.000000</td>\n    </tr>\n    <tr>\n      <th>mean</th>\n      <td>5.843333</td>\n      <td>3.057333</td>\n      <td>3.758000</td>\n      <td>1.199333</td>\n    </tr>\n    <tr>\n      <th>std</th>\n      <td>0.828066</td>\n      <td>0.435866</td>\n      <td>1.765298</td>\n      <td>0.762238</td>\n    </tr>\n    <tr>\n      <th>min</th>\n      <td>4.300000</td>\n      <td>2.000000</td>\n      <td>1.000000</td>\n      <td>0.100000</td>\n    </tr>\n    <tr>\n      <th>25%</th>\n      <td>5.100000</td>\n      <td>2.800000</td>\n      <td>1.600000</td>\n      <td>0.300000</td>\n    </tr>\n    <tr>\n      <th>50%</th>\n      <td>5.800000</td>\n      <td>3.000000</td>\n      <td>4.350000</td>\n      <td>1.300000</td>\n    </tr>\n    <tr>\n      <th>75%</th>\n      <td>6.400000</td>\n      <td>3.300000</td>\n      <td>5.100000</td>\n      <td>1.800000</td>\n    </tr>\n    <tr>\n      <th>max</th>\n      <td>7.900000</td>\n      <td>4.400000</td>\n      <td>6.900000</td>\n      <td>2.500000</td>\n    </tr>\n  </tbody>\n</table>\n</div>"
     },
     "execution_count": 53,
     "metadata": {},
     "output_type": "execute_result"
    }
   ],
   "source": [
    "iris.describe()"
   ],
   "metadata": {
    "collapsed": false,
    "ExecuteTime": {
     "end_time": "2023-10-05T00:24:36.132503Z",
     "start_time": "2023-10-05T00:24:35.991256Z"
    }
   },
   "id": "863b39d5a0363f7d"
  },
  {
   "cell_type": "code",
   "execution_count": 54,
   "outputs": [
    {
     "data": {
      "text/plain": "    sepal.length  sepal.width  petal.length  petal.width     variety\n50           7.0          3.2           4.7          1.4  Versicolor\n51           6.4          3.2           4.5          1.5  Versicolor\n52           6.9          3.1           4.9          1.5  Versicolor\n53           5.5          2.3           4.0          1.3  Versicolor\n54           6.5          2.8           4.6          1.5  Versicolor\n55           5.7          2.8           4.5          1.3  Versicolor\n56           6.3          3.3           4.7          1.6  Versicolor\n57           4.9          2.4           3.3          1.0  Versicolor\n58           6.6          2.9           4.6          1.3  Versicolor\n59           5.2          2.7           3.9          1.4  Versicolor\n60           5.0          2.0           3.5          1.0  Versicolor\n61           5.9          3.0           4.2          1.5  Versicolor\n62           6.0          2.2           4.0          1.0  Versicolor\n63           6.1          2.9           4.7          1.4  Versicolor\n64           5.6          2.9           3.6          1.3  Versicolor\n65           6.7          3.1           4.4          1.4  Versicolor\n66           5.6          3.0           4.5          1.5  Versicolor\n67           5.8          2.7           4.1          1.0  Versicolor\n68           6.2          2.2           4.5          1.5  Versicolor\n69           5.6          2.5           3.9          1.1  Versicolor\n70           5.9          3.2           4.8          1.8  Versicolor\n71           6.1          2.8           4.0          1.3  Versicolor\n72           6.3          2.5           4.9          1.5  Versicolor\n73           6.1          2.8           4.7          1.2  Versicolor\n74           6.4          2.9           4.3          1.3  Versicolor\n75           6.6          3.0           4.4          1.4  Versicolor\n76           6.8          2.8           4.8          1.4  Versicolor\n77           6.7          3.0           5.0          1.7  Versicolor\n78           6.0          2.9           4.5          1.5  Versicolor\n79           5.7          2.6           3.5          1.0  Versicolor\n80           5.5          2.4           3.8          1.1  Versicolor\n81           5.5          2.4           3.7          1.0  Versicolor\n82           5.8          2.7           3.9          1.2  Versicolor\n83           6.0          2.7           5.1          1.6  Versicolor\n84           5.4          3.0           4.5          1.5  Versicolor\n85           6.0          3.4           4.5          1.6  Versicolor\n86           6.7          3.1           4.7          1.5  Versicolor\n87           6.3          2.3           4.4          1.3  Versicolor\n88           5.6          3.0           4.1          1.3  Versicolor\n89           5.5          2.5           4.0          1.3  Versicolor\n90           5.5          2.6           4.4          1.2  Versicolor\n91           6.1          3.0           4.6          1.4  Versicolor\n92           5.8          2.6           4.0          1.2  Versicolor\n93           5.0          2.3           3.3          1.0  Versicolor\n94           5.6          2.7           4.2          1.3  Versicolor\n95           5.7          3.0           4.2          1.2  Versicolor\n96           5.7          2.9           4.2          1.3  Versicolor\n97           6.2          2.9           4.3          1.3  Versicolor\n98           5.1          2.5           3.0          1.1  Versicolor\n99           5.7          2.8           4.1          1.3  Versicolor",
      "text/html": "<div>\n<style scoped>\n    .dataframe tbody tr th:only-of-type {\n        vertical-align: middle;\n    }\n\n    .dataframe tbody tr th {\n        vertical-align: top;\n    }\n\n    .dataframe thead th {\n        text-align: right;\n    }\n</style>\n<table border=\"1\" class=\"dataframe\">\n  <thead>\n    <tr style=\"text-align: right;\">\n      <th></th>\n      <th>sepal.length</th>\n      <th>sepal.width</th>\n      <th>petal.length</th>\n      <th>petal.width</th>\n      <th>variety</th>\n    </tr>\n  </thead>\n  <tbody>\n    <tr>\n      <th>50</th>\n      <td>7.0</td>\n      <td>3.2</td>\n      <td>4.7</td>\n      <td>1.4</td>\n      <td>Versicolor</td>\n    </tr>\n    <tr>\n      <th>51</th>\n      <td>6.4</td>\n      <td>3.2</td>\n      <td>4.5</td>\n      <td>1.5</td>\n      <td>Versicolor</td>\n    </tr>\n    <tr>\n      <th>52</th>\n      <td>6.9</td>\n      <td>3.1</td>\n      <td>4.9</td>\n      <td>1.5</td>\n      <td>Versicolor</td>\n    </tr>\n    <tr>\n      <th>53</th>\n      <td>5.5</td>\n      <td>2.3</td>\n      <td>4.0</td>\n      <td>1.3</td>\n      <td>Versicolor</td>\n    </tr>\n    <tr>\n      <th>54</th>\n      <td>6.5</td>\n      <td>2.8</td>\n      <td>4.6</td>\n      <td>1.5</td>\n      <td>Versicolor</td>\n    </tr>\n    <tr>\n      <th>55</th>\n      <td>5.7</td>\n      <td>2.8</td>\n      <td>4.5</td>\n      <td>1.3</td>\n      <td>Versicolor</td>\n    </tr>\n    <tr>\n      <th>56</th>\n      <td>6.3</td>\n      <td>3.3</td>\n      <td>4.7</td>\n      <td>1.6</td>\n      <td>Versicolor</td>\n    </tr>\n    <tr>\n      <th>57</th>\n      <td>4.9</td>\n      <td>2.4</td>\n      <td>3.3</td>\n      <td>1.0</td>\n      <td>Versicolor</td>\n    </tr>\n    <tr>\n      <th>58</th>\n      <td>6.6</td>\n      <td>2.9</td>\n      <td>4.6</td>\n      <td>1.3</td>\n      <td>Versicolor</td>\n    </tr>\n    <tr>\n      <th>59</th>\n      <td>5.2</td>\n      <td>2.7</td>\n      <td>3.9</td>\n      <td>1.4</td>\n      <td>Versicolor</td>\n    </tr>\n    <tr>\n      <th>60</th>\n      <td>5.0</td>\n      <td>2.0</td>\n      <td>3.5</td>\n      <td>1.0</td>\n      <td>Versicolor</td>\n    </tr>\n    <tr>\n      <th>61</th>\n      <td>5.9</td>\n      <td>3.0</td>\n      <td>4.2</td>\n      <td>1.5</td>\n      <td>Versicolor</td>\n    </tr>\n    <tr>\n      <th>62</th>\n      <td>6.0</td>\n      <td>2.2</td>\n      <td>4.0</td>\n      <td>1.0</td>\n      <td>Versicolor</td>\n    </tr>\n    <tr>\n      <th>63</th>\n      <td>6.1</td>\n      <td>2.9</td>\n      <td>4.7</td>\n      <td>1.4</td>\n      <td>Versicolor</td>\n    </tr>\n    <tr>\n      <th>64</th>\n      <td>5.6</td>\n      <td>2.9</td>\n      <td>3.6</td>\n      <td>1.3</td>\n      <td>Versicolor</td>\n    </tr>\n    <tr>\n      <th>65</th>\n      <td>6.7</td>\n      <td>3.1</td>\n      <td>4.4</td>\n      <td>1.4</td>\n      <td>Versicolor</td>\n    </tr>\n    <tr>\n      <th>66</th>\n      <td>5.6</td>\n      <td>3.0</td>\n      <td>4.5</td>\n      <td>1.5</td>\n      <td>Versicolor</td>\n    </tr>\n    <tr>\n      <th>67</th>\n      <td>5.8</td>\n      <td>2.7</td>\n      <td>4.1</td>\n      <td>1.0</td>\n      <td>Versicolor</td>\n    </tr>\n    <tr>\n      <th>68</th>\n      <td>6.2</td>\n      <td>2.2</td>\n      <td>4.5</td>\n      <td>1.5</td>\n      <td>Versicolor</td>\n    </tr>\n    <tr>\n      <th>69</th>\n      <td>5.6</td>\n      <td>2.5</td>\n      <td>3.9</td>\n      <td>1.1</td>\n      <td>Versicolor</td>\n    </tr>\n    <tr>\n      <th>70</th>\n      <td>5.9</td>\n      <td>3.2</td>\n      <td>4.8</td>\n      <td>1.8</td>\n      <td>Versicolor</td>\n    </tr>\n    <tr>\n      <th>71</th>\n      <td>6.1</td>\n      <td>2.8</td>\n      <td>4.0</td>\n      <td>1.3</td>\n      <td>Versicolor</td>\n    </tr>\n    <tr>\n      <th>72</th>\n      <td>6.3</td>\n      <td>2.5</td>\n      <td>4.9</td>\n      <td>1.5</td>\n      <td>Versicolor</td>\n    </tr>\n    <tr>\n      <th>73</th>\n      <td>6.1</td>\n      <td>2.8</td>\n      <td>4.7</td>\n      <td>1.2</td>\n      <td>Versicolor</td>\n    </tr>\n    <tr>\n      <th>74</th>\n      <td>6.4</td>\n      <td>2.9</td>\n      <td>4.3</td>\n      <td>1.3</td>\n      <td>Versicolor</td>\n    </tr>\n    <tr>\n      <th>75</th>\n      <td>6.6</td>\n      <td>3.0</td>\n      <td>4.4</td>\n      <td>1.4</td>\n      <td>Versicolor</td>\n    </tr>\n    <tr>\n      <th>76</th>\n      <td>6.8</td>\n      <td>2.8</td>\n      <td>4.8</td>\n      <td>1.4</td>\n      <td>Versicolor</td>\n    </tr>\n    <tr>\n      <th>77</th>\n      <td>6.7</td>\n      <td>3.0</td>\n      <td>5.0</td>\n      <td>1.7</td>\n      <td>Versicolor</td>\n    </tr>\n    <tr>\n      <th>78</th>\n      <td>6.0</td>\n      <td>2.9</td>\n      <td>4.5</td>\n      <td>1.5</td>\n      <td>Versicolor</td>\n    </tr>\n    <tr>\n      <th>79</th>\n      <td>5.7</td>\n      <td>2.6</td>\n      <td>3.5</td>\n      <td>1.0</td>\n      <td>Versicolor</td>\n    </tr>\n    <tr>\n      <th>80</th>\n      <td>5.5</td>\n      <td>2.4</td>\n      <td>3.8</td>\n      <td>1.1</td>\n      <td>Versicolor</td>\n    </tr>\n    <tr>\n      <th>81</th>\n      <td>5.5</td>\n      <td>2.4</td>\n      <td>3.7</td>\n      <td>1.0</td>\n      <td>Versicolor</td>\n    </tr>\n    <tr>\n      <th>82</th>\n      <td>5.8</td>\n      <td>2.7</td>\n      <td>3.9</td>\n      <td>1.2</td>\n      <td>Versicolor</td>\n    </tr>\n    <tr>\n      <th>83</th>\n      <td>6.0</td>\n      <td>2.7</td>\n      <td>5.1</td>\n      <td>1.6</td>\n      <td>Versicolor</td>\n    </tr>\n    <tr>\n      <th>84</th>\n      <td>5.4</td>\n      <td>3.0</td>\n      <td>4.5</td>\n      <td>1.5</td>\n      <td>Versicolor</td>\n    </tr>\n    <tr>\n      <th>85</th>\n      <td>6.0</td>\n      <td>3.4</td>\n      <td>4.5</td>\n      <td>1.6</td>\n      <td>Versicolor</td>\n    </tr>\n    <tr>\n      <th>86</th>\n      <td>6.7</td>\n      <td>3.1</td>\n      <td>4.7</td>\n      <td>1.5</td>\n      <td>Versicolor</td>\n    </tr>\n    <tr>\n      <th>87</th>\n      <td>6.3</td>\n      <td>2.3</td>\n      <td>4.4</td>\n      <td>1.3</td>\n      <td>Versicolor</td>\n    </tr>\n    <tr>\n      <th>88</th>\n      <td>5.6</td>\n      <td>3.0</td>\n      <td>4.1</td>\n      <td>1.3</td>\n      <td>Versicolor</td>\n    </tr>\n    <tr>\n      <th>89</th>\n      <td>5.5</td>\n      <td>2.5</td>\n      <td>4.0</td>\n      <td>1.3</td>\n      <td>Versicolor</td>\n    </tr>\n    <tr>\n      <th>90</th>\n      <td>5.5</td>\n      <td>2.6</td>\n      <td>4.4</td>\n      <td>1.2</td>\n      <td>Versicolor</td>\n    </tr>\n    <tr>\n      <th>91</th>\n      <td>6.1</td>\n      <td>3.0</td>\n      <td>4.6</td>\n      <td>1.4</td>\n      <td>Versicolor</td>\n    </tr>\n    <tr>\n      <th>92</th>\n      <td>5.8</td>\n      <td>2.6</td>\n      <td>4.0</td>\n      <td>1.2</td>\n      <td>Versicolor</td>\n    </tr>\n    <tr>\n      <th>93</th>\n      <td>5.0</td>\n      <td>2.3</td>\n      <td>3.3</td>\n      <td>1.0</td>\n      <td>Versicolor</td>\n    </tr>\n    <tr>\n      <th>94</th>\n      <td>5.6</td>\n      <td>2.7</td>\n      <td>4.2</td>\n      <td>1.3</td>\n      <td>Versicolor</td>\n    </tr>\n    <tr>\n      <th>95</th>\n      <td>5.7</td>\n      <td>3.0</td>\n      <td>4.2</td>\n      <td>1.2</td>\n      <td>Versicolor</td>\n    </tr>\n    <tr>\n      <th>96</th>\n      <td>5.7</td>\n      <td>2.9</td>\n      <td>4.2</td>\n      <td>1.3</td>\n      <td>Versicolor</td>\n    </tr>\n    <tr>\n      <th>97</th>\n      <td>6.2</td>\n      <td>2.9</td>\n      <td>4.3</td>\n      <td>1.3</td>\n      <td>Versicolor</td>\n    </tr>\n    <tr>\n      <th>98</th>\n      <td>5.1</td>\n      <td>2.5</td>\n      <td>3.0</td>\n      <td>1.1</td>\n      <td>Versicolor</td>\n    </tr>\n    <tr>\n      <th>99</th>\n      <td>5.7</td>\n      <td>2.8</td>\n      <td>4.1</td>\n      <td>1.3</td>\n      <td>Versicolor</td>\n    </tr>\n  </tbody>\n</table>\n</div>"
     },
     "execution_count": 54,
     "metadata": {},
     "output_type": "execute_result"
    }
   ],
   "source": [
    "iris_versicolor = iris[ iris[\"variety\"] == 'Versicolor' ]\n",
    "\n",
    "iris_versicolor"
   ],
   "metadata": {
    "collapsed": false,
    "ExecuteTime": {
     "end_time": "2023-10-05T00:27:20.043330Z",
     "start_time": "2023-10-05T00:27:20.032375Z"
    }
   },
   "id": "c8184ffae1a6b694"
  },
  {
   "cell_type": "code",
   "execution_count": 55,
   "outputs": [
    {
     "data": {
      "text/plain": "    sepal.length  sepal.width  petal.length  petal.width variety\n0            5.1          3.5           1.4          0.2  Setosa\n1            4.9          3.0           1.4          0.2  Setosa\n2            4.7          3.2           1.3          0.2  Setosa\n3            4.6          3.1           1.5          0.2  Setosa\n4            5.0          3.6           1.4          0.2  Setosa\n5            5.4          3.9           1.7          0.4  Setosa\n6            4.6          3.4           1.4          0.3  Setosa\n7            5.0          3.4           1.5          0.2  Setosa\n8            4.4          2.9           1.4          0.2  Setosa\n9            4.9          3.1           1.5          0.1  Setosa\n10           5.4          3.7           1.5          0.2  Setosa\n11           4.8          3.4           1.6          0.2  Setosa\n12           4.8          3.0           1.4          0.1  Setosa\n13           4.3          3.0           1.1          0.1  Setosa\n14           5.8          4.0           1.2          0.2  Setosa\n15           5.7          4.4           1.5          0.4  Setosa\n16           5.4          3.9           1.3          0.4  Setosa\n17           5.1          3.5           1.4          0.3  Setosa\n18           5.7          3.8           1.7          0.3  Setosa\n19           5.1          3.8           1.5          0.3  Setosa\n20           5.4          3.4           1.7          0.2  Setosa\n21           5.1          3.7           1.5          0.4  Setosa\n22           4.6          3.6           1.0          0.2  Setosa\n23           5.1          3.3           1.7          0.5  Setosa\n24           4.8          3.4           1.9          0.2  Setosa\n25           5.0          3.0           1.6          0.2  Setosa\n26           5.0          3.4           1.6          0.4  Setosa\n27           5.2          3.5           1.5          0.2  Setosa\n28           5.2          3.4           1.4          0.2  Setosa\n29           4.7          3.2           1.6          0.2  Setosa\n30           4.8          3.1           1.6          0.2  Setosa\n31           5.4          3.4           1.5          0.4  Setosa\n32           5.2          4.1           1.5          0.1  Setosa\n33           5.5          4.2           1.4          0.2  Setosa\n34           4.9          3.1           1.5          0.2  Setosa\n35           5.0          3.2           1.2          0.2  Setosa\n36           5.5          3.5           1.3          0.2  Setosa\n37           4.9          3.6           1.4          0.1  Setosa\n38           4.4          3.0           1.3          0.2  Setosa\n39           5.1          3.4           1.5          0.2  Setosa\n40           5.0          3.5           1.3          0.3  Setosa\n41           4.5          2.3           1.3          0.3  Setosa\n42           4.4          3.2           1.3          0.2  Setosa\n43           5.0          3.5           1.6          0.6  Setosa\n44           5.1          3.8           1.9          0.4  Setosa\n45           4.8          3.0           1.4          0.3  Setosa\n46           5.1          3.8           1.6          0.2  Setosa\n47           4.6          3.2           1.4          0.2  Setosa\n48           5.3          3.7           1.5          0.2  Setosa\n49           5.0          3.3           1.4          0.2  Setosa",
      "text/html": "<div>\n<style scoped>\n    .dataframe tbody tr th:only-of-type {\n        vertical-align: middle;\n    }\n\n    .dataframe tbody tr th {\n        vertical-align: top;\n    }\n\n    .dataframe thead th {\n        text-align: right;\n    }\n</style>\n<table border=\"1\" class=\"dataframe\">\n  <thead>\n    <tr style=\"text-align: right;\">\n      <th></th>\n      <th>sepal.length</th>\n      <th>sepal.width</th>\n      <th>petal.length</th>\n      <th>petal.width</th>\n      <th>variety</th>\n    </tr>\n  </thead>\n  <tbody>\n    <tr>\n      <th>0</th>\n      <td>5.1</td>\n      <td>3.5</td>\n      <td>1.4</td>\n      <td>0.2</td>\n      <td>Setosa</td>\n    </tr>\n    <tr>\n      <th>1</th>\n      <td>4.9</td>\n      <td>3.0</td>\n      <td>1.4</td>\n      <td>0.2</td>\n      <td>Setosa</td>\n    </tr>\n    <tr>\n      <th>2</th>\n      <td>4.7</td>\n      <td>3.2</td>\n      <td>1.3</td>\n      <td>0.2</td>\n      <td>Setosa</td>\n    </tr>\n    <tr>\n      <th>3</th>\n      <td>4.6</td>\n      <td>3.1</td>\n      <td>1.5</td>\n      <td>0.2</td>\n      <td>Setosa</td>\n    </tr>\n    <tr>\n      <th>4</th>\n      <td>5.0</td>\n      <td>3.6</td>\n      <td>1.4</td>\n      <td>0.2</td>\n      <td>Setosa</td>\n    </tr>\n    <tr>\n      <th>5</th>\n      <td>5.4</td>\n      <td>3.9</td>\n      <td>1.7</td>\n      <td>0.4</td>\n      <td>Setosa</td>\n    </tr>\n    <tr>\n      <th>6</th>\n      <td>4.6</td>\n      <td>3.4</td>\n      <td>1.4</td>\n      <td>0.3</td>\n      <td>Setosa</td>\n    </tr>\n    <tr>\n      <th>7</th>\n      <td>5.0</td>\n      <td>3.4</td>\n      <td>1.5</td>\n      <td>0.2</td>\n      <td>Setosa</td>\n    </tr>\n    <tr>\n      <th>8</th>\n      <td>4.4</td>\n      <td>2.9</td>\n      <td>1.4</td>\n      <td>0.2</td>\n      <td>Setosa</td>\n    </tr>\n    <tr>\n      <th>9</th>\n      <td>4.9</td>\n      <td>3.1</td>\n      <td>1.5</td>\n      <td>0.1</td>\n      <td>Setosa</td>\n    </tr>\n    <tr>\n      <th>10</th>\n      <td>5.4</td>\n      <td>3.7</td>\n      <td>1.5</td>\n      <td>0.2</td>\n      <td>Setosa</td>\n    </tr>\n    <tr>\n      <th>11</th>\n      <td>4.8</td>\n      <td>3.4</td>\n      <td>1.6</td>\n      <td>0.2</td>\n      <td>Setosa</td>\n    </tr>\n    <tr>\n      <th>12</th>\n      <td>4.8</td>\n      <td>3.0</td>\n      <td>1.4</td>\n      <td>0.1</td>\n      <td>Setosa</td>\n    </tr>\n    <tr>\n      <th>13</th>\n      <td>4.3</td>\n      <td>3.0</td>\n      <td>1.1</td>\n      <td>0.1</td>\n      <td>Setosa</td>\n    </tr>\n    <tr>\n      <th>14</th>\n      <td>5.8</td>\n      <td>4.0</td>\n      <td>1.2</td>\n      <td>0.2</td>\n      <td>Setosa</td>\n    </tr>\n    <tr>\n      <th>15</th>\n      <td>5.7</td>\n      <td>4.4</td>\n      <td>1.5</td>\n      <td>0.4</td>\n      <td>Setosa</td>\n    </tr>\n    <tr>\n      <th>16</th>\n      <td>5.4</td>\n      <td>3.9</td>\n      <td>1.3</td>\n      <td>0.4</td>\n      <td>Setosa</td>\n    </tr>\n    <tr>\n      <th>17</th>\n      <td>5.1</td>\n      <td>3.5</td>\n      <td>1.4</td>\n      <td>0.3</td>\n      <td>Setosa</td>\n    </tr>\n    <tr>\n      <th>18</th>\n      <td>5.7</td>\n      <td>3.8</td>\n      <td>1.7</td>\n      <td>0.3</td>\n      <td>Setosa</td>\n    </tr>\n    <tr>\n      <th>19</th>\n      <td>5.1</td>\n      <td>3.8</td>\n      <td>1.5</td>\n      <td>0.3</td>\n      <td>Setosa</td>\n    </tr>\n    <tr>\n      <th>20</th>\n      <td>5.4</td>\n      <td>3.4</td>\n      <td>1.7</td>\n      <td>0.2</td>\n      <td>Setosa</td>\n    </tr>\n    <tr>\n      <th>21</th>\n      <td>5.1</td>\n      <td>3.7</td>\n      <td>1.5</td>\n      <td>0.4</td>\n      <td>Setosa</td>\n    </tr>\n    <tr>\n      <th>22</th>\n      <td>4.6</td>\n      <td>3.6</td>\n      <td>1.0</td>\n      <td>0.2</td>\n      <td>Setosa</td>\n    </tr>\n    <tr>\n      <th>23</th>\n      <td>5.1</td>\n      <td>3.3</td>\n      <td>1.7</td>\n      <td>0.5</td>\n      <td>Setosa</td>\n    </tr>\n    <tr>\n      <th>24</th>\n      <td>4.8</td>\n      <td>3.4</td>\n      <td>1.9</td>\n      <td>0.2</td>\n      <td>Setosa</td>\n    </tr>\n    <tr>\n      <th>25</th>\n      <td>5.0</td>\n      <td>3.0</td>\n      <td>1.6</td>\n      <td>0.2</td>\n      <td>Setosa</td>\n    </tr>\n    <tr>\n      <th>26</th>\n      <td>5.0</td>\n      <td>3.4</td>\n      <td>1.6</td>\n      <td>0.4</td>\n      <td>Setosa</td>\n    </tr>\n    <tr>\n      <th>27</th>\n      <td>5.2</td>\n      <td>3.5</td>\n      <td>1.5</td>\n      <td>0.2</td>\n      <td>Setosa</td>\n    </tr>\n    <tr>\n      <th>28</th>\n      <td>5.2</td>\n      <td>3.4</td>\n      <td>1.4</td>\n      <td>0.2</td>\n      <td>Setosa</td>\n    </tr>\n    <tr>\n      <th>29</th>\n      <td>4.7</td>\n      <td>3.2</td>\n      <td>1.6</td>\n      <td>0.2</td>\n      <td>Setosa</td>\n    </tr>\n    <tr>\n      <th>30</th>\n      <td>4.8</td>\n      <td>3.1</td>\n      <td>1.6</td>\n      <td>0.2</td>\n      <td>Setosa</td>\n    </tr>\n    <tr>\n      <th>31</th>\n      <td>5.4</td>\n      <td>3.4</td>\n      <td>1.5</td>\n      <td>0.4</td>\n      <td>Setosa</td>\n    </tr>\n    <tr>\n      <th>32</th>\n      <td>5.2</td>\n      <td>4.1</td>\n      <td>1.5</td>\n      <td>0.1</td>\n      <td>Setosa</td>\n    </tr>\n    <tr>\n      <th>33</th>\n      <td>5.5</td>\n      <td>4.2</td>\n      <td>1.4</td>\n      <td>0.2</td>\n      <td>Setosa</td>\n    </tr>\n    <tr>\n      <th>34</th>\n      <td>4.9</td>\n      <td>3.1</td>\n      <td>1.5</td>\n      <td>0.2</td>\n      <td>Setosa</td>\n    </tr>\n    <tr>\n      <th>35</th>\n      <td>5.0</td>\n      <td>3.2</td>\n      <td>1.2</td>\n      <td>0.2</td>\n      <td>Setosa</td>\n    </tr>\n    <tr>\n      <th>36</th>\n      <td>5.5</td>\n      <td>3.5</td>\n      <td>1.3</td>\n      <td>0.2</td>\n      <td>Setosa</td>\n    </tr>\n    <tr>\n      <th>37</th>\n      <td>4.9</td>\n      <td>3.6</td>\n      <td>1.4</td>\n      <td>0.1</td>\n      <td>Setosa</td>\n    </tr>\n    <tr>\n      <th>38</th>\n      <td>4.4</td>\n      <td>3.0</td>\n      <td>1.3</td>\n      <td>0.2</td>\n      <td>Setosa</td>\n    </tr>\n    <tr>\n      <th>39</th>\n      <td>5.1</td>\n      <td>3.4</td>\n      <td>1.5</td>\n      <td>0.2</td>\n      <td>Setosa</td>\n    </tr>\n    <tr>\n      <th>40</th>\n      <td>5.0</td>\n      <td>3.5</td>\n      <td>1.3</td>\n      <td>0.3</td>\n      <td>Setosa</td>\n    </tr>\n    <tr>\n      <th>41</th>\n      <td>4.5</td>\n      <td>2.3</td>\n      <td>1.3</td>\n      <td>0.3</td>\n      <td>Setosa</td>\n    </tr>\n    <tr>\n      <th>42</th>\n      <td>4.4</td>\n      <td>3.2</td>\n      <td>1.3</td>\n      <td>0.2</td>\n      <td>Setosa</td>\n    </tr>\n    <tr>\n      <th>43</th>\n      <td>5.0</td>\n      <td>3.5</td>\n      <td>1.6</td>\n      <td>0.6</td>\n      <td>Setosa</td>\n    </tr>\n    <tr>\n      <th>44</th>\n      <td>5.1</td>\n      <td>3.8</td>\n      <td>1.9</td>\n      <td>0.4</td>\n      <td>Setosa</td>\n    </tr>\n    <tr>\n      <th>45</th>\n      <td>4.8</td>\n      <td>3.0</td>\n      <td>1.4</td>\n      <td>0.3</td>\n      <td>Setosa</td>\n    </tr>\n    <tr>\n      <th>46</th>\n      <td>5.1</td>\n      <td>3.8</td>\n      <td>1.6</td>\n      <td>0.2</td>\n      <td>Setosa</td>\n    </tr>\n    <tr>\n      <th>47</th>\n      <td>4.6</td>\n      <td>3.2</td>\n      <td>1.4</td>\n      <td>0.2</td>\n      <td>Setosa</td>\n    </tr>\n    <tr>\n      <th>48</th>\n      <td>5.3</td>\n      <td>3.7</td>\n      <td>1.5</td>\n      <td>0.2</td>\n      <td>Setosa</td>\n    </tr>\n    <tr>\n      <th>49</th>\n      <td>5.0</td>\n      <td>3.3</td>\n      <td>1.4</td>\n      <td>0.2</td>\n      <td>Setosa</td>\n    </tr>\n  </tbody>\n</table>\n</div>"
     },
     "execution_count": 55,
     "metadata": {},
     "output_type": "execute_result"
    }
   ],
   "source": [
    "iris_setosa = iris[ iris[\"variety\"] == 'Setosa' ]\n",
    "\n",
    "iris_setosa"
   ],
   "metadata": {
    "collapsed": false,
    "ExecuteTime": {
     "end_time": "2023-10-05T00:28:08.078340Z",
     "start_time": "2023-10-05T00:28:07.994423Z"
    }
   },
   "id": "57549ac3c3e25af5"
  },
  {
   "cell_type": "code",
   "execution_count": 56,
   "outputs": [
    {
     "data": {
      "text/plain": "     sepal.length  sepal.width  petal.length  petal.width    variety\n100           6.3          3.3           6.0          2.5  Virginica\n101           5.8          2.7           5.1          1.9  Virginica\n102           7.1          3.0           5.9          2.1  Virginica\n103           6.3          2.9           5.6          1.8  Virginica\n104           6.5          3.0           5.8          2.2  Virginica\n105           7.6          3.0           6.6          2.1  Virginica\n106           4.9          2.5           4.5          1.7  Virginica\n107           7.3          2.9           6.3          1.8  Virginica\n108           6.7          2.5           5.8          1.8  Virginica\n109           7.2          3.6           6.1          2.5  Virginica\n110           6.5          3.2           5.1          2.0  Virginica\n111           6.4          2.7           5.3          1.9  Virginica\n112           6.8          3.0           5.5          2.1  Virginica\n113           5.7          2.5           5.0          2.0  Virginica\n114           5.8          2.8           5.1          2.4  Virginica\n115           6.4          3.2           5.3          2.3  Virginica\n116           6.5          3.0           5.5          1.8  Virginica\n117           7.7          3.8           6.7          2.2  Virginica\n118           7.7          2.6           6.9          2.3  Virginica\n119           6.0          2.2           5.0          1.5  Virginica\n120           6.9          3.2           5.7          2.3  Virginica\n121           5.6          2.8           4.9          2.0  Virginica\n122           7.7          2.8           6.7          2.0  Virginica\n123           6.3          2.7           4.9          1.8  Virginica\n124           6.7          3.3           5.7          2.1  Virginica\n125           7.2          3.2           6.0          1.8  Virginica\n126           6.2          2.8           4.8          1.8  Virginica\n127           6.1          3.0           4.9          1.8  Virginica\n128           6.4          2.8           5.6          2.1  Virginica\n129           7.2          3.0           5.8          1.6  Virginica\n130           7.4          2.8           6.1          1.9  Virginica\n131           7.9          3.8           6.4          2.0  Virginica\n132           6.4          2.8           5.6          2.2  Virginica\n133           6.3          2.8           5.1          1.5  Virginica\n134           6.1          2.6           5.6          1.4  Virginica\n135           7.7          3.0           6.1          2.3  Virginica\n136           6.3          3.4           5.6          2.4  Virginica\n137           6.4          3.1           5.5          1.8  Virginica\n138           6.0          3.0           4.8          1.8  Virginica\n139           6.9          3.1           5.4          2.1  Virginica\n140           6.7          3.1           5.6          2.4  Virginica\n141           6.9          3.1           5.1          2.3  Virginica\n142           5.8          2.7           5.1          1.9  Virginica\n143           6.8          3.2           5.9          2.3  Virginica\n144           6.7          3.3           5.7          2.5  Virginica\n145           6.7          3.0           5.2          2.3  Virginica\n146           6.3          2.5           5.0          1.9  Virginica\n147           6.5          3.0           5.2          2.0  Virginica\n148           6.2          3.4           5.4          2.3  Virginica\n149           5.9          3.0           5.1          1.8  Virginica",
      "text/html": "<div>\n<style scoped>\n    .dataframe tbody tr th:only-of-type {\n        vertical-align: middle;\n    }\n\n    .dataframe tbody tr th {\n        vertical-align: top;\n    }\n\n    .dataframe thead th {\n        text-align: right;\n    }\n</style>\n<table border=\"1\" class=\"dataframe\">\n  <thead>\n    <tr style=\"text-align: right;\">\n      <th></th>\n      <th>sepal.length</th>\n      <th>sepal.width</th>\n      <th>petal.length</th>\n      <th>petal.width</th>\n      <th>variety</th>\n    </tr>\n  </thead>\n  <tbody>\n    <tr>\n      <th>100</th>\n      <td>6.3</td>\n      <td>3.3</td>\n      <td>6.0</td>\n      <td>2.5</td>\n      <td>Virginica</td>\n    </tr>\n    <tr>\n      <th>101</th>\n      <td>5.8</td>\n      <td>2.7</td>\n      <td>5.1</td>\n      <td>1.9</td>\n      <td>Virginica</td>\n    </tr>\n    <tr>\n      <th>102</th>\n      <td>7.1</td>\n      <td>3.0</td>\n      <td>5.9</td>\n      <td>2.1</td>\n      <td>Virginica</td>\n    </tr>\n    <tr>\n      <th>103</th>\n      <td>6.3</td>\n      <td>2.9</td>\n      <td>5.6</td>\n      <td>1.8</td>\n      <td>Virginica</td>\n    </tr>\n    <tr>\n      <th>104</th>\n      <td>6.5</td>\n      <td>3.0</td>\n      <td>5.8</td>\n      <td>2.2</td>\n      <td>Virginica</td>\n    </tr>\n    <tr>\n      <th>105</th>\n      <td>7.6</td>\n      <td>3.0</td>\n      <td>6.6</td>\n      <td>2.1</td>\n      <td>Virginica</td>\n    </tr>\n    <tr>\n      <th>106</th>\n      <td>4.9</td>\n      <td>2.5</td>\n      <td>4.5</td>\n      <td>1.7</td>\n      <td>Virginica</td>\n    </tr>\n    <tr>\n      <th>107</th>\n      <td>7.3</td>\n      <td>2.9</td>\n      <td>6.3</td>\n      <td>1.8</td>\n      <td>Virginica</td>\n    </tr>\n    <tr>\n      <th>108</th>\n      <td>6.7</td>\n      <td>2.5</td>\n      <td>5.8</td>\n      <td>1.8</td>\n      <td>Virginica</td>\n    </tr>\n    <tr>\n      <th>109</th>\n      <td>7.2</td>\n      <td>3.6</td>\n      <td>6.1</td>\n      <td>2.5</td>\n      <td>Virginica</td>\n    </tr>\n    <tr>\n      <th>110</th>\n      <td>6.5</td>\n      <td>3.2</td>\n      <td>5.1</td>\n      <td>2.0</td>\n      <td>Virginica</td>\n    </tr>\n    <tr>\n      <th>111</th>\n      <td>6.4</td>\n      <td>2.7</td>\n      <td>5.3</td>\n      <td>1.9</td>\n      <td>Virginica</td>\n    </tr>\n    <tr>\n      <th>112</th>\n      <td>6.8</td>\n      <td>3.0</td>\n      <td>5.5</td>\n      <td>2.1</td>\n      <td>Virginica</td>\n    </tr>\n    <tr>\n      <th>113</th>\n      <td>5.7</td>\n      <td>2.5</td>\n      <td>5.0</td>\n      <td>2.0</td>\n      <td>Virginica</td>\n    </tr>\n    <tr>\n      <th>114</th>\n      <td>5.8</td>\n      <td>2.8</td>\n      <td>5.1</td>\n      <td>2.4</td>\n      <td>Virginica</td>\n    </tr>\n    <tr>\n      <th>115</th>\n      <td>6.4</td>\n      <td>3.2</td>\n      <td>5.3</td>\n      <td>2.3</td>\n      <td>Virginica</td>\n    </tr>\n    <tr>\n      <th>116</th>\n      <td>6.5</td>\n      <td>3.0</td>\n      <td>5.5</td>\n      <td>1.8</td>\n      <td>Virginica</td>\n    </tr>\n    <tr>\n      <th>117</th>\n      <td>7.7</td>\n      <td>3.8</td>\n      <td>6.7</td>\n      <td>2.2</td>\n      <td>Virginica</td>\n    </tr>\n    <tr>\n      <th>118</th>\n      <td>7.7</td>\n      <td>2.6</td>\n      <td>6.9</td>\n      <td>2.3</td>\n      <td>Virginica</td>\n    </tr>\n    <tr>\n      <th>119</th>\n      <td>6.0</td>\n      <td>2.2</td>\n      <td>5.0</td>\n      <td>1.5</td>\n      <td>Virginica</td>\n    </tr>\n    <tr>\n      <th>120</th>\n      <td>6.9</td>\n      <td>3.2</td>\n      <td>5.7</td>\n      <td>2.3</td>\n      <td>Virginica</td>\n    </tr>\n    <tr>\n      <th>121</th>\n      <td>5.6</td>\n      <td>2.8</td>\n      <td>4.9</td>\n      <td>2.0</td>\n      <td>Virginica</td>\n    </tr>\n    <tr>\n      <th>122</th>\n      <td>7.7</td>\n      <td>2.8</td>\n      <td>6.7</td>\n      <td>2.0</td>\n      <td>Virginica</td>\n    </tr>\n    <tr>\n      <th>123</th>\n      <td>6.3</td>\n      <td>2.7</td>\n      <td>4.9</td>\n      <td>1.8</td>\n      <td>Virginica</td>\n    </tr>\n    <tr>\n      <th>124</th>\n      <td>6.7</td>\n      <td>3.3</td>\n      <td>5.7</td>\n      <td>2.1</td>\n      <td>Virginica</td>\n    </tr>\n    <tr>\n      <th>125</th>\n      <td>7.2</td>\n      <td>3.2</td>\n      <td>6.0</td>\n      <td>1.8</td>\n      <td>Virginica</td>\n    </tr>\n    <tr>\n      <th>126</th>\n      <td>6.2</td>\n      <td>2.8</td>\n      <td>4.8</td>\n      <td>1.8</td>\n      <td>Virginica</td>\n    </tr>\n    <tr>\n      <th>127</th>\n      <td>6.1</td>\n      <td>3.0</td>\n      <td>4.9</td>\n      <td>1.8</td>\n      <td>Virginica</td>\n    </tr>\n    <tr>\n      <th>128</th>\n      <td>6.4</td>\n      <td>2.8</td>\n      <td>5.6</td>\n      <td>2.1</td>\n      <td>Virginica</td>\n    </tr>\n    <tr>\n      <th>129</th>\n      <td>7.2</td>\n      <td>3.0</td>\n      <td>5.8</td>\n      <td>1.6</td>\n      <td>Virginica</td>\n    </tr>\n    <tr>\n      <th>130</th>\n      <td>7.4</td>\n      <td>2.8</td>\n      <td>6.1</td>\n      <td>1.9</td>\n      <td>Virginica</td>\n    </tr>\n    <tr>\n      <th>131</th>\n      <td>7.9</td>\n      <td>3.8</td>\n      <td>6.4</td>\n      <td>2.0</td>\n      <td>Virginica</td>\n    </tr>\n    <tr>\n      <th>132</th>\n      <td>6.4</td>\n      <td>2.8</td>\n      <td>5.6</td>\n      <td>2.2</td>\n      <td>Virginica</td>\n    </tr>\n    <tr>\n      <th>133</th>\n      <td>6.3</td>\n      <td>2.8</td>\n      <td>5.1</td>\n      <td>1.5</td>\n      <td>Virginica</td>\n    </tr>\n    <tr>\n      <th>134</th>\n      <td>6.1</td>\n      <td>2.6</td>\n      <td>5.6</td>\n      <td>1.4</td>\n      <td>Virginica</td>\n    </tr>\n    <tr>\n      <th>135</th>\n      <td>7.7</td>\n      <td>3.0</td>\n      <td>6.1</td>\n      <td>2.3</td>\n      <td>Virginica</td>\n    </tr>\n    <tr>\n      <th>136</th>\n      <td>6.3</td>\n      <td>3.4</td>\n      <td>5.6</td>\n      <td>2.4</td>\n      <td>Virginica</td>\n    </tr>\n    <tr>\n      <th>137</th>\n      <td>6.4</td>\n      <td>3.1</td>\n      <td>5.5</td>\n      <td>1.8</td>\n      <td>Virginica</td>\n    </tr>\n    <tr>\n      <th>138</th>\n      <td>6.0</td>\n      <td>3.0</td>\n      <td>4.8</td>\n      <td>1.8</td>\n      <td>Virginica</td>\n    </tr>\n    <tr>\n      <th>139</th>\n      <td>6.9</td>\n      <td>3.1</td>\n      <td>5.4</td>\n      <td>2.1</td>\n      <td>Virginica</td>\n    </tr>\n    <tr>\n      <th>140</th>\n      <td>6.7</td>\n      <td>3.1</td>\n      <td>5.6</td>\n      <td>2.4</td>\n      <td>Virginica</td>\n    </tr>\n    <tr>\n      <th>141</th>\n      <td>6.9</td>\n      <td>3.1</td>\n      <td>5.1</td>\n      <td>2.3</td>\n      <td>Virginica</td>\n    </tr>\n    <tr>\n      <th>142</th>\n      <td>5.8</td>\n      <td>2.7</td>\n      <td>5.1</td>\n      <td>1.9</td>\n      <td>Virginica</td>\n    </tr>\n    <tr>\n      <th>143</th>\n      <td>6.8</td>\n      <td>3.2</td>\n      <td>5.9</td>\n      <td>2.3</td>\n      <td>Virginica</td>\n    </tr>\n    <tr>\n      <th>144</th>\n      <td>6.7</td>\n      <td>3.3</td>\n      <td>5.7</td>\n      <td>2.5</td>\n      <td>Virginica</td>\n    </tr>\n    <tr>\n      <th>145</th>\n      <td>6.7</td>\n      <td>3.0</td>\n      <td>5.2</td>\n      <td>2.3</td>\n      <td>Virginica</td>\n    </tr>\n    <tr>\n      <th>146</th>\n      <td>6.3</td>\n      <td>2.5</td>\n      <td>5.0</td>\n      <td>1.9</td>\n      <td>Virginica</td>\n    </tr>\n    <tr>\n      <th>147</th>\n      <td>6.5</td>\n      <td>3.0</td>\n      <td>5.2</td>\n      <td>2.0</td>\n      <td>Virginica</td>\n    </tr>\n    <tr>\n      <th>148</th>\n      <td>6.2</td>\n      <td>3.4</td>\n      <td>5.4</td>\n      <td>2.3</td>\n      <td>Virginica</td>\n    </tr>\n    <tr>\n      <th>149</th>\n      <td>5.9</td>\n      <td>3.0</td>\n      <td>5.1</td>\n      <td>1.8</td>\n      <td>Virginica</td>\n    </tr>\n  </tbody>\n</table>\n</div>"
     },
     "execution_count": 56,
     "metadata": {},
     "output_type": "execute_result"
    }
   ],
   "source": [
    "iris_virginica = iris[ iris[\"variety\"] == 'Virginica' ]\n",
    "\n",
    "iris_virginica"
   ],
   "metadata": {
    "collapsed": false,
    "ExecuteTime": {
     "end_time": "2023-10-05T00:28:36.780967Z",
     "start_time": "2023-10-05T00:28:36.745086Z"
    }
   },
   "id": "64a6ef77de534ef9"
  },
  {
   "cell_type": "code",
   "execution_count": 59,
   "outputs": [
    {
     "data": {
      "text/plain": "<Axes: >"
     },
     "execution_count": 59,
     "metadata": {},
     "output_type": "execute_result"
    },
    {
     "data": {
      "text/plain": "<Figure size 640x480 with 1 Axes>",
      "image/png": "[encoded data removed]"
     },
     "metadata": {},
     "output_type": "display_data"
    }
   ],
   "source": [
    "import seaborn\n",
    "\n",
    "import pandas as pd\n",
    "\n",
    "sepals = pd.DataFrame({\n",
    "    \"VERSICOLOR_SEPAL_LENGTH\": iris_versicolor[\"sepal.length\"],\n",
    "    \"VIRGINICA_SEPAL_LENGTH\": iris_virginica[\"sepal.length\"],\n",
    "    \"SETOSA_SEPAL_LENGTH\": iris_setosa[\"sepal.length\"]\n",
    "})\n",
    "\n",
    "seaborn.boxplot(sepals)"
   ],
   "metadata": {
    "collapsed": false,
    "ExecuteTime": {
     "end_time": "2023-10-05T00:32:29.087669Z",
     "start_time": "2023-10-05T00:32:28.197264Z"
    }
   },
   "id": "a21645b68dfaca38"
  },
  {
   "cell_type": "code",
   "execution_count": 60,
   "outputs": [
    {
     "data": {
      "text/plain": "       VERSICOLOR_SEPAL_LENGTH  VIRGINICA_SEPAL_LENGTH  SETOSA_SEPAL_LENGTH\ncount                50.000000                50.00000             50.00000\nmean                  5.936000                 6.58800              5.00600\nstd                   0.516171                 0.63588              0.35249\nmin                   4.900000                 4.90000              4.30000\n25%                   5.600000                 6.22500              4.80000\n50%                   5.900000                 6.50000              5.00000\n75%                   6.300000                 6.90000              5.20000\nmax                   7.000000                 7.90000              5.80000",
      "text/html": "<div>\n<style scoped>\n    .dataframe tbody tr th:only-of-type {\n        vertical-align: middle;\n    }\n\n    .dataframe tbody tr th {\n        vertical-align: top;\n    }\n\n    .dataframe thead th {\n        text-align: right;\n    }\n</style>\n<table border=\"1\" class=\"dataframe\">\n  <thead>\n    <tr style=\"text-align: right;\">\n      <th></th>\n      <th>VERSICOLOR_SEPAL_LENGTH</th>\n      <th>VIRGINICA_SEPAL_LENGTH</th>\n      <th>SETOSA_SEPAL_LENGTH</th>\n    </tr>\n  </thead>\n  <tbody>\n    <tr>\n      <th>count</th>\n      <td>50.000000</td>\n      <td>50.00000</td>\n      <td>50.00000</td>\n    </tr>\n    <tr>\n      <th>mean</th>\n      <td>5.936000</td>\n      <td>6.58800</td>\n      <td>5.00600</td>\n    </tr>\n    <tr>\n      <th>std</th>\n      <td>0.516171</td>\n      <td>0.63588</td>\n      <td>0.35249</td>\n    </tr>\n    <tr>\n      <th>min</th>\n      <td>4.900000</td>\n      <td>4.90000</td>\n      <td>4.30000</td>\n    </tr>\n    <tr>\n      <th>25%</th>\n      <td>5.600000</td>\n      <td>6.22500</td>\n      <td>4.80000</td>\n    </tr>\n    <tr>\n      <th>50%</th>\n      <td>5.900000</td>\n      <td>6.50000</td>\n      <td>5.00000</td>\n    </tr>\n    <tr>\n      <th>75%</th>\n      <td>6.300000</td>\n      <td>6.90000</td>\n      <td>5.20000</td>\n    </tr>\n    <tr>\n      <th>max</th>\n      <td>7.000000</td>\n      <td>7.90000</td>\n      <td>5.80000</td>\n    </tr>\n  </tbody>\n</table>\n</div>"
     },
     "execution_count": 60,
     "metadata": {},
     "output_type": "execute_result"
    }
   ],
   "source": [
    "sepals.describe()"
   ],
   "metadata": {
    "collapsed": false,
    "ExecuteTime": {
     "end_time": "2023-10-05T00:33:09.437435Z",
     "start_time": "2023-10-05T00:33:09.402430Z"
    }
   },
   "id": "74124c3682f7189a"
  },
  {
   "cell_type": "code",
   "execution_count": 82,
   "outputs": [
    {
     "data": {
      "text/plain": "<Axes: >"
     },
     "execution_count": 82,
     "metadata": {},
     "output_type": "execute_result"
    },
    {
     "data": {
      "text/plain": "<Figure size 640x480 with 1 Axes>",
      "image/png": "[encoded data removed]"
     },
     "metadata": {},
     "output_type": "display_data"
    }
   ],
   "source": [
    "import seaborn\n",
    "\n",
    "import pandas as pd\n",
    "\n",
    "petals = pd.DataFrame({\n",
    "    \"VERSICOLOR_PETAL_WIDTH\": iris_versicolor[\"petal.width\"],\n",
    "    \"VIRGINICA_PETAL_WIDTH\": iris_virginica[\"petal.width\"],\n",
    "    \"SETOSA_PETAL_WIDTH\": iris_setosa[\"petal.width\"]\n",
    "})\n",
    "\n",
    "seaborn.boxplot(petals)"
   ],
   "metadata": {
    "collapsed": false,
    "ExecuteTime": {
     "start_time": "2023-10-05T01:01:18.256198Z"
    }
   },
   "id": "f4835dbb4ada821a"
  },
  {
   "cell_type": "code",
   "execution_count": 83,
   "outputs": [
    {
     "data": {
      "text/plain": "       VERSICOLOR_PETAL_WIDTH  VIRGINICA_PETAL_WIDTH  SETOSA_PETAL_WIDTH\ncount               50.000000               50.00000           50.000000\nmean                 1.326000                2.02600            0.246000\nstd                  0.197753                0.27465            0.105386\nmin                  1.000000                1.40000            0.100000\n25%                  1.200000                1.80000            0.200000\n50%                  1.300000                2.00000            0.200000\n75%                  1.500000                2.30000            0.300000\nmax                  1.800000                2.50000            0.600000",
      "text/html": "<div>\n<style scoped>\n    .dataframe tbody tr th:only-of-type {\n        vertical-align: middle;\n    }\n\n    .dataframe tbody tr th {\n        vertical-align: top;\n    }\n\n    .dataframe thead th {\n        text-align: right;\n    }\n</style>\n<table border=\"1\" class=\"dataframe\">\n  <thead>\n    <tr style=\"text-align: right;\">\n      <th></th>\n      <th>VERSICOLOR_PETAL_WIDTH</th>\n      <th>VIRGINICA_PETAL_WIDTH</th>\n      <th>SETOSA_PETAL_WIDTH</th>\n    </tr>\n  </thead>\n  <tbody>\n    <tr>\n      <th>count</th>\n      <td>50.000000</td>\n      <td>50.00000</td>\n      <td>50.000000</td>\n    </tr>\n    <tr>\n      <th>mean</th>\n      <td>1.326000</td>\n      <td>2.02600</td>\n      <td>0.246000</td>\n    </tr>\n    <tr>\n      <th>std</th>\n      <td>0.197753</td>\n      <td>0.27465</td>\n      <td>0.105386</td>\n    </tr>\n    <tr>\n      <th>min</th>\n      <td>1.000000</td>\n      <td>1.40000</td>\n      <td>0.100000</td>\n    </tr>\n    <tr>\n      <th>25%</th>\n      <td>1.200000</td>\n      <td>1.80000</td>\n      <td>0.200000</td>\n    </tr>\n    <tr>\n      <th>50%</th>\n      <td>1.300000</td>\n      <td>2.00000</td>\n      <td>0.200000</td>\n    </tr>\n    <tr>\n      <th>75%</th>\n      <td>1.500000</td>\n      <td>2.30000</td>\n      <td>0.300000</td>\n    </tr>\n    <tr>\n      <th>max</th>\n      <td>1.800000</td>\n      <td>2.50000</td>\n      <td>0.600000</td>\n    </tr>\n  </tbody>\n</table>\n</div>"
     },
     "execution_count": 83,
     "metadata": {},
     "output_type": "execute_result"
    }
   ],
   "source": [
    "petals.describe()"
   ],
   "metadata": {
    "collapsed": false,
    "ExecuteTime": {
     "end_time": "2023-10-05T01:01:51.248692Z",
     "start_time": "2023-10-05T01:01:51.142999Z"
    }
   },
   "id": "33e4eafd5a318264"
  },
  {
   "cell_type": "markdown",
   "source": [
    "## 3. Construcción del modelo de aprendizaje (Árobles de Decisión, Máquinas de Soporte Vectorial, Redes Neuronales)"
   ],
   "metadata": {
    "collapsed": false
   },
   "id": "8cbd383dc331af1e"
  },
  {
   "cell_type": "markdown",
   "source": [
    "> PASO 1 - Instalar el paquete scikit-learn"
   ],
   "metadata": {
    "collapsed": false
   },
   "id": "8a84af71d787fe99"
  },
  {
   "cell_type": "code",
   "execution_count": 61,
   "outputs": [
    {
     "name": "stdout",
     "output_type": "stream",
     "text": [
      "Collecting scikit-learn\r\n",
      "  Obtaining dependency information for scikit-learn from https://files.pythonhosted.org/packages/db/0d/1f6d2cd52c886707b00ddb7ed2504cbf10903a60a7bebcd71f0f77d53505/scikit_learn-1.3.1-cp311-cp311-macosx_12_0_arm64.whl.metadata\r\n",
      "  Downloading scikit_learn-1.3.1-cp311-cp311-macosx_12_0_arm64.whl.metadata (11 kB)\r\n",
      "Requirement already satisfied: numpy<2.0,>=1.17.3 in ./venv/lib/python3.11/site-packages (from scikit-learn) (1.26.0)\r\n",
      "Collecting scipy>=1.5.0 (from scikit-learn)\r\n",
      "  Obtaining dependency information for scipy>=1.5.0 from https://files.pythonhosted.org/packages/50/8b/2057417a07a6fee8ed8be40e37bac4a502cae4cf44468a02962bbe81b8af/scipy-1.11.3-cp311-cp311-macosx_12_0_arm64.whl.metadata\r\n",
      "  Downloading scipy-1.11.3-cp311-cp311-macosx_12_0_arm64.whl.metadata (165 kB)\r\n",
      "\u001B[2K     \u001B[90m━━━━━━━━━━━━━━━━━━━━━━━━━━━━━━━━━━━━━\u001B[0m \u001B[32m165.4/165.4 kB\u001B[0m \u001B[31m766.8 kB/s\u001B[0m eta \u001B[36m0:00:00\u001B[0ma \u001B[36m0:00:01\u001B[0m\r\n",
      "\u001B[?25hCollecting joblib>=1.1.1 (from scikit-learn)\r\n",
      "  Obtaining dependency information for joblib>=1.1.1 from https://files.pythonhosted.org/packages/10/40/d551139c85db202f1f384ba8bcf96aca2f329440a844f924c8a0040b6d02/joblib-1.3.2-py3-none-any.whl.metadata\r\n",
      "  Downloading joblib-1.3.2-py3-none-any.whl.metadata (5.4 kB)\r\n",
      "Collecting threadpoolctl>=2.0.0 (from scikit-learn)\r\n",
      "  Obtaining dependency information for threadpoolctl>=2.0.0 from https://files.pythonhosted.org/packages/81/12/fd4dea011af9d69e1cad05c75f3f7202cdcbeac9b712eea58ca779a72865/threadpoolctl-3.2.0-py3-none-any.whl.metadata\r\n",
      "  Downloading threadpoolctl-3.2.0-py3-none-any.whl.metadata (10.0 kB)\r\n",
      "Downloading scikit_learn-1.3.1-cp311-cp311-macosx_12_0_arm64.whl (9.4 MB)\r\n",
      "\u001B[2K   \u001B[90m━━━━━━━━━━━━━━━━━━━━━━━━━━━━━━━━━━━━━━━━\u001B[0m \u001B[32m9.4/9.4 MB\u001B[0m \u001B[31m5.6 MB/s\u001B[0m eta \u001B[36m0:00:00\u001B[0m00:01\u001B[0m00:01\u001B[0mm\r\n",
      "\u001B[?25hDownloading joblib-1.3.2-py3-none-any.whl (302 kB)\r\n",
      "\u001B[2K   \u001B[90m━━━━━━━━━━━━━━━━━━━━━━━━━━━━━━━━━━━━━━━━\u001B[0m \u001B[32m302.2/302.2 kB\u001B[0m \u001B[31m2.1 MB/s\u001B[0m eta \u001B[36m0:00:00\u001B[0m00:01\u001B[0m\r\n",
      "\u001B[?25hDownloading scipy-1.11.3-cp311-cp311-macosx_12_0_arm64.whl (29.7 MB)\r\n",
      "\u001B[2K   \u001B[90m━━━━━━━━━━━━━━━━━━━━━━━━━━━━━━━━━━━━━━━━\u001B[0m \u001B[32m29.7/29.7 MB\u001B[0m \u001B[31m8.3 MB/s\u001B[0m eta \u001B[36m0:00:00\u001B[0m:00:01\u001B[0m0:01\u001B[0m\r\n",
      "\u001B[?25hDownloading threadpoolctl-3.2.0-py3-none-any.whl (15 kB)\r\n",
      "Installing collected packages: threadpoolctl, scipy, joblib, scikit-learn\r\n",
      "Successfully installed joblib-1.3.2 scikit-learn-1.3.1 scipy-1.11.3 threadpoolctl-3.2.0\r\n"
     ]
    }
   ],
   "source": [
    "! pip install scikit-learn"
   ],
   "metadata": {
    "collapsed": false,
    "ExecuteTime": {
     "end_time": "2023-10-05T00:40:01.306613Z",
     "start_time": "2023-10-05T00:39:15.496612Z"
    }
   },
   "id": "717fdaea00333aa4"
  },
  {
   "cell_type": "markdown",
   "source": [
    "> PASO 2 - Importar la librería en la que se encuentra el modelo de aprendizaje"
   ],
   "metadata": {
    "collapsed": false
   },
   "id": "5ac86e3d3195f1ec"
  },
  {
   "cell_type": "code",
   "execution_count": 62,
   "outputs": [],
   "source": [
    "from sklearn.tree import DecisionTreeClassifier"
   ],
   "metadata": {
    "collapsed": false,
    "ExecuteTime": {
     "end_time": "2023-10-05T00:43:24.254825Z",
     "start_time": "2023-10-05T00:43:15.196975Z"
    }
   },
   "id": "8331e518f737a95b"
  },
  {
   "cell_type": "markdown",
   "source": [
    "> Paso 3 - Construir el modelo de aprendizaje basado en el tipo de aprendizaje"
   ],
   "metadata": {
    "collapsed": false
   },
   "id": "3c517314028f98fe"
  },
  {
   "cell_type": "code",
   "execution_count": 94,
   "outputs": [],
   "source": [
    "clf = DecisionTreeClassifier(criterion=\"entropy\")\n",
    "# criterion=\"gini\"\n",
    "# criterion=\"entropy\"\n",
    "# criterion=\"log_loss\""
   ],
   "metadata": {
    "collapsed": false,
    "ExecuteTime": {
     "end_time": "2023-10-05T01:15:58.642948Z",
     "start_time": "2023-10-05T01:15:58.614136Z"
    }
   },
   "id": "191b3727f65cb89c"
  },
  {
   "cell_type": "markdown",
   "source": [
    "## 4. Entrenar el modelo de aprendizaje (construir la matriz `X` y el vector `y`)"
   ],
   "metadata": {
    "collapsed": false
   },
   "id": "8b9bee62d678ecce"
  },
  {
   "cell_type": "markdown",
   "source": [
    "> PASO 1 - Debemos tener una matriz numérica de características"
   ],
   "metadata": {
    "collapsed": false
   },
   "id": "721cbe63582608bd"
  },
  {
   "cell_type": "markdown",
   "source": [
    "Seleccionar las columnas que contienen las características numéricas"
   ],
   "metadata": {
    "collapsed": false
   },
   "id": "c12b7a89fe5cd191"
  },
  {
   "cell_type": "code",
   "execution_count": 64,
   "outputs": [
    {
     "data": {
      "text/plain": "     sepal.length  sepal.width  petal.length  petal.width\n0             5.1          3.5           1.4          0.2\n1             4.9          3.0           1.4          0.2\n2             4.7          3.2           1.3          0.2\n3             4.6          3.1           1.5          0.2\n4             5.0          3.6           1.4          0.2\n..            ...          ...           ...          ...\n145           6.7          3.0           5.2          2.3\n146           6.3          2.5           5.0          1.9\n147           6.5          3.0           5.2          2.0\n148           6.2          3.4           5.4          2.3\n149           5.9          3.0           5.1          1.8\n\n[150 rows x 4 columns]",
      "text/html": "<div>\n<style scoped>\n    .dataframe tbody tr th:only-of-type {\n        vertical-align: middle;\n    }\n\n    .dataframe tbody tr th {\n        vertical-align: top;\n    }\n\n    .dataframe thead th {\n        text-align: right;\n    }\n</style>\n<table border=\"1\" class=\"dataframe\">\n  <thead>\n    <tr style=\"text-align: right;\">\n      <th></th>\n      <th>sepal.length</th>\n      <th>sepal.width</th>\n      <th>petal.length</th>\n      <th>petal.width</th>\n    </tr>\n  </thead>\n  <tbody>\n    <tr>\n      <th>0</th>\n      <td>5.1</td>\n      <td>3.5</td>\n      <td>1.4</td>\n      <td>0.2</td>\n    </tr>\n    <tr>\n      <th>1</th>\n      <td>4.9</td>\n      <td>3.0</td>\n      <td>1.4</td>\n      <td>0.2</td>\n    </tr>\n    <tr>\n      <th>2</th>\n      <td>4.7</td>\n      <td>3.2</td>\n      <td>1.3</td>\n      <td>0.2</td>\n    </tr>\n    <tr>\n      <th>3</th>\n      <td>4.6</td>\n      <td>3.1</td>\n      <td>1.5</td>\n      <td>0.2</td>\n    </tr>\n    <tr>\n      <th>4</th>\n      <td>5.0</td>\n      <td>3.6</td>\n      <td>1.4</td>\n      <td>0.2</td>\n    </tr>\n    <tr>\n      <th>...</th>\n      <td>...</td>\n      <td>...</td>\n      <td>...</td>\n      <td>...</td>\n    </tr>\n    <tr>\n      <th>145</th>\n      <td>6.7</td>\n      <td>3.0</td>\n      <td>5.2</td>\n      <td>2.3</td>\n    </tr>\n    <tr>\n      <th>146</th>\n      <td>6.3</td>\n      <td>2.5</td>\n      <td>5.0</td>\n      <td>1.9</td>\n    </tr>\n    <tr>\n      <th>147</th>\n      <td>6.5</td>\n      <td>3.0</td>\n      <td>5.2</td>\n      <td>2.0</td>\n    </tr>\n    <tr>\n      <th>148</th>\n      <td>6.2</td>\n      <td>3.4</td>\n      <td>5.4</td>\n      <td>2.3</td>\n    </tr>\n    <tr>\n      <th>149</th>\n      <td>5.9</td>\n      <td>3.0</td>\n      <td>5.1</td>\n      <td>1.8</td>\n    </tr>\n  </tbody>\n</table>\n<p>150 rows × 4 columns</p>\n</div>"
     },
     "execution_count": 64,
     "metadata": {},
     "output_type": "execute_result"
    }
   ],
   "source": [
    "iris[ [\"sepal.length\", \"sepal.width\", \"petal.length\", \"petal.width\"] ]"
   ],
   "metadata": {
    "collapsed": false,
    "ExecuteTime": {
     "end_time": "2023-10-05T00:48:41.033947Z",
     "start_time": "2023-10-05T00:48:40.994275Z"
    }
   },
   "id": "61822fa92bfcbb60"
  },
  {
   "cell_type": "code",
   "execution_count": 68,
   "outputs": [
    {
     "data": {
      "text/plain": "array([[5.1, 3.5, 1.4, 0.2],\n       [4.9, 3. , 1.4, 0.2],\n       [4.7, 3.2, 1.3, 0.2],\n       [4.6, 3.1, 1.5, 0.2],\n       [5. , 3.6, 1.4, 0.2],\n       [5.4, 3.9, 1.7, 0.4],\n       [4.6, 3.4, 1.4, 0.3],\n       [5. , 3.4, 1.5, 0.2],\n       [4.4, 2.9, 1.4, 0.2],\n       [4.9, 3.1, 1.5, 0.1],\n       [5.4, 3.7, 1.5, 0.2],\n       [4.8, 3.4, 1.6, 0.2],\n       [4.8, 3. , 1.4, 0.1],\n       [4.3, 3. , 1.1, 0.1],\n       [5.8, 4. , 1.2, 0.2],\n       [5.7, 4.4, 1.5, 0.4],\n       [5.4, 3.9, 1.3, 0.4],\n       [5.1, 3.5, 1.4, 0.3],\n       [5.7, 3.8, 1.7, 0.3],\n       [5.1, 3.8, 1.5, 0.3],\n       [5.4, 3.4, 1.7, 0.2],\n       [5.1, 3.7, 1.5, 0.4],\n       [4.6, 3.6, 1. , 0.2],\n       [5.1, 3.3, 1.7, 0.5],\n       [4.8, 3.4, 1.9, 0.2],\n       [5. , 3. , 1.6, 0.2],\n       [5. , 3.4, 1.6, 0.4],\n       [5.2, 3.5, 1.5, 0.2],\n       [5.2, 3.4, 1.4, 0.2],\n       [4.7, 3.2, 1.6, 0.2],\n       [4.8, 3.1, 1.6, 0.2],\n       [5.4, 3.4, 1.5, 0.4],\n       [5.2, 4.1, 1.5, 0.1],\n       [5.5, 4.2, 1.4, 0.2],\n       [4.9, 3.1, 1.5, 0.2],\n       [5. , 3.2, 1.2, 0.2],\n       [5.5, 3.5, 1.3, 0.2],\n       [4.9, 3.6, 1.4, 0.1],\n       [4.4, 3. , 1.3, 0.2],\n       [5.1, 3.4, 1.5, 0.2],\n       [5. , 3.5, 1.3, 0.3],\n       [4.5, 2.3, 1.3, 0.3],\n       [4.4, 3.2, 1.3, 0.2],\n       [5. , 3.5, 1.6, 0.6],\n       [5.1, 3.8, 1.9, 0.4],\n       [4.8, 3. , 1.4, 0.3],\n       [5.1, 3.8, 1.6, 0.2],\n       [4.6, 3.2, 1.4, 0.2],\n       [5.3, 3.7, 1.5, 0.2],\n       [5. , 3.3, 1.4, 0.2],\n       [7. , 3.2, 4.7, 1.4],\n       [6.4, 3.2, 4.5, 1.5],\n       [6.9, 3.1, 4.9, 1.5],\n       [5.5, 2.3, 4. , 1.3],\n       [6.5, 2.8, 4.6, 1.5],\n       [5.7, 2.8, 4.5, 1.3],\n       [6.3, 3.3, 4.7, 1.6],\n       [4.9, 2.4, 3.3, 1. ],\n       [6.6, 2.9, 4.6, 1.3],\n       [5.2, 2.7, 3.9, 1.4],\n       [5. , 2. , 3.5, 1. ],\n       [5.9, 3. , 4.2, 1.5],\n       [6. , 2.2, 4. , 1. ],\n       [6.1, 2.9, 4.7, 1.4],\n       [5.6, 2.9, 3.6, 1.3],\n       [6.7, 3.1, 4.4, 1.4],\n       [5.6, 3. , 4.5, 1.5],\n       [5.8, 2.7, 4.1, 1. ],\n       [6.2, 2.2, 4.5, 1.5],\n       [5.6, 2.5, 3.9, 1.1],\n       [5.9, 3.2, 4.8, 1.8],\n       [6.1, 2.8, 4. , 1.3],\n       [6.3, 2.5, 4.9, 1.5],\n       [6.1, 2.8, 4.7, 1.2],\n       [6.4, 2.9, 4.3, 1.3],\n       [6.6, 3. , 4.4, 1.4],\n       [6.8, 2.8, 4.8, 1.4],\n       [6.7, 3. , 5. , 1.7],\n       [6. , 2.9, 4.5, 1.5],\n       [5.7, 2.6, 3.5, 1. ],\n       [5.5, 2.4, 3.8, 1.1],\n       [5.5, 2.4, 3.7, 1. ],\n       [5.8, 2.7, 3.9, 1.2],\n       [6. , 2.7, 5.1, 1.6],\n       [5.4, 3. , 4.5, 1.5],\n       [6. , 3.4, 4.5, 1.6],\n       [6.7, 3.1, 4.7, 1.5],\n       [6.3, 2.3, 4.4, 1.3],\n       [5.6, 3. , 4.1, 1.3],\n       [5.5, 2.5, 4. , 1.3],\n       [5.5, 2.6, 4.4, 1.2],\n       [6.1, 3. , 4.6, 1.4],\n       [5.8, 2.6, 4. , 1.2],\n       [5. , 2.3, 3.3, 1. ],\n       [5.6, 2.7, 4.2, 1.3],\n       [5.7, 3. , 4.2, 1.2],\n       [5.7, 2.9, 4.2, 1.3],\n       [6.2, 2.9, 4.3, 1.3],\n       [5.1, 2.5, 3. , 1.1],\n       [5.7, 2.8, 4.1, 1.3],\n       [6.3, 3.3, 6. , 2.5],\n       [5.8, 2.7, 5.1, 1.9],\n       [7.1, 3. , 5.9, 2.1],\n       [6.3, 2.9, 5.6, 1.8],\n       [6.5, 3. , 5.8, 2.2],\n       [7.6, 3. , 6.6, 2.1],\n       [4.9, 2.5, 4.5, 1.7],\n       [7.3, 2.9, 6.3, 1.8],\n       [6.7, 2.5, 5.8, 1.8],\n       [7.2, 3.6, 6.1, 2.5],\n       [6.5, 3.2, 5.1, 2. ],\n       [6.4, 2.7, 5.3, 1.9],\n       [6.8, 3. , 5.5, 2.1],\n       [5.7, 2.5, 5. , 2. ],\n       [5.8, 2.8, 5.1, 2.4],\n       [6.4, 3.2, 5.3, 2.3],\n       [6.5, 3. , 5.5, 1.8],\n       [7.7, 3.8, 6.7, 2.2],\n       [7.7, 2.6, 6.9, 2.3],\n       [6. , 2.2, 5. , 1.5],\n       [6.9, 3.2, 5.7, 2.3],\n       [5.6, 2.8, 4.9, 2. ],\n       [7.7, 2.8, 6.7, 2. ],\n       [6.3, 2.7, 4.9, 1.8],\n       [6.7, 3.3, 5.7, 2.1],\n       [7.2, 3.2, 6. , 1.8],\n       [6.2, 2.8, 4.8, 1.8],\n       [6.1, 3. , 4.9, 1.8],\n       [6.4, 2.8, 5.6, 2.1],\n       [7.2, 3. , 5.8, 1.6],\n       [7.4, 2.8, 6.1, 1.9],\n       [7.9, 3.8, 6.4, 2. ],\n       [6.4, 2.8, 5.6, 2.2],\n       [6.3, 2.8, 5.1, 1.5],\n       [6.1, 2.6, 5.6, 1.4],\n       [7.7, 3. , 6.1, 2.3],\n       [6.3, 3.4, 5.6, 2.4],\n       [6.4, 3.1, 5.5, 1.8],\n       [6. , 3. , 4.8, 1.8],\n       [6.9, 3.1, 5.4, 2.1],\n       [6.7, 3.1, 5.6, 2.4],\n       [6.9, 3.1, 5.1, 2.3],\n       [5.8, 2.7, 5.1, 1.9],\n       [6.8, 3.2, 5.9, 2.3],\n       [6.7, 3.3, 5.7, 2.5],\n       [6.7, 3. , 5.2, 2.3],\n       [6.3, 2.5, 5. , 1.9],\n       [6.5, 3. , 5.2, 2. ],\n       [6.2, 3.4, 5.4, 2.3],\n       [5.9, 3. , 5.1, 1.8]])"
     },
     "execution_count": 68,
     "metadata": {},
     "output_type": "execute_result"
    }
   ],
   "source": [
    "X = iris[ [\"sepal.length\", \"sepal.width\", \"petal.length\", \"petal.width\"] ].values\n",
    "\n",
    "X"
   ],
   "metadata": {
    "collapsed": false,
    "ExecuteTime": {
     "end_time": "2023-10-05T00:50:18.654141Z",
     "start_time": "2023-10-05T00:50:18.640874Z"
    }
   },
   "id": "8be01df674958ee2"
  },
  {
   "cell_type": "markdown",
   "source": [
    "Cuando recuperamos los valores de un *DataFrame* obtenemos automáticamente un arreglo n-dimensional de **Numpy** que representa la matriz de características."
   ],
   "metadata": {
    "collapsed": false
   },
   "id": "5d0063bcd4bf823d"
  },
  {
   "cell_type": "code",
   "execution_count": 71,
   "outputs": [
    {
     "name": "stdout",
     "output_type": "stream",
     "text": [
      "<class 'pandas.core.frame.DataFrame'>\n"
     ]
    }
   ],
   "source": [
    "print(type(iris))"
   ],
   "metadata": {
    "collapsed": false,
    "ExecuteTime": {
     "end_time": "2023-10-05T00:51:59.290117Z",
     "start_time": "2023-10-05T00:51:59.190959Z"
    }
   },
   "id": "bed66981b4b81401"
  },
  {
   "cell_type": "code",
   "execution_count": 69,
   "outputs": [
    {
     "name": "stdout",
     "output_type": "stream",
     "text": [
      "<class 'numpy.ndarray'>\n"
     ]
    }
   ],
   "source": [
    "print(type(X))"
   ],
   "metadata": {
    "collapsed": false,
    "ExecuteTime": {
     "end_time": "2023-10-05T00:51:39.373558Z",
     "start_time": "2023-10-05T00:51:39.345060Z"
    }
   },
   "id": "6adcbf9e5e41aff9"
  },
  {
   "cell_type": "code",
   "execution_count": 74,
   "outputs": [
    {
     "name": "stdout",
     "output_type": "stream",
     "text": [
      "<class 'pandas.core.series.Series'>\n"
     ]
    }
   ],
   "source": [
    "print(type(iris[\"variety\"]))"
   ],
   "metadata": {
    "collapsed": false,
    "ExecuteTime": {
     "end_time": "2023-10-05T00:54:36.339760Z",
     "start_time": "2023-10-05T00:54:36.259552Z"
    }
   },
   "id": "a3034edd6056037f"
  },
  {
   "cell_type": "code",
   "execution_count": 73,
   "outputs": [
    {
     "data": {
      "text/plain": "array(['Setosa', 'Setosa', 'Setosa', 'Setosa', 'Setosa', 'Setosa',\n       'Setosa', 'Setosa', 'Setosa', 'Setosa', 'Setosa', 'Setosa',\n       'Setosa', 'Setosa', 'Setosa', 'Setosa', 'Setosa', 'Setosa',\n       'Setosa', 'Setosa', 'Setosa', 'Setosa', 'Setosa', 'Setosa',\n       'Setosa', 'Setosa', 'Setosa', 'Setosa', 'Setosa', 'Setosa',\n       'Setosa', 'Setosa', 'Setosa', 'Setosa', 'Setosa', 'Setosa',\n       'Setosa', 'Setosa', 'Setosa', 'Setosa', 'Setosa', 'Setosa',\n       'Setosa', 'Setosa', 'Setosa', 'Setosa', 'Setosa', 'Setosa',\n       'Setosa', 'Setosa', 'Versicolor', 'Versicolor', 'Versicolor',\n       'Versicolor', 'Versicolor', 'Versicolor', 'Versicolor',\n       'Versicolor', 'Versicolor', 'Versicolor', 'Versicolor',\n       'Versicolor', 'Versicolor', 'Versicolor', 'Versicolor',\n       'Versicolor', 'Versicolor', 'Versicolor', 'Versicolor',\n       'Versicolor', 'Versicolor', 'Versicolor', 'Versicolor',\n       'Versicolor', 'Versicolor', 'Versicolor', 'Versicolor',\n       'Versicolor', 'Versicolor', 'Versicolor', 'Versicolor',\n       'Versicolor', 'Versicolor', 'Versicolor', 'Versicolor',\n       'Versicolor', 'Versicolor', 'Versicolor', 'Versicolor',\n       'Versicolor', 'Versicolor', 'Versicolor', 'Versicolor',\n       'Versicolor', 'Versicolor', 'Versicolor', 'Versicolor',\n       'Versicolor', 'Versicolor', 'Versicolor', 'Virginica', 'Virginica',\n       'Virginica', 'Virginica', 'Virginica', 'Virginica', 'Virginica',\n       'Virginica', 'Virginica', 'Virginica', 'Virginica', 'Virginica',\n       'Virginica', 'Virginica', 'Virginica', 'Virginica', 'Virginica',\n       'Virginica', 'Virginica', 'Virginica', 'Virginica', 'Virginica',\n       'Virginica', 'Virginica', 'Virginica', 'Virginica', 'Virginica',\n       'Virginica', 'Virginica', 'Virginica', 'Virginica', 'Virginica',\n       'Virginica', 'Virginica', 'Virginica', 'Virginica', 'Virginica',\n       'Virginica', 'Virginica', 'Virginica', 'Virginica', 'Virginica',\n       'Virginica', 'Virginica', 'Virginica', 'Virginica', 'Virginica',\n       'Virginica', 'Virginica', 'Virginica'], dtype=object)"
     },
     "execution_count": 73,
     "metadata": {},
     "output_type": "execute_result"
    }
   ],
   "source": [
    "y = iris[\"variety\"].values\n",
    "\n",
    "y"
   ],
   "metadata": {
    "collapsed": false,
    "ExecuteTime": {
     "end_time": "2023-10-05T00:53:51.450223Z",
     "start_time": "2023-10-05T00:53:50.859850Z"
    }
   },
   "id": "a249332d94982b15"
  },
  {
   "cell_type": "code",
   "execution_count": 75,
   "outputs": [
    {
     "name": "stdout",
     "output_type": "stream",
     "text": [
      "<class 'numpy.ndarray'>\n"
     ]
    }
   ],
   "source": [
    "print(type(y))"
   ],
   "metadata": {
    "collapsed": false,
    "ExecuteTime": {
     "end_time": "2023-10-05T00:55:22.047354Z",
     "start_time": "2023-10-05T00:55:21.942484Z"
    }
   },
   "id": "d4793e88b7608a5"
  },
  {
   "cell_type": "code",
   "execution_count": 76,
   "outputs": [
    {
     "name": "stdout",
     "output_type": "stream",
     "text": [
      "['Setosa' 'Setosa' 'Setosa' 'Setosa' 'Setosa' 'Setosa' 'Setosa' 'Setosa'\n",
      " 'Setosa' 'Setosa' 'Setosa' 'Setosa' 'Setosa' 'Setosa' 'Setosa' 'Setosa'\n",
      " 'Setosa' 'Setosa' 'Setosa' 'Setosa' 'Setosa' 'Setosa' 'Setosa' 'Setosa'\n",
      " 'Setosa' 'Setosa' 'Setosa' 'Setosa' 'Setosa' 'Setosa' 'Setosa' 'Setosa'\n",
      " 'Setosa' 'Setosa' 'Setosa' 'Setosa' 'Setosa' 'Setosa' 'Setosa' 'Setosa'\n",
      " 'Setosa' 'Setosa' 'Setosa' 'Setosa' 'Setosa' 'Setosa' 'Setosa' 'Setosa'\n",
      " 'Setosa' 'Setosa' 'Versicolor' 'Versicolor' 'Versicolor' 'Versicolor'\n",
      " 'Versicolor' 'Versicolor' 'Versicolor' 'Versicolor' 'Versicolor'\n",
      " 'Versicolor' 'Versicolor' 'Versicolor' 'Versicolor' 'Versicolor'\n",
      " 'Versicolor' 'Versicolor' 'Versicolor' 'Versicolor' 'Versicolor'\n",
      " 'Versicolor' 'Versicolor' 'Versicolor' 'Versicolor' 'Versicolor'\n",
      " 'Versicolor' 'Versicolor' 'Versicolor' 'Versicolor' 'Versicolor'\n",
      " 'Versicolor' 'Versicolor' 'Versicolor' 'Versicolor' 'Versicolor'\n",
      " 'Versicolor' 'Versicolor' 'Versicolor' 'Versicolor' 'Versicolor'\n",
      " 'Versicolor' 'Versicolor' 'Versicolor' 'Versicolor' 'Versicolor'\n",
      " 'Versicolor' 'Versicolor' 'Versicolor' 'Versicolor' 'Versicolor'\n",
      " 'Versicolor' 'Virginica' 'Virginica' 'Virginica' 'Virginica' 'Virginica'\n",
      " 'Virginica' 'Virginica' 'Virginica' 'Virginica' 'Virginica' 'Virginica'\n",
      " 'Virginica' 'Virginica' 'Virginica' 'Virginica' 'Virginica' 'Virginica'\n",
      " 'Virginica' 'Virginica' 'Virginica' 'Virginica' 'Virginica' 'Virginica'\n",
      " 'Virginica' 'Virginica' 'Virginica' 'Virginica' 'Virginica' 'Virginica'\n",
      " 'Virginica' 'Virginica' 'Virginica' 'Virginica' 'Virginica' 'Virginica'\n",
      " 'Virginica' 'Virginica' 'Virginica' 'Virginica' 'Virginica' 'Virginica'\n",
      " 'Virginica' 'Virginica' 'Virginica' 'Virginica' 'Virginica' 'Virginica'\n",
      " 'Virginica' 'Virginica' 'Virginica']\n"
     ]
    }
   ],
   "source": [
    "print(y)"
   ],
   "metadata": {
    "collapsed": false,
    "ExecuteTime": {
     "end_time": "2023-10-05T00:55:31.032201Z",
     "start_time": "2023-10-05T00:55:30.901035Z"
    }
   },
   "id": "1b497e7195d20026"
  },
  {
   "cell_type": "code",
   "execution_count": 95,
   "outputs": [
    {
     "data": {
      "text/plain": "DecisionTreeClassifier(criterion='entropy')",
      "text/html": "<style>#sk-container-id-2 {color: black;}#sk-container-id-2 pre{padding: 0;}#sk-container-id-2 div.sk-toggleable {background-color: white;}#sk-container-id-2 label.sk-toggleable__label {cursor: pointer;display: block;width: 100%;margin-bottom: 0;padding: 0.3em;box-sizing: border-box;text-align: center;}#sk-container-id-2 label.sk-toggleable__label-arrow:before {content: \"▸\";float: left;margin-right: 0.25em;color: #696969;}#sk-container-id-2 label.sk-toggleable__label-arrow:hover:before {color: black;}#sk-container-id-2 div.sk-estimator:hover label.sk-toggleable__label-arrow:before {color: black;}#sk-container-id-2 div.sk-toggleable__content {max-height: 0;max-width: 0;overflow: hidden;text-align: left;background-color: #f0f8ff;}#sk-container-id-2 div.sk-toggleable__content pre {margin: 0.2em;color: black;border-radius: 0.25em;background-color: #f0f8ff;}#sk-container-id-2 input.sk-toggleable__control:checked~div.sk-toggleable__content {max-height: 200px;max-width: 100%;overflow: auto;}#sk-container-id-2 input.sk-toggleable__control:checked~label.sk-toggleable__label-arrow:before {content: \"▾\";}#sk-container-id-2 div.sk-estimator input.sk-toggleable__control:checked~label.sk-toggleable__label {background-color: #d4ebff;}#sk-container-id-2 div.sk-label input.sk-toggleable__control:checked~label.sk-toggleable__label {background-color: #d4ebff;}#sk-container-id-2 input.sk-hidden--visually {border: 0;clip: rect(1px 1px 1px 1px);clip: rect(1px, 1px, 1px, 1px);height: 1px;margin: -1px;overflow: hidden;padding: 0;position: absolute;width: 1px;}#sk-container-id-2 div.sk-estimator {font-family: monospace;background-color: #f0f8ff;border: 1px dotted black;border-radius: 0.25em;box-sizing: border-box;margin-bottom: 0.5em;}#sk-container-id-2 div.sk-estimator:hover {background-color: #d4ebff;}#sk-container-id-2 div.sk-parallel-item::after {content: \"\";width: 100%;border-bottom: 1px solid gray;flex-grow: 1;}#sk-container-id-2 div.sk-label:hover label.sk-toggleable__label {background-color: #d4ebff;}#sk-container-id-2 div.sk-serial::before {content: \"\";position: absolute;border-left: 1px solid gray;box-sizing: border-box;top: 0;bottom: 0;left: 50%;z-index: 0;}#sk-container-id-2 div.sk-serial {display: flex;flex-direction: column;align-items: center;background-color: white;padding-right: 0.2em;padding-left: 0.2em;position: relative;}#sk-container-id-2 div.sk-item {position: relative;z-index: 1;}#sk-container-id-2 div.sk-parallel {display: flex;align-items: stretch;justify-content: center;background-color: white;position: relative;}#sk-container-id-2 div.sk-item::before, #sk-container-id-2 div.sk-parallel-item::before {content: \"\";position: absolute;border-left: 1px solid gray;box-sizing: border-box;top: 0;bottom: 0;left: 50%;z-index: -1;}#sk-container-id-2 div.sk-parallel-item {display: flex;flex-direction: column;z-index: 1;position: relative;background-color: white;}#sk-container-id-2 div.sk-parallel-item:first-child::after {align-self: flex-end;width: 50%;}#sk-container-id-2 div.sk-parallel-item:last-child::after {align-self: flex-start;width: 50%;}#sk-container-id-2 div.sk-parallel-item:only-child::after {width: 0;}#sk-container-id-2 div.sk-dashed-wrapped {border: 1px dashed gray;margin: 0 0.4em 0.5em 0.4em;box-sizing: border-box;padding-bottom: 0.4em;background-color: white;}#sk-container-id-2 div.sk-label label {font-family: monospace;font-weight: bold;display: inline-block;line-height: 1.2em;}#sk-container-id-2 div.sk-label-container {text-align: center;}#sk-container-id-2 div.sk-container {/* jupyter's `normalize.less` sets `[hidden] { display: none; }` but bootstrap.min.css set `[hidden] { display: none !important; }` so we also need the `!important` here to be able to override the default hidden behavior on the sphinx rendered scikit-learn.org. See: https://github.com/scikit-learn/scikit-learn/issues/21755 */display: inline-block !important;position: relative;}#sk-container-id-2 div.sk-text-repr-fallback {display: none;}</style><div id=\"sk-container-id-2\" class=\"sk-top-container\"><div class=\"sk-text-repr-fallback\"><pre>DecisionTreeClassifier(criterion=&#x27;entropy&#x27;)</pre><b>In a Jupyter environment, please rerun this cell to show the HTML representation or trust the notebook. <br />On GitHub, the HTML representation is unable to render, please try loading this page with nbviewer.org.</b></div><div class=\"sk-container\" hidden><div class=\"sk-item\"><div class=\"sk-estimator sk-toggleable\"><input class=\"sk-toggleable__control sk-hidden--visually\" id=\"sk-estimator-id-2\" type=\"checkbox\" checked><label for=\"sk-estimator-id-2\" class=\"sk-toggleable__label sk-toggleable__label-arrow\">DecisionTreeClassifier</label><div class=\"sk-toggleable__content\"><pre>DecisionTreeClassifier(criterion=&#x27;entropy&#x27;)</pre></div></div></div></div></div>"
     },
     "execution_count": 95,
     "metadata": {},
     "output_type": "execute_result"
    }
   ],
   "source": [
    "clf.fit(X, y)\n",
    "\n",
    "clf"
   ],
   "metadata": {
    "collapsed": false,
    "ExecuteTime": {
     "end_time": "2023-10-05T01:16:10.444319Z",
     "start_time": "2023-10-05T01:16:10.415545Z"
    }
   },
   "id": "870a1fb8a1a5a801"
  },
  {
   "cell_type": "code",
   "execution_count": 96,
   "outputs": [
    {
     "name": "stdout",
     "output_type": "stream",
     "text": [
      "|--- feature_2 <= 2.45\n",
      "|   |--- class: Setosa\n",
      "|--- feature_2 >  2.45\n",
      "|   |--- feature_3 <= 1.75\n",
      "|   |   |--- feature_2 <= 4.95\n",
      "|   |   |   |--- feature_3 <= 1.65\n",
      "|   |   |   |   |--- class: Versicolor\n",
      "|   |   |   |--- feature_3 >  1.65\n",
      "|   |   |   |   |--- class: Virginica\n",
      "|   |   |--- feature_2 >  4.95\n",
      "|   |   |   |--- feature_3 <= 1.55\n",
      "|   |   |   |   |--- class: Virginica\n",
      "|   |   |   |--- feature_3 >  1.55\n",
      "|   |   |   |   |--- feature_2 <= 5.45\n",
      "|   |   |   |   |   |--- class: Versicolor\n",
      "|   |   |   |   |--- feature_2 >  5.45\n",
      "|   |   |   |   |   |--- class: Virginica\n",
      "|   |--- feature_3 >  1.75\n",
      "|   |   |--- feature_2 <= 4.85\n",
      "|   |   |   |--- feature_1 <= 3.10\n",
      "|   |   |   |   |--- class: Virginica\n",
      "|   |   |   |--- feature_1 >  3.10\n",
      "|   |   |   |   |--- class: Versicolor\n",
      "|   |   |--- feature_2 >  4.85\n",
      "|   |   |   |--- class: Virginica\n"
     ]
    }
   ],
   "source": [
    "from sklearn import tree\n",
    "\n",
    "print(tree.export_text(clf))"
   ],
   "metadata": {
    "collapsed": false,
    "ExecuteTime": {
     "end_time": "2023-10-05T01:16:14.725253Z",
     "start_time": "2023-10-05T01:16:14.697475Z"
    }
   },
   "id": "e9f2eb3138a8550"
  },
  {
   "cell_type": "markdown",
   "source": [
    "## 5. Evaluar el desempeño (métricas de exactitud)"
   ],
   "metadata": {
    "collapsed": false
   },
   "id": "c01d24c3527af2e6"
  },
  {
   "cell_type": "markdown",
   "source": [
    "> PASO 1 - Importar la función de métricas de desempeño por puntuación cruzada"
   ],
   "metadata": {
    "collapsed": false
   },
   "id": "945250693ca9cf78"
  },
  {
   "cell_type": "code",
   "execution_count": 84,
   "outputs": [],
   "source": [
    "from sklearn.model_selection import cross_val_score"
   ],
   "metadata": {
    "collapsed": false,
    "ExecuteTime": {
     "end_time": "2023-10-05T01:09:34.808513Z",
     "start_time": "2023-10-05T01:09:34.731817Z"
    }
   },
   "id": "1eec5ec87383ca80"
  },
  {
   "cell_type": "markdown",
   "source": [
    "> PASO 2 - Utilizar la función para evaluar el desempeño de un modelo de aprendizaje según las métricas de evaluación"
   ],
   "metadata": {
    "collapsed": false
   },
   "id": "d5f102728defb44a"
  },
  {
   "cell_type": "code",
   "execution_count": 97,
   "outputs": [
    {
     "data": {
      "text/plain": "array([1.        , 0.93333333, 1.        , 0.93333333, 0.93333333,\n       0.86666667, 0.93333333, 1.        , 1.        , 1.        ])"
     },
     "execution_count": 97,
     "metadata": {},
     "output_type": "execute_result"
    }
   ],
   "source": [
    "scores = cross_val_score(clf, X, y, cv=10, scoring=\"accuracy\")\n",
    "\n",
    "scores"
   ],
   "metadata": {
    "collapsed": false,
    "ExecuteTime": {
     "end_time": "2023-10-05T01:16:36.323449Z",
     "start_time": "2023-10-05T01:16:36.282148Z"
    }
   },
   "id": "74b09adb6c77830f"
  },
  {
   "cell_type": "code",
   "execution_count": 98,
   "outputs": [
    {
     "data": {
      "text/plain": "0.96"
     },
     "execution_count": 98,
     "metadata": {},
     "output_type": "execute_result"
    }
   ],
   "source": [
    "scores.mean()"
   ],
   "metadata": {
    "collapsed": false,
    "ExecuteTime": {
     "end_time": "2023-10-05T01:16:39.975581Z",
     "start_time": "2023-10-05T01:16:39.925184Z"
    }
   },
   "id": "4b1e8d9802b73216"
  },
  {
   "cell_type": "markdown",
   "source": [
    "Otros modelos de clasificación"
   ],
   "metadata": {
    "collapsed": false
   },
   "id": "2bea6f42add330af"
  },
  {
   "cell_type": "code",
   "execution_count": 99,
   "outputs": [
    {
     "data": {
      "text/plain": "0.9733333333333334"
     },
     "execution_count": 99,
     "metadata": {},
     "output_type": "execute_result"
    }
   ],
   "source": [
    "from sklearn.svm import SVC\n",
    "\n",
    "clf = SVC()\n",
    "\n",
    "scores = cross_val_score(clf, X, y, cv=10, scoring=\"accuracy\")\n",
    "\n",
    "scores.mean()"
   ],
   "metadata": {
    "collapsed": false,
    "ExecuteTime": {
     "end_time": "2023-10-05T01:22:09.586459Z",
     "start_time": "2023-10-05T01:22:09.536232Z"
    }
   },
   "id": "2ccbfd26379cdc7a"
  },
  {
   "cell_type": "code",
   "execution_count": 101,
   "outputs": [
    {
     "name": "stderr",
     "output_type": "stream",
     "text": [
      "/Users/dragonnomada/Desktop/thincrs-machine-learning-2023-oct/venv/lib/python3.11/site-packages/sklearn/neural_network/_multilayer_perceptron.py:691: ConvergenceWarning: Stochastic Optimizer: Maximum iterations (200) reached and the optimization hasn't converged yet.\n",
      "  warnings.warn(\n",
      "/Users/dragonnomada/Desktop/thincrs-machine-learning-2023-oct/venv/lib/python3.11/site-packages/sklearn/neural_network/_multilayer_perceptron.py:691: ConvergenceWarning: Stochastic Optimizer: Maximum iterations (200) reached and the optimization hasn't converged yet.\n",
      "  warnings.warn(\n",
      "/Users/dragonnomada/Desktop/thincrs-machine-learning-2023-oct/venv/lib/python3.11/site-packages/sklearn/neural_network/_multilayer_perceptron.py:691: ConvergenceWarning: Stochastic Optimizer: Maximum iterations (200) reached and the optimization hasn't converged yet.\n",
      "  warnings.warn(\n",
      "/Users/dragonnomada/Desktop/thincrs-machine-learning-2023-oct/venv/lib/python3.11/site-packages/sklearn/neural_network/_multilayer_perceptron.py:691: ConvergenceWarning: Stochastic Optimizer: Maximum iterations (200) reached and the optimization hasn't converged yet.\n",
      "  warnings.warn(\n",
      "/Users/dragonnomada/Desktop/thincrs-machine-learning-2023-oct/venv/lib/python3.11/site-packages/sklearn/neural_network/_multilayer_perceptron.py:691: ConvergenceWarning: Stochastic Optimizer: Maximum iterations (200) reached and the optimization hasn't converged yet.\n",
      "  warnings.warn(\n",
      "/Users/dragonnomada/Desktop/thincrs-machine-learning-2023-oct/venv/lib/python3.11/site-packages/sklearn/neural_network/_multilayer_perceptron.py:691: ConvergenceWarning: Stochastic Optimizer: Maximum iterations (200) reached and the optimization hasn't converged yet.\n",
      "  warnings.warn(\n",
      "/Users/dragonnomada/Desktop/thincrs-machine-learning-2023-oct/venv/lib/python3.11/site-packages/sklearn/neural_network/_multilayer_perceptron.py:691: ConvergenceWarning: Stochastic Optimizer: Maximum iterations (200) reached and the optimization hasn't converged yet.\n",
      "  warnings.warn(\n",
      "/Users/dragonnomada/Desktop/thincrs-machine-learning-2023-oct/venv/lib/python3.11/site-packages/sklearn/neural_network/_multilayer_perceptron.py:691: ConvergenceWarning: Stochastic Optimizer: Maximum iterations (200) reached and the optimization hasn't converged yet.\n",
      "  warnings.warn(\n",
      "/Users/dragonnomada/Desktop/thincrs-machine-learning-2023-oct/venv/lib/python3.11/site-packages/sklearn/neural_network/_multilayer_perceptron.py:691: ConvergenceWarning: Stochastic Optimizer: Maximum iterations (200) reached and the optimization hasn't converged yet.\n",
      "  warnings.warn(\n",
      "/Users/dragonnomada/Desktop/thincrs-machine-learning-2023-oct/venv/lib/python3.11/site-packages/sklearn/neural_network/_multilayer_perceptron.py:691: ConvergenceWarning: Stochastic Optimizer: Maximum iterations (200) reached and the optimization hasn't converged yet.\n",
      "  warnings.warn(\n"
     ]
    },
    {
     "data": {
      "text/plain": "0.9733333333333334"
     },
     "execution_count": 101,
     "metadata": {},
     "output_type": "execute_result"
    }
   ],
   "source": [
    "from sklearn.neural_network import MLPClassifier\n",
    "\n",
    "clf = MLPClassifier()\n",
    "\n",
    "scores = cross_val_score(clf, X, y, cv=10, scoring=\"accuracy\")\n",
    "\n",
    "scores.mean()"
   ],
   "metadata": {
    "collapsed": false,
    "ExecuteTime": {
     "end_time": "2023-10-05T01:23:15.354611Z",
     "start_time": "2023-10-05T01:23:13.183808Z"
    }
   },
   "id": "1d7951e93a8dfc4e"
  },
  {
   "cell_type": "markdown",
   "source": [
    "Evaluación de múltiples clasificadores"
   ],
   "metadata": {
    "collapsed": false
   },
   "id": "393db5094ba9c144"
  },
  {
   "cell_type": "code",
   "execution_count": 109,
   "outputs": [
    {
     "name": "stdout",
     "output_type": "stream",
     "text": [
      "MLP (100,)\n",
      "TREE 1: 96.00%\n",
      "TREE 2: 96.00%\n",
      "TREE 3: 96.00%\n",
      "SVC RBF: 97.33%\n",
      "SVC LINEAR: 97.33%\n",
      "SVC POLY 2: 97.33%\n",
      "SVC POLY 5: 97.33%\n"
     ]
    },
    {
     "name": "stderr",
     "output_type": "stream",
     "text": [
      "/Users/dragonnomada/Desktop/thincrs-machine-learning-2023-oct/venv/lib/python3.11/site-packages/sklearn/neural_network/_multilayer_perceptron.py:691: ConvergenceWarning: Stochastic Optimizer: Maximum iterations (200) reached and the optimization hasn't converged yet.\n",
      "  warnings.warn(\n",
      "/Users/dragonnomada/Desktop/thincrs-machine-learning-2023-oct/venv/lib/python3.11/site-packages/sklearn/neural_network/_multilayer_perceptron.py:691: ConvergenceWarning: Stochastic Optimizer: Maximum iterations (200) reached and the optimization hasn't converged yet.\n",
      "  warnings.warn(\n",
      "/Users/dragonnomada/Desktop/thincrs-machine-learning-2023-oct/venv/lib/python3.11/site-packages/sklearn/neural_network/_multilayer_perceptron.py:691: ConvergenceWarning: Stochastic Optimizer: Maximum iterations (200) reached and the optimization hasn't converged yet.\n",
      "  warnings.warn(\n",
      "/Users/dragonnomada/Desktop/thincrs-machine-learning-2023-oct/venv/lib/python3.11/site-packages/sklearn/neural_network/_multilayer_perceptron.py:691: ConvergenceWarning: Stochastic Optimizer: Maximum iterations (200) reached and the optimization hasn't converged yet.\n",
      "  warnings.warn(\n",
      "/Users/dragonnomada/Desktop/thincrs-machine-learning-2023-oct/venv/lib/python3.11/site-packages/sklearn/neural_network/_multilayer_perceptron.py:691: ConvergenceWarning: Stochastic Optimizer: Maximum iterations (200) reached and the optimization hasn't converged yet.\n",
      "  warnings.warn(\n",
      "/Users/dragonnomada/Desktop/thincrs-machine-learning-2023-oct/venv/lib/python3.11/site-packages/sklearn/neural_network/_multilayer_perceptron.py:691: ConvergenceWarning: Stochastic Optimizer: Maximum iterations (200) reached and the optimization hasn't converged yet.\n",
      "  warnings.warn(\n",
      "/Users/dragonnomada/Desktop/thincrs-machine-learning-2023-oct/venv/lib/python3.11/site-packages/sklearn/neural_network/_multilayer_perceptron.py:691: ConvergenceWarning: Stochastic Optimizer: Maximum iterations (200) reached and the optimization hasn't converged yet.\n",
      "  warnings.warn(\n",
      "/Users/dragonnomada/Desktop/thincrs-machine-learning-2023-oct/venv/lib/python3.11/site-packages/sklearn/neural_network/_multilayer_perceptron.py:691: ConvergenceWarning: Stochastic Optimizer: Maximum iterations (200) reached and the optimization hasn't converged yet.\n",
      "  warnings.warn(\n",
      "/Users/dragonnomada/Desktop/thincrs-machine-learning-2023-oct/venv/lib/python3.11/site-packages/sklearn/neural_network/_multilayer_perceptron.py:691: ConvergenceWarning: Stochastic Optimizer: Maximum iterations (200) reached and the optimization hasn't converged yet.\n",
      "  warnings.warn(\n",
      "/Users/dragonnomada/Desktop/thincrs-machine-learning-2023-oct/venv/lib/python3.11/site-packages/sklearn/neural_network/_multilayer_perceptron.py:691: ConvergenceWarning: Stochastic Optimizer: Maximum iterations (200) reached and the optimization hasn't converged yet.\n",
      "  warnings.warn(\n"
     ]
    },
    {
     "name": "stdout",
     "output_type": "stream",
     "text": [
      "MLP: 97.33%\n"
     ]
    },
    {
     "name": "stderr",
     "output_type": "stream",
     "text": [
      "/Users/dragonnomada/Desktop/thincrs-machine-learning-2023-oct/venv/lib/python3.11/site-packages/sklearn/neural_network/_multilayer_perceptron.py:691: ConvergenceWarning: Stochastic Optimizer: Maximum iterations (200) reached and the optimization hasn't converged yet.\n",
      "  warnings.warn(\n",
      "/Users/dragonnomada/Desktop/thincrs-machine-learning-2023-oct/venv/lib/python3.11/site-packages/sklearn/neural_network/_multilayer_perceptron.py:691: ConvergenceWarning: Stochastic Optimizer: Maximum iterations (200) reached and the optimization hasn't converged yet.\n",
      "  warnings.warn(\n",
      "/Users/dragonnomada/Desktop/thincrs-machine-learning-2023-oct/venv/lib/python3.11/site-packages/sklearn/neural_network/_multilayer_perceptron.py:691: ConvergenceWarning: Stochastic Optimizer: Maximum iterations (200) reached and the optimization hasn't converged yet.\n",
      "  warnings.warn(\n",
      "/Users/dragonnomada/Desktop/thincrs-machine-learning-2023-oct/venv/lib/python3.11/site-packages/sklearn/neural_network/_multilayer_perceptron.py:691: ConvergenceWarning: Stochastic Optimizer: Maximum iterations (200) reached and the optimization hasn't converged yet.\n",
      "  warnings.warn(\n",
      "/Users/dragonnomada/Desktop/thincrs-machine-learning-2023-oct/venv/lib/python3.11/site-packages/sklearn/neural_network/_multilayer_perceptron.py:691: ConvergenceWarning: Stochastic Optimizer: Maximum iterations (200) reached and the optimization hasn't converged yet.\n",
      "  warnings.warn(\n",
      "/Users/dragonnomada/Desktop/thincrs-machine-learning-2023-oct/venv/lib/python3.11/site-packages/sklearn/neural_network/_multilayer_perceptron.py:691: ConvergenceWarning: Stochastic Optimizer: Maximum iterations (200) reached and the optimization hasn't converged yet.\n",
      "  warnings.warn(\n",
      "/Users/dragonnomada/Desktop/thincrs-machine-learning-2023-oct/venv/lib/python3.11/site-packages/sklearn/neural_network/_multilayer_perceptron.py:691: ConvergenceWarning: Stochastic Optimizer: Maximum iterations (200) reached and the optimization hasn't converged yet.\n",
      "  warnings.warn(\n"
     ]
    },
    {
     "name": "stdout",
     "output_type": "stream",
     "text": [
      "MLP (200,): 98.00%\n"
     ]
    },
    {
     "name": "stderr",
     "output_type": "stream",
     "text": [
      "/Users/dragonnomada/Desktop/thincrs-machine-learning-2023-oct/venv/lib/python3.11/site-packages/sklearn/neural_network/_multilayer_perceptron.py:691: ConvergenceWarning: Stochastic Optimizer: Maximum iterations (200) reached and the optimization hasn't converged yet.\n",
      "  warnings.warn(\n"
     ]
    }
   ],
   "source": [
    "from sklearn.tree import DecisionTreeClassifier\n",
    "from sklearn.svm import SVC\n",
    "from sklearn.neural_network import MLPClassifier\n",
    "\n",
    "clf1 = DecisionTreeClassifier()\n",
    "clf2 = DecisionTreeClassifier(criterion=\"entropy\")\n",
    "clf3 = DecisionTreeClassifier(criterion=\"log_loss\")\n",
    "clf4 = SVC()\n",
    "clf5 = SVC(kernel='linear')\n",
    "clf6 = SVC(kernel='poly', degree=2)\n",
    "clf7 = SVC(kernel='poly', degree=5)\n",
    "clf8 = MLPClassifier()\n",
    "clf9 = MLPClassifier(hidden_layer_sizes=(100, 100, 100))\n",
    "\n",
    "print(\"MLP\", clf8.hidden_layer_sizes)\n",
    "\n",
    "for name, clf in [('TREE 1', clf1), ('TREE 2', clf2), ('TREE 3', clf3), ('SVC RBF', clf4), ('SVC LINEAR', clf5), ('SVC POLY 2', clf6), ('SVC POLY 5', clf7), ('MLP', clf8), ('MLP (200,)', clf9)]:\n",
    "    scores = cross_val_score(clf, X, y, cv=10, scoring=\"accuracy\")\n",
    "    print(\"{}: {:.2f}%\".format(name, scores.mean() * 100))"
   ],
   "metadata": {
    "collapsed": false,
    "ExecuteTime": {
     "end_time": "2023-10-05T01:41:03.249277Z",
     "start_time": "2023-10-05T01:38:49.017074Z"
    }
   },
   "id": "cec6f14356d55513"
  }
 ],
 "metadata": {
  "kernelspec": {
   "display_name": "Python 3",
   "language": "python",
   "name": "python3"
  },
  "language_info": {
   "codemirror_mode": {
    "name": "ipython",
    "version": 2
   },
   "file_extension": ".py",
   "mimetype": "text/x-python",
   "name": "python",
   "nbconvert_exporter": "python",
   "pygments_lexer": "ipython2",
   "version": "2.7.6"
  }
 },
 "nbformat": 4,
 "nbformat_minor": 5
}
