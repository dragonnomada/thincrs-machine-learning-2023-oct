{
 "cells": [
  {
   "cell_type": "markdown",
   "source": [
    "# Calcular el precio de una laptop dadas sus características (Problema de Regresión)"
   ],
   "metadata": {
    "collapsed": false
   },
   "id": "eb0003236568d5f7"
  },
  {
   "cell_type": "markdown",
   "source": [
    "> PASO 1 - Adquirir los datos de las ventas de Laptops de Amazon"
   ],
   "metadata": {
    "collapsed": false
   },
   "id": "8c23f62c2a17c356"
  },
  {
   "cell_type": "code",
   "execution_count": 365,
   "id": "initial_id",
   "metadata": {
    "collapsed": true,
    "ExecuteTime": {
     "end_time": "2023-10-11T01:01:05.835913Z",
     "start_time": "2023-10-11T01:01:04.938939Z"
    }
   },
   "outputs": [
    {
     "data": {
      "text/plain": "    brand                                              model  screen_size  \\\n3   Apple                                        MacBook Air  13.3 Inches   \n4   Apple                                        MacBook Air  15.3 Inches   \n6   Apple                                        MacBook Pro  13.3 Inches   \n84  Apple                                        MacBook Pro  16.2 Inches   \n86  Apple  2022 Apple MacBook Air M2, 16GB RAM, 512GB Sto...  13.6 Inches   \n\n         color harddisk       cpu    ram                 OS  \\\n3       Silver   256 GB   Unknown   8 GB             Mac OS   \n4     Midnight   256 GB   Unknown   8 GB             Mac OS   \n6   Space Gray   256 GB   Unknown   8 GB             Mac OS   \n84  Space Gray   512 GB  ARM 7100  32 GB  macOS 12 Monterey   \n86         NaN   512 GB  Apple M1  16 GB  macOS 12 Monterey   \n\n      special_features    graphics       graphics_coprocessor cpu_speed  \\\n3     Backlit Keyboard  Integrated                        NaN       NaN   \n4                  NaN  Integrated                        NaN       NaN   \n6     Backlit Keyboard  Integrated                        NaN       NaN   \n84                 NaN  Integrated                     M1 Pro       NaN   \n86  Fingerprint Reader  Integrated  Apple Integrated Graphics       NaN   \n\n    rating       price  \n3      4.8    $689.99   \n4      4.8  $1,144.48   \n6      4.7    $965.08   \n84     4.7  $1,899.00   \n86     4.8  $1,459.94   ",
      "text/html": "<div>\n<style scoped>\n    .dataframe tbody tr th:only-of-type {\n        vertical-align: middle;\n    }\n\n    .dataframe tbody tr th {\n        vertical-align: top;\n    }\n\n    .dataframe thead th {\n        text-align: right;\n    }\n</style>\n<table border=\"1\" class=\"dataframe\">\n  <thead>\n    <tr style=\"text-align: right;\">\n      <th></th>\n      <th>brand</th>\n      <th>model</th>\n      <th>screen_size</th>\n      <th>color</th>\n      <th>harddisk</th>\n      <th>cpu</th>\n      <th>ram</th>\n      <th>OS</th>\n      <th>special_features</th>\n      <th>graphics</th>\n      <th>graphics_coprocessor</th>\n      <th>cpu_speed</th>\n      <th>rating</th>\n      <th>price</th>\n    </tr>\n  </thead>\n  <tbody>\n    <tr>\n      <th>3</th>\n      <td>Apple</td>\n      <td>MacBook Air</td>\n      <td>13.3 Inches</td>\n      <td>Silver</td>\n      <td>256 GB</td>\n      <td>Unknown</td>\n      <td>8 GB</td>\n      <td>Mac OS</td>\n      <td>Backlit Keyboard</td>\n      <td>Integrated</td>\n      <td>NaN</td>\n      <td>NaN</td>\n      <td>4.8</td>\n      <td>$689.99</td>\n    </tr>\n    <tr>\n      <th>4</th>\n      <td>Apple</td>\n      <td>MacBook Air</td>\n      <td>15.3 Inches</td>\n      <td>Midnight</td>\n      <td>256 GB</td>\n      <td>Unknown</td>\n      <td>8 GB</td>\n      <td>Mac OS</td>\n      <td>NaN</td>\n      <td>Integrated</td>\n      <td>NaN</td>\n      <td>NaN</td>\n      <td>4.8</td>\n      <td>$1,144.48</td>\n    </tr>\n    <tr>\n      <th>6</th>\n      <td>Apple</td>\n      <td>MacBook Pro</td>\n      <td>13.3 Inches</td>\n      <td>Space Gray</td>\n      <td>256 GB</td>\n      <td>Unknown</td>\n      <td>8 GB</td>\n      <td>Mac OS</td>\n      <td>Backlit Keyboard</td>\n      <td>Integrated</td>\n      <td>NaN</td>\n      <td>NaN</td>\n      <td>4.7</td>\n      <td>$965.08</td>\n    </tr>\n    <tr>\n      <th>84</th>\n      <td>Apple</td>\n      <td>MacBook Pro</td>\n      <td>16.2 Inches</td>\n      <td>Space Gray</td>\n      <td>512 GB</td>\n      <td>ARM 7100</td>\n      <td>32 GB</td>\n      <td>macOS 12 Monterey</td>\n      <td>NaN</td>\n      <td>Integrated</td>\n      <td>M1 Pro</td>\n      <td>NaN</td>\n      <td>4.7</td>\n      <td>$1,899.00</td>\n    </tr>\n    <tr>\n      <th>86</th>\n      <td>Apple</td>\n      <td>2022 Apple MacBook Air M2, 16GB RAM, 512GB Sto...</td>\n      <td>13.6 Inches</td>\n      <td>NaN</td>\n      <td>512 GB</td>\n      <td>Apple M1</td>\n      <td>16 GB</td>\n      <td>macOS 12 Monterey</td>\n      <td>Fingerprint Reader</td>\n      <td>Integrated</td>\n      <td>Apple Integrated Graphics</td>\n      <td>NaN</td>\n      <td>4.8</td>\n      <td>$1,459.94</td>\n    </tr>\n  </tbody>\n</table>\n</div>"
     },
     "execution_count": 365,
     "metadata": {},
     "output_type": "execute_result"
    }
   ],
   "source": [
    "import pandas as pd\n",
    "\n",
    "laptops = pd.read_csv(\"datasets/amazon_laptop_prices.csv\")\n",
    "\n",
    "# laptops = laptops[ ((laptops[\"cpu\"] == \"Intel Core i7\") | (laptops[\"cpu\"] == \"Core i7\")) & (laptops[\"brand\"] == \"HP\") ]\n",
    "\n",
    "laptops = laptops[ (laptops[\"brand\"] == \"Apple\") ]\n",
    "\n",
    "laptops.head(5)"
   ]
  },
  {
   "cell_type": "code",
   "execution_count": 366,
   "outputs": [
    {
     "data": {
      "text/plain": "array(['Unknown', 'ARM 7100', 'Apple M1', 'Others', nan, 'Apple M2 Max',\n       'Core i9 7960X', 'Apple M2', 'Intel Core i3', 'Core i5',\n       'Core i7 Family'], dtype=object)"
     },
     "execution_count": 366,
     "metadata": {},
     "output_type": "execute_result"
    }
   ],
   "source": [
    "laptops[\"cpu\"].unique()"
   ],
   "metadata": {
    "collapsed": false,
    "ExecuteTime": {
     "end_time": "2023-10-11T01:01:05.836653Z",
     "start_time": "2023-10-11T01:01:04.971167Z"
    }
   },
   "id": "7e927d53ea403c2d"
  },
  {
   "cell_type": "code",
   "execution_count": 367,
   "outputs": [
    {
     "name": "stdout",
     "output_type": "stream",
     "text": [
      "<class 'pandas.core.frame.DataFrame'>\n",
      "Index: 29 entries, 3 to 3153\n",
      "Data columns (total 14 columns):\n",
      " #   Column                Non-Null Count  Dtype  \n",
      "---  ------                --------------  -----  \n",
      " 0   brand                 29 non-null     object \n",
      " 1   model                 19 non-null     object \n",
      " 2   screen_size           24 non-null     object \n",
      " 3   color                 14 non-null     object \n",
      " 4   harddisk              27 non-null     object \n",
      " 5   cpu                   20 non-null     object \n",
      " 6   ram                   28 non-null     object \n",
      " 7   OS                    29 non-null     object \n",
      " 8   special_features      7 non-null      object \n",
      " 9   graphics              29 non-null     object \n",
      " 10  graphics_coprocessor  7 non-null      object \n",
      " 11  cpu_speed             9 non-null      object \n",
      " 12  rating                20 non-null     float64\n",
      " 13  price                 29 non-null     object \n",
      "dtypes: float64(1), object(13)\n",
      "memory usage: 3.4+ KB\n"
     ]
    }
   ],
   "source": [
    "laptops.info()"
   ],
   "metadata": {
    "collapsed": false,
    "ExecuteTime": {
     "end_time": "2023-10-11T01:01:05.839115Z",
     "start_time": "2023-10-11T01:01:04.973476Z"
    }
   },
   "id": "b6022a9399fafda4"
  },
  {
   "cell_type": "code",
   "execution_count": 368,
   "outputs": [
    {
     "data": {
      "text/plain": "6.896551724137936"
     },
     "execution_count": 368,
     "metadata": {},
     "output_type": "execute_result"
    }
   ],
   "source": [
    "100 - 100 * laptops[\"harddisk\"].count() / len(laptops)"
   ],
   "metadata": {
    "collapsed": false,
    "ExecuteTime": {
     "end_time": "2023-10-11T01:01:05.839619Z",
     "start_time": "2023-10-11T01:01:04.976040Z"
    }
   },
   "id": "693d1987f2f23b3c"
  },
  {
   "cell_type": "code",
   "execution_count": 369,
   "outputs": [
    {
     "data": {
      "text/plain": "17.241379310344826"
     },
     "execution_count": 369,
     "metadata": {},
     "output_type": "execute_result"
    }
   ],
   "source": [
    "100 - 100 * laptops[\"screen_size\"].count() / len(laptops)"
   ],
   "metadata": {
    "collapsed": false,
    "ExecuteTime": {
     "end_time": "2023-10-11T01:01:05.839880Z",
     "start_time": "2023-10-11T01:01:04.980579Z"
    }
   },
   "id": "f5bf57ff68e7e542"
  },
  {
   "cell_type": "code",
   "execution_count": 370,
   "outputs": [
    {
     "data": {
      "text/plain": "0.0"
     },
     "execution_count": 370,
     "metadata": {},
     "output_type": "execute_result"
    }
   ],
   "source": [
    "100 - 100 * laptops[\"price\"].count() / len(laptops)"
   ],
   "metadata": {
    "collapsed": false,
    "ExecuteTime": {
     "end_time": "2023-10-11T01:01:05.840240Z",
     "start_time": "2023-10-11T01:01:04.983744Z"
    }
   },
   "id": "acbb94d85ac9b343"
  },
  {
   "cell_type": "code",
   "execution_count": 371,
   "outputs": [
    {
     "data": {
      "text/plain": "3.448275862068968"
     },
     "execution_count": 371,
     "metadata": {},
     "output_type": "execute_result"
    }
   ],
   "source": [
    "100 - 100 * laptops[\"ram\"].count() / len(laptops)"
   ],
   "metadata": {
    "collapsed": false,
    "ExecuteTime": {
     "end_time": "2023-10-11T01:01:05.848921Z",
     "start_time": "2023-10-11T01:01:04.987717Z"
    }
   },
   "id": "75ee7ff5b388ffad"
  },
  {
   "cell_type": "code",
   "execution_count": 372,
   "outputs": [
    {
     "data": {
      "text/plain": "31.034482758620683"
     },
     "execution_count": 372,
     "metadata": {},
     "output_type": "execute_result"
    }
   ],
   "source": [
    "100 - 100 * laptops[\"rating\"].count() / len(laptops)"
   ],
   "metadata": {
    "collapsed": false,
    "ExecuteTime": {
     "end_time": "2023-10-11T01:01:05.849508Z",
     "start_time": "2023-10-11T01:01:04.991403Z"
    }
   },
   "id": "6ea3f6fd8c6c62e3"
  },
  {
   "cell_type": "markdown",
   "source": [
    "> PASO 2 - Selección de características\n",
    "\n",
    "En un problema de regresión debemos considerar que las características sean valores continuos en su mayoría para que tenga sentido la regresión, es decir, el modelo busca generar una variable continua a partir de la combinación de otras variables continuas, por lo que debemos evitar valores categóricos o valores que puedan afectar el modelo continuo."
   ],
   "metadata": {
    "collapsed": false
   },
   "id": "5bc06e0b8b8075a8"
  },
  {
   "cell_type": "code",
   "execution_count": 373,
   "outputs": [],
   "source": [
    "features = [\"screen_size\", \"harddisk\", \"ram\", \"rating\"]"
   ],
   "metadata": {
    "collapsed": false,
    "ExecuteTime": {
     "end_time": "2023-10-11T01:01:05.849658Z",
     "start_time": "2023-10-11T01:01:04.995318Z"
    }
   },
   "id": "30e9b2e9c57178dc"
  },
  {
   "cell_type": "code",
   "execution_count": 374,
   "outputs": [
    {
     "data": {
      "text/plain": "      screen_size harddisk    ram  rating\n2796          NaN     2 TB  32 GB     NaN\n350     13 Inches      NaN   8 GB     4.8\n511           NaN     1 TB  64 GB     NaN\n373           NaN     4 TB  96 GB     NaN\n1922    12 Inches   512 GB   8 GB     4.0\n4     15.3 Inches   256 GB   8 GB     4.8\n6     13.3 Inches   256 GB   8 GB     4.7\n95      13 Inches   256 GB  16 GB     4.7\n3153    13 Inches   128 GB   8 GB     4.4\n2450  16.2 Inches     4 TB  64 GB     NaN",
      "text/html": "<div>\n<style scoped>\n    .dataframe tbody tr th:only-of-type {\n        vertical-align: middle;\n    }\n\n    .dataframe tbody tr th {\n        vertical-align: top;\n    }\n\n    .dataframe thead th {\n        text-align: right;\n    }\n</style>\n<table border=\"1\" class=\"dataframe\">\n  <thead>\n    <tr style=\"text-align: right;\">\n      <th></th>\n      <th>screen_size</th>\n      <th>harddisk</th>\n      <th>ram</th>\n      <th>rating</th>\n    </tr>\n  </thead>\n  <tbody>\n    <tr>\n      <th>2796</th>\n      <td>NaN</td>\n      <td>2 TB</td>\n      <td>32 GB</td>\n      <td>NaN</td>\n    </tr>\n    <tr>\n      <th>350</th>\n      <td>13 Inches</td>\n      <td>NaN</td>\n      <td>8 GB</td>\n      <td>4.8</td>\n    </tr>\n    <tr>\n      <th>511</th>\n      <td>NaN</td>\n      <td>1 TB</td>\n      <td>64 GB</td>\n      <td>NaN</td>\n    </tr>\n    <tr>\n      <th>373</th>\n      <td>NaN</td>\n      <td>4 TB</td>\n      <td>96 GB</td>\n      <td>NaN</td>\n    </tr>\n    <tr>\n      <th>1922</th>\n      <td>12 Inches</td>\n      <td>512 GB</td>\n      <td>8 GB</td>\n      <td>4.0</td>\n    </tr>\n    <tr>\n      <th>4</th>\n      <td>15.3 Inches</td>\n      <td>256 GB</td>\n      <td>8 GB</td>\n      <td>4.8</td>\n    </tr>\n    <tr>\n      <th>6</th>\n      <td>13.3 Inches</td>\n      <td>256 GB</td>\n      <td>8 GB</td>\n      <td>4.7</td>\n    </tr>\n    <tr>\n      <th>95</th>\n      <td>13 Inches</td>\n      <td>256 GB</td>\n      <td>16 GB</td>\n      <td>4.7</td>\n    </tr>\n    <tr>\n      <th>3153</th>\n      <td>13 Inches</td>\n      <td>128 GB</td>\n      <td>8 GB</td>\n      <td>4.4</td>\n    </tr>\n    <tr>\n      <th>2450</th>\n      <td>16.2 Inches</td>\n      <td>4 TB</td>\n      <td>64 GB</td>\n      <td>NaN</td>\n    </tr>\n  </tbody>\n</table>\n</div>"
     },
     "execution_count": 374,
     "metadata": {},
     "output_type": "execute_result"
    }
   ],
   "source": [
    "laptops[ features ].sample(10)"
   ],
   "metadata": {
    "collapsed": false,
    "ExecuteTime": {
     "end_time": "2023-10-11T01:01:05.850399Z",
     "start_time": "2023-10-11T01:01:05.002664Z"
    }
   },
   "id": "c582a6f913c30cc9"
  },
  {
   "cell_type": "markdown",
   "source": [
    "> PASO 3 - Limpieza de datos (normalizar las características)"
   ],
   "metadata": {
    "collapsed": false
   },
   "id": "5f4502d3c3f765a9"
  },
  {
   "cell_type": "code",
   "execution_count": 375,
   "outputs": [
    {
     "data": {
      "text/plain": "16.66"
     },
     "execution_count": 375,
     "metadata": {},
     "output_type": "execute_result"
    }
   ],
   "source": [
    "texto = \"16.66 Inches\"\n",
    "\n",
    "# Regular Expressions (Expresiones Regulares)\n",
    "import re\n",
    "\n",
    "# Pattern: \\d+\\.?\\d*\n",
    "match = re.match(r\"[0-9]+\\.?[0-9]*\", texto)\n",
    "\n",
    "valor = None\n",
    "\n",
    "if not match == None:\n",
    "    valor = float(match.group(0))\n",
    "    \n",
    "valor"
   ],
   "metadata": {
    "collapsed": false,
    "ExecuteTime": {
     "end_time": "2023-10-11T01:01:05.850811Z",
     "start_time": "2023-10-11T01:01:05.007033Z"
    }
   },
   "id": "9fde343294060304"
  },
  {
   "cell_type": "code",
   "execution_count": 376,
   "outputs": [],
   "source": [
    "def clean_screen_size(screen_size):\n",
    "    if f\"{screen_size}\" == \"nan\":\n",
    "        return None\n",
    "    \n",
    "    # Regular Expressions (Expresiones Regulares)\n",
    "    import re\n",
    "    \n",
    "    # Pattern: \\d+\\.?\\d*\n",
    "    match = re.match(r\"[0-9]+\\.?[0-9]*\", screen_size)\n",
    "    \n",
    "    valor = None\n",
    "    \n",
    "    if not match == None:\n",
    "        valor = float(match.group(0))\n",
    "        \n",
    "    return valor\n",
    "\n",
    "laptops[\"screen_size\"] = laptops[\"screen_size\"].map(clean_screen_size)"
   ],
   "metadata": {
    "collapsed": false,
    "ExecuteTime": {
     "end_time": "2023-10-11T01:01:05.850992Z",
     "start_time": "2023-10-11T01:01:05.012771Z"
    }
   },
   "id": "90c794045876532c"
  },
  {
   "cell_type": "code",
   "execution_count": 377,
   "outputs": [
    {
     "data": {
      "text/plain": "      screen_size harddisk    ram  rating\n264          13.3      NaN  16 GB     4.7\n930          13.0   512 GB  16 GB     1.0\n774          16.0     1 TB  16 GB     4.7\n511           NaN     1 TB  64 GB     NaN\n995          13.3   256 GB  16 GB     3.9\n2112         13.3   128 GB   8 GB     4.5\n383          16.2     2 TB  64 GB     NaN\n3140         15.4   256 GB    NaN     4.0\n350          13.0      NaN   8 GB     4.8\n397          13.6     1 TB  16 GB     NaN",
      "text/html": "<div>\n<style scoped>\n    .dataframe tbody tr th:only-of-type {\n        vertical-align: middle;\n    }\n\n    .dataframe tbody tr th {\n        vertical-align: top;\n    }\n\n    .dataframe thead th {\n        text-align: right;\n    }\n</style>\n<table border=\"1\" class=\"dataframe\">\n  <thead>\n    <tr style=\"text-align: right;\">\n      <th></th>\n      <th>screen_size</th>\n      <th>harddisk</th>\n      <th>ram</th>\n      <th>rating</th>\n    </tr>\n  </thead>\n  <tbody>\n    <tr>\n      <th>264</th>\n      <td>13.3</td>\n      <td>NaN</td>\n      <td>16 GB</td>\n      <td>4.7</td>\n    </tr>\n    <tr>\n      <th>930</th>\n      <td>13.0</td>\n      <td>512 GB</td>\n      <td>16 GB</td>\n      <td>1.0</td>\n    </tr>\n    <tr>\n      <th>774</th>\n      <td>16.0</td>\n      <td>1 TB</td>\n      <td>16 GB</td>\n      <td>4.7</td>\n    </tr>\n    <tr>\n      <th>511</th>\n      <td>NaN</td>\n      <td>1 TB</td>\n      <td>64 GB</td>\n      <td>NaN</td>\n    </tr>\n    <tr>\n      <th>995</th>\n      <td>13.3</td>\n      <td>256 GB</td>\n      <td>16 GB</td>\n      <td>3.9</td>\n    </tr>\n    <tr>\n      <th>2112</th>\n      <td>13.3</td>\n      <td>128 GB</td>\n      <td>8 GB</td>\n      <td>4.5</td>\n    </tr>\n    <tr>\n      <th>383</th>\n      <td>16.2</td>\n      <td>2 TB</td>\n      <td>64 GB</td>\n      <td>NaN</td>\n    </tr>\n    <tr>\n      <th>3140</th>\n      <td>15.4</td>\n      <td>256 GB</td>\n      <td>NaN</td>\n      <td>4.0</td>\n    </tr>\n    <tr>\n      <th>350</th>\n      <td>13.0</td>\n      <td>NaN</td>\n      <td>8 GB</td>\n      <td>4.8</td>\n    </tr>\n    <tr>\n      <th>397</th>\n      <td>13.6</td>\n      <td>1 TB</td>\n      <td>16 GB</td>\n      <td>NaN</td>\n    </tr>\n  </tbody>\n</table>\n</div>"
     },
     "execution_count": 377,
     "metadata": {},
     "output_type": "execute_result"
    }
   ],
   "source": [
    "laptops[ features ].sample(10)"
   ],
   "metadata": {
    "collapsed": false,
    "ExecuteTime": {
     "end_time": "2023-10-11T01:01:05.851644Z",
     "start_time": "2023-10-11T01:01:05.020351Z"
    }
   },
   "id": "182059f6ef64373f"
  },
  {
   "cell_type": "code",
   "execution_count": 378,
   "outputs": [
    {
     "data": {
      "text/plain": "12.0"
     },
     "execution_count": 378,
     "metadata": {},
     "output_type": "execute_result"
    }
   ],
   "source": [
    "laptops[\"screen_size\"].min()"
   ],
   "metadata": {
    "collapsed": false,
    "ExecuteTime": {
     "end_time": "2023-10-11T01:01:05.851942Z",
     "start_time": "2023-10-11T01:01:05.027409Z"
    }
   },
   "id": "80d5fc102a9ffbe6"
  },
  {
   "cell_type": "code",
   "execution_count": 379,
   "outputs": [
    {
     "data": {
      "text/plain": "16.2"
     },
     "execution_count": 379,
     "metadata": {},
     "output_type": "execute_result"
    }
   ],
   "source": [
    "laptops[\"screen_size\"].max()"
   ],
   "metadata": {
    "collapsed": false,
    "ExecuteTime": {
     "end_time": "2023-10-11T01:01:05.852196Z",
     "start_time": "2023-10-11T01:01:05.031156Z"
    }
   },
   "id": "28ab9db4e3d65631"
  },
  {
   "cell_type": "code",
   "execution_count": 380,
   "outputs": [
    {
     "data": {
      "text/plain": "14.154166666666667"
     },
     "execution_count": 380,
     "metadata": {},
     "output_type": "execute_result"
    }
   ],
   "source": [
    "laptops[\"screen_size\"].mean()"
   ],
   "metadata": {
    "collapsed": false,
    "ExecuteTime": {
     "end_time": "2023-10-11T01:01:05.853065Z",
     "start_time": "2023-10-11T01:01:05.035870Z"
    }
   },
   "id": "e8e26dd52e806ed0"
  },
  {
   "cell_type": "code",
   "execution_count": 381,
   "outputs": [
    {
     "data": {
      "text/plain": "1.3516428543802173"
     },
     "execution_count": 381,
     "metadata": {},
     "output_type": "execute_result"
    }
   ],
   "source": [
    "laptops[\"screen_size\"].std()"
   ],
   "metadata": {
    "collapsed": false,
    "ExecuteTime": {
     "end_time": "2023-10-11T01:01:05.853339Z",
     "start_time": "2023-10-11T01:01:05.039517Z"
    }
   },
   "id": "6d61fb132807d113"
  },
  {
   "cell_type": "code",
   "execution_count": 382,
   "outputs": [
    {
     "data": {
      "text/plain": "array([12.99757249, 15.92268698, 13.7159407 , 17.31435056, 11.86927474])"
     },
     "execution_count": 382,
     "metadata": {},
     "output_type": "execute_result"
    }
   ],
   "source": [
    "import numpy as np\n",
    "\n",
    "np.random.normal(laptops[\"screen_size\"].mean(), laptops[\"screen_size\"].std(), 5)"
   ],
   "metadata": {
    "collapsed": false,
    "ExecuteTime": {
     "end_time": "2023-10-11T01:01:05.853700Z",
     "start_time": "2023-10-11T01:01:05.045017Z"
    }
   },
   "id": "91cc7c80370886e2"
  },
  {
   "cell_type": "code",
   "execution_count": 383,
   "outputs": [
    {
     "data": {
      "text/plain": "array([13.3, 15.3, 16.2, 13.6, 13. , 16. ,  nan, 12. , 14. , 15.4])"
     },
     "execution_count": 383,
     "metadata": {},
     "output_type": "execute_result"
    }
   ],
   "source": [
    "laptops[\"screen_size\"].unique()"
   ],
   "metadata": {
    "collapsed": false,
    "ExecuteTime": {
     "end_time": "2023-10-11T01:01:05.853932Z",
     "start_time": "2023-10-11T01:01:05.046818Z"
    }
   },
   "id": "72a2e03a8924c6b6"
  },
  {
   "cell_type": "code",
   "execution_count": 384,
   "outputs": [
    {
     "data": {
      "text/plain": "screen_size\n12.0    1\n13.0    4\n13.3    6\n13.6    4\n14.0    1\n15.3    1\n15.4    1\n16.0    2\n16.2    4\nName: screen_size, dtype: int64"
     },
     "execution_count": 384,
     "metadata": {},
     "output_type": "execute_result"
    }
   ],
   "source": [
    "laptops.groupby(\"screen_size\")[\"screen_size\"].agg(\"count\")"
   ],
   "metadata": {
    "collapsed": false,
    "ExecuteTime": {
     "end_time": "2023-10-11T01:01:05.866875Z",
     "start_time": "2023-10-11T01:01:05.054648Z"
    }
   },
   "id": "1b3f1bba6b5ea638"
  },
  {
   "cell_type": "code",
   "execution_count": 385,
   "outputs": [
    {
     "data": {
      "text/plain": "[12.0,\n 13.0,\n 13.0,\n 13.0,\n 13.0,\n 13.3,\n 13.3,\n 13.3,\n 13.3,\n 13.3,\n 13.3,\n 13.6,\n 13.6,\n 13.6,\n 13.6,\n 14.0,\n 15.3,\n 15.4,\n 16.0,\n 16.0,\n 16.2,\n 16.2,\n 16.2,\n 16.2]"
     },
     "execution_count": 385,
     "metadata": {},
     "output_type": "execute_result"
    }
   ],
   "source": [
    "pool = []\n",
    "\n",
    "for screen_size, repeats in laptops.groupby(\"screen_size\")[\"screen_size\"].agg(\"count\").items():\n",
    "    pool.extend([screen_size] * repeats)\n",
    "    \n",
    "pool"
   ],
   "metadata": {
    "collapsed": false,
    "ExecuteTime": {
     "end_time": "2023-10-11T01:01:05.867376Z",
     "start_time": "2023-10-11T01:01:05.058604Z"
    }
   },
   "id": "d4759ca1e0342104"
  },
  {
   "cell_type": "code",
   "execution_count": 386,
   "outputs": [
    {
     "data": {
      "text/plain": "13.0"
     },
     "execution_count": 386,
     "metadata": {},
     "output_type": "execute_result"
    }
   ],
   "source": [
    "import random\n",
    "\n",
    "random.choice(pool)"
   ],
   "metadata": {
    "collapsed": false,
    "ExecuteTime": {
     "end_time": "2023-10-11T01:01:05.867643Z",
     "start_time": "2023-10-11T01:01:05.062967Z"
    }
   },
   "id": "18e9b6f520819e9d"
  },
  {
   "cell_type": "code",
   "execution_count": 387,
   "outputs": [
    {
     "data": {
      "text/plain": "1017    16.2\n3       13.3\n2450    16.2\n95      13.0\n111     13.6\n3153    13.0\n930     13.0\n624     13.6\n84      16.2\n2153    14.0\nName: screen_size, dtype: float64"
     },
     "execution_count": 387,
     "metadata": {},
     "output_type": "execute_result"
    }
   ],
   "source": [
    "laptops[\"screen_size\"].dropna().sample(10)"
   ],
   "metadata": {
    "collapsed": false,
    "ExecuteTime": {
     "end_time": "2023-10-11T01:01:05.868003Z",
     "start_time": "2023-10-11T01:01:05.068400Z"
    }
   },
   "id": "6c1f1e9c1317b671"
  },
  {
   "cell_type": "code",
   "execution_count": 388,
   "outputs": [
    {
     "data": {
      "text/plain": "13.0"
     },
     "execution_count": 388,
     "metadata": {},
     "output_type": "execute_result"
    }
   ],
   "source": [
    "random.choice(list(laptops[\"screen_size\"].dropna()))"
   ],
   "metadata": {
    "collapsed": false,
    "ExecuteTime": {
     "end_time": "2023-10-11T01:01:05.868249Z",
     "start_time": "2023-10-11T01:01:05.073585Z"
    }
   },
   "id": "201f6eceb70e8132"
  },
  {
   "cell_type": "code",
   "execution_count": 389,
   "outputs": [
    {
     "data": {
      "text/plain": "      screen_size harddisk    ram  rating\n3            13.3   256 GB   8 GB     4.8\n4            15.3   256 GB   8 GB     4.8\n6            13.3   256 GB   8 GB     4.7\n84           16.2   512 GB  32 GB     4.7\n86           13.6   512 GB  16 GB     4.8\n95           13.0   256 GB  16 GB     4.7\n111          13.6   256 GB  16 GB     5.0\n150          16.0     1 TB  32 GB     3.0\n264          13.3      NaN  16 GB     4.7\n345          13.3   256 GB   8 GB     4.0\n350          13.0      NaN   8 GB     4.8\n373          16.2     4 TB  96 GB     NaN\n383          16.2     2 TB  64 GB     NaN\n397          13.6     1 TB  16 GB     NaN\n511          15.4     1 TB  64 GB     NaN\n624          13.6   512 GB  16 GB     NaN\n774          16.0     1 TB  16 GB     4.7\n930          13.0   512 GB  16 GB     1.0\n995          13.3   256 GB  16 GB     3.9\n1010         16.0   512 GB  24 GB     NaN\n1017         16.2     1 TB  32 GB     NaN\n1727         15.3   512 GB  24 GB     5.0\n1922         12.0   512 GB   8 GB     4.0\n2112         13.3   128 GB   8 GB     4.5\n2153         14.0     1 TB  32 GB     4.5\n2450         16.2     4 TB  64 GB     NaN\n2796         16.0     2 TB  32 GB     NaN\n3140         15.4   256 GB    NaN     4.0\n3153         13.0   128 GB   8 GB     4.4",
      "text/html": "<div>\n<style scoped>\n    .dataframe tbody tr th:only-of-type {\n        vertical-align: middle;\n    }\n\n    .dataframe tbody tr th {\n        vertical-align: top;\n    }\n\n    .dataframe thead th {\n        text-align: right;\n    }\n</style>\n<table border=\"1\" class=\"dataframe\">\n  <thead>\n    <tr style=\"text-align: right;\">\n      <th></th>\n      <th>screen_size</th>\n      <th>harddisk</th>\n      <th>ram</th>\n      <th>rating</th>\n    </tr>\n  </thead>\n  <tbody>\n    <tr>\n      <th>3</th>\n      <td>13.3</td>\n      <td>256 GB</td>\n      <td>8 GB</td>\n      <td>4.8</td>\n    </tr>\n    <tr>\n      <th>4</th>\n      <td>15.3</td>\n      <td>256 GB</td>\n      <td>8 GB</td>\n      <td>4.8</td>\n    </tr>\n    <tr>\n      <th>6</th>\n      <td>13.3</td>\n      <td>256 GB</td>\n      <td>8 GB</td>\n      <td>4.7</td>\n    </tr>\n    <tr>\n      <th>84</th>\n      <td>16.2</td>\n      <td>512 GB</td>\n      <td>32 GB</td>\n      <td>4.7</td>\n    </tr>\n    <tr>\n      <th>86</th>\n      <td>13.6</td>\n      <td>512 GB</td>\n      <td>16 GB</td>\n      <td>4.8</td>\n    </tr>\n    <tr>\n      <th>95</th>\n      <td>13.0</td>\n      <td>256 GB</td>\n      <td>16 GB</td>\n      <td>4.7</td>\n    </tr>\n    <tr>\n      <th>111</th>\n      <td>13.6</td>\n      <td>256 GB</td>\n      <td>16 GB</td>\n      <td>5.0</td>\n    </tr>\n    <tr>\n      <th>150</th>\n      <td>16.0</td>\n      <td>1 TB</td>\n      <td>32 GB</td>\n      <td>3.0</td>\n    </tr>\n    <tr>\n      <th>264</th>\n      <td>13.3</td>\n      <td>NaN</td>\n      <td>16 GB</td>\n      <td>4.7</td>\n    </tr>\n    <tr>\n      <th>345</th>\n      <td>13.3</td>\n      <td>256 GB</td>\n      <td>8 GB</td>\n      <td>4.0</td>\n    </tr>\n    <tr>\n      <th>350</th>\n      <td>13.0</td>\n      <td>NaN</td>\n      <td>8 GB</td>\n      <td>4.8</td>\n    </tr>\n    <tr>\n      <th>373</th>\n      <td>16.2</td>\n      <td>4 TB</td>\n      <td>96 GB</td>\n      <td>NaN</td>\n    </tr>\n    <tr>\n      <th>383</th>\n      <td>16.2</td>\n      <td>2 TB</td>\n      <td>64 GB</td>\n      <td>NaN</td>\n    </tr>\n    <tr>\n      <th>397</th>\n      <td>13.6</td>\n      <td>1 TB</td>\n      <td>16 GB</td>\n      <td>NaN</td>\n    </tr>\n    <tr>\n      <th>511</th>\n      <td>15.4</td>\n      <td>1 TB</td>\n      <td>64 GB</td>\n      <td>NaN</td>\n    </tr>\n    <tr>\n      <th>624</th>\n      <td>13.6</td>\n      <td>512 GB</td>\n      <td>16 GB</td>\n      <td>NaN</td>\n    </tr>\n    <tr>\n      <th>774</th>\n      <td>16.0</td>\n      <td>1 TB</td>\n      <td>16 GB</td>\n      <td>4.7</td>\n    </tr>\n    <tr>\n      <th>930</th>\n      <td>13.0</td>\n      <td>512 GB</td>\n      <td>16 GB</td>\n      <td>1.0</td>\n    </tr>\n    <tr>\n      <th>995</th>\n      <td>13.3</td>\n      <td>256 GB</td>\n      <td>16 GB</td>\n      <td>3.9</td>\n    </tr>\n    <tr>\n      <th>1010</th>\n      <td>16.0</td>\n      <td>512 GB</td>\n      <td>24 GB</td>\n      <td>NaN</td>\n    </tr>\n    <tr>\n      <th>1017</th>\n      <td>16.2</td>\n      <td>1 TB</td>\n      <td>32 GB</td>\n      <td>NaN</td>\n    </tr>\n    <tr>\n      <th>1727</th>\n      <td>15.3</td>\n      <td>512 GB</td>\n      <td>24 GB</td>\n      <td>5.0</td>\n    </tr>\n    <tr>\n      <th>1922</th>\n      <td>12.0</td>\n      <td>512 GB</td>\n      <td>8 GB</td>\n      <td>4.0</td>\n    </tr>\n    <tr>\n      <th>2112</th>\n      <td>13.3</td>\n      <td>128 GB</td>\n      <td>8 GB</td>\n      <td>4.5</td>\n    </tr>\n    <tr>\n      <th>2153</th>\n      <td>14.0</td>\n      <td>1 TB</td>\n      <td>32 GB</td>\n      <td>4.5</td>\n    </tr>\n    <tr>\n      <th>2450</th>\n      <td>16.2</td>\n      <td>4 TB</td>\n      <td>64 GB</td>\n      <td>NaN</td>\n    </tr>\n    <tr>\n      <th>2796</th>\n      <td>16.0</td>\n      <td>2 TB</td>\n      <td>32 GB</td>\n      <td>NaN</td>\n    </tr>\n    <tr>\n      <th>3140</th>\n      <td>15.4</td>\n      <td>256 GB</td>\n      <td>NaN</td>\n      <td>4.0</td>\n    </tr>\n    <tr>\n      <th>3153</th>\n      <td>13.0</td>\n      <td>128 GB</td>\n      <td>8 GB</td>\n      <td>4.4</td>\n    </tr>\n  </tbody>\n</table>\n</div>"
     },
     "execution_count": 389,
     "metadata": {},
     "output_type": "execute_result"
    }
   ],
   "source": [
    "def fix_screen_size(screen_size):\n",
    "    if f\"{screen_size}\" == \"nan\":\n",
    "        return random.choice(list(laptops[\"screen_size\"].dropna()))\n",
    "    return screen_size\n",
    "\n",
    "# Al reparar los datos faltantes del tamaño de pantalla\n",
    "# supusimos que podía ser sustituido por algún tamaño aleatorio\n",
    "# bajo la misma probabilidad (* Hipótesis 1)\n",
    "laptops[\"screen_size\"] = laptops[\"screen_size\"].map(fix_screen_size)\n",
    "\n",
    "laptops[ features ]"
   ],
   "metadata": {
    "collapsed": false,
    "ExecuteTime": {
     "end_time": "2023-10-11T01:01:05.869129Z",
     "start_time": "2023-10-11T01:01:05.088083Z"
    }
   },
   "id": "46d3edb4f71c2e83"
  },
  {
   "cell_type": "code",
   "execution_count": 390,
   "outputs": [
    {
     "data": {
      "text/plain": "harddisk\n1 TB      6\n128 GB    2\n2 TB      2\n256 GB    8\n4 TB      2\n512 GB    7\nName: harddisk, dtype: int64"
     },
     "execution_count": 390,
     "metadata": {},
     "output_type": "execute_result"
    }
   ],
   "source": [
    "laptops.groupby(\"harddisk\")[\"harddisk\"].agg(\"count\")"
   ],
   "metadata": {
    "collapsed": false,
    "ExecuteTime": {
     "end_time": "2023-10-11T01:01:05.869368Z",
     "start_time": "2023-10-11T01:01:05.092131Z"
    }
   },
   "id": "194af3cb444f9857"
  },
  {
   "cell_type": "code",
   "execution_count": 391,
   "outputs": [
    {
     "data": {
      "text/plain": "      screen_size  harddisk    ram  rating\n383          16.2    2000.0  64 GB     NaN\n1017         16.2    1000.0  32 GB     NaN\n373          16.2    4000.0  96 GB     NaN\n774          16.0    1000.0  16 GB     4.7\n3153         13.0     128.0   8 GB     4.4\n995          13.3     256.0  16 GB     3.9\n111          13.6     256.0  16 GB     5.0\n2796         16.0    2000.0  32 GB     NaN\n3140         15.4     256.0    NaN     4.0\n345          13.3     256.0   8 GB     4.0",
      "text/html": "<div>\n<style scoped>\n    .dataframe tbody tr th:only-of-type {\n        vertical-align: middle;\n    }\n\n    .dataframe tbody tr th {\n        vertical-align: top;\n    }\n\n    .dataframe thead th {\n        text-align: right;\n    }\n</style>\n<table border=\"1\" class=\"dataframe\">\n  <thead>\n    <tr style=\"text-align: right;\">\n      <th></th>\n      <th>screen_size</th>\n      <th>harddisk</th>\n      <th>ram</th>\n      <th>rating</th>\n    </tr>\n  </thead>\n  <tbody>\n    <tr>\n      <th>383</th>\n      <td>16.2</td>\n      <td>2000.0</td>\n      <td>64 GB</td>\n      <td>NaN</td>\n    </tr>\n    <tr>\n      <th>1017</th>\n      <td>16.2</td>\n      <td>1000.0</td>\n      <td>32 GB</td>\n      <td>NaN</td>\n    </tr>\n    <tr>\n      <th>373</th>\n      <td>16.2</td>\n      <td>4000.0</td>\n      <td>96 GB</td>\n      <td>NaN</td>\n    </tr>\n    <tr>\n      <th>774</th>\n      <td>16.0</td>\n      <td>1000.0</td>\n      <td>16 GB</td>\n      <td>4.7</td>\n    </tr>\n    <tr>\n      <th>3153</th>\n      <td>13.0</td>\n      <td>128.0</td>\n      <td>8 GB</td>\n      <td>4.4</td>\n    </tr>\n    <tr>\n      <th>995</th>\n      <td>13.3</td>\n      <td>256.0</td>\n      <td>16 GB</td>\n      <td>3.9</td>\n    </tr>\n    <tr>\n      <th>111</th>\n      <td>13.6</td>\n      <td>256.0</td>\n      <td>16 GB</td>\n      <td>5.0</td>\n    </tr>\n    <tr>\n      <th>2796</th>\n      <td>16.0</td>\n      <td>2000.0</td>\n      <td>32 GB</td>\n      <td>NaN</td>\n    </tr>\n    <tr>\n      <th>3140</th>\n      <td>15.4</td>\n      <td>256.0</td>\n      <td>NaN</td>\n      <td>4.0</td>\n    </tr>\n    <tr>\n      <th>345</th>\n      <td>13.3</td>\n      <td>256.0</td>\n      <td>8 GB</td>\n      <td>4.0</td>\n    </tr>\n  </tbody>\n</table>\n</div>"
     },
     "execution_count": 391,
     "metadata": {},
     "output_type": "execute_result"
    }
   ],
   "source": [
    "def clean_harddisk(harddisk):\n",
    "    if f\"{harddisk}\" == \"nan\":\n",
    "        return None\n",
    "    import re\n",
    "    if not re.search(r\"MB\", harddisk) == None:\n",
    "        match = re.search(r\"\\d+.?\\d*\", harddisk)\n",
    "        if not match == None:\n",
    "            valor = float(match.group(0))\n",
    "            return valor / 1000\n",
    "    elif not re.search(r\"GB\", harddisk) == None:\n",
    "        match = re.search(r\"\\d+.?\\d*\", harddisk)\n",
    "        if not match == None:\n",
    "            valor = float(match.group(0))\n",
    "            return valor\n",
    "    elif not re.search(r\"TB\", harddisk) == None:\n",
    "        match = re.search(r\"\\d+.?\\d*\", harddisk)\n",
    "        if not match == None:\n",
    "            valor = float(match.group(0))\n",
    "            return valor * 1000\n",
    "    return None\n",
    "\n",
    "laptops[\"harddisk\"] = laptops[\"harddisk\"].map(clean_harddisk)\n",
    "\n",
    "laptops[ features ].sample(10)"
   ],
   "metadata": {
    "collapsed": false,
    "ExecuteTime": {
     "end_time": "2023-10-11T01:01:05.870050Z",
     "start_time": "2023-10-11T01:01:05.105054Z"
    }
   },
   "id": "b39baa8e9d42cb2f"
  },
  {
   "cell_type": "code",
   "execution_count": 392,
   "outputs": [
    {
     "data": {
      "text/plain": "128.0"
     },
     "execution_count": 392,
     "metadata": {},
     "output_type": "execute_result"
    }
   ],
   "source": [
    "random.choice(list(laptops[\"harddisk\"].dropna()))"
   ],
   "metadata": {
    "collapsed": false,
    "ExecuteTime": {
     "end_time": "2023-10-11T01:01:05.870355Z",
     "start_time": "2023-10-11T01:01:05.108785Z"
    }
   },
   "id": "23bfa9759cf34cfe"
  },
  {
   "cell_type": "code",
   "execution_count": 393,
   "outputs": [
    {
     "data": {
      "text/plain": "      screen_size  harddisk    ram  rating\n264          13.3     256.0  16 GB     4.7\n383          16.2    2000.0  64 GB     NaN\n995          13.3     256.0  16 GB     3.9\n2112         13.3     128.0   8 GB     4.5\n397          13.6    1000.0  16 GB     NaN\n511          15.4    1000.0  64 GB     NaN\n1922         12.0     512.0   8 GB     4.0\n1010         16.0     512.0  24 GB     NaN\n1727         15.3     512.0  24 GB     5.0\n95           13.0     256.0  16 GB     4.7",
      "text/html": "<div>\n<style scoped>\n    .dataframe tbody tr th:only-of-type {\n        vertical-align: middle;\n    }\n\n    .dataframe tbody tr th {\n        vertical-align: top;\n    }\n\n    .dataframe thead th {\n        text-align: right;\n    }\n</style>\n<table border=\"1\" class=\"dataframe\">\n  <thead>\n    <tr style=\"text-align: right;\">\n      <th></th>\n      <th>screen_size</th>\n      <th>harddisk</th>\n      <th>ram</th>\n      <th>rating</th>\n    </tr>\n  </thead>\n  <tbody>\n    <tr>\n      <th>264</th>\n      <td>13.3</td>\n      <td>256.0</td>\n      <td>16 GB</td>\n      <td>4.7</td>\n    </tr>\n    <tr>\n      <th>383</th>\n      <td>16.2</td>\n      <td>2000.0</td>\n      <td>64 GB</td>\n      <td>NaN</td>\n    </tr>\n    <tr>\n      <th>995</th>\n      <td>13.3</td>\n      <td>256.0</td>\n      <td>16 GB</td>\n      <td>3.9</td>\n    </tr>\n    <tr>\n      <th>2112</th>\n      <td>13.3</td>\n      <td>128.0</td>\n      <td>8 GB</td>\n      <td>4.5</td>\n    </tr>\n    <tr>\n      <th>397</th>\n      <td>13.6</td>\n      <td>1000.0</td>\n      <td>16 GB</td>\n      <td>NaN</td>\n    </tr>\n    <tr>\n      <th>511</th>\n      <td>15.4</td>\n      <td>1000.0</td>\n      <td>64 GB</td>\n      <td>NaN</td>\n    </tr>\n    <tr>\n      <th>1922</th>\n      <td>12.0</td>\n      <td>512.0</td>\n      <td>8 GB</td>\n      <td>4.0</td>\n    </tr>\n    <tr>\n      <th>1010</th>\n      <td>16.0</td>\n      <td>512.0</td>\n      <td>24 GB</td>\n      <td>NaN</td>\n    </tr>\n    <tr>\n      <th>1727</th>\n      <td>15.3</td>\n      <td>512.0</td>\n      <td>24 GB</td>\n      <td>5.0</td>\n    </tr>\n    <tr>\n      <th>95</th>\n      <td>13.0</td>\n      <td>256.0</td>\n      <td>16 GB</td>\n      <td>4.7</td>\n    </tr>\n  </tbody>\n</table>\n</div>"
     },
     "execution_count": 393,
     "metadata": {},
     "output_type": "execute_result"
    }
   ],
   "source": [
    "def fix_harddisk(harddisk):\n",
    "    import random\n",
    "    if f\"{harddisk}\" == \"nan\":\n",
    "        return random.choice(list(laptops[\"harddisk\"].dropna()))\n",
    "    return harddisk\n",
    "\n",
    "laptops[\"harddisk\"] = laptops[\"harddisk\"].map(fix_harddisk)\n",
    "\n",
    "laptops[ features ].sample(10)"
   ],
   "metadata": {
    "collapsed": false,
    "ExecuteTime": {
     "end_time": "2023-10-11T01:01:05.870790Z",
     "start_time": "2023-10-11T01:01:05.119265Z"
    }
   },
   "id": "775b3fa32b789e3c"
  },
  {
   "cell_type": "code",
   "execution_count": 394,
   "outputs": [
    {
     "data": {
      "text/plain": "      screen_size  harddisk   ram  rating\n150          16.0    1000.0  32.0     3.0\n1727         15.3     512.0  24.0     5.0\n511          15.4    1000.0  64.0     NaN\n264          13.3     256.0  16.0     4.7\n4            15.3     256.0   8.0     4.8\n1010         16.0     512.0  24.0     NaN\n95           13.0     256.0  16.0     4.7\n1017         16.2    1000.0  32.0     NaN\n84           16.2     512.0  32.0     4.7\n345          13.3     256.0   8.0     4.0",
      "text/html": "<div>\n<style scoped>\n    .dataframe tbody tr th:only-of-type {\n        vertical-align: middle;\n    }\n\n    .dataframe tbody tr th {\n        vertical-align: top;\n    }\n\n    .dataframe thead th {\n        text-align: right;\n    }\n</style>\n<table border=\"1\" class=\"dataframe\">\n  <thead>\n    <tr style=\"text-align: right;\">\n      <th></th>\n      <th>screen_size</th>\n      <th>harddisk</th>\n      <th>ram</th>\n      <th>rating</th>\n    </tr>\n  </thead>\n  <tbody>\n    <tr>\n      <th>150</th>\n      <td>16.0</td>\n      <td>1000.0</td>\n      <td>32.0</td>\n      <td>3.0</td>\n    </tr>\n    <tr>\n      <th>1727</th>\n      <td>15.3</td>\n      <td>512.0</td>\n      <td>24.0</td>\n      <td>5.0</td>\n    </tr>\n    <tr>\n      <th>511</th>\n      <td>15.4</td>\n      <td>1000.0</td>\n      <td>64.0</td>\n      <td>NaN</td>\n    </tr>\n    <tr>\n      <th>264</th>\n      <td>13.3</td>\n      <td>256.0</td>\n      <td>16.0</td>\n      <td>4.7</td>\n    </tr>\n    <tr>\n      <th>4</th>\n      <td>15.3</td>\n      <td>256.0</td>\n      <td>8.0</td>\n      <td>4.8</td>\n    </tr>\n    <tr>\n      <th>1010</th>\n      <td>16.0</td>\n      <td>512.0</td>\n      <td>24.0</td>\n      <td>NaN</td>\n    </tr>\n    <tr>\n      <th>95</th>\n      <td>13.0</td>\n      <td>256.0</td>\n      <td>16.0</td>\n      <td>4.7</td>\n    </tr>\n    <tr>\n      <th>1017</th>\n      <td>16.2</td>\n      <td>1000.0</td>\n      <td>32.0</td>\n      <td>NaN</td>\n    </tr>\n    <tr>\n      <th>84</th>\n      <td>16.2</td>\n      <td>512.0</td>\n      <td>32.0</td>\n      <td>4.7</td>\n    </tr>\n    <tr>\n      <th>345</th>\n      <td>13.3</td>\n      <td>256.0</td>\n      <td>8.0</td>\n      <td>4.0</td>\n    </tr>\n  </tbody>\n</table>\n</div>"
     },
     "execution_count": 394,
     "metadata": {},
     "output_type": "execute_result"
    }
   ],
   "source": [
    "def clean_ram(ram):\n",
    "    if f\"{ram}\" == \"nan\":\n",
    "        return None\n",
    "    import re\n",
    "    if not re.search(r\"MB\", ram) == None:\n",
    "        match = re.search(r\"\\d+.?\\d*\", ram)\n",
    "        if not match == None:\n",
    "            valor = float(match.group(0))\n",
    "            return valor / 1000\n",
    "    elif not re.search(r\"GB\", ram) == None:\n",
    "        match = re.search(r\"\\d+.?\\d*\", ram)\n",
    "        if not match == None:\n",
    "            valor = float(match.group(0))\n",
    "            return valor\n",
    "    elif not re.search(r\"TB\", ram) == None:\n",
    "        match = re.search(r\"\\d+.?\\d*\", ram)\n",
    "        if not match == None:\n",
    "            valor = float(match.group(0))\n",
    "            return valor * 1000\n",
    "    return None\n",
    "\n",
    "laptops[\"ram\"] = laptops[\"ram\"].map(clean_ram)\n",
    "\n",
    "laptops[ features ].sample(10)"
   ],
   "metadata": {
    "collapsed": false,
    "ExecuteTime": {
     "end_time": "2023-10-11T01:01:05.871217Z",
     "start_time": "2023-10-11T01:01:05.124223Z"
    }
   },
   "id": "4270f31964b0e7ee"
  },
  {
   "cell_type": "code",
   "execution_count": 395,
   "outputs": [
    {
     "data": {
      "text/plain": "      screen_size  harddisk   ram  rating\n930          13.0     512.0  16.0     1.0\n3140         15.4     256.0  32.0     4.0\n84           16.2     512.0  32.0     4.7\n345          13.3     256.0   8.0     4.0\n86           13.6     512.0  16.0     4.8\n3153         13.0     128.0   8.0     4.4\n2112         13.3     128.0   8.0     4.5\n6            13.3     256.0   8.0     4.7\n373          16.2    4000.0  96.0     NaN\n3            13.3     256.0   8.0     4.8",
      "text/html": "<div>\n<style scoped>\n    .dataframe tbody tr th:only-of-type {\n        vertical-align: middle;\n    }\n\n    .dataframe tbody tr th {\n        vertical-align: top;\n    }\n\n    .dataframe thead th {\n        text-align: right;\n    }\n</style>\n<table border=\"1\" class=\"dataframe\">\n  <thead>\n    <tr style=\"text-align: right;\">\n      <th></th>\n      <th>screen_size</th>\n      <th>harddisk</th>\n      <th>ram</th>\n      <th>rating</th>\n    </tr>\n  </thead>\n  <tbody>\n    <tr>\n      <th>930</th>\n      <td>13.0</td>\n      <td>512.0</td>\n      <td>16.0</td>\n      <td>1.0</td>\n    </tr>\n    <tr>\n      <th>3140</th>\n      <td>15.4</td>\n      <td>256.0</td>\n      <td>32.0</td>\n      <td>4.0</td>\n    </tr>\n    <tr>\n      <th>84</th>\n      <td>16.2</td>\n      <td>512.0</td>\n      <td>32.0</td>\n      <td>4.7</td>\n    </tr>\n    <tr>\n      <th>345</th>\n      <td>13.3</td>\n      <td>256.0</td>\n      <td>8.0</td>\n      <td>4.0</td>\n    </tr>\n    <tr>\n      <th>86</th>\n      <td>13.6</td>\n      <td>512.0</td>\n      <td>16.0</td>\n      <td>4.8</td>\n    </tr>\n    <tr>\n      <th>3153</th>\n      <td>13.0</td>\n      <td>128.0</td>\n      <td>8.0</td>\n      <td>4.4</td>\n    </tr>\n    <tr>\n      <th>2112</th>\n      <td>13.3</td>\n      <td>128.0</td>\n      <td>8.0</td>\n      <td>4.5</td>\n    </tr>\n    <tr>\n      <th>6</th>\n      <td>13.3</td>\n      <td>256.0</td>\n      <td>8.0</td>\n      <td>4.7</td>\n    </tr>\n    <tr>\n      <th>373</th>\n      <td>16.2</td>\n      <td>4000.0</td>\n      <td>96.0</td>\n      <td>NaN</td>\n    </tr>\n    <tr>\n      <th>3</th>\n      <td>13.3</td>\n      <td>256.0</td>\n      <td>8.0</td>\n      <td>4.8</td>\n    </tr>\n  </tbody>\n</table>\n</div>"
     },
     "execution_count": 395,
     "metadata": {},
     "output_type": "execute_result"
    }
   ],
   "source": [
    "def fix_ram(ram):\n",
    "    import random\n",
    "    if f\"{ram}\" == \"nan\":\n",
    "        return random.choice(list(laptops[\"ram\"].dropna()))\n",
    "    return ram\n",
    "\n",
    "laptops[\"ram\"] = laptops[\"ram\"].map(fix_ram)\n",
    "\n",
    "laptops[ features ].sample(10)"
   ],
   "metadata": {
    "collapsed": false,
    "ExecuteTime": {
     "end_time": "2023-10-11T01:01:05.871629Z",
     "start_time": "2023-10-11T01:01:05.139024Z"
    }
   },
   "id": "d66c47bcf2293f71"
  },
  {
   "cell_type": "code",
   "execution_count": 396,
   "outputs": [
    {
     "data": {
      "text/plain": "      screen_size  harddisk   ram  rating\n930          13.0     512.0  16.0     1.0\n4            15.3     256.0   8.0     4.8\n383          16.2    2000.0  64.0     4.5\n511          15.4    1000.0  64.0     4.5\n345          13.3     256.0   8.0     4.0\n397          13.6    1000.0  16.0     4.5\n95           13.0     256.0  16.0     4.7\n2796         16.0    2000.0  32.0     4.0\n1010         16.0     512.0  24.0     5.0\n86           13.6     512.0  16.0     4.8",
      "text/html": "<div>\n<style scoped>\n    .dataframe tbody tr th:only-of-type {\n        vertical-align: middle;\n    }\n\n    .dataframe tbody tr th {\n        vertical-align: top;\n    }\n\n    .dataframe thead th {\n        text-align: right;\n    }\n</style>\n<table border=\"1\" class=\"dataframe\">\n  <thead>\n    <tr style=\"text-align: right;\">\n      <th></th>\n      <th>screen_size</th>\n      <th>harddisk</th>\n      <th>ram</th>\n      <th>rating</th>\n    </tr>\n  </thead>\n  <tbody>\n    <tr>\n      <th>930</th>\n      <td>13.0</td>\n      <td>512.0</td>\n      <td>16.0</td>\n      <td>1.0</td>\n    </tr>\n    <tr>\n      <th>4</th>\n      <td>15.3</td>\n      <td>256.0</td>\n      <td>8.0</td>\n      <td>4.8</td>\n    </tr>\n    <tr>\n      <th>383</th>\n      <td>16.2</td>\n      <td>2000.0</td>\n      <td>64.0</td>\n      <td>4.5</td>\n    </tr>\n    <tr>\n      <th>511</th>\n      <td>15.4</td>\n      <td>1000.0</td>\n      <td>64.0</td>\n      <td>4.5</td>\n    </tr>\n    <tr>\n      <th>345</th>\n      <td>13.3</td>\n      <td>256.0</td>\n      <td>8.0</td>\n      <td>4.0</td>\n    </tr>\n    <tr>\n      <th>397</th>\n      <td>13.6</td>\n      <td>1000.0</td>\n      <td>16.0</td>\n      <td>4.5</td>\n    </tr>\n    <tr>\n      <th>95</th>\n      <td>13.0</td>\n      <td>256.0</td>\n      <td>16.0</td>\n      <td>4.7</td>\n    </tr>\n    <tr>\n      <th>2796</th>\n      <td>16.0</td>\n      <td>2000.0</td>\n      <td>32.0</td>\n      <td>4.0</td>\n    </tr>\n    <tr>\n      <th>1010</th>\n      <td>16.0</td>\n      <td>512.0</td>\n      <td>24.0</td>\n      <td>5.0</td>\n    </tr>\n    <tr>\n      <th>86</th>\n      <td>13.6</td>\n      <td>512.0</td>\n      <td>16.0</td>\n      <td>4.8</td>\n    </tr>\n  </tbody>\n</table>\n</div>"
     },
     "execution_count": 396,
     "metadata": {},
     "output_type": "execute_result"
    }
   ],
   "source": [
    "def fix_rating(rating):\n",
    "    import random\n",
    "    if f\"{rating}\" == \"nan\":\n",
    "        return random.choice(list(laptops[\"rating\"].dropna()))\n",
    "    return rating\n",
    "\n",
    "laptops[\"rating\"] = laptops[\"rating\"].map(fix_rating)\n",
    "\n",
    "laptops[ features ].sample(10)"
   ],
   "metadata": {
    "collapsed": false,
    "ExecuteTime": {
     "end_time": "2023-10-11T01:01:05.873163Z",
     "start_time": "2023-10-11T01:01:05.147682Z"
    }
   },
   "id": "f04435ebddb27779"
  },
  {
   "cell_type": "code",
   "execution_count": 397,
   "outputs": [
    {
     "data": {
      "text/plain": "(29, 4)"
     },
     "execution_count": 397,
     "metadata": {},
     "output_type": "execute_result"
    }
   ],
   "source": [
    "X = laptops[ features ].values\n",
    "\n",
    "X.shape"
   ],
   "metadata": {
    "collapsed": false,
    "ExecuteTime": {
     "end_time": "2023-10-11T01:01:05.873568Z",
     "start_time": "2023-10-11T01:01:05.153721Z"
    }
   },
   "id": "fab9b3e66e7ea38c"
  },
  {
   "cell_type": "code",
   "execution_count": 398,
   "outputs": [
    {
     "data": {
      "text/plain": "511     $3,699.00 \n95      $1,457.99 \n350     $1,178.00 \n150     $3,059.00 \n373     $5,299.00 \n6         $965.08 \n3140    $1,649.95 \n3153    $1,248.00 \n2450    $4,888.99 \n1010    $1,899.00 \nName: price, dtype: object"
     },
     "execution_count": 398,
     "metadata": {},
     "output_type": "execute_result"
    }
   ],
   "source": [
    "laptops[\"price\"].sample(10)"
   ],
   "metadata": {
    "collapsed": false,
    "ExecuteTime": {
     "end_time": "2023-10-11T01:01:05.873825Z",
     "start_time": "2023-10-11T01:01:05.158374Z"
    }
   },
   "id": "9c0fbbfee389a7b6"
  },
  {
   "cell_type": "code",
   "execution_count": 399,
   "outputs": [
    {
     "data": {
      "text/plain": "111     1255.94\n2112     689.95\n1010    1899.00\n84      1899.00\n2796    3699.00\n1922     779.95\n150     3059.00\n3153    1248.00\n86      1459.94\n1017    3043.95\nName: price, dtype: float64"
     },
     "execution_count": 399,
     "metadata": {},
     "output_type": "execute_result"
    }
   ],
   "source": [
    "def clean_price(price):\n",
    "    if f\"{price}\" == \"nan\":\n",
    "        return None\n",
    "    return float(price.replace(\"$\", \"\").replace(\",\", \"\"))\n",
    "\n",
    "laptops[\"price\"] = laptops[\"price\"].map(clean_price)\n",
    "\n",
    "laptops[\"price\"].sample(10)"
   ],
   "metadata": {
    "collapsed": false,
    "ExecuteTime": {
     "end_time": "2023-10-11T01:01:05.874155Z",
     "start_time": "2023-10-11T01:01:05.164048Z"
    }
   },
   "id": "b4d76e4b4fc9e5ea"
  },
  {
   "cell_type": "code",
   "execution_count": 400,
   "outputs": [
    {
     "data": {
      "text/plain": "        price  screen_size  harddisk   ram  rating\n3140  1649.95         15.4     256.0  32.0     4.0\n345   1068.99         13.3     256.0   8.0     4.0\n774   1419.00         16.0    1000.0  16.0     4.7\n2796  3699.00         16.0    2000.0  32.0     4.0\n995   1499.00         13.3     256.0  16.0     3.9\n264    911.00         13.3     256.0  16.0     4.7\n111   1255.94         13.6     256.0  16.0     5.0\n2112   689.95         13.3     128.0   8.0     4.5\n2153  2611.35         14.0    1000.0  32.0     4.5\n397   2778.00         13.6    1000.0  16.0     4.5",
      "text/html": "<div>\n<style scoped>\n    .dataframe tbody tr th:only-of-type {\n        vertical-align: middle;\n    }\n\n    .dataframe tbody tr th {\n        vertical-align: top;\n    }\n\n    .dataframe thead th {\n        text-align: right;\n    }\n</style>\n<table border=\"1\" class=\"dataframe\">\n  <thead>\n    <tr style=\"text-align: right;\">\n      <th></th>\n      <th>price</th>\n      <th>screen_size</th>\n      <th>harddisk</th>\n      <th>ram</th>\n      <th>rating</th>\n    </tr>\n  </thead>\n  <tbody>\n    <tr>\n      <th>3140</th>\n      <td>1649.95</td>\n      <td>15.4</td>\n      <td>256.0</td>\n      <td>32.0</td>\n      <td>4.0</td>\n    </tr>\n    <tr>\n      <th>345</th>\n      <td>1068.99</td>\n      <td>13.3</td>\n      <td>256.0</td>\n      <td>8.0</td>\n      <td>4.0</td>\n    </tr>\n    <tr>\n      <th>774</th>\n      <td>1419.00</td>\n      <td>16.0</td>\n      <td>1000.0</td>\n      <td>16.0</td>\n      <td>4.7</td>\n    </tr>\n    <tr>\n      <th>2796</th>\n      <td>3699.00</td>\n      <td>16.0</td>\n      <td>2000.0</td>\n      <td>32.0</td>\n      <td>4.0</td>\n    </tr>\n    <tr>\n      <th>995</th>\n      <td>1499.00</td>\n      <td>13.3</td>\n      <td>256.0</td>\n      <td>16.0</td>\n      <td>3.9</td>\n    </tr>\n    <tr>\n      <th>264</th>\n      <td>911.00</td>\n      <td>13.3</td>\n      <td>256.0</td>\n      <td>16.0</td>\n      <td>4.7</td>\n    </tr>\n    <tr>\n      <th>111</th>\n      <td>1255.94</td>\n      <td>13.6</td>\n      <td>256.0</td>\n      <td>16.0</td>\n      <td>5.0</td>\n    </tr>\n    <tr>\n      <th>2112</th>\n      <td>689.95</td>\n      <td>13.3</td>\n      <td>128.0</td>\n      <td>8.0</td>\n      <td>4.5</td>\n    </tr>\n    <tr>\n      <th>2153</th>\n      <td>2611.35</td>\n      <td>14.0</td>\n      <td>1000.0</td>\n      <td>32.0</td>\n      <td>4.5</td>\n    </tr>\n    <tr>\n      <th>397</th>\n      <td>2778.00</td>\n      <td>13.6</td>\n      <td>1000.0</td>\n      <td>16.0</td>\n      <td>4.5</td>\n    </tr>\n  </tbody>\n</table>\n</div>"
     },
     "execution_count": 400,
     "metadata": {},
     "output_type": "execute_result"
    }
   ],
   "source": [
    "columns = [\"price\"]\n",
    "columns.extend(features)\n",
    "\n",
    "laptops_analysis = laptops[ columns ].dropna()\n",
    "\n",
    "laptops_analysis.sample(10)"
   ],
   "metadata": {
    "collapsed": false,
    "ExecuteTime": {
     "end_time": "2023-10-11T01:01:05.874665Z",
     "start_time": "2023-10-11T01:01:05.172531Z"
    }
   },
   "id": "db9ff1d4d104ac7c"
  },
  {
   "cell_type": "code",
   "execution_count": 401,
   "outputs": [
    {
     "data": {
      "text/plain": "((29, 4), (29,))"
     },
     "execution_count": 401,
     "metadata": {},
     "output_type": "execute_result"
    }
   ],
   "source": [
    "X = laptops_analysis[ features ].values\n",
    "y = laptops_analysis[\"price\"].values\n",
    "\n",
    "X.shape, y.shape"
   ],
   "metadata": {
    "collapsed": false,
    "ExecuteTime": {
     "end_time": "2023-10-11T01:01:05.874968Z",
     "start_time": "2023-10-11T01:01:05.177278Z"
    }
   },
   "id": "2997944e2c453525"
  },
  {
   "cell_type": "code",
   "execution_count": 402,
   "outputs": [
    {
     "data": {
      "text/plain": "<Figure size 640x480 with 1 Axes>",
      "image/png": "[encoded data removed]"
     },
     "metadata": {},
     "output_type": "display_data"
    }
   ],
   "source": [
    "import matplotlib.pyplot as plt\n",
    "\n",
    "plt.plot(X[:,0], y, \"o\")\n",
    "plt.show()"
   ],
   "metadata": {
    "collapsed": false,
    "ExecuteTime": {
     "end_time": "2023-10-11T01:01:05.875229Z",
     "start_time": "2023-10-11T01:01:05.187216Z"
    }
   },
   "id": "48ce54994821fe7a"
  },
  {
   "cell_type": "code",
   "execution_count": 403,
   "outputs": [
    {
     "data": {
      "text/plain": "<Figure size 640x480 with 1 Axes>",
      "image/png": "[encoded data removed]"
     },
     "metadata": {},
     "output_type": "display_data"
    }
   ],
   "source": [
    "import matplotlib.pyplot as plt\n",
    "\n",
    "plt.plot(X[:,1], y, \"o\")\n",
    "plt.show()"
   ],
   "metadata": {
    "collapsed": false,
    "ExecuteTime": {
     "end_time": "2023-10-11T01:01:05.876252Z",
     "start_time": "2023-10-11T01:01:05.377732Z"
    }
   },
   "id": "bbef76a690971bbe"
  },
  {
   "cell_type": "code",
   "execution_count": 404,
   "outputs": [
    {
     "data": {
      "text/plain": "<Figure size 640x480 with 1 Axes>",
      "image/png": "[encoded data removed]"
     },
     "metadata": {},
     "output_type": "display_data"
    }
   ],
   "source": [
    "import matplotlib.pyplot as plt\n",
    "\n",
    "plt.plot(X[:,2], y, \"o\")\n",
    "plt.show()"
   ],
   "metadata": {
    "collapsed": false,
    "ExecuteTime": {
     "end_time": "2023-10-11T01:01:05.877027Z",
     "start_time": "2023-10-11T01:01:05.426808Z"
    }
   },
   "id": "dc76e936fa1ed8fe"
  },
  {
   "cell_type": "code",
   "execution_count": 405,
   "outputs": [
    {
     "data": {
      "text/plain": "<Figure size 640x480 with 1 Axes>",
      "image/png": "[encoded data removed]"
     },
     "metadata": {},
     "output_type": "display_data"
    }
   ],
   "source": [
    "import matplotlib.pyplot as plt\n",
    "\n",
    "plt.plot(X[:,3], y, \"o\")\n",
    "plt.show()"
   ],
   "metadata": {
    "collapsed": false,
    "ExecuteTime": {
     "end_time": "2023-10-11T01:01:05.877246Z",
     "start_time": "2023-10-11T01:01:05.518588Z"
    }
   },
   "id": "f79c0bf665b1d43c"
  },
  {
   "cell_type": "code",
   "execution_count": 406,
   "outputs": [],
   "source": [
    "X1 = laptops_analysis[ [\"screen_size\", \"harddisk\"] ].values"
   ],
   "metadata": {
    "collapsed": false,
    "ExecuteTime": {
     "end_time": "2023-10-11T01:01:05.877366Z",
     "start_time": "2023-10-11T01:01:05.600881Z"
    }
   },
   "id": "5916bc1725cfedd6"
  },
  {
   "cell_type": "code",
   "execution_count": 426,
   "outputs": [
    {
     "data": {
      "text/plain": "0.8474334167155714"
     },
     "execution_count": 426,
     "metadata": {},
     "output_type": "execute_result"
    }
   ],
   "source": [
    "from sklearn.linear_model import LinearRegression\n",
    "\n",
    "reg = LinearRegression()\n",
    "\n",
    "reg.fit(X1, y)\n",
    "\n",
    "reg.score(X1, y)"
   ],
   "metadata": {
    "collapsed": false,
    "ExecuteTime": {
     "end_time": "2023-10-11T01:05:04.598126Z",
     "start_time": "2023-10-11T01:05:04.571960Z"
    }
   },
   "id": "814772491f76ca52"
  },
  {
   "cell_type": "code",
   "execution_count": 442,
   "outputs": [
    {
     "data": {
      "text/plain": "array([1955.92020184, 1719.93963614, 1186.58670944, 1502.57021414])"
     },
     "execution_count": 442,
     "metadata": {},
     "output_type": "execute_result"
    }
   ],
   "source": [
    "reg.predict([\n",
    "    [15.3, 512],\n",
    "    [15.3, 256],\n",
    "    [13.3, 256],\n",
    "    [13.6, 512],\n",
    "])"
   ],
   "metadata": {
    "collapsed": false,
    "ExecuteTime": {
     "end_time": "2023-10-11T01:09:05.492965Z",
     "start_time": "2023-10-11T01:09:05.467594Z"
    }
   },
   "id": "76127e34c3221caf"
  },
  {
   "cell_type": "code",
   "execution_count": 432,
   "outputs": [
    {
     "data": {
      "text/plain": "array([13.3, 15.3, 16.2, 13.6, 13. , 16. , 15.4, 12. , 14. ])"
     },
     "execution_count": 432,
     "metadata": {},
     "output_type": "execute_result"
    }
   ],
   "source": [
    "laptops_analysis[\"screen_size\"].unique()"
   ],
   "metadata": {
    "collapsed": false,
    "ExecuteTime": {
     "end_time": "2023-10-11T01:06:17.445766Z",
     "start_time": "2023-10-11T01:06:17.430970Z"
    }
   },
   "id": "79b6131b8a49e59a"
  },
  {
   "cell_type": "code",
   "execution_count": 434,
   "outputs": [
    {
     "data": {
      "text/plain": "array([ 256.,  512., 1000., 4000., 2000.,  128.])"
     },
     "execution_count": 434,
     "metadata": {},
     "output_type": "execute_result"
    }
   ],
   "source": [
    "laptops_analysis[\"harddisk\"].unique()"
   ],
   "metadata": {
    "collapsed": false,
    "ExecuteTime": {
     "end_time": "2023-10-11T01:06:38.218754Z",
     "start_time": "2023-10-11T01:06:38.214061Z"
    }
   },
   "id": "45a21fdfdf5b1ff9"
  },
  {
   "cell_type": "code",
   "execution_count": 443,
   "outputs": [
    {
     "data": {
      "text/plain": "      price  screen_size  harddisk   ram  rating\n86  1459.94         13.6     512.0  16.0     4.8",
      "text/html": "<div>\n<style scoped>\n    .dataframe tbody tr th:only-of-type {\n        vertical-align: middle;\n    }\n\n    .dataframe tbody tr th {\n        vertical-align: top;\n    }\n\n    .dataframe thead th {\n        text-align: right;\n    }\n</style>\n<table border=\"1\" class=\"dataframe\">\n  <thead>\n    <tr style=\"text-align: right;\">\n      <th></th>\n      <th>price</th>\n      <th>screen_size</th>\n      <th>harddisk</th>\n      <th>ram</th>\n      <th>rating</th>\n    </tr>\n  </thead>\n  <tbody>\n    <tr>\n      <th>86</th>\n      <td>1459.94</td>\n      <td>13.6</td>\n      <td>512.0</td>\n      <td>16.0</td>\n      <td>4.8</td>\n    </tr>\n  </tbody>\n</table>\n</div>"
     },
     "execution_count": 443,
     "metadata": {},
     "output_type": "execute_result"
    }
   ],
   "source": [
    "laptops_analysis[ (laptops_analysis[\"screen_size\"] == 13.6) & (laptops_analysis[\"harddisk\"] == 512) ].sample()"
   ],
   "metadata": {
    "collapsed": false,
    "ExecuteTime": {
     "end_time": "2023-10-11T01:09:11.806239Z",
     "start_time": "2023-10-11T01:09:11.799866Z"
    }
   },
   "id": "f2cef3b7242320b1"
  },
  {
   "cell_type": "code",
   "execution_count": 410,
   "outputs": [
    {
     "data": {
      "text/plain": "2611.35"
     },
     "execution_count": 410,
     "metadata": {},
     "output_type": "execute_result"
    }
   ],
   "source": [
    "laptops_analysis[ (laptops_analysis[\"screen_size\"] == 14.0) & (laptops_analysis[\"harddisk\"] == 1000) ][\"price\"].mean()"
   ],
   "metadata": {
    "collapsed": false,
    "ExecuteTime": {
     "end_time": "2023-10-11T01:01:05.878811Z",
     "start_time": "2023-10-11T01:01:05.630958Z"
    }
   },
   "id": "b34168834f40c6b8"
  },
  {
   "cell_type": "code",
   "execution_count": 411,
   "outputs": [
    {
     "data": {
      "text/plain": "0.6622159937907532"
     },
     "execution_count": 411,
     "metadata": {},
     "output_type": "execute_result"
    }
   ],
   "source": [
    "from sklearn.model_selection import cross_val_score\n",
    "\n",
    "scores = cross_val_score(reg, X, y, scoring=\"r2\")\n",
    "\n",
    "scores.mean()"
   ],
   "metadata": {
    "collapsed": false,
    "ExecuteTime": {
     "end_time": "2023-10-11T01:01:05.879287Z",
     "start_time": "2023-10-11T01:01:05.645326Z"
    }
   },
   "id": "5f11517f9b38bcc1"
  },
  {
   "cell_type": "code",
   "execution_count": 412,
   "outputs": [
    {
     "data": {
      "text/plain": "-0.13539979099066635"
     },
     "execution_count": 412,
     "metadata": {},
     "output_type": "execute_result"
    }
   ],
   "source": [
    "from sklearn.svm import SVR\n",
    "\n",
    "reg = SVR()\n",
    "\n",
    "reg.fit(X1, y)\n",
    "\n",
    "reg.score(X1, y)"
   ],
   "metadata": {
    "collapsed": false,
    "ExecuteTime": {
     "end_time": "2023-10-11T01:01:05.879748Z",
     "start_time": "2023-10-11T01:01:05.654204Z"
    }
   },
   "id": "aaa8edba718e6416"
  },
  {
   "cell_type": "code",
   "execution_count": 413,
   "outputs": [
    {
     "data": {
      "text/plain": "array([1591.87851493, 1591.87847543])"
     },
     "execution_count": 413,
     "metadata": {},
     "output_type": "execute_result"
    }
   ],
   "source": [
    "reg.predict([\n",
    "    [15.6, 1000],\n",
    "    [14.0, 1000],\n",
    "])"
   ],
   "metadata": {
    "collapsed": false,
    "ExecuteTime": {
     "end_time": "2023-10-11T01:01:05.880039Z",
     "start_time": "2023-10-11T01:01:05.661260Z"
    }
   },
   "id": "6de60657927a1cbe"
  },
  {
   "cell_type": "code",
   "execution_count": 414,
   "outputs": [
    {
     "data": {
      "text/plain": "array([[-6.11249273e+02, -6.39400727e+00],\n       [-6.11247728e+02, -6.30333272e+00],\n       [-6.11249235e+02, -6.39278042e+00],\n       [-3.54856230e+02,  1.30908428e+01],\n       [-3.55146552e+02, -3.00799760e+00],\n       [-6.11105329e+02,  1.58348672e+00],\n       [-6.11104977e+02,  1.60700854e+00],\n       [ 1.33064854e+02,  4.30059899e+00],\n       [-6.11105097e+02,  1.59708790e+00],\n       [-6.11248975e+02, -6.38419247e+00],\n       [ 1.32629453e+02, -1.98271011e+01],\n       [ 3.13373078e+03,  1.41422926e+01],\n       [ 1.13347831e+03,  1.82137845e+01],\n       [ 1.32774166e+02, -1.18063499e+01],\n       [ 1.33640385e+02,  3.62144672e+01],\n       [-3.55146626e+02, -3.01045130e+00],\n       [ 1.32775946e+02, -1.16999941e+01],\n       [-3.55145602e+02, -2.98857966e+00],\n       [-6.11104800e+02,  1.60690270e+00],\n       [-3.55000634e+02,  5.08822648e+00],\n       [ 1.33064376e+02,  4.28881000e+00],\n       [-3.55001175e+02,  5.05649039e+00],\n       [-3.55291628e+02, -1.10605908e+01],\n       [-7.39228337e+02, -4.08159680e+00],\n       [ 1.33062751e+02,  4.19152170e+00],\n       [ 3.13315285e+03, -1.78625741e+01],\n       [ 1.13290179e+03, -1.37486220e+01],\n       [-6.10814939e+02,  1.76806208e+01],\n       [-7.39228531e+02, -4.09397113e+00]])"
     },
     "execution_count": 414,
     "metadata": {},
     "output_type": "execute_result"
    }
   ],
   "source": [
    "from sklearn.decomposition import PCA\n",
    "\n",
    "pca = PCA(n_components=2)\n",
    "\n",
    "Xp = pca.fit_transform(X)\n",
    "\n",
    "Xp"
   ],
   "metadata": {
    "collapsed": false,
    "ExecuteTime": {
     "end_time": "2023-10-11T01:01:05.880377Z",
     "start_time": "2023-10-11T01:01:05.668389Z"
    }
   },
   "id": "a20ff08da268d04a"
  },
  {
   "cell_type": "code",
   "execution_count": 415,
   "outputs": [
    {
     "data": {
      "text/plain": "0.8923422969055973"
     },
     "execution_count": 415,
     "metadata": {},
     "output_type": "execute_result"
    }
   ],
   "source": [
    "from sklearn.linear_model import LinearRegression\n",
    "\n",
    "reg = LinearRegression()\n",
    "\n",
    "reg.fit(Xp, y)\n",
    "\n",
    "reg.score(Xp, y)"
   ],
   "metadata": {
    "collapsed": false,
    "ExecuteTime": {
     "end_time": "2023-10-11T01:01:05.880608Z",
     "start_time": "2023-10-11T01:01:05.674423Z"
    }
   },
   "id": "d6553c03ff4b6200"
  },
  {
   "cell_type": "code",
   "execution_count": 416,
   "outputs": [
    {
     "name": "stderr",
     "output_type": "stream",
     "text": [
      "/Users/dragonnomada/Desktop/thincrs-machine-learning-2023-oct/venv/lib/python3.11/site-packages/sklearn/neural_network/_multilayer_perceptron.py:691: ConvergenceWarning: Stochastic Optimizer: Maximum iterations (200) reached and the optimization hasn't converged yet.\n",
      "  warnings.warn(\n"
     ]
    },
    {
     "data": {
      "text/plain": "0.3878354734871994"
     },
     "execution_count": 416,
     "metadata": {},
     "output_type": "execute_result"
    }
   ],
   "source": [
    "from sklearn.neural_network import MLPRegressor\n",
    "\n",
    "reg = MLPRegressor()\n",
    "\n",
    "reg.fit(X1, y)\n",
    "\n",
    "reg.score(X1, y)"
   ],
   "metadata": {
    "collapsed": false,
    "ExecuteTime": {
     "end_time": "2023-10-11T01:01:05.881518Z",
     "start_time": "2023-10-11T01:01:05.682679Z"
    }
   },
   "id": "dd645dd332797caf"
  },
  {
   "cell_type": "code",
   "execution_count": 417,
   "outputs": [
    {
     "data": {
      "text/plain": "array([1, 1, 1, 3, 2, 2, 2, 4, 1, 1, 1, 4, 4, 3, 4, 2, 2, 3, 2, 3, 4, 3,\n       1, 1, 3, 4, 4, 3, 2])"
     },
     "execution_count": 417,
     "metadata": {},
     "output_type": "execute_result"
    }
   ],
   "source": [
    "def quarter(yi):\n",
    "    if yi <= np.quantile(y, 0.25):\n",
    "        return 1\n",
    "    elif yi <= np.quantile(y, 0.50):\n",
    "        return 2\n",
    "    elif yi <= np.quantile(y, 0.75):\n",
    "        return 3\n",
    "    else:\n",
    "        return 4\n",
    "\n",
    "yp = pd.Series(y).map(quarter).values\n",
    "\n",
    "yp"
   ],
   "metadata": {
    "collapsed": false,
    "ExecuteTime": {
     "end_time": "2023-10-11T01:01:05.881937Z",
     "start_time": "2023-10-11T01:01:05.730846Z"
    }
   },
   "id": "c49fb91081e38cdc"
  },
  {
   "cell_type": "code",
   "execution_count": 418,
   "outputs": [
    {
     "data": {
      "text/plain": "array([ 689.99, 1144.48,  965.08, 1899.  , 1459.94, 1457.99, 1255.94,\n       3059.  ,  911.  , 1068.99, 1178.  , 5299.  , 4079.99, 2778.  ,\n       3699.  , 1588.42, 1419.  , 1657.99, 1499.  , 1899.  , 3043.95,\n       1899.  ,  779.95,  689.95, 2611.35, 4888.99, 3699.  , 1649.95,\n       1248.  ])"
     },
     "execution_count": 418,
     "metadata": {},
     "output_type": "execute_result"
    }
   ],
   "source": [
    "y"
   ],
   "metadata": {
    "collapsed": false,
    "ExecuteTime": {
     "end_time": "2023-10-11T01:01:05.882372Z",
     "start_time": "2023-10-11T01:01:05.744330Z"
    }
   },
   "id": "2f12562dfc315e8a"
  },
  {
   "cell_type": "code",
   "execution_count": 419,
   "outputs": [
    {
     "data": {
      "text/plain": "0.4482758620689655"
     },
     "execution_count": 419,
     "metadata": {},
     "output_type": "execute_result"
    }
   ],
   "source": [
    "from sklearn.svm import SVC\n",
    "\n",
    "clf = SVC()\n",
    "\n",
    "clf.fit(X1, yp)\n",
    "\n",
    "clf.score(X1, yp)"
   ],
   "metadata": {
    "collapsed": false,
    "ExecuteTime": {
     "end_time": "2023-10-11T01:01:05.882750Z",
     "start_time": "2023-10-11T01:01:05.754706Z"
    }
   },
   "id": "73fb6048bec4d034"
  },
  {
   "cell_type": "code",
   "execution_count": 420,
   "outputs": [
    {
     "data": {
      "text/plain": "0.27586206896551724"
     },
     "execution_count": 420,
     "metadata": {},
     "output_type": "execute_result"
    }
   ],
   "source": [
    "from sklearn.neural_network import MLPClassifier\n",
    "\n",
    "clf = MLPClassifier()\n",
    "\n",
    "clf.fit(X1, yp)\n",
    "\n",
    "clf.score(X1, yp)"
   ],
   "metadata": {
    "collapsed": false,
    "ExecuteTime": {
     "end_time": "2023-10-11T01:01:05.883106Z",
     "start_time": "2023-10-11T01:01:05.764264Z"
    }
   },
   "id": "7f3f811f9cb25755"
  },
  {
   "cell_type": "code",
   "execution_count": 421,
   "outputs": [
    {
     "data": {
      "text/plain": "array([1, 1, 1, 3, 2, 2, 2, 4, 1, 1, 1, 4, 4, 3, 4, 2, 2, 3, 2, 3, 4, 3,\n       1, 1, 3, 4, 4, 3, 2])"
     },
     "execution_count": 421,
     "metadata": {},
     "output_type": "execute_result"
    }
   ],
   "source": [
    "def decile(yi):\n",
    "    i = 1\n",
    "    for d in [0.1, 0.2, 0.3, 0.4, 0.5, 0.6, 0.7, 0.8, 0.9, 1.0]:\n",
    "        if yi <= np.quantile(y, d):\n",
    "            return i\n",
    "        i += 1\n",
    "    return 10\n",
    "\n",
    "ypp = pd.Series(y).map(quarter).values\n",
    "\n",
    "ypp"
   ],
   "metadata": {
    "collapsed": false,
    "ExecuteTime": {
     "end_time": "2023-10-11T01:01:05.883426Z",
     "start_time": "2023-10-11T01:01:05.785447Z"
    }
   },
   "id": "2ea34cc90da27882"
  },
  {
   "cell_type": "code",
   "execution_count": 422,
   "outputs": [
    {
     "data": {
      "text/plain": "0.4482758620689655"
     },
     "execution_count": 422,
     "metadata": {},
     "output_type": "execute_result"
    }
   ],
   "source": [
    "from sklearn.svm import SVC\n",
    "\n",
    "clf = SVC()\n",
    "\n",
    "clf.fit(X1, ypp)\n",
    "\n",
    "clf.score(X1, ypp)"
   ],
   "metadata": {
    "collapsed": false,
    "ExecuteTime": {
     "end_time": "2023-10-11T01:01:05.883642Z",
     "start_time": "2023-10-11T01:01:05.798994Z"
    }
   },
   "id": "adaa3e2169564b29"
  },
  {
   "cell_type": "code",
   "execution_count": 423,
   "outputs": [
    {
     "data": {
      "text/plain": "0.3103448275862069"
     },
     "execution_count": 423,
     "metadata": {},
     "output_type": "execute_result"
    }
   ],
   "source": [
    "from sklearn.neural_network import MLPClassifier\n",
    "\n",
    "clf = MLPClassifier()\n",
    "\n",
    "clf.fit(X1, ypp)\n",
    "\n",
    "clf.score(X1, ypp)"
   ],
   "metadata": {
    "collapsed": false,
    "ExecuteTime": {
     "end_time": "2023-10-11T01:01:05.884167Z",
     "start_time": "2023-10-11T01:01:05.806352Z"
    }
   },
   "id": "8b43099d2dd3f904"
  }
 ],
 "metadata": {
  "kernelspec": {
   "display_name": "Python 3",
   "language": "python",
   "name": "python3"
  },
  "language_info": {
   "codemirror_mode": {
    "name": "ipython",
    "version": 2
   },
   "file_extension": ".py",
   "mimetype": "text/x-python",
   "name": "python",
   "nbconvert_exporter": "python",
   "pygments_lexer": "ipython2",
   "version": "2.7.6"
  }
 },
 "nbformat": 4,
 "nbformat_minor": 5
}
