{
 "cells": [
  {
   "cell_type": "markdown",
   "source": [
    "# Caso de Estudio - Búsqueda de los mejores parámetros para un estimador usando el conjunto de datos de la planta Iris"
   ],
   "metadata": {
    "collapsed": false
   },
   "id": "c5a3b16e0a9dbf06"
  },
  {
   "cell_type": "code",
   "execution_count": 1,
   "id": "initial_id",
   "metadata": {
    "collapsed": true,
    "ExecuteTime": {
     "end_time": "2023-10-19T01:42:34.913086Z",
     "start_time": "2023-10-19T01:42:34.231352Z"
    }
   },
   "outputs": [
    {
     "data": {
      "text/plain": "     sepal.length  sepal.width  petal.length  petal.width     variety\n139           6.9          3.1           5.4          2.1   Virginica\n112           6.8          3.0           5.5          2.1   Virginica\n38            4.4          3.0           1.3          0.2      Setosa\n96            5.7          2.9           4.2          1.3  Versicolor\n119           6.0          2.2           5.0          1.5   Virginica",
      "text/html": "<div>\n<style scoped>\n    .dataframe tbody tr th:only-of-type {\n        vertical-align: middle;\n    }\n\n    .dataframe tbody tr th {\n        vertical-align: top;\n    }\n\n    .dataframe thead th {\n        text-align: right;\n    }\n</style>\n<table border=\"1\" class=\"dataframe\">\n  <thead>\n    <tr style=\"text-align: right;\">\n      <th></th>\n      <th>sepal.length</th>\n      <th>sepal.width</th>\n      <th>petal.length</th>\n      <th>petal.width</th>\n      <th>variety</th>\n    </tr>\n  </thead>\n  <tbody>\n    <tr>\n      <th>139</th>\n      <td>6.9</td>\n      <td>3.1</td>\n      <td>5.4</td>\n      <td>2.1</td>\n      <td>Virginica</td>\n    </tr>\n    <tr>\n      <th>112</th>\n      <td>6.8</td>\n      <td>3.0</td>\n      <td>5.5</td>\n      <td>2.1</td>\n      <td>Virginica</td>\n    </tr>\n    <tr>\n      <th>38</th>\n      <td>4.4</td>\n      <td>3.0</td>\n      <td>1.3</td>\n      <td>0.2</td>\n      <td>Setosa</td>\n    </tr>\n    <tr>\n      <th>96</th>\n      <td>5.7</td>\n      <td>2.9</td>\n      <td>4.2</td>\n      <td>1.3</td>\n      <td>Versicolor</td>\n    </tr>\n    <tr>\n      <th>119</th>\n      <td>6.0</td>\n      <td>2.2</td>\n      <td>5.0</td>\n      <td>1.5</td>\n      <td>Virginica</td>\n    </tr>\n  </tbody>\n</table>\n</div>"
     },
     "execution_count": 1,
     "metadata": {},
     "output_type": "execute_result"
    }
   ],
   "source": [
    "import pandas as pd\n",
    "\n",
    "iris = pd.read_csv(\"datasets/iris.csv\")\n",
    "\n",
    "iris.sample(5)"
   ]
  },
  {
   "cell_type": "code",
   "execution_count": 2,
   "outputs": [
    {
     "data": {
      "text/plain": "((112, 2), (38, 2), (112,), (38,))"
     },
     "execution_count": 2,
     "metadata": {},
     "output_type": "execute_result"
    }
   ],
   "source": [
    "X = iris[ [\"petal.length\", \"petal.width\"] ]\n",
    "y = iris[\"sepal.length\"]\n",
    "\n",
    "from sklearn.model_selection import train_test_split\n",
    "\n",
    "X_train, X_test, y_train, y_test = train_test_split(X, y)\n",
    "\n",
    "X_train.shape, X_test.shape, y_train.shape, y_test.shape"
   ],
   "metadata": {
    "collapsed": false,
    "ExecuteTime": {
     "end_time": "2023-10-19T01:44:33.817895Z",
     "start_time": "2023-10-19T01:44:32.806563Z"
    }
   },
   "id": "96ead0cdc2a6d642"
  },
  {
   "cell_type": "code",
   "execution_count": 4,
   "outputs": [
    {
     "data": {
      "text/plain": "0.3307986851812964"
     },
     "execution_count": 4,
     "metadata": {},
     "output_type": "execute_result"
    }
   ],
   "source": [
    "from sklearn.linear_model import Lasso\n",
    "\n",
    "reg = Lasso()\n",
    "\n",
    "reg.fit(X_train, y_train)\n",
    "\n",
    "reg.score(X_test, y_test)"
   ],
   "metadata": {
    "collapsed": false,
    "ExecuteTime": {
     "end_time": "2023-10-19T01:47:34.242499Z",
     "start_time": "2023-10-19T01:47:34.130596Z"
    }
   },
   "id": "489e7d51a195b55f"
  },
  {
   "cell_type": "code",
   "execution_count": 5,
   "outputs": [
    {
     "data": {
      "text/plain": "0.699910790233836"
     },
     "execution_count": 5,
     "metadata": {},
     "output_type": "execute_result"
    }
   ],
   "source": [
    "from sklearn.linear_model import Lasso\n",
    "\n",
    "reg = Lasso(alpha=0.3)\n",
    "\n",
    "reg.fit(X_train, y_train)\n",
    "\n",
    "reg.score(X_test, y_test)"
   ],
   "metadata": {
    "collapsed": false,
    "ExecuteTime": {
     "end_time": "2023-10-19T01:48:26.386357Z",
     "start_time": "2023-10-19T01:48:26.370226Z"
    }
   },
   "id": "ab7397fc721b79c0"
  },
  {
   "cell_type": "code",
   "execution_count": 6,
   "outputs": [
    {
     "data": {
      "text/plain": "0.722593365699853"
     },
     "execution_count": 6,
     "metadata": {},
     "output_type": "execute_result"
    }
   ],
   "source": [
    "from sklearn.linear_model import Lasso\n",
    "\n",
    "reg = Lasso(alpha=0.1)\n",
    "\n",
    "reg.fit(X_train, y_train)\n",
    "\n",
    "reg.score(X_test, y_test)"
   ],
   "metadata": {
    "collapsed": false,
    "ExecuteTime": {
     "end_time": "2023-10-19T01:48:46.107233Z",
     "start_time": "2023-10-19T01:48:46.104276Z"
    }
   },
   "id": "3f8f5f13ad4afd63"
  },
  {
   "cell_type": "markdown",
   "source": [
    "Para encontrar el mejor parámetro para un estimador, debemos crear un *Grid* de parámetros y sus intervalos de búsqueda o las listas de posibles valores (por ejemplo, en el *kernel*). "
   ],
   "metadata": {
    "collapsed": false
   },
   "id": "132eaff23e156b97"
  },
  {
   "cell_type": "code",
   "execution_count": 12,
   "outputs": [
    {
     "data": {
      "text/plain": "[0.0,\n 0.05,\n 0.1,\n 0.15,\n 0.2,\n 0.25,\n 0.3,\n 0.35,\n 0.4,\n 0.45,\n 0.5,\n 0.55,\n 0.6,\n 0.65,\n 0.7,\n 0.75,\n 0.8,\n 0.85,\n 0.9,\n 0.95,\n 1.0,\n 1.05,\n 1.1,\n 1.15,\n 1.2,\n 1.25,\n 1.3,\n 1.35,\n 1.4,\n 1.45,\n 1.5,\n 1.55,\n 1.6,\n 1.65,\n 1.7,\n 1.75,\n 1.8,\n 1.85,\n 1.9,\n 1.95,\n 2.0,\n 2.05,\n 2.1,\n 2.15,\n 2.2,\n 2.25,\n 2.3,\n 2.35,\n 2.4,\n 2.45,\n 2.5,\n 2.55,\n 2.6,\n 2.65,\n 2.7,\n 2.75,\n 2.8,\n 2.85,\n 2.9,\n 2.95,\n 3.0,\n 3.05,\n 3.1,\n 3.15,\n 3.2,\n 3.25,\n 3.3,\n 3.35,\n 3.4,\n 3.45,\n 3.5,\n 3.55,\n 3.6,\n 3.65,\n 3.7,\n 3.75,\n 3.8,\n 3.85,\n 3.9,\n 3.95,\n 4.0,\n 4.05,\n 4.1,\n 4.15,\n 4.2,\n 4.25,\n 4.3,\n 4.35,\n 4.4,\n 4.45,\n 4.5,\n 4.55,\n 4.6,\n 4.65,\n 4.7,\n 4.75,\n 4.8,\n 4.85,\n 4.9,\n 4.95,\n 5.0]"
     },
     "execution_count": 12,
     "metadata": {},
     "output_type": "execute_result"
    }
   ],
   "source": [
    "alphas = [i * 1.0 / 20 for i in range(0, 101)]\n",
    "\n",
    "alphas"
   ],
   "metadata": {
    "collapsed": false,
    "ExecuteTime": {
     "end_time": "2023-10-19T01:57:18.190097Z",
     "start_time": "2023-10-19T01:57:18.169844Z"
    }
   },
   "id": "e786750dfc3201e6"
  },
  {
   "cell_type": "code",
   "execution_count": 13,
   "outputs": [
    {
     "name": "stderr",
     "output_type": "stream",
     "text": [
      "/Users/dragonnomada/Desktop/thincrs-machine-learning-2023-oct/venv/lib/python3.11/site-packages/sklearn/base.py:1152: UserWarning: With alpha=0, this algorithm does not converge well. You are advised to use the LinearRegression estimator\n",
      "  return fit_method(estimator, *args, **kwargs)\n",
      "/Users/dragonnomada/Desktop/thincrs-machine-learning-2023-oct/venv/lib/python3.11/site-packages/sklearn/linear_model/_coordinate_descent.py:628: UserWarning: Coordinate descent with no regularization may lead to unexpected results and is discouraged.\n",
      "  model = cd_fast.enet_coordinate_descent(\n",
      "/Users/dragonnomada/Desktop/thincrs-machine-learning-2023-oct/venv/lib/python3.11/site-packages/sklearn/linear_model/_coordinate_descent.py:628: ConvergenceWarning: Objective did not converge. You might want to increase the number of iterations, check the scale of the features or consider increasing regularisation. Duality gap: 6.676e+00, tolerance: 5.546e-03 Linear regression models with null weight for the l1 regularization term are more efficiently fitted using one of the solvers implemented in sklearn.linear_model.Ridge/RidgeCV instead.\n",
      "  model = cd_fast.enet_coordinate_descent(\n",
      "/Users/dragonnomada/Desktop/thincrs-machine-learning-2023-oct/venv/lib/python3.11/site-packages/sklearn/base.py:1152: UserWarning: With alpha=0, this algorithm does not converge well. You are advised to use the LinearRegression estimator\n",
      "  return fit_method(estimator, *args, **kwargs)\n",
      "/Users/dragonnomada/Desktop/thincrs-machine-learning-2023-oct/venv/lib/python3.11/site-packages/sklearn/linear_model/_coordinate_descent.py:628: UserWarning: Coordinate descent with no regularization may lead to unexpected results and is discouraged.\n",
      "  model = cd_fast.enet_coordinate_descent(\n",
      "/Users/dragonnomada/Desktop/thincrs-machine-learning-2023-oct/venv/lib/python3.11/site-packages/sklearn/linear_model/_coordinate_descent.py:628: ConvergenceWarning: Objective did not converge. You might want to increase the number of iterations, check the scale of the features or consider increasing regularisation. Duality gap: 7.277e+00, tolerance: 6.603e-03 Linear regression models with null weight for the l1 regularization term are more efficiently fitted using one of the solvers implemented in sklearn.linear_model.Ridge/RidgeCV instead.\n",
      "  model = cd_fast.enet_coordinate_descent(\n",
      "/Users/dragonnomada/Desktop/thincrs-machine-learning-2023-oct/venv/lib/python3.11/site-packages/sklearn/base.py:1152: UserWarning: With alpha=0, this algorithm does not converge well. You are advised to use the LinearRegression estimator\n",
      "  return fit_method(estimator, *args, **kwargs)\n",
      "/Users/dragonnomada/Desktop/thincrs-machine-learning-2023-oct/venv/lib/python3.11/site-packages/sklearn/linear_model/_coordinate_descent.py:628: UserWarning: Coordinate descent with no regularization may lead to unexpected results and is discouraged.\n",
      "  model = cd_fast.enet_coordinate_descent(\n",
      "/Users/dragonnomada/Desktop/thincrs-machine-learning-2023-oct/venv/lib/python3.11/site-packages/sklearn/linear_model/_coordinate_descent.py:628: ConvergenceWarning: Objective did not converge. You might want to increase the number of iterations, check the scale of the features or consider increasing regularisation. Duality gap: 7.272e+00, tolerance: 6.528e-03 Linear regression models with null weight for the l1 regularization term are more efficiently fitted using one of the solvers implemented in sklearn.linear_model.Ridge/RidgeCV instead.\n",
      "  model = cd_fast.enet_coordinate_descent(\n",
      "/Users/dragonnomada/Desktop/thincrs-machine-learning-2023-oct/venv/lib/python3.11/site-packages/sklearn/base.py:1152: UserWarning: With alpha=0, this algorithm does not converge well. You are advised to use the LinearRegression estimator\n",
      "  return fit_method(estimator, *args, **kwargs)\n",
      "/Users/dragonnomada/Desktop/thincrs-machine-learning-2023-oct/venv/lib/python3.11/site-packages/sklearn/linear_model/_coordinate_descent.py:628: UserWarning: Coordinate descent with no regularization may lead to unexpected results and is discouraged.\n",
      "  model = cd_fast.enet_coordinate_descent(\n",
      "/Users/dragonnomada/Desktop/thincrs-machine-learning-2023-oct/venv/lib/python3.11/site-packages/sklearn/linear_model/_coordinate_descent.py:628: ConvergenceWarning: Objective did not converge. You might want to increase the number of iterations, check the scale of the features or consider increasing regularisation. Duality gap: 6.533e+00, tolerance: 6.510e-03 Linear regression models with null weight for the l1 regularization term are more efficiently fitted using one of the solvers implemented in sklearn.linear_model.Ridge/RidgeCV instead.\n",
      "  model = cd_fast.enet_coordinate_descent(\n",
      "/Users/dragonnomada/Desktop/thincrs-machine-learning-2023-oct/venv/lib/python3.11/site-packages/sklearn/base.py:1152: UserWarning: With alpha=0, this algorithm does not converge well. You are advised to use the LinearRegression estimator\n",
      "  return fit_method(estimator, *args, **kwargs)\n",
      "/Users/dragonnomada/Desktop/thincrs-machine-learning-2023-oct/venv/lib/python3.11/site-packages/sklearn/linear_model/_coordinate_descent.py:628: UserWarning: Coordinate descent with no regularization may lead to unexpected results and is discouraged.\n",
      "  model = cd_fast.enet_coordinate_descent(\n",
      "/Users/dragonnomada/Desktop/thincrs-machine-learning-2023-oct/venv/lib/python3.11/site-packages/sklearn/linear_model/_coordinate_descent.py:628: ConvergenceWarning: Objective did not converge. You might want to increase the number of iterations, check the scale of the features or consider increasing regularisation. Duality gap: 7.265e+00, tolerance: 6.776e-03 Linear regression models with null weight for the l1 regularization term are more efficiently fitted using one of the solvers implemented in sklearn.linear_model.Ridge/RidgeCV instead.\n",
      "  model = cd_fast.enet_coordinate_descent(\n"
     ]
    },
    {
     "data": {
      "text/plain": "0.7225155355401374"
     },
     "execution_count": 13,
     "metadata": {},
     "output_type": "execute_result"
    }
   ],
   "source": [
    "from sklearn.linear_model import Lasso\n",
    "from sklearn.model_selection import GridSearchCV\n",
    "\n",
    "param_grid = {\n",
    "    \"alpha\": alphas\n",
    "}\n",
    "\n",
    "reg = GridSearchCV(Lasso(), param_grid)\n",
    "\n",
    "reg.fit(X_train, y_train)\n",
    "\n",
    "reg.score(X_test, y_test)"
   ],
   "metadata": {
    "collapsed": false,
    "ExecuteTime": {
     "end_time": "2023-10-19T01:57:35.434184Z",
     "start_time": "2023-10-19T01:57:34.293590Z"
    }
   },
   "id": "72514bc77cfe08e2"
  },
  {
   "cell_type": "code",
   "execution_count": 11,
   "outputs": [
    {
     "data": {
      "text/plain": "Lasso(alpha=0.05)",
      "text/html": "<style>#sk-container-id-2 {color: black;}#sk-container-id-2 pre{padding: 0;}#sk-container-id-2 div.sk-toggleable {background-color: white;}#sk-container-id-2 label.sk-toggleable__label {cursor: pointer;display: block;width: 100%;margin-bottom: 0;padding: 0.3em;box-sizing: border-box;text-align: center;}#sk-container-id-2 label.sk-toggleable__label-arrow:before {content: \"▸\";float: left;margin-right: 0.25em;color: #696969;}#sk-container-id-2 label.sk-toggleable__label-arrow:hover:before {color: black;}#sk-container-id-2 div.sk-estimator:hover label.sk-toggleable__label-arrow:before {color: black;}#sk-container-id-2 div.sk-toggleable__content {max-height: 0;max-width: 0;overflow: hidden;text-align: left;background-color: #f0f8ff;}#sk-container-id-2 div.sk-toggleable__content pre {margin: 0.2em;color: black;border-radius: 0.25em;background-color: #f0f8ff;}#sk-container-id-2 input.sk-toggleable__control:checked~div.sk-toggleable__content {max-height: 200px;max-width: 100%;overflow: auto;}#sk-container-id-2 input.sk-toggleable__control:checked~label.sk-toggleable__label-arrow:before {content: \"▾\";}#sk-container-id-2 div.sk-estimator input.sk-toggleable__control:checked~label.sk-toggleable__label {background-color: #d4ebff;}#sk-container-id-2 div.sk-label input.sk-toggleable__control:checked~label.sk-toggleable__label {background-color: #d4ebff;}#sk-container-id-2 input.sk-hidden--visually {border: 0;clip: rect(1px 1px 1px 1px);clip: rect(1px, 1px, 1px, 1px);height: 1px;margin: -1px;overflow: hidden;padding: 0;position: absolute;width: 1px;}#sk-container-id-2 div.sk-estimator {font-family: monospace;background-color: #f0f8ff;border: 1px dotted black;border-radius: 0.25em;box-sizing: border-box;margin-bottom: 0.5em;}#sk-container-id-2 div.sk-estimator:hover {background-color: #d4ebff;}#sk-container-id-2 div.sk-parallel-item::after {content: \"\";width: 100%;border-bottom: 1px solid gray;flex-grow: 1;}#sk-container-id-2 div.sk-label:hover label.sk-toggleable__label {background-color: #d4ebff;}#sk-container-id-2 div.sk-serial::before {content: \"\";position: absolute;border-left: 1px solid gray;box-sizing: border-box;top: 0;bottom: 0;left: 50%;z-index: 0;}#sk-container-id-2 div.sk-serial {display: flex;flex-direction: column;align-items: center;background-color: white;padding-right: 0.2em;padding-left: 0.2em;position: relative;}#sk-container-id-2 div.sk-item {position: relative;z-index: 1;}#sk-container-id-2 div.sk-parallel {display: flex;align-items: stretch;justify-content: center;background-color: white;position: relative;}#sk-container-id-2 div.sk-item::before, #sk-container-id-2 div.sk-parallel-item::before {content: \"\";position: absolute;border-left: 1px solid gray;box-sizing: border-box;top: 0;bottom: 0;left: 50%;z-index: -1;}#sk-container-id-2 div.sk-parallel-item {display: flex;flex-direction: column;z-index: 1;position: relative;background-color: white;}#sk-container-id-2 div.sk-parallel-item:first-child::after {align-self: flex-end;width: 50%;}#sk-container-id-2 div.sk-parallel-item:last-child::after {align-self: flex-start;width: 50%;}#sk-container-id-2 div.sk-parallel-item:only-child::after {width: 0;}#sk-container-id-2 div.sk-dashed-wrapped {border: 1px dashed gray;margin: 0 0.4em 0.5em 0.4em;box-sizing: border-box;padding-bottom: 0.4em;background-color: white;}#sk-container-id-2 div.sk-label label {font-family: monospace;font-weight: bold;display: inline-block;line-height: 1.2em;}#sk-container-id-2 div.sk-label-container {text-align: center;}#sk-container-id-2 div.sk-container {/* jupyter's `normalize.less` sets `[hidden] { display: none; }` but bootstrap.min.css set `[hidden] { display: none !important; }` so we also need the `!important` here to be able to override the default hidden behavior on the sphinx rendered scikit-learn.org. See: https://github.com/scikit-learn/scikit-learn/issues/21755 */display: inline-block !important;position: relative;}#sk-container-id-2 div.sk-text-repr-fallback {display: none;}</style><div id=\"sk-container-id-2\" class=\"sk-top-container\"><div class=\"sk-text-repr-fallback\"><pre>Lasso(alpha=0.05)</pre><b>In a Jupyter environment, please rerun this cell to show the HTML representation or trust the notebook. <br />On GitHub, the HTML representation is unable to render, please try loading this page with nbviewer.org.</b></div><div class=\"sk-container\" hidden><div class=\"sk-item\"><div class=\"sk-estimator sk-toggleable\"><input class=\"sk-toggleable__control sk-hidden--visually\" id=\"sk-estimator-id-2\" type=\"checkbox\" checked><label for=\"sk-estimator-id-2\" class=\"sk-toggleable__label sk-toggleable__label-arrow\">Lasso</label><div class=\"sk-toggleable__content\"><pre>Lasso(alpha=0.05)</pre></div></div></div></div></div>"
     },
     "execution_count": 11,
     "metadata": {},
     "output_type": "execute_result"
    }
   ],
   "source": [
    "reg.best_estimator_"
   ],
   "metadata": {
    "collapsed": false,
    "ExecuteTime": {
     "end_time": "2023-10-19T01:56:54.324054Z",
     "start_time": "2023-10-19T01:56:54.318185Z"
    }
   },
   "id": "3f7679ecaee9c8fd"
  },
  {
   "cell_type": "code",
   "execution_count": 19,
   "outputs": [
    {
     "data": {
      "text/plain": "[0.0, 0.1, 0.2, 0.3, 0.4, 0.5, 0.6, 0.7, 0.8, 0.9, 1.0]"
     },
     "execution_count": 19,
     "metadata": {},
     "output_type": "execute_result"
    }
   ],
   "source": [
    "gammas = [i * 1.0 / 10 for i in range(0, 11)]\n",
    "\n",
    "gammas"
   ],
   "metadata": {
    "collapsed": false,
    "ExecuteTime": {
     "end_time": "2023-10-19T02:01:40.375299Z",
     "start_time": "2023-10-19T02:01:40.367766Z"
    }
   },
   "id": "a610d610b445c10c"
  },
  {
   "cell_type": "code",
   "execution_count": 23,
   "outputs": [
    {
     "data": {
      "text/plain": "0.7978806305986457"
     },
     "execution_count": 23,
     "metadata": {},
     "output_type": "execute_result"
    }
   ],
   "source": [
    "from sklearn.svm import SVR\n",
    "from sklearn.model_selection import GridSearchCV\n",
    "\n",
    "param_grid = {\n",
    "    \"kernel\": [\"linear\", \"poly\", \"rbf\", \"sigmoid\"],\n",
    "    \"degree\": [1, 2, 3, 4],\n",
    "    \"gamma\": gammas\n",
    "}\n",
    "\n",
    "reg = GridSearchCV(SVR(), param_grid)\n",
    "\n",
    "reg.fit(X_train, y_train)\n",
    "\n",
    "reg.score(X_test, y_test)"
   ],
   "metadata": {
    "collapsed": false,
    "ExecuteTime": {
     "end_time": "2023-10-19T02:09:00.310469Z",
     "start_time": "2023-10-19T02:03:22.129116Z"
    }
   },
   "id": "2fe92a2dc3f5b17"
  },
  {
   "cell_type": "code",
   "execution_count": 24,
   "outputs": [
    {
     "data": {
      "text/plain": "SVR(degree=1, gamma=0.5)",
      "text/html": "<style>#sk-container-id-3 {color: black;}#sk-container-id-3 pre{padding: 0;}#sk-container-id-3 div.sk-toggleable {background-color: white;}#sk-container-id-3 label.sk-toggleable__label {cursor: pointer;display: block;width: 100%;margin-bottom: 0;padding: 0.3em;box-sizing: border-box;text-align: center;}#sk-container-id-3 label.sk-toggleable__label-arrow:before {content: \"▸\";float: left;margin-right: 0.25em;color: #696969;}#sk-container-id-3 label.sk-toggleable__label-arrow:hover:before {color: black;}#sk-container-id-3 div.sk-estimator:hover label.sk-toggleable__label-arrow:before {color: black;}#sk-container-id-3 div.sk-toggleable__content {max-height: 0;max-width: 0;overflow: hidden;text-align: left;background-color: #f0f8ff;}#sk-container-id-3 div.sk-toggleable__content pre {margin: 0.2em;color: black;border-radius: 0.25em;background-color: #f0f8ff;}#sk-container-id-3 input.sk-toggleable__control:checked~div.sk-toggleable__content {max-height: 200px;max-width: 100%;overflow: auto;}#sk-container-id-3 input.sk-toggleable__control:checked~label.sk-toggleable__label-arrow:before {content: \"▾\";}#sk-container-id-3 div.sk-estimator input.sk-toggleable__control:checked~label.sk-toggleable__label {background-color: #d4ebff;}#sk-container-id-3 div.sk-label input.sk-toggleable__control:checked~label.sk-toggleable__label {background-color: #d4ebff;}#sk-container-id-3 input.sk-hidden--visually {border: 0;clip: rect(1px 1px 1px 1px);clip: rect(1px, 1px, 1px, 1px);height: 1px;margin: -1px;overflow: hidden;padding: 0;position: absolute;width: 1px;}#sk-container-id-3 div.sk-estimator {font-family: monospace;background-color: #f0f8ff;border: 1px dotted black;border-radius: 0.25em;box-sizing: border-box;margin-bottom: 0.5em;}#sk-container-id-3 div.sk-estimator:hover {background-color: #d4ebff;}#sk-container-id-3 div.sk-parallel-item::after {content: \"\";width: 100%;border-bottom: 1px solid gray;flex-grow: 1;}#sk-container-id-3 div.sk-label:hover label.sk-toggleable__label {background-color: #d4ebff;}#sk-container-id-3 div.sk-serial::before {content: \"\";position: absolute;border-left: 1px solid gray;box-sizing: border-box;top: 0;bottom: 0;left: 50%;z-index: 0;}#sk-container-id-3 div.sk-serial {display: flex;flex-direction: column;align-items: center;background-color: white;padding-right: 0.2em;padding-left: 0.2em;position: relative;}#sk-container-id-3 div.sk-item {position: relative;z-index: 1;}#sk-container-id-3 div.sk-parallel {display: flex;align-items: stretch;justify-content: center;background-color: white;position: relative;}#sk-container-id-3 div.sk-item::before, #sk-container-id-3 div.sk-parallel-item::before {content: \"\";position: absolute;border-left: 1px solid gray;box-sizing: border-box;top: 0;bottom: 0;left: 50%;z-index: -1;}#sk-container-id-3 div.sk-parallel-item {display: flex;flex-direction: column;z-index: 1;position: relative;background-color: white;}#sk-container-id-3 div.sk-parallel-item:first-child::after {align-self: flex-end;width: 50%;}#sk-container-id-3 div.sk-parallel-item:last-child::after {align-self: flex-start;width: 50%;}#sk-container-id-3 div.sk-parallel-item:only-child::after {width: 0;}#sk-container-id-3 div.sk-dashed-wrapped {border: 1px dashed gray;margin: 0 0.4em 0.5em 0.4em;box-sizing: border-box;padding-bottom: 0.4em;background-color: white;}#sk-container-id-3 div.sk-label label {font-family: monospace;font-weight: bold;display: inline-block;line-height: 1.2em;}#sk-container-id-3 div.sk-label-container {text-align: center;}#sk-container-id-3 div.sk-container {/* jupyter's `normalize.less` sets `[hidden] { display: none; }` but bootstrap.min.css set `[hidden] { display: none !important; }` so we also need the `!important` here to be able to override the default hidden behavior on the sphinx rendered scikit-learn.org. See: https://github.com/scikit-learn/scikit-learn/issues/21755 */display: inline-block !important;position: relative;}#sk-container-id-3 div.sk-text-repr-fallback {display: none;}</style><div id=\"sk-container-id-3\" class=\"sk-top-container\"><div class=\"sk-text-repr-fallback\"><pre>SVR(degree=1, gamma=0.5)</pre><b>In a Jupyter environment, please rerun this cell to show the HTML representation or trust the notebook. <br />On GitHub, the HTML representation is unable to render, please try loading this page with nbviewer.org.</b></div><div class=\"sk-container\" hidden><div class=\"sk-item\"><div class=\"sk-estimator sk-toggleable\"><input class=\"sk-toggleable__control sk-hidden--visually\" id=\"sk-estimator-id-3\" type=\"checkbox\" checked><label for=\"sk-estimator-id-3\" class=\"sk-toggleable__label sk-toggleable__label-arrow\">SVR</label><div class=\"sk-toggleable__content\"><pre>SVR(degree=1, gamma=0.5)</pre></div></div></div></div></div>"
     },
     "execution_count": 24,
     "metadata": {},
     "output_type": "execute_result"
    }
   ],
   "source": [
    "reg.best_estimator_"
   ],
   "metadata": {
    "collapsed": false,
    "ExecuteTime": {
     "end_time": "2023-10-19T02:09:00.322221Z",
     "start_time": "2023-10-19T02:09:00.314341Z"
    }
   },
   "id": "d7daf415992d2167"
  },
  {
   "cell_type": "code",
   "execution_count": 28,
   "outputs": [
    {
     "data": {
      "text/plain": "{'degree': 1, 'gamma': 0.5, 'kernel': 'rbf'}"
     },
     "execution_count": 28,
     "metadata": {},
     "output_type": "execute_result"
    }
   ],
   "source": [
    "reg.best_params_"
   ],
   "metadata": {
    "collapsed": false,
    "ExecuteTime": {
     "end_time": "2023-10-19T17:30:49.324176Z",
     "start_time": "2023-10-19T17:30:49.316604Z"
    }
   },
   "id": "e8f6974941dbf16b"
  },
  {
   "cell_type": "code",
   "execution_count": 25,
   "outputs": [
    {
     "data": {
      "text/plain": "{'mean_fit_time': array([2.16536522e-03, 8.79669189e-04, 9.44566727e-04, 1.82042122e-03,\n        1.59387589e-03, 9.90533829e-04, 1.07884407e-03, 1.21097565e-03,\n        1.22561455e-03, 1.02734566e-03, 1.03859901e-03, 1.07493401e-03,\n        1.15432739e-03, 1.02334023e-03, 9.69028473e-04, 9.81664658e-04,\n        1.14703178e-03, 1.00908279e-03, 9.07707214e-04, 9.01508331e-04,\n        1.01356506e-03, 9.92488861e-04, 9.11045074e-04, 9.21010971e-04,\n        1.03530884e-03, 9.64689255e-04, 9.04798508e-04, 9.08470154e-04,\n        1.00078583e-03, 9.76657867e-04, 1.02210045e-03, 9.33122635e-04,\n        1.32198334e-03, 2.77595520e-03, 1.87749863e-03, 1.68190002e-02,\n        4.62527275e-03, 6.24604225e-03, 6.27012253e-03, 4.49299812e-03,\n        3.57041359e-03, 3.54561806e-03, 4.65054512e-03, 4.24737930e-03,\n        3.10578346e-03, 2.46825218e-03, 2.23951340e-03, 1.97725296e-03,\n        4.01477814e-03, 3.15976143e-03, 2.31003761e-03, 2.40087509e-03,\n        2.03051567e-03, 4.21338081e-03, 3.64747047e-03, 2.32138634e-03,\n        3.48286629e-03, 6.71005249e-03, 3.70635986e-03, 3.73334885e-03,\n        3.14602852e-03, 7.14125633e-03, 2.32396126e-03, 1.79152489e-03,\n        1.94954872e-03, 8.30335617e-03, 1.83448792e-03, 2.37178802e-03,\n        2.20060349e-03, 7.68961906e-03, 1.92227364e-03, 2.00524330e-03,\n        2.21581459e-03, 1.04546547e-02, 2.24623680e-03, 1.89204216e-03,\n        1.98984146e-03, 1.09170437e-02, 1.31020546e-03, 1.42254829e-03,\n        1.51643753e-03, 1.04231834e-02, 1.08227730e-03, 1.12910271e-03,\n        1.21026039e-03, 1.33011818e-02, 1.13539696e-03, 1.08880997e-03,\n        1.14054680e-03, 9.00793076e-04, 9.00745392e-04, 8.28170776e-04,\n        1.05462074e-03, 1.71704292e-03, 8.84389877e-04, 9.72700119e-04,\n        1.07493401e-03, 7.84616470e-03, 9.08899307e-04, 9.86337662e-04,\n        1.04241371e-03, 1.90910816e-02, 1.01017952e-03, 1.02376938e-03,\n        1.13682747e-03, 4.43953991e-02, 9.86957550e-04, 9.30213928e-04,\n        1.02248192e-03, 7.69122601e-02, 1.12242699e-03, 1.17402077e-03,\n        1.24278069e-03, 1.92744970e-01, 1.07488632e-03, 1.05848312e-03,\n        1.26824379e-03, 3.24373341e-01, 1.19986534e-03, 1.14750862e-03,\n        1.22857094e-03, 3.79430294e-01, 1.13549232e-03, 1.12595558e-03,\n        1.23314857e-03, 6.72523594e-01, 1.01966858e-03, 1.15485191e-03,\n        1.31750107e-03, 6.44353676e-01, 1.07841492e-03, 1.02944374e-03,\n        1.03979111e-03, 8.30173492e-04, 1.10192299e-03, 8.67414474e-04,\n        1.02930069e-03, 4.33650017e-03, 9.61112976e-04, 1.02715492e-03,\n        1.04584694e-03, 7.11306572e-02, 9.17196274e-04, 9.73081589e-04,\n        1.01742744e-03, 2.88970041e-01, 9.33980942e-04, 9.26446915e-04,\n        1.00913048e-03, 1.03907146e+00, 9.84144211e-04, 9.47237015e-04,\n        1.03955269e-03, 1.84143157e+00, 9.50717926e-04, 1.00779533e-03,\n        1.04417801e-03, 3.71757531e+00, 1.03220940e-03, 9.53435898e-04,\n        1.01633072e-03, 6.82640953e+00, 1.04327202e-03, 9.67979431e-04,\n        1.07054710e-03, 9.65630722e+00, 1.03545189e-03, 9.31835175e-04,\n        1.01590157e-03, 1.55513343e+01, 9.87577438e-04, 9.27972794e-04,\n        1.02648735e-03, 2.57202825e+01, 1.00088120e-03, 9.14621353e-04]),\n 'std_fit_time': array([1.54179189e-03, 3.08438827e-05, 9.21591898e-06, 1.63082272e-03,\n        4.41821764e-04, 2.95398984e-05, 1.68426890e-04, 1.16403012e-04,\n        8.58523553e-05, 6.99448761e-05, 2.26893330e-05, 3.84215368e-05,\n        3.08236037e-05, 5.22480377e-05, 5.67206970e-05, 1.08230334e-04,\n        6.70469332e-05, 8.18196986e-05, 3.14688682e-05, 1.76741351e-05,\n        2.73129893e-05, 7.13094625e-05, 2.26592496e-05, 2.40772075e-05,\n        7.54034104e-05, 4.50661318e-05, 9.08246494e-06, 1.57172645e-05,\n        2.75393997e-05, 4.60967633e-05, 7.52449942e-05, 1.11700058e-05,\n        3.99151593e-04, 7.95457904e-04, 7.88886540e-04, 1.36962222e-02,\n        7.87683654e-04, 2.74577750e-03, 5.48837079e-03, 1.42489615e-03,\n        6.12447845e-04, 3.20479079e-04, 1.25444813e-03, 2.40451693e-03,\n        7.43032955e-04, 5.61225214e-04, 4.23470336e-04, 3.66928731e-04,\n        1.98663010e-03, 2.56509052e-04, 3.31423059e-04, 4.45363430e-04,\n        1.00533468e-04, 1.35113501e-03, 1.01119430e-03, 5.36524164e-04,\n        8.05535739e-04, 1.62487743e-03, 1.16319715e-03, 4.66163025e-04,\n        3.00230724e-04, 4.58447033e-03, 3.74840189e-04, 3.04577076e-04,\n        2.96131616e-04, 3.85272889e-03, 8.85789164e-05, 6.89893300e-04,\n        2.58552698e-04, 3.86061894e-03, 9.46052132e-05, 2.29153700e-04,\n        4.17777479e-04, 3.02886532e-03, 3.80987238e-04, 1.21736760e-04,\n        2.29988799e-04, 4.26185294e-03, 5.05266517e-05, 1.18559842e-04,\n        1.21689329e-04, 3.90173664e-03, 3.74633206e-05, 9.14871955e-05,\n        3.84560817e-05, 5.48689219e-03, 6.62114451e-05, 6.76613949e-05,\n        2.13388757e-05, 1.71683893e-05, 9.55933042e-05, 4.47690419e-05,\n        6.43404419e-05, 3.20192314e-04, 2.08458023e-05, 4.38942526e-05,\n        7.66202683e-05, 2.37596280e-03, 2.23993716e-05, 6.97205393e-05,\n        2.13234198e-05, 4.50167295e-03, 1.22266850e-04, 6.12354345e-05,\n        8.81892760e-05, 1.42635579e-02, 4.83070638e-05, 1.60889973e-05,\n        2.86692170e-05, 2.60399330e-02, 1.13417440e-04, 2.83500219e-04,\n        3.88190422e-04, 1.06281742e-01, 4.72652671e-05, 1.23127498e-04,\n        3.90780389e-04, 1.63115249e-01, 8.86767898e-05, 1.29700847e-04,\n        6.48626497e-05, 9.08400210e-02, 4.70287159e-05, 8.06259020e-05,\n        5.13811454e-05, 4.15642499e-01, 4.64022585e-05, 2.51100809e-04,\n        1.57357129e-04, 8.92372109e-02, 7.47303478e-05, 1.06259970e-04,\n        2.24034316e-05, 1.43257628e-05, 3.02486469e-04, 3.33334072e-05,\n        2.17656185e-05, 4.92289661e-04, 7.30293504e-05, 1.08022657e-04,\n        2.44532397e-05, 2.76475307e-02, 4.20055377e-05, 3.82507225e-05,\n        2.16568078e-05, 8.94170219e-02, 3.70841994e-05, 5.64684728e-06,\n        3.28071589e-05, 3.38742510e-01, 7.74656269e-05, 4.68823326e-05,\n        2.78822960e-05, 7.01288170e-01, 5.58475051e-05, 2.05666782e-04,\n        1.92889914e-05, 7.29208608e-01, 1.02700872e-04, 3.75985419e-05,\n        1.96578396e-05, 1.62259238e+00, 1.05875611e-04, 3.73586013e-05,\n        6.92945297e-05, 2.83675363e+00, 1.36466429e-04, 1.45326636e-05,\n        2.42461262e-05, 2.66680263e+00, 4.56050309e-05, 1.42073469e-05,\n        2.25985601e-05, 4.67580990e+00, 5.92436348e-05, 9.77853391e-06]),\n 'mean_score_time': array([0.00090976, 0.00060849, 0.00068021, 0.00073991, 0.00080209,\n        0.00064435, 0.00070615, 0.000736  , 0.00067387, 0.00064125,\n        0.00068541, 0.00071254, 0.00063062, 0.00062256, 0.00064054,\n        0.00058756, 0.00067992, 0.00057178, 0.00058627, 0.00056462,\n        0.00057044, 0.00059099, 0.00063362, 0.00057812, 0.0005671 ,\n        0.00056243, 0.00059233, 0.00056472, 0.00055113, 0.00056658,\n        0.00064554, 0.0005868 , 0.00088549, 0.00127459, 0.00098624,\n        0.00767469, 0.00409527, 0.00571918, 0.00443716, 0.00271068,\n        0.00184741, 0.00230379, 0.00250516, 0.00231404, 0.00197897,\n        0.00194697, 0.00236468, 0.00140014, 0.00172949, 0.00148358,\n        0.00169525, 0.00146651, 0.00143523, 0.00180931, 0.00181994,\n        0.00127754, 0.00242758, 0.00321159, 0.00267057, 0.00252304,\n        0.00183501, 0.00162783, 0.00150313, 0.00118303, 0.00107903,\n        0.00163999, 0.00146418, 0.00131187, 0.00119696, 0.00148869,\n        0.00137358, 0.00120983, 0.0012897 , 0.0014472 , 0.00161977,\n        0.00120234, 0.00111675, 0.00116658, 0.000878  , 0.00085163,\n        0.0008996 , 0.00090523, 0.00069695, 0.00073299, 0.00065236,\n        0.00081692, 0.0007534 , 0.00070276, 0.00062509, 0.00062294,\n        0.00063624, 0.00056224, 0.00062399, 0.0006    , 0.00059938,\n        0.00059257, 0.00060668, 0.00069871, 0.00061045, 0.00061164,\n        0.00059962, 0.00082669, 0.00084019, 0.00063982, 0.0006125 ,\n        0.00091228, 0.00065012, 0.00059118, 0.00056338, 0.00104456,\n        0.00076356, 0.00075579, 0.00061436, 0.00138421, 0.00070615,\n        0.00069513, 0.0006896 , 0.00109043, 0.00079622, 0.00069966,\n        0.00071845, 0.00113459, 0.00070391, 0.00069876, 0.00068455,\n        0.00342035, 0.00076246, 0.00065398, 0.00078559, 0.00101953,\n        0.00071263, 0.00067263, 0.00056758, 0.0005702 , 0.00078473,\n        0.00060239, 0.00057402, 0.00079894, 0.00065579, 0.00061316,\n        0.00060606, 0.00096188, 0.00062947, 0.00060439, 0.00055556,\n        0.00093365, 0.0006124 , 0.00058255, 0.00055842, 0.00110054,\n        0.00061512, 0.0006392 , 0.00057416, 0.00100503, 0.00061889,\n        0.00060282, 0.00058527, 0.00101581, 0.00062623, 0.00063715,\n        0.0005652 , 0.00097337, 0.00065279, 0.00059485, 0.00058947,\n        0.00298662, 0.0006278 , 0.0005868 , 0.00055776, 0.0010016 ,\n        0.00062294, 0.00058465, 0.00055985, 0.00114665, 0.00062122,\n        0.00058088]),\n 'std_score_time': array([3.56558421e-04, 3.29374728e-05, 6.15655681e-06, 1.19113750e-04,\n        1.22676254e-04, 1.63086673e-05, 7.70311797e-05, 4.83624316e-05,\n        7.01305079e-05, 3.80462867e-05, 1.53089236e-05, 8.94451187e-05,\n        5.65811042e-06, 8.86506837e-06, 4.10211897e-05, 1.65666433e-05,\n        8.95930452e-05, 3.57905598e-05, 9.19195615e-06, 5.01563789e-06,\n        3.60980531e-05, 6.21890356e-05, 6.39414627e-05, 1.26072715e-05,\n        1.29306421e-05, 1.94061593e-05, 9.33383616e-06, 9.36545082e-06,\n        1.06587772e-05, 2.19384480e-05, 5.47116564e-05, 1.46081925e-05,\n        5.29952257e-04, 4.19487093e-04, 3.59611939e-04, 9.53344791e-03,\n        2.78565207e-03, 3.30349176e-03, 2.64960086e-03, 1.15026795e-03,\n        2.48442986e-04, 3.06546048e-04, 7.95612945e-04, 6.77009720e-04,\n        6.88605369e-04, 3.26270382e-04, 8.76711240e-04, 3.47155254e-04,\n        1.08908292e-04, 2.12650106e-04, 2.75149320e-04, 1.50875301e-04,\n        2.45928708e-04, 3.34386469e-04, 2.35499566e-04, 1.92342516e-04,\n        3.95179467e-04, 2.85948935e-04, 1.10182267e-03, 3.29254162e-04,\n        2.42499174e-04, 4.70016493e-04, 3.16620146e-04, 2.86712433e-04,\n        1.75167050e-04, 3.87139522e-04, 3.97959745e-04, 6.96055845e-05,\n        7.33180510e-05, 1.98287559e-04, 1.48491210e-04, 1.12716942e-04,\n        2.63362546e-04, 7.07410062e-05, 5.22400915e-04, 7.23049301e-05,\n        1.25505225e-04, 1.08405129e-04, 9.41854906e-05, 5.97830962e-05,\n        7.80647237e-05, 9.19532459e-05, 1.60902692e-05, 5.28989741e-05,\n        1.70787601e-05, 5.37521759e-05, 6.49843504e-05, 6.62830407e-05,\n        6.63712105e-06, 1.22366115e-05, 4.70369343e-05, 1.97674165e-05,\n        7.84521615e-05, 2.12802973e-05, 7.08388101e-06, 1.84958735e-05,\n        8.10444476e-05, 8.18592892e-05, 1.32528136e-05, 4.93987186e-05,\n        5.02856379e-05, 1.41760455e-04, 4.08606488e-04, 5.20151755e-05,\n        2.51166929e-05, 5.98578986e-05, 3.50264077e-05, 1.33502483e-05,\n        8.43071829e-06, 1.73786990e-04, 1.04237803e-04, 1.90915559e-04,\n        8.20214525e-05, 7.03614945e-04, 2.72980007e-05, 9.07386908e-05,\n        1.69604790e-04, 2.17022447e-04, 1.10682687e-04, 4.50512961e-05,\n        1.03594955e-04, 1.38342401e-04, 2.20315280e-05, 5.35746017e-05,\n        3.10286553e-05, 3.08448096e-03, 1.88590754e-04, 4.36174394e-05,\n        1.63850087e-04, 1.84879267e-04, 4.99667554e-05, 7.12419928e-05,\n        9.38121819e-06, 2.48781990e-05, 5.17135559e-05, 2.16026705e-05,\n        1.76761933e-05, 1.80916944e-04, 7.83789756e-05, 3.28008514e-05,\n        6.51349784e-05, 9.58108844e-05, 4.66400370e-05, 1.84505790e-05,\n        4.16352843e-06, 4.60613341e-05, 1.99364698e-05, 5.10148909e-06,\n        1.43213180e-05, 2.26133857e-04, 1.45196719e-05, 6.70108065e-05,\n        1.08812944e-05, 1.43514249e-04, 2.28520943e-05, 4.99980530e-05,\n        5.69496102e-06, 8.26468436e-05, 1.57786273e-05, 6.62008330e-05,\n        6.91430322e-06, 6.79580114e-05, 4.76567669e-05, 1.83894771e-05,\n        2.87610687e-05, 2.23287246e-03, 3.13820442e-05, 1.03764411e-05,\n        8.72312296e-06, 7.24224445e-05, 1.48612633e-05, 7.19755641e-06,\n        7.36771276e-06, 3.86112940e-04, 2.01079465e-05, 1.25577580e-05]),\n 'param_degree': masked_array(data=[1, 1, 1, 1, 1, 1, 1, 1, 1, 1, 1, 1, 1, 1, 1, 1, 1, 1,\n                    1, 1, 1, 1, 1, 1, 1, 1, 1, 1, 1, 1, 1, 1, 1, 1, 1, 1,\n                    1, 1, 1, 1, 1, 1, 1, 1, 2, 2, 2, 2, 2, 2, 2, 2, 2, 2,\n                    2, 2, 2, 2, 2, 2, 2, 2, 2, 2, 2, 2, 2, 2, 2, 2, 2, 2,\n                    2, 2, 2, 2, 2, 2, 2, 2, 2, 2, 2, 2, 2, 2, 2, 2, 3, 3,\n                    3, 3, 3, 3, 3, 3, 3, 3, 3, 3, 3, 3, 3, 3, 3, 3, 3, 3,\n                    3, 3, 3, 3, 3, 3, 3, 3, 3, 3, 3, 3, 3, 3, 3, 3, 3, 3,\n                    3, 3, 3, 3, 3, 3, 4, 4, 4, 4, 4, 4, 4, 4, 4, 4, 4, 4,\n                    4, 4, 4, 4, 4, 4, 4, 4, 4, 4, 4, 4, 4, 4, 4, 4, 4, 4,\n                    4, 4, 4, 4, 4, 4, 4, 4, 4, 4, 4, 4, 4, 4],\n              mask=[False, False, False, False, False, False, False, False,\n                    False, False, False, False, False, False, False, False,\n                    False, False, False, False, False, False, False, False,\n                    False, False, False, False, False, False, False, False,\n                    False, False, False, False, False, False, False, False,\n                    False, False, False, False, False, False, False, False,\n                    False, False, False, False, False, False, False, False,\n                    False, False, False, False, False, False, False, False,\n                    False, False, False, False, False, False, False, False,\n                    False, False, False, False, False, False, False, False,\n                    False, False, False, False, False, False, False, False,\n                    False, False, False, False, False, False, False, False,\n                    False, False, False, False, False, False, False, False,\n                    False, False, False, False, False, False, False, False,\n                    False, False, False, False, False, False, False, False,\n                    False, False, False, False, False, False, False, False,\n                    False, False, False, False, False, False, False, False,\n                    False, False, False, False, False, False, False, False,\n                    False, False, False, False, False, False, False, False,\n                    False, False, False, False, False, False, False, False,\n                    False, False, False, False, False, False, False, False,\n                    False, False, False, False, False, False, False, False],\n        fill_value='?',\n             dtype=object),\n 'param_gamma': masked_array(data=[0.0, 0.0, 0.0, 0.0, 0.1, 0.1, 0.1, 0.1, 0.2, 0.2, 0.2,\n                    0.2, 0.3, 0.3, 0.3, 0.3, 0.4, 0.4, 0.4, 0.4, 0.5, 0.5,\n                    0.5, 0.5, 0.6, 0.6, 0.6, 0.6, 0.7, 0.7, 0.7, 0.7, 0.8,\n                    0.8, 0.8, 0.8, 0.9, 0.9, 0.9, 0.9, 1.0, 1.0, 1.0, 1.0,\n                    0.0, 0.0, 0.0, 0.0, 0.1, 0.1, 0.1, 0.1, 0.2, 0.2, 0.2,\n                    0.2, 0.3, 0.3, 0.3, 0.3, 0.4, 0.4, 0.4, 0.4, 0.5, 0.5,\n                    0.5, 0.5, 0.6, 0.6, 0.6, 0.6, 0.7, 0.7, 0.7, 0.7, 0.8,\n                    0.8, 0.8, 0.8, 0.9, 0.9, 0.9, 0.9, 1.0, 1.0, 1.0, 1.0,\n                    0.0, 0.0, 0.0, 0.0, 0.1, 0.1, 0.1, 0.1, 0.2, 0.2, 0.2,\n                    0.2, 0.3, 0.3, 0.3, 0.3, 0.4, 0.4, 0.4, 0.4, 0.5, 0.5,\n                    0.5, 0.5, 0.6, 0.6, 0.6, 0.6, 0.7, 0.7, 0.7, 0.7, 0.8,\n                    0.8, 0.8, 0.8, 0.9, 0.9, 0.9, 0.9, 1.0, 1.0, 1.0, 1.0,\n                    0.0, 0.0, 0.0, 0.0, 0.1, 0.1, 0.1, 0.1, 0.2, 0.2, 0.2,\n                    0.2, 0.3, 0.3, 0.3, 0.3, 0.4, 0.4, 0.4, 0.4, 0.5, 0.5,\n                    0.5, 0.5, 0.6, 0.6, 0.6, 0.6, 0.7, 0.7, 0.7, 0.7, 0.8,\n                    0.8, 0.8, 0.8, 0.9, 0.9, 0.9, 0.9, 1.0, 1.0, 1.0, 1.0],\n              mask=[False, False, False, False, False, False, False, False,\n                    False, False, False, False, False, False, False, False,\n                    False, False, False, False, False, False, False, False,\n                    False, False, False, False, False, False, False, False,\n                    False, False, False, False, False, False, False, False,\n                    False, False, False, False, False, False, False, False,\n                    False, False, False, False, False, False, False, False,\n                    False, False, False, False, False, False, False, False,\n                    False, False, False, False, False, False, False, False,\n                    False, False, False, False, False, False, False, False,\n                    False, False, False, False, False, False, False, False,\n                    False, False, False, False, False, False, False, False,\n                    False, False, False, False, False, False, False, False,\n                    False, False, False, False, False, False, False, False,\n                    False, False, False, False, False, False, False, False,\n                    False, False, False, False, False, False, False, False,\n                    False, False, False, False, False, False, False, False,\n                    False, False, False, False, False, False, False, False,\n                    False, False, False, False, False, False, False, False,\n                    False, False, False, False, False, False, False, False,\n                    False, False, False, False, False, False, False, False,\n                    False, False, False, False, False, False, False, False],\n        fill_value='?',\n             dtype=object),\n 'param_kernel': masked_array(data=['linear', 'poly', 'rbf', 'sigmoid', 'linear', 'poly',\n                    'rbf', 'sigmoid', 'linear', 'poly', 'rbf', 'sigmoid',\n                    'linear', 'poly', 'rbf', 'sigmoid', 'linear', 'poly',\n                    'rbf', 'sigmoid', 'linear', 'poly', 'rbf', 'sigmoid',\n                    'linear', 'poly', 'rbf', 'sigmoid', 'linear', 'poly',\n                    'rbf', 'sigmoid', 'linear', 'poly', 'rbf', 'sigmoid',\n                    'linear', 'poly', 'rbf', 'sigmoid', 'linear', 'poly',\n                    'rbf', 'sigmoid', 'linear', 'poly', 'rbf', 'sigmoid',\n                    'linear', 'poly', 'rbf', 'sigmoid', 'linear', 'poly',\n                    'rbf', 'sigmoid', 'linear', 'poly', 'rbf', 'sigmoid',\n                    'linear', 'poly', 'rbf', 'sigmoid', 'linear', 'poly',\n                    'rbf', 'sigmoid', 'linear', 'poly', 'rbf', 'sigmoid',\n                    'linear', 'poly', 'rbf', 'sigmoid', 'linear', 'poly',\n                    'rbf', 'sigmoid', 'linear', 'poly', 'rbf', 'sigmoid',\n                    'linear', 'poly', 'rbf', 'sigmoid', 'linear', 'poly',\n                    'rbf', 'sigmoid', 'linear', 'poly', 'rbf', 'sigmoid',\n                    'linear', 'poly', 'rbf', 'sigmoid', 'linear', 'poly',\n                    'rbf', 'sigmoid', 'linear', 'poly', 'rbf', 'sigmoid',\n                    'linear', 'poly', 'rbf', 'sigmoid', 'linear', 'poly',\n                    'rbf', 'sigmoid', 'linear', 'poly', 'rbf', 'sigmoid',\n                    'linear', 'poly', 'rbf', 'sigmoid', 'linear', 'poly',\n                    'rbf', 'sigmoid', 'linear', 'poly', 'rbf', 'sigmoid',\n                    'linear', 'poly', 'rbf', 'sigmoid', 'linear', 'poly',\n                    'rbf', 'sigmoid', 'linear', 'poly', 'rbf', 'sigmoid',\n                    'linear', 'poly', 'rbf', 'sigmoid', 'linear', 'poly',\n                    'rbf', 'sigmoid', 'linear', 'poly', 'rbf', 'sigmoid',\n                    'linear', 'poly', 'rbf', 'sigmoid', 'linear', 'poly',\n                    'rbf', 'sigmoid', 'linear', 'poly', 'rbf', 'sigmoid',\n                    'linear', 'poly', 'rbf', 'sigmoid', 'linear', 'poly',\n                    'rbf', 'sigmoid'],\n              mask=[False, False, False, False, False, False, False, False,\n                    False, False, False, False, False, False, False, False,\n                    False, False, False, False, False, False, False, False,\n                    False, False, False, False, False, False, False, False,\n                    False, False, False, False, False, False, False, False,\n                    False, False, False, False, False, False, False, False,\n                    False, False, False, False, False, False, False, False,\n                    False, False, False, False, False, False, False, False,\n                    False, False, False, False, False, False, False, False,\n                    False, False, False, False, False, False, False, False,\n                    False, False, False, False, False, False, False, False,\n                    False, False, False, False, False, False, False, False,\n                    False, False, False, False, False, False, False, False,\n                    False, False, False, False, False, False, False, False,\n                    False, False, False, False, False, False, False, False,\n                    False, False, False, False, False, False, False, False,\n                    False, False, False, False, False, False, False, False,\n                    False, False, False, False, False, False, False, False,\n                    False, False, False, False, False, False, False, False,\n                    False, False, False, False, False, False, False, False,\n                    False, False, False, False, False, False, False, False,\n                    False, False, False, False, False, False, False, False],\n        fill_value='?',\n             dtype=object),\n 'params': [{'degree': 1, 'gamma': 0.0, 'kernel': 'linear'},\n  {'degree': 1, 'gamma': 0.0, 'kernel': 'poly'},\n  {'degree': 1, 'gamma': 0.0, 'kernel': 'rbf'},\n  {'degree': 1, 'gamma': 0.0, 'kernel': 'sigmoid'},\n  {'degree': 1, 'gamma': 0.1, 'kernel': 'linear'},\n  {'degree': 1, 'gamma': 0.1, 'kernel': 'poly'},\n  {'degree': 1, 'gamma': 0.1, 'kernel': 'rbf'},\n  {'degree': 1, 'gamma': 0.1, 'kernel': 'sigmoid'},\n  {'degree': 1, 'gamma': 0.2, 'kernel': 'linear'},\n  {'degree': 1, 'gamma': 0.2, 'kernel': 'poly'},\n  {'degree': 1, 'gamma': 0.2, 'kernel': 'rbf'},\n  {'degree': 1, 'gamma': 0.2, 'kernel': 'sigmoid'},\n  {'degree': 1, 'gamma': 0.3, 'kernel': 'linear'},\n  {'degree': 1, 'gamma': 0.3, 'kernel': 'poly'},\n  {'degree': 1, 'gamma': 0.3, 'kernel': 'rbf'},\n  {'degree': 1, 'gamma': 0.3, 'kernel': 'sigmoid'},\n  {'degree': 1, 'gamma': 0.4, 'kernel': 'linear'},\n  {'degree': 1, 'gamma': 0.4, 'kernel': 'poly'},\n  {'degree': 1, 'gamma': 0.4, 'kernel': 'rbf'},\n  {'degree': 1, 'gamma': 0.4, 'kernel': 'sigmoid'},\n  {'degree': 1, 'gamma': 0.5, 'kernel': 'linear'},\n  {'degree': 1, 'gamma': 0.5, 'kernel': 'poly'},\n  {'degree': 1, 'gamma': 0.5, 'kernel': 'rbf'},\n  {'degree': 1, 'gamma': 0.5, 'kernel': 'sigmoid'},\n  {'degree': 1, 'gamma': 0.6, 'kernel': 'linear'},\n  {'degree': 1, 'gamma': 0.6, 'kernel': 'poly'},\n  {'degree': 1, 'gamma': 0.6, 'kernel': 'rbf'},\n  {'degree': 1, 'gamma': 0.6, 'kernel': 'sigmoid'},\n  {'degree': 1, 'gamma': 0.7, 'kernel': 'linear'},\n  {'degree': 1, 'gamma': 0.7, 'kernel': 'poly'},\n  {'degree': 1, 'gamma': 0.7, 'kernel': 'rbf'},\n  {'degree': 1, 'gamma': 0.7, 'kernel': 'sigmoid'},\n  {'degree': 1, 'gamma': 0.8, 'kernel': 'linear'},\n  {'degree': 1, 'gamma': 0.8, 'kernel': 'poly'},\n  {'degree': 1, 'gamma': 0.8, 'kernel': 'rbf'},\n  {'degree': 1, 'gamma': 0.8, 'kernel': 'sigmoid'},\n  {'degree': 1, 'gamma': 0.9, 'kernel': 'linear'},\n  {'degree': 1, 'gamma': 0.9, 'kernel': 'poly'},\n  {'degree': 1, 'gamma': 0.9, 'kernel': 'rbf'},\n  {'degree': 1, 'gamma': 0.9, 'kernel': 'sigmoid'},\n  {'degree': 1, 'gamma': 1.0, 'kernel': 'linear'},\n  {'degree': 1, 'gamma': 1.0, 'kernel': 'poly'},\n  {'degree': 1, 'gamma': 1.0, 'kernel': 'rbf'},\n  {'degree': 1, 'gamma': 1.0, 'kernel': 'sigmoid'},\n  {'degree': 2, 'gamma': 0.0, 'kernel': 'linear'},\n  {'degree': 2, 'gamma': 0.0, 'kernel': 'poly'},\n  {'degree': 2, 'gamma': 0.0, 'kernel': 'rbf'},\n  {'degree': 2, 'gamma': 0.0, 'kernel': 'sigmoid'},\n  {'degree': 2, 'gamma': 0.1, 'kernel': 'linear'},\n  {'degree': 2, 'gamma': 0.1, 'kernel': 'poly'},\n  {'degree': 2, 'gamma': 0.1, 'kernel': 'rbf'},\n  {'degree': 2, 'gamma': 0.1, 'kernel': 'sigmoid'},\n  {'degree': 2, 'gamma': 0.2, 'kernel': 'linear'},\n  {'degree': 2, 'gamma': 0.2, 'kernel': 'poly'},\n  {'degree': 2, 'gamma': 0.2, 'kernel': 'rbf'},\n  {'degree': 2, 'gamma': 0.2, 'kernel': 'sigmoid'},\n  {'degree': 2, 'gamma': 0.3, 'kernel': 'linear'},\n  {'degree': 2, 'gamma': 0.3, 'kernel': 'poly'},\n  {'degree': 2, 'gamma': 0.3, 'kernel': 'rbf'},\n  {'degree': 2, 'gamma': 0.3, 'kernel': 'sigmoid'},\n  {'degree': 2, 'gamma': 0.4, 'kernel': 'linear'},\n  {'degree': 2, 'gamma': 0.4, 'kernel': 'poly'},\n  {'degree': 2, 'gamma': 0.4, 'kernel': 'rbf'},\n  {'degree': 2, 'gamma': 0.4, 'kernel': 'sigmoid'},\n  {'degree': 2, 'gamma': 0.5, 'kernel': 'linear'},\n  {'degree': 2, 'gamma': 0.5, 'kernel': 'poly'},\n  {'degree': 2, 'gamma': 0.5, 'kernel': 'rbf'},\n  {'degree': 2, 'gamma': 0.5, 'kernel': 'sigmoid'},\n  {'degree': 2, 'gamma': 0.6, 'kernel': 'linear'},\n  {'degree': 2, 'gamma': 0.6, 'kernel': 'poly'},\n  {'degree': 2, 'gamma': 0.6, 'kernel': 'rbf'},\n  {'degree': 2, 'gamma': 0.6, 'kernel': 'sigmoid'},\n  {'degree': 2, 'gamma': 0.7, 'kernel': 'linear'},\n  {'degree': 2, 'gamma': 0.7, 'kernel': 'poly'},\n  {'degree': 2, 'gamma': 0.7, 'kernel': 'rbf'},\n  {'degree': 2, 'gamma': 0.7, 'kernel': 'sigmoid'},\n  {'degree': 2, 'gamma': 0.8, 'kernel': 'linear'},\n  {'degree': 2, 'gamma': 0.8, 'kernel': 'poly'},\n  {'degree': 2, 'gamma': 0.8, 'kernel': 'rbf'},\n  {'degree': 2, 'gamma': 0.8, 'kernel': 'sigmoid'},\n  {'degree': 2, 'gamma': 0.9, 'kernel': 'linear'},\n  {'degree': 2, 'gamma': 0.9, 'kernel': 'poly'},\n  {'degree': 2, 'gamma': 0.9, 'kernel': 'rbf'},\n  {'degree': 2, 'gamma': 0.9, 'kernel': 'sigmoid'},\n  {'degree': 2, 'gamma': 1.0, 'kernel': 'linear'},\n  {'degree': 2, 'gamma': 1.0, 'kernel': 'poly'},\n  {'degree': 2, 'gamma': 1.0, 'kernel': 'rbf'},\n  {'degree': 2, 'gamma': 1.0, 'kernel': 'sigmoid'},\n  {'degree': 3, 'gamma': 0.0, 'kernel': 'linear'},\n  {'degree': 3, 'gamma': 0.0, 'kernel': 'poly'},\n  {'degree': 3, 'gamma': 0.0, 'kernel': 'rbf'},\n  {'degree': 3, 'gamma': 0.0, 'kernel': 'sigmoid'},\n  {'degree': 3, 'gamma': 0.1, 'kernel': 'linear'},\n  {'degree': 3, 'gamma': 0.1, 'kernel': 'poly'},\n  {'degree': 3, 'gamma': 0.1, 'kernel': 'rbf'},\n  {'degree': 3, 'gamma': 0.1, 'kernel': 'sigmoid'},\n  {'degree': 3, 'gamma': 0.2, 'kernel': 'linear'},\n  {'degree': 3, 'gamma': 0.2, 'kernel': 'poly'},\n  {'degree': 3, 'gamma': 0.2, 'kernel': 'rbf'},\n  {'degree': 3, 'gamma': 0.2, 'kernel': 'sigmoid'},\n  {'degree': 3, 'gamma': 0.3, 'kernel': 'linear'},\n  {'degree': 3, 'gamma': 0.3, 'kernel': 'poly'},\n  {'degree': 3, 'gamma': 0.3, 'kernel': 'rbf'},\n  {'degree': 3, 'gamma': 0.3, 'kernel': 'sigmoid'},\n  {'degree': 3, 'gamma': 0.4, 'kernel': 'linear'},\n  {'degree': 3, 'gamma': 0.4, 'kernel': 'poly'},\n  {'degree': 3, 'gamma': 0.4, 'kernel': 'rbf'},\n  {'degree': 3, 'gamma': 0.4, 'kernel': 'sigmoid'},\n  {'degree': 3, 'gamma': 0.5, 'kernel': 'linear'},\n  {'degree': 3, 'gamma': 0.5, 'kernel': 'poly'},\n  {'degree': 3, 'gamma': 0.5, 'kernel': 'rbf'},\n  {'degree': 3, 'gamma': 0.5, 'kernel': 'sigmoid'},\n  {'degree': 3, 'gamma': 0.6, 'kernel': 'linear'},\n  {'degree': 3, 'gamma': 0.6, 'kernel': 'poly'},\n  {'degree': 3, 'gamma': 0.6, 'kernel': 'rbf'},\n  {'degree': 3, 'gamma': 0.6, 'kernel': 'sigmoid'},\n  {'degree': 3, 'gamma': 0.7, 'kernel': 'linear'},\n  {'degree': 3, 'gamma': 0.7, 'kernel': 'poly'},\n  {'degree': 3, 'gamma': 0.7, 'kernel': 'rbf'},\n  {'degree': 3, 'gamma': 0.7, 'kernel': 'sigmoid'},\n  {'degree': 3, 'gamma': 0.8, 'kernel': 'linear'},\n  {'degree': 3, 'gamma': 0.8, 'kernel': 'poly'},\n  {'degree': 3, 'gamma': 0.8, 'kernel': 'rbf'},\n  {'degree': 3, 'gamma': 0.8, 'kernel': 'sigmoid'},\n  {'degree': 3, 'gamma': 0.9, 'kernel': 'linear'},\n  {'degree': 3, 'gamma': 0.9, 'kernel': 'poly'},\n  {'degree': 3, 'gamma': 0.9, 'kernel': 'rbf'},\n  {'degree': 3, 'gamma': 0.9, 'kernel': 'sigmoid'},\n  {'degree': 3, 'gamma': 1.0, 'kernel': 'linear'},\n  {'degree': 3, 'gamma': 1.0, 'kernel': 'poly'},\n  {'degree': 3, 'gamma': 1.0, 'kernel': 'rbf'},\n  {'degree': 3, 'gamma': 1.0, 'kernel': 'sigmoid'},\n  {'degree': 4, 'gamma': 0.0, 'kernel': 'linear'},\n  {'degree': 4, 'gamma': 0.0, 'kernel': 'poly'},\n  {'degree': 4, 'gamma': 0.0, 'kernel': 'rbf'},\n  {'degree': 4, 'gamma': 0.0, 'kernel': 'sigmoid'},\n  {'degree': 4, 'gamma': 0.1, 'kernel': 'linear'},\n  {'degree': 4, 'gamma': 0.1, 'kernel': 'poly'},\n  {'degree': 4, 'gamma': 0.1, 'kernel': 'rbf'},\n  {'degree': 4, 'gamma': 0.1, 'kernel': 'sigmoid'},\n  {'degree': 4, 'gamma': 0.2, 'kernel': 'linear'},\n  {'degree': 4, 'gamma': 0.2, 'kernel': 'poly'},\n  {'degree': 4, 'gamma': 0.2, 'kernel': 'rbf'},\n  {'degree': 4, 'gamma': 0.2, 'kernel': 'sigmoid'},\n  {'degree': 4, 'gamma': 0.3, 'kernel': 'linear'},\n  {'degree': 4, 'gamma': 0.3, 'kernel': 'poly'},\n  {'degree': 4, 'gamma': 0.3, 'kernel': 'rbf'},\n  {'degree': 4, 'gamma': 0.3, 'kernel': 'sigmoid'},\n  {'degree': 4, 'gamma': 0.4, 'kernel': 'linear'},\n  {'degree': 4, 'gamma': 0.4, 'kernel': 'poly'},\n  {'degree': 4, 'gamma': 0.4, 'kernel': 'rbf'},\n  {'degree': 4, 'gamma': 0.4, 'kernel': 'sigmoid'},\n  {'degree': 4, 'gamma': 0.5, 'kernel': 'linear'},\n  {'degree': 4, 'gamma': 0.5, 'kernel': 'poly'},\n  {'degree': 4, 'gamma': 0.5, 'kernel': 'rbf'},\n  {'degree': 4, 'gamma': 0.5, 'kernel': 'sigmoid'},\n  {'degree': 4, 'gamma': 0.6, 'kernel': 'linear'},\n  {'degree': 4, 'gamma': 0.6, 'kernel': 'poly'},\n  {'degree': 4, 'gamma': 0.6, 'kernel': 'rbf'},\n  {'degree': 4, 'gamma': 0.6, 'kernel': 'sigmoid'},\n  {'degree': 4, 'gamma': 0.7, 'kernel': 'linear'},\n  {'degree': 4, 'gamma': 0.7, 'kernel': 'poly'},\n  {'degree': 4, 'gamma': 0.7, 'kernel': 'rbf'},\n  {'degree': 4, 'gamma': 0.7, 'kernel': 'sigmoid'},\n  {'degree': 4, 'gamma': 0.8, 'kernel': 'linear'},\n  {'degree': 4, 'gamma': 0.8, 'kernel': 'poly'},\n  {'degree': 4, 'gamma': 0.8, 'kernel': 'rbf'},\n  {'degree': 4, 'gamma': 0.8, 'kernel': 'sigmoid'},\n  {'degree': 4, 'gamma': 0.9, 'kernel': 'linear'},\n  {'degree': 4, 'gamma': 0.9, 'kernel': 'poly'},\n  {'degree': 4, 'gamma': 0.9, 'kernel': 'rbf'},\n  {'degree': 4, 'gamma': 0.9, 'kernel': 'sigmoid'},\n  {'degree': 4, 'gamma': 1.0, 'kernel': 'linear'},\n  {'degree': 4, 'gamma': 1.0, 'kernel': 'poly'},\n  {'degree': 4, 'gamma': 1.0, 'kernel': 'rbf'},\n  {'degree': 4, 'gamma': 1.0, 'kernel': 'sigmoid'}],\n 'split0_test_score': array([  0.7376246 ,  -0.2303251 ,  -0.2303251 ,  -0.2303251 ,\n          0.7376246 ,   0.71714583,   0.80146924, -17.80655697,\n          0.7376246 ,   0.73885937,   0.81988124, -58.61278576,\n          0.7376246 ,   0.73869339,   0.83204136, -51.75693241,\n          0.7376246 ,   0.7384293 ,   0.84991806, -32.37338663,\n          0.7376246 ,   0.73806923,   0.86481395, -17.98945757,\n          0.7376246 ,   0.73753522,   0.8669708 ,  -9.73883014,\n          0.7376246 ,   0.73750651,   0.86968794,  -5.307666  ,\n          0.7376246 ,   0.73749238,   0.86981034,  -2.97568505,\n          0.7376246 ,   0.73786056,   0.87063431,  -1.74981514,\n          0.7376246 ,   0.7376246 ,   0.87271788,  -1.09657386,\n          0.7376246 ,  -0.2303251 ,  -0.2303251 ,  -0.2303251 ,\n          0.7376246 ,   0.86323406,   0.80146924, -17.80655697,\n          0.7376246 ,   0.86391418,   0.81988124, -58.61278576,\n          0.7376246 ,   0.86391214,   0.83204136, -51.75693241,\n          0.7376246 ,   0.86405884,   0.84991806, -32.37338663,\n          0.7376246 ,   0.86427273,   0.86481395, -17.98945757,\n          0.7376246 ,   0.86446064,   0.8669708 ,  -9.73883014,\n          0.7376246 ,   0.8647849 ,   0.86968794,  -5.307666  ,\n          0.7376246 ,   0.86501997,   0.86981034,  -2.97568505,\n          0.7376246 ,   0.86545661,   0.87063431,  -1.74981514,\n          0.7376246 ,   0.86563603,   0.87271788,  -1.09657386,\n          0.7376246 ,  -0.2303251 ,  -0.2303251 ,  -0.2303251 ,\n          0.7376246 ,   0.86793208,   0.80146924, -17.80655697,\n          0.7376246 ,   0.86720864,   0.81988124, -58.61278576,\n          0.7376246 ,   0.8681671 ,   0.83204136, -51.75693241,\n          0.7376246 ,   0.86793454,   0.84991806, -32.37338663,\n          0.7376246 ,   0.86811516,   0.86481395, -17.98945757,\n          0.7376246 ,   0.8689495 ,   0.8669708 ,  -9.73883014,\n          0.7376246 ,   0.86876215,   0.86968794,  -5.307666  ,\n          0.7376246 ,   0.86803541,   0.86981034,  -2.97568505,\n          0.7376246 ,   0.86933061,   0.87063431,  -1.74981514,\n          0.7376246 ,   0.86919267,   0.87271788,  -1.09657386,\n          0.7376246 ,  -0.2303251 ,  -0.2303251 ,  -0.2303251 ,\n          0.7376246 ,   0.8070293 ,   0.80146924, -17.80655697,\n          0.7376246 ,   0.80653841,   0.81988124, -58.61278576,\n          0.7376246 ,   0.80564843,   0.83204136, -51.75693241,\n          0.7376246 ,   0.80483365,   0.84991806, -32.37338663,\n          0.7376246 ,   0.80505318,   0.86481395, -17.98945757,\n          0.7376246 ,   0.79786363,   0.8669708 ,  -9.73883014,\n          0.7376246 ,   0.79311579,   0.86968794,  -5.307666  ,\n          0.7376246 ,   0.78393992,   0.86981034,  -2.97568505,\n          0.7376246 ,   0.78711961,   0.87063431,  -1.74981514,\n          0.7376246 ,   0.79155042,   0.87271788,  -1.09657386]),\n 'split1_test_score': array([ 7.72761123e-01, -2.49861188e-03, -2.49861188e-03, -2.49861188e-03,\n         7.72761123e-01,  8.20780056e-01,  8.38582890e-01, -1.88164826e+01,\n         7.72761123e-01,  8.07682638e-01,  8.27645759e-01, -9.17477523e+01,\n         7.72761123e-01,  7.98979616e-01,  8.34987110e-01, -8.01385583e+01,\n         7.72761123e-01,  7.93364812e-01,  8.38892314e-01, -4.89498325e+01,\n         7.72761123e-01,  7.85554975e-01,  8.43879048e-01, -2.69536009e+01,\n         7.72761123e-01,  7.85424960e-01,  8.39368064e-01, -1.41809169e+01,\n         7.72761123e-01,  7.73291842e-01,  8.32711364e-01, -7.58829340e+00,\n         7.72761123e-01,  7.73291506e-01,  8.30679789e-01, -4.15921139e+00,\n         7.72761123e-01,  7.72786155e-01,  8.26954255e-01, -2.34409217e+00,\n         7.72761123e-01,  7.72761123e-01,  8.22271302e-01, -1.36556990e+00,\n         7.72761123e-01, -2.49861188e-03, -2.49861188e-03, -2.49861188e-03,\n         7.72761123e-01,  8.25286879e-01,  8.38582890e-01, -1.88164826e+01,\n         7.72761123e-01,  8.05995349e-01,  8.27645759e-01, -9.17477523e+01,\n         7.72761123e-01,  8.06348341e-01,  8.34987110e-01, -8.01385583e+01,\n         7.72761123e-01,  8.05842536e-01,  8.38892314e-01, -4.89498325e+01,\n         7.72761123e-01,  8.06069789e-01,  8.43879048e-01, -2.69536009e+01,\n         7.72761123e-01,  8.06199070e-01,  8.39368064e-01, -1.41809169e+01,\n         7.72761123e-01,  8.06279836e-01,  8.32711364e-01, -7.58829340e+00,\n         7.72761123e-01,  8.06149000e-01,  8.30679789e-01, -4.15921139e+00,\n         7.72761123e-01,  8.06157024e-01,  8.26954255e-01, -2.34409217e+00,\n         7.72761123e-01,  8.06109742e-01,  8.22271302e-01, -1.36556990e+00,\n         7.72761123e-01, -2.49861188e-03, -2.49861188e-03, -2.49861188e-03,\n         7.72761123e-01,  8.19742633e-01,  8.38582890e-01, -1.88164826e+01,\n         7.72761123e-01,  8.20965613e-01,  8.27645759e-01, -9.17477523e+01,\n         7.72761123e-01,  8.23105796e-01,  8.34987110e-01, -8.01385583e+01,\n         7.72761123e-01,  8.23332288e-01,  8.38892314e-01, -4.89498325e+01,\n         7.72761123e-01,  8.22952006e-01,  8.43879048e-01, -2.69536009e+01,\n         7.72761123e-01,  8.23064462e-01,  8.39368064e-01, -1.41809169e+01,\n         7.72761123e-01,  8.22892114e-01,  8.32711364e-01, -7.58829340e+00,\n         7.72761123e-01,  8.24027238e-01,  8.30679789e-01, -4.15921139e+00,\n         7.72761123e-01,  8.22797589e-01,  8.26954255e-01, -2.34409217e+00,\n         7.72761123e-01,  8.21679377e-01,  8.22271302e-01, -1.36556990e+00,\n         7.72761123e-01, -2.49861188e-03, -2.49861188e-03, -2.49861188e-03,\n         7.72761123e-01,  7.86105310e-01,  8.38582890e-01, -1.88164826e+01,\n         7.72761123e-01,  7.80131385e-01,  8.27645759e-01, -9.17477523e+01,\n         7.72761123e-01,  7.76625295e-01,  8.34987110e-01, -8.01385583e+01,\n         7.72761123e-01,  7.72805911e-01,  8.38892314e-01, -4.89498325e+01,\n         7.72761123e-01,  7.65231276e-01,  8.43879048e-01, -2.69536009e+01,\n         7.72761123e-01,  7.56134273e-01,  8.39368064e-01, -1.41809169e+01,\n         7.72761123e-01,  7.46373797e-01,  8.32711364e-01, -7.58829340e+00,\n         7.72761123e-01,  7.22208480e-01,  8.30679789e-01, -4.15921139e+00,\n         7.72761123e-01,  7.19222988e-01,  8.26954255e-01, -2.34409217e+00,\n         7.72761123e-01,  7.13452699e-01,  8.22271302e-01, -1.36556990e+00]),\n 'split2_test_score': array([ 7.53239365e-01, -6.95367308e-03, -6.95367308e-03, -6.95367308e-03,\n         7.53239365e-01,  7.40810371e-01,  6.93743861e-01, -1.79739969e+01,\n         7.53239365e-01,  7.43221667e-01,  7.12712045e-01, -8.28424113e+01,\n         7.53239365e-01,  7.53789367e-01,  7.31285775e-01, -7.30369067e+01,\n         7.53239365e-01,  7.53788570e-01,  7.33662851e-01, -4.56007538e+01,\n         7.53239365e-01,  7.53786790e-01,  7.33272166e-01, -2.54194212e+01,\n         7.53239365e-01,  7.53580477e-01,  7.28235252e-01, -1.38306263e+01,\n         7.53239365e-01,  7.53278266e-01,  7.21575695e-01, -7.58330724e+00,\n         7.53239365e-01,  7.53241636e-01,  7.17355712e-01, -4.24298175e+00,\n         7.53239365e-01,  7.53115887e-01,  7.21378834e-01, -2.44943120e+00,\n         7.53239365e-01,  7.53239365e-01,  7.29401003e-01, -1.46245222e+00,\n         7.53239365e-01, -6.95367308e-03, -6.95367308e-03, -6.95367308e-03,\n         7.53239365e-01,  7.41079009e-01,  6.93743861e-01, -1.79739969e+01,\n         7.53239365e-01,  7.57844792e-01,  7.12712045e-01, -8.28424113e+01,\n         7.53239365e-01,  7.57917118e-01,  7.31285775e-01, -7.30369067e+01,\n         7.53239365e-01,  7.66386949e-01,  7.33662851e-01, -4.56007538e+01,\n         7.53239365e-01,  7.64822571e-01,  7.33272166e-01, -2.54194212e+01,\n         7.53239365e-01,  7.63550407e-01,  7.28235252e-01, -1.38306263e+01,\n         7.53239365e-01,  7.62212867e-01,  7.21575695e-01, -7.58330724e+00,\n         7.53239365e-01,  7.60522959e-01,  7.17355712e-01, -4.24298175e+00,\n         7.53239365e-01,  7.58736228e-01,  7.21378834e-01, -2.44943120e+00,\n         7.53239365e-01,  7.56444572e-01,  7.29401003e-01, -1.46245222e+00,\n         7.53239365e-01, -6.95367308e-03, -6.95367308e-03, -6.95367308e-03,\n         7.53239365e-01,  7.29552896e-01,  6.93743861e-01, -1.79739969e+01,\n         7.53239365e-01,  7.29706684e-01,  7.12712045e-01, -8.28424113e+01,\n         7.53239365e-01,  7.29388158e-01,  7.31285775e-01, -7.30369067e+01,\n         7.53239365e-01,  7.29257092e-01,  7.33662851e-01, -4.56007538e+01,\n         7.53239365e-01,  7.29309002e-01,  7.33272166e-01, -2.54194212e+01,\n         7.53239365e-01,  7.28813699e-01,  7.28235252e-01, -1.38306263e+01,\n         7.53239365e-01,  7.30175657e-01,  7.21575695e-01, -7.58330724e+00,\n         7.53239365e-01,  7.28271860e-01,  7.17355712e-01, -4.24298175e+00,\n         7.53239365e-01,  7.28639955e-01,  7.21378834e-01, -2.44943120e+00,\n         7.53239365e-01,  7.28112866e-01,  7.29401003e-01, -1.46245222e+00,\n         7.53239365e-01, -6.95367308e-03, -6.95367308e-03, -6.95367308e-03,\n         7.53239365e-01,  6.83813573e-01,  6.93743861e-01, -1.79739969e+01,\n         7.53239365e-01,  6.70299276e-01,  7.12712045e-01, -8.28424113e+01,\n         7.53239365e-01,  6.47168335e-01,  7.31285775e-01, -7.30369067e+01,\n         7.53239365e-01,  6.47461909e-01,  7.33662851e-01, -4.56007538e+01,\n         7.53239365e-01,  6.46776149e-01,  7.33272166e-01, -2.54194212e+01,\n         7.53239365e-01,  6.55188492e-01,  7.28235252e-01, -1.38306263e+01,\n         7.53239365e-01,  6.47453626e-01,  7.21575695e-01, -7.58330724e+00,\n         7.53239365e-01,  6.76635464e-01,  7.17355712e-01, -4.24298175e+00,\n         7.53239365e-01,  6.05323284e-01,  7.21378834e-01, -2.44943120e+00,\n         7.53239365e-01,  6.57759433e-01,  7.29401003e-01, -1.46245222e+00]),\n 'split3_test_score': array([ 6.69369430e-01, -3.52689704e-02, -3.52689704e-02, -3.52689704e-02,\n         6.69369430e-01,  6.60594935e-01,  7.27399189e-01, -1.89517366e+01,\n         6.69369430e-01,  6.65822927e-01,  7.13557081e-01, -1.06305731e+02,\n         6.69369430e-01,  6.67516890e-01,  7.09688955e-01, -9.32601818e+01,\n         6.69369430e-01,  6.68801412e-01,  7.14020478e-01, -5.83710163e+01,\n         6.69369430e-01,  6.68744008e-01,  7.17915132e-01, -3.38666515e+01,\n         6.69369430e-01,  6.66741635e-01,  7.12277243e-01, -1.95546427e+01,\n         6.69369430e-01,  6.66770743e-01,  7.01849330e-01, -1.13936038e+01,\n         6.69369430e-01,  6.68032615e-01,  6.90678833e-01, -6.77470908e+00,\n         6.69369430e-01,  6.69370906e-01,  6.87649544e-01, -4.12910183e+00,\n         6.69369430e-01,  6.69369430e-01,  6.88892812e-01, -2.58339532e+00,\n         6.69369430e-01, -3.52689704e-02, -3.52689704e-02, -3.52689704e-02,\n         6.69369430e-01,  7.36440599e-01,  7.27399189e-01, -1.89517366e+01,\n         6.69369430e-01,  7.35271243e-01,  7.13557081e-01, -1.06305731e+02,\n         6.69369430e-01,  7.34563424e-01,  7.09688955e-01, -9.32601818e+01,\n         6.69369430e-01,  7.33531735e-01,  7.14020478e-01, -5.83710163e+01,\n         6.69369430e-01,  7.32309701e-01,  7.17915132e-01, -3.38666515e+01,\n         6.69369430e-01,  7.30705194e-01,  7.12277243e-01, -1.95546427e+01,\n         6.69369430e-01,  7.29189423e-01,  7.01849330e-01, -1.13936038e+01,\n         6.69369430e-01,  7.27901010e-01,  6.90678833e-01, -6.77470908e+00,\n         6.69369430e-01,  7.25337065e-01,  6.87649544e-01, -4.12910183e+00,\n         6.69369430e-01,  7.22817484e-01,  6.88892812e-01, -2.58339532e+00,\n         6.69369430e-01, -3.52689704e-02, -3.52689704e-02, -3.52689704e-02,\n         6.69369430e-01,  7.30952209e-01,  7.27399189e-01, -1.89517366e+01,\n         6.69369430e-01,  7.22900396e-01,  7.13557081e-01, -1.06305731e+02,\n         6.69369430e-01,  7.13367919e-01,  7.09688955e-01, -9.32601818e+01,\n         6.69369430e-01,  7.09286456e-01,  7.14020478e-01, -5.83710163e+01,\n         6.69369430e-01,  6.94455346e-01,  7.17915132e-01, -3.38666515e+01,\n         6.69369430e-01,  6.93347310e-01,  7.12277243e-01, -1.95546427e+01,\n         6.69369430e-01,  6.92136084e-01,  7.01849330e-01, -1.13936038e+01,\n         6.69369430e-01,  6.92373592e-01,  6.90678833e-01, -6.77470908e+00,\n         6.69369430e-01,  6.90574311e-01,  6.87649544e-01, -4.12910183e+00,\n         6.69369430e-01,  6.89791699e-01,  6.88892812e-01, -2.58339532e+00,\n         6.69369430e-01, -3.52689704e-02, -3.52689704e-02, -3.52689704e-02,\n         6.69369430e-01,  6.73671327e-01,  7.27399189e-01, -1.89517366e+01,\n         6.69369430e-01,  6.49206640e-01,  7.13557081e-01, -1.06305731e+02,\n         6.69369430e-01,  6.44093254e-01,  7.09688955e-01, -9.32601818e+01,\n         6.69369430e-01,  6.36443334e-01,  7.14020478e-01, -5.83710163e+01,\n         6.69369430e-01,  6.19266097e-01,  7.17915132e-01, -3.38666515e+01,\n         6.69369430e-01,  6.20093609e-01,  7.12277243e-01, -1.95546427e+01,\n         6.69369430e-01,  6.03168610e-01,  7.01849330e-01, -1.13936038e+01,\n         6.69369430e-01,  5.93577448e-01,  6.90678833e-01, -6.77470908e+00,\n         6.69369430e-01,  5.99651559e-01,  6.87649544e-01, -4.12910183e+00,\n         6.69369430e-01,  5.60773110e-01,  6.88892812e-01, -2.58339532e+00]),\n 'split4_test_score': array([ 6.52740328e-01, -2.38237046e-03, -2.38237046e-03, -2.38237046e-03,\n         6.52740328e-01,  6.76876837e-01,  7.22796435e-01, -2.39220519e+01,\n         6.52740328e-01,  6.76105154e-01,  7.20891176e-01, -1.41754972e+02,\n         6.52740328e-01,  6.69690110e-01,  7.18884136e-01, -1.12199594e+02,\n         6.52740328e-01,  6.69358994e-01,  7.24247551e-01, -6.43108474e+01,\n         6.52740328e-01,  6.52814288e-01,  7.36136020e-01, -3.38200551e+01,\n         6.52740328e-01,  6.52811691e-01,  7.48843020e-01, -1.76316571e+01,\n         6.52740328e-01,  6.52817994e-01,  7.58732586e-01, -9.20073533e+00,\n         6.52740328e-01,  6.52513794e-01,  7.60679046e-01, -4.92765298e+00,\n         6.52740328e-01,  6.52742404e-01,  7.62243420e-01, -2.73090105e+00,\n         6.52740328e-01,  6.52740328e-01,  7.60102861e-01, -1.57142926e+00,\n         6.52740328e-01, -2.38237046e-03, -2.38237046e-03, -2.38237046e-03,\n         6.52740328e-01,  6.85384154e-01,  7.22796435e-01, -2.39220519e+01,\n         6.52740328e-01,  6.82776122e-01,  7.20891176e-01, -1.41754972e+02,\n         6.52740328e-01,  6.83990204e-01,  7.18884136e-01, -1.12199594e+02,\n         6.52740328e-01,  6.84043461e-01,  7.24247551e-01, -6.43108474e+01,\n         6.52740328e-01,  6.82615285e-01,  7.36136020e-01, -3.38200551e+01,\n         6.52740328e-01,  6.83390533e-01,  7.48843020e-01, -1.76316571e+01,\n         6.52740328e-01,  6.82922953e-01,  7.58732586e-01, -9.20073533e+00,\n         6.52740328e-01,  6.82099697e-01,  7.60679046e-01, -4.92765298e+00,\n         6.52740328e-01,  6.81190599e-01,  7.62243420e-01, -2.73090105e+00,\n         6.52740328e-01,  6.80133388e-01,  7.60102861e-01, -1.57142926e+00,\n         6.52740328e-01, -2.38237046e-03, -2.38237046e-03, -2.38237046e-03,\n         6.52740328e-01,  7.30209834e-01,  7.22796435e-01, -2.39220519e+01,\n         6.52740328e-01,  7.28276061e-01,  7.20891176e-01, -1.41754972e+02,\n         6.52740328e-01,  7.19739037e-01,  7.18884136e-01, -1.12199594e+02,\n         6.52740328e-01,  7.18918038e-01,  7.24247551e-01, -6.43108474e+01,\n         6.52740328e-01,  7.16431572e-01,  7.36136020e-01, -3.38200551e+01,\n         6.52740328e-01,  7.15660943e-01,  7.48843020e-01, -1.76316571e+01,\n         6.52740328e-01,  7.15761377e-01,  7.58732586e-01, -9.20073533e+00,\n         6.52740328e-01,  7.16818327e-01,  7.60679046e-01, -4.92765298e+00,\n         6.52740328e-01,  7.13659453e-01,  7.62243420e-01, -2.73090105e+00,\n         6.52740328e-01,  7.01866720e-01,  7.60102861e-01, -1.57142926e+00,\n         6.52740328e-01, -2.38237046e-03, -2.38237046e-03, -2.38237046e-03,\n         6.52740328e-01,  6.96277379e-01,  7.22796435e-01, -2.39220519e+01,\n         6.52740328e-01,  6.69076878e-01,  7.20891176e-01, -1.41754972e+02,\n         6.52740328e-01,  6.49904900e-01,  7.18884136e-01, -1.12199594e+02,\n         6.52740328e-01,  6.28519459e-01,  7.24247551e-01, -6.43108474e+01,\n         6.52740328e-01,  6.33606660e-01,  7.36136020e-01, -3.38200551e+01,\n         6.52740328e-01,  5.92686696e-01,  7.48843020e-01, -1.76316571e+01,\n         6.52740328e-01,  5.94843693e-01,  7.58732586e-01, -9.20073533e+00,\n         6.52740328e-01,  5.34514568e-01,  7.60679046e-01, -4.92765298e+00,\n         6.52740328e-01,  6.13158111e-01,  7.62243420e-01, -2.73090105e+00,\n         6.52740328e-01,  5.52564677e-01,  7.60102861e-01, -1.57142926e+00]),\n 'mean_test_score': array([ 7.17146969e-01, -5.54857449e-02, -5.54857449e-02, -5.54857449e-02,\n         7.17146969e-01,  7.23241606e-01,  7.56798323e-01, -1.94941650e+01,\n         7.17146969e-01,  7.26338351e-01,  7.58937460e-01, -9.62527303e+01,\n         7.17146969e-01,  7.25733874e-01,  7.65377468e-01, -8.20784347e+01,\n         7.17146969e-01,  7.24748617e-01,  7.72148252e-01, -4.99211673e+01,\n         7.17146969e-01,  7.19793858e-01,  7.79203263e-01, -2.76098373e+01,\n         7.17146969e-01,  7.19218797e-01,  7.79138875e-01, -1.49873346e+01,\n         7.17146969e-01,  7.16733071e-01,  7.76911382e-01, -8.21472115e+00,\n         7.17146969e-01,  7.16914387e-01,  7.73840743e-01, -4.61604805e+00,\n         7.17146969e-01,  7.17175183e-01,  7.73772073e-01, -2.68066828e+00,\n         7.17146969e-01,  7.17146969e-01,  7.74677170e-01, -1.61588411e+00,\n         7.17146969e-01, -5.54857449e-02, -5.54857449e-02, -5.54857449e-02,\n         7.17146969e-01,  7.70284939e-01,  7.56798323e-01, -1.94941650e+01,\n         7.17146969e-01,  7.69160337e-01,  7.58937460e-01, -9.62527303e+01,\n         7.17146969e-01,  7.69346245e-01,  7.65377468e-01, -8.20784347e+01,\n         7.17146969e-01,  7.70772704e-01,  7.72148252e-01, -4.99211673e+01,\n         7.17146969e-01,  7.70018015e-01,  7.79203263e-01, -2.76098373e+01,\n         7.17146969e-01,  7.69661170e-01,  7.79138875e-01, -1.49873346e+01,\n         7.17146969e-01,  7.69077996e-01,  7.76911382e-01, -8.21472115e+00,\n         7.17146969e-01,  7.68338527e-01,  7.73840743e-01, -4.61604805e+00,\n         7.17146969e-01,  7.67375506e-01,  7.73772073e-01, -2.68066828e+00,\n         7.17146969e-01,  7.66228244e-01,  7.74677170e-01, -1.61588411e+00,\n         7.17146969e-01, -5.54857449e-02, -5.54857449e-02, -5.54857449e-02,\n         7.17146969e-01,  7.75677931e-01,  7.56798323e-01, -1.94941650e+01,\n         7.17146969e-01,  7.73811479e-01,  7.58937460e-01, -9.62527303e+01,\n         7.17146969e-01,  7.70753601e-01,  7.65377468e-01, -8.20784347e+01,\n         7.17146969e-01,  7.69745682e-01,  7.72148252e-01, -4.99211673e+01,\n         7.17146969e-01,  7.66252617e-01,  7.79203263e-01, -2.76098373e+01,\n         7.17146969e-01,  7.65967183e-01,  7.79138875e-01, -1.49873346e+01,\n         7.17146969e-01,  7.65945476e-01,  7.76911382e-01, -8.21472115e+00,\n         7.17146969e-01,  7.65905285e-01,  7.73840743e-01, -4.61604805e+00,\n         7.17146969e-01,  7.65000385e-01,  7.73772073e-01, -2.68066828e+00,\n         7.17146969e-01,  7.62128666e-01,  7.74677170e-01, -1.61588411e+00,\n         7.17146969e-01, -5.54857449e-02, -5.54857449e-02, -5.54857449e-02,\n         7.17146969e-01,  7.29379377e-01,  7.56798323e-01, -1.94941650e+01,\n         7.17146969e-01,  7.15050518e-01,  7.58937460e-01, -9.62527303e+01,\n         7.17146969e-01,  7.04688043e-01,  7.65377468e-01, -8.20784347e+01,\n         7.17146969e-01,  6.98012853e-01,  7.72148252e-01, -4.99211673e+01,\n         7.17146969e-01,  6.93986672e-01,  7.79203263e-01, -2.76098373e+01,\n         7.17146969e-01,  6.84393341e-01,  7.79138875e-01, -1.49873346e+01,\n         7.17146969e-01,  6.76991104e-01,  7.76911382e-01, -8.21472115e+00,\n         7.17146969e-01,  6.62175176e-01,  7.73840743e-01, -4.61604805e+00,\n         7.17146969e-01,  6.64895110e-01,  7.73772073e-01, -2.68066828e+00,\n         7.17146969e-01,  6.55220068e-01,  7.74677170e-01, -1.61588411e+00]),\n 'std_test_score': array([ 0.04742539,  0.08827285,  0.08827285,  0.08827285,  0.04742539,\n         0.05645151,  0.05418581,  2.25914129,  0.04742539,  0.05146689,\n         0.05306348, 27.52603749,  0.04742539,  0.0506954 ,  0.05606186,\n        20.18524987,  0.04742539,  0.04886054,  0.05942618, 11.0090591 ,\n         0.04742539,  0.05080627,  0.0620207 ,  5.92443758,  0.04742539,\n         0.05111405,  0.06216349,  3.38785559,  0.04742539,  0.04805695,\n         0.0644173 ,  2.01591585,  0.04742539,  0.04787142,  0.06740999,\n         1.24864599,  0.04742539,  0.04743212,  0.06709052,  0.79167225,\n         0.04742539,  0.04742539,  0.06557207,  0.50871129,  0.04742539,\n         0.08827285,  0.08827285,  0.08827285,  0.04742539,  0.06460855,\n         0.05418581,  2.25914129,  0.04742539,  0.06176383,  0.05306348,\n        27.52603749,  0.04742539,  0.06154346,  0.05606186, 20.18524987,\n         0.04742539,  0.06141707,  0.05942618, 11.0090591 ,  0.04742539,\n         0.06208354,  0.0620207 ,  5.92443758,  0.04742539,  0.06216026,\n         0.06216349,  3.38785559,  0.04742539,  0.06261742,  0.0644173 ,\n         2.01591585,  0.04742539,  0.06310364,  0.06740999,  1.24864599,\n         0.04742539,  0.06386488,  0.06709052,  0.79167225,  0.04742539,\n         0.06459873,  0.06557207,  0.50871129,  0.04742539,  0.08827285,\n         0.08827285,  0.08827285,  0.04742539,  0.05770231,  0.05418581,\n         2.25914129,  0.04742539,  0.05925738,  0.05306348, 27.52603749,\n         0.04742539,  0.06298705,  0.05606186, 20.18524987,  0.04742539,\n         0.06386027,  0.05942618, 11.0090591 ,  0.04742539,  0.06721996,\n         0.0620207 ,  5.92443758,  0.04742539,  0.06789728,  0.06216349,\n         3.38785559,  0.04742539,  0.06791162,  0.0644173 ,  2.01591585,\n         0.04742539,  0.06788437,  0.06740999,  1.24864599,  0.04742539,\n         0.06888037,  0.06709052,  0.79167225,  0.04742539,  0.07075338,\n         0.06557207,  0.50871129,  0.04742539,  0.08827285,  0.08827285,\n         0.08827285,  0.04742539,  0.05571842,  0.05418581,  2.25914129,\n         0.04742539,  0.06489564,  0.05306348, 27.52603749,  0.04742539,\n         0.0712031 ,  0.05606186, 20.18524987,  0.04742539,  0.07507359,\n         0.05942618, 11.0090591 ,  0.04742539,  0.07598593,  0.0620207 ,\n         5.92443758,  0.04742539,  0.07927138,  0.06216349,  3.38785559,\n         0.04742539,  0.07920773,  0.0644173 ,  2.01591585,  0.04742539,\n         0.08904227,  0.06740999,  1.24864599,  0.04742539,  0.07532939,\n         0.06709052,  0.79167225,  0.04742539,  0.09104044,  0.06557207,\n         0.50871129]),\n 'rank_test_score': array([ 69, 125, 125, 125,  69,  65,  57, 157,  69,  62,  53, 173,  69,\n         63,  47, 169,  69,  64,  27, 165,  69,  66,   1, 161,  69,  67,\n          5, 153,  69, 115,   9, 149,  69, 114,  18, 145,  69,  68,  23,\n        141,  69,  69,  14, 137,  69, 125, 125, 125,  69,  33,  57, 157,\n         69,  38,  53, 173,  69,  37,  47, 169,  69,  31,  27, 165,  69,\n         34,   1, 161,  69,  36,   5, 153,  69,  39,   9, 149,  69,  40,\n         18, 145,  69,  41,  23, 141,  69,  43,  14, 137,  69, 125, 125,\n        125,  69,  13,  57, 157,  69,  22,  53, 173,  69,  32,  47, 169,\n         69,  35,  27, 165,  69,  42,   1, 161,  69,  44,   5, 153,  69,\n         45,   9, 149,  69,  46,  18, 145,  69,  51,  23, 141,  69,  52,\n         14, 137,  69, 125, 125, 125,  69,  61,  57, 157,  69, 116,  53,\n        173,  69, 117,  47, 169,  69, 118,  27, 165,  69, 119,   1, 161,\n         69, 120,   5, 153,  69, 121,   9, 149,  69, 123,  18, 145,  69,\n        122,  23, 141,  69, 124,  14, 137], dtype=int32)}"
     },
     "execution_count": 25,
     "metadata": {},
     "output_type": "execute_result"
    }
   ],
   "source": [
    "reg.cv_results_"
   ],
   "metadata": {
    "collapsed": false,
    "ExecuteTime": {
     "end_time": "2023-10-19T17:28:58.882542Z",
     "start_time": "2023-10-19T17:28:58.876909Z"
    }
   },
   "id": "a18cc45b6054f888"
  },
  {
   "cell_type": "code",
   "execution_count": 22,
   "outputs": [
    {
     "data": {
      "text/plain": "0.7820454902395423"
     },
     "execution_count": 22,
     "metadata": {},
     "output_type": "execute_result"
    }
   ],
   "source": [
    "from sklearn.svm import SVR\n",
    "\n",
    "reg = SVR()\n",
    "\n",
    "reg.fit(X_train, y_train)\n",
    "\n",
    "reg.score(X_test, y_test)"
   ],
   "metadata": {
    "collapsed": false,
    "ExecuteTime": {
     "end_time": "2023-10-19T02:03:10.637764Z",
     "start_time": "2023-10-19T02:03:10.618894Z"
    }
   },
   "id": "84481535c1e053af"
  },
  {
   "cell_type": "code",
   "execution_count": 21,
   "outputs": [
    {
     "data": {
      "text/plain": "0.7136598987214129"
     },
     "execution_count": 21,
     "metadata": {},
     "output_type": "execute_result"
    }
   ],
   "source": [
    "from sklearn.svm import SVR\n",
    "\n",
    "reg = SVR(kernel=\"poly\", degree=4, gamma=0.3)\n",
    "\n",
    "reg.fit(X_train, y_train)\n",
    "\n",
    "reg.score(X_test, y_test)"
   ],
   "metadata": {
    "collapsed": false,
    "ExecuteTime": {
     "end_time": "2023-10-19T02:03:01.279746Z",
     "start_time": "2023-10-19T02:03:00.549171Z"
    }
   },
   "id": "9b095123b4227aa9"
  }
 ],
 "metadata": {
  "kernelspec": {
   "display_name": "Python 3",
   "language": "python",
   "name": "python3"
  },
  "language_info": {
   "codemirror_mode": {
    "name": "ipython",
    "version": 2
   },
   "file_extension": ".py",
   "mimetype": "text/x-python",
   "name": "python",
   "nbconvert_exporter": "python",
   "pygments_lexer": "ipython2",
   "version": "2.7.6"
  }
 },
 "nbformat": 4,
 "nbformat_minor": 5
}
