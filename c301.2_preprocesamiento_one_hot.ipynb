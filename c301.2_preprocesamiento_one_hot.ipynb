{
 "cells": [
  {
   "cell_type": "markdown",
   "source": [
    "# Caso de Estudio - Codificación de valores categóricos en matrices de activación"
   ],
   "metadata": {
    "collapsed": false
   },
   "id": "7abe78a7cede7715"
  },
  {
   "cell_type": "code",
   "execution_count": 5,
   "id": "initial_id",
   "metadata": {
    "collapsed": true,
    "ExecuteTime": {
     "end_time": "2023-10-17T01:27:52.609237Z",
     "start_time": "2023-10-17T01:27:52.582621Z"
    }
   },
   "outputs": [
    {
     "data": {
      "text/plain": "array(['NEGATIVO', 'NEUTRO', 'POSITIVO'], dtype='<U8')"
     },
     "execution_count": 5,
     "metadata": {},
     "output_type": "execute_result"
    }
   ],
   "source": [
    "import numpy as np\n",
    "\n",
    "x1 = [\"POSITIVO\", \"POSITIVO\", \"NEGATIVO\", \"NEUTRO\", \"NEGATIVO\"]\n",
    "\n",
    "np.unique(x1)"
   ]
  },
  {
   "cell_type": "code",
   "execution_count": 6,
   "outputs": [
    {
     "data": {
      "text/plain": "x1\nNEGATIVO    2\nNEUTRO      1\nPOSITIVO    2\nName: x1, dtype: int64"
     },
     "execution_count": 6,
     "metadata": {},
     "output_type": "execute_result"
    }
   ],
   "source": [
    "import pandas as pd\n",
    "\n",
    "pd.DataFrame({ \"x1\": x1 }).groupby(\"x1\")[\"x1\"].agg(\"count\")"
   ],
   "metadata": {
    "collapsed": false,
    "ExecuteTime": {
     "end_time": "2023-10-17T01:27:54.483956Z",
     "start_time": "2023-10-17T01:27:54.480440Z"
    }
   },
   "id": "726b977dc998b66d"
  },
  {
   "cell_type": "code",
   "execution_count": 8,
   "outputs": [
    {
     "data": {
      "text/plain": "         x1  y\n0  POSITIVO  0\n1  POSITIVO  0\n2  NEGATIVO  1\n3    NEUTRO  1\n4  NEGATIVO  0",
      "text/html": "<div>\n<style scoped>\n    .dataframe tbody tr th:only-of-type {\n        vertical-align: middle;\n    }\n\n    .dataframe tbody tr th {\n        vertical-align: top;\n    }\n\n    .dataframe thead th {\n        text-align: right;\n    }\n</style>\n<table border=\"1\" class=\"dataframe\">\n  <thead>\n    <tr style=\"text-align: right;\">\n      <th></th>\n      <th>x1</th>\n      <th>y</th>\n    </tr>\n  </thead>\n  <tbody>\n    <tr>\n      <th>0</th>\n      <td>POSITIVO</td>\n      <td>0</td>\n    </tr>\n    <tr>\n      <th>1</th>\n      <td>POSITIVO</td>\n      <td>0</td>\n    </tr>\n    <tr>\n      <th>2</th>\n      <td>NEGATIVO</td>\n      <td>1</td>\n    </tr>\n    <tr>\n      <th>3</th>\n      <td>NEUTRO</td>\n      <td>1</td>\n    </tr>\n    <tr>\n      <th>4</th>\n      <td>NEGATIVO</td>\n      <td>0</td>\n    </tr>\n  </tbody>\n</table>\n</div>"
     },
     "execution_count": 8,
     "metadata": {},
     "output_type": "execute_result"
    }
   ],
   "source": [
    "y = [0, 0, 1, 1, 0]\n",
    "\n",
    "pd.DataFrame({\"x1\": x1, \"y\": y})"
   ],
   "metadata": {
    "collapsed": false,
    "ExecuteTime": {
     "end_time": "2023-10-17T01:29:17.874045Z",
     "start_time": "2023-10-17T01:29:17.868133Z"
    }
   },
   "id": "7df19b3d555e6bc"
  },
  {
   "cell_type": "code",
   "execution_count": 10,
   "outputs": [
    {
     "data": {
      "text/plain": "         x1         x2  y\n0  POSITIVO     COMPRA  0\n1  POSITIVO  NO-COMPRA  0\n2  NEGATIVO     COMPRA  1\n3    NEUTRO  NO-COMPRA  1\n4  NEGATIVO  NO-COMPRA  0",
      "text/html": "<div>\n<style scoped>\n    .dataframe tbody tr th:only-of-type {\n        vertical-align: middle;\n    }\n\n    .dataframe tbody tr th {\n        vertical-align: top;\n    }\n\n    .dataframe thead th {\n        text-align: right;\n    }\n</style>\n<table border=\"1\" class=\"dataframe\">\n  <thead>\n    <tr style=\"text-align: right;\">\n      <th></th>\n      <th>x1</th>\n      <th>x2</th>\n      <th>y</th>\n    </tr>\n  </thead>\n  <tbody>\n    <tr>\n      <th>0</th>\n      <td>POSITIVO</td>\n      <td>COMPRA</td>\n      <td>0</td>\n    </tr>\n    <tr>\n      <th>1</th>\n      <td>POSITIVO</td>\n      <td>NO-COMPRA</td>\n      <td>0</td>\n    </tr>\n    <tr>\n      <th>2</th>\n      <td>NEGATIVO</td>\n      <td>COMPRA</td>\n      <td>1</td>\n    </tr>\n    <tr>\n      <th>3</th>\n      <td>NEUTRO</td>\n      <td>NO-COMPRA</td>\n      <td>1</td>\n    </tr>\n    <tr>\n      <th>4</th>\n      <td>NEGATIVO</td>\n      <td>NO-COMPRA</td>\n      <td>0</td>\n    </tr>\n  </tbody>\n</table>\n</div>"
     },
     "execution_count": 10,
     "metadata": {},
     "output_type": "execute_result"
    }
   ],
   "source": [
    "x2 = [\"COMPRA\", \"NO-COMPRA\", \"COMPRA\", \"NO-COMPRA\", \"NO-COMPRA\"]\n",
    "\n",
    "pd.DataFrame({\"x1\": x1, \"x2\": x2, \"y\": y})"
   ],
   "metadata": {
    "collapsed": false,
    "ExecuteTime": {
     "end_time": "2023-10-17T01:30:57.144470Z",
     "start_time": "2023-10-17T01:30:57.138880Z"
    }
   },
   "id": "a584635a68371ce7"
  },
  {
   "cell_type": "code",
   "execution_count": 11,
   "outputs": [
    {
     "data": {
      "text/plain": "array([['POSITIVO', 'COMPRA'],\n       ['POSITIVO', 'NO-COMPRA'],\n       ['NEGATIVO', 'COMPRA'],\n       ['NEUTRO', 'NO-COMPRA'],\n       ['NEGATIVO', 'NO-COMPRA']], dtype=object)"
     },
     "execution_count": 11,
     "metadata": {},
     "output_type": "execute_result"
    }
   ],
   "source": [
    "X = pd.DataFrame({\"x1\": x1, \"x2\": x2}).values\n",
    "\n",
    "X"
   ],
   "metadata": {
    "collapsed": false,
    "ExecuteTime": {
     "end_time": "2023-10-17T01:31:48.162274Z",
     "start_time": "2023-10-17T01:31:48.155655Z"
    }
   },
   "id": "959af7b3b002484a"
  },
  {
   "cell_type": "code",
   "execution_count": 19,
   "outputs": [
    {
     "data": {
      "text/plain": "[array(['NEGATIVO', 'NEUTRO', 'POSITIVO'], dtype=object),\n array(['COMPRA', 'NO-COMPRA'], dtype=object)]"
     },
     "execution_count": 19,
     "metadata": {},
     "output_type": "execute_result"
    }
   ],
   "source": [
    "from sklearn.preprocessing import OneHotEncoder\n",
    "\n",
    "enc = OneHotEncoder()\n",
    "\n",
    "enc.fit(X)\n",
    "\n",
    "enc.categories_"
   ],
   "metadata": {
    "collapsed": false,
    "ExecuteTime": {
     "end_time": "2023-10-17T01:37:01.255650Z",
     "start_time": "2023-10-17T01:37:01.252481Z"
    }
   },
   "id": "70239044dcdc355"
  },
  {
   "cell_type": "code",
   "execution_count": 21,
   "outputs": [
    {
     "data": {
      "text/plain": "array([[0., 0., 1., 1., 0.],\n       [0., 0., 1., 0., 1.],\n       [1., 0., 0., 1., 0.],\n       [0., 1., 0., 0., 1.],\n       [1., 0., 0., 0., 1.]])"
     },
     "execution_count": 21,
     "metadata": {},
     "output_type": "execute_result"
    }
   ],
   "source": [
    "enc.transform(X).toarray()"
   ],
   "metadata": {
    "collapsed": false,
    "ExecuteTime": {
     "end_time": "2023-10-17T01:37:43.657693Z",
     "start_time": "2023-10-17T01:37:43.650666Z"
    }
   },
   "id": "22d9db9e94e7047b"
  },
  {
   "cell_type": "markdown",
   "source": [
    "Hasta este punto nosotros disponemos de un eje `x1` categórico y un eje `x2` también categórico, el cual podemos codificar en 5 columnas, 3 columnas para representar las categorías de `x1` y 2 columnas para las posibles categorías de `x2`.\n",
    "\n",
    "Pero, si hubiera una tercera columna `x3` no categórica, ¿Qué pasaría en el flujo? "
   ],
   "metadata": {
    "collapsed": false
   },
   "id": "6ac3f7bdfff0b748"
  },
  {
   "cell_type": "code",
   "execution_count": 22,
   "outputs": [
    {
     "data": {
      "text/plain": "array([['POSITIVO', 'COMPRA', 100],\n       ['POSITIVO', 'NO-COMPRA', 120],\n       ['NEGATIVO', 'COMPRA', 80],\n       ['NEUTRO', 'NO-COMPRA', 67],\n       ['NEGATIVO', 'NO-COMPRA', 90]], dtype=object)"
     },
     "execution_count": 22,
     "metadata": {},
     "output_type": "execute_result"
    }
   ],
   "source": [
    "x3 = [100, 120, 80, 67, 90]\n",
    "\n",
    "import pandas as pd\n",
    "\n",
    "X2 = pd.DataFrame({ \"x1\": x1, \"x2\": x2, \"x3\": x3 }).values\n",
    "\n",
    "X2"
   ],
   "metadata": {
    "collapsed": false,
    "ExecuteTime": {
     "end_time": "2023-10-17T01:43:01.834446Z",
     "start_time": "2023-10-17T01:43:01.831876Z"
    }
   },
   "id": "f7db0da0503fdc93"
  },
  {
   "cell_type": "code",
   "execution_count": 23,
   "outputs": [
    {
     "data": {
      "text/plain": "[array(['NEGATIVO', 'NEUTRO', 'POSITIVO'], dtype=object),\n array(['COMPRA', 'NO-COMPRA'], dtype=object),\n array([67, 80, 90, 100, 120], dtype=object)]"
     },
     "execution_count": 23,
     "metadata": {},
     "output_type": "execute_result"
    }
   ],
   "source": [
    "from sklearn.preprocessing import OneHotEncoder\n",
    "\n",
    "enc = OneHotEncoder()\n",
    "\n",
    "enc.fit(X2)\n",
    "\n",
    "enc.categories_"
   ],
   "metadata": {
    "collapsed": false,
    "ExecuteTime": {
     "end_time": "2023-10-17T01:43:20.431405Z",
     "start_time": "2023-10-17T01:43:20.425986Z"
    }
   },
   "id": "5f3e3d5ddc2e3a80"
  },
  {
   "cell_type": "code",
   "execution_count": 25,
   "outputs": [
    {
     "data": {
      "text/plain": "array([[0., 0., 1., 1., 0.],\n       [0., 0., 1., 0., 1.],\n       [1., 0., 0., 1., 0.],\n       [0., 1., 0., 0., 1.],\n       [1., 0., 0., 0., 1.]])"
     },
     "execution_count": 25,
     "metadata": {},
     "output_type": "execute_result"
    }
   ],
   "source": [
    "Xe = enc.fit_transform(X[:, 0:2]).toarray()\n",
    "\n",
    "Xe"
   ],
   "metadata": {
    "collapsed": false,
    "ExecuteTime": {
     "end_time": "2023-10-17T01:44:55.642720Z",
     "start_time": "2023-10-17T01:44:55.604135Z"
    }
   },
   "id": "1c7d9e2894037bc8"
  },
  {
   "cell_type": "code",
   "execution_count": 28,
   "outputs": [
    {
     "data": {
      "text/plain": "array([[0., 0., 1., 1., 0., 0., 0., 0., 1., 0.],\n       [0., 0., 1., 0., 1., 0., 0., 0., 0., 1.],\n       [1., 0., 0., 1., 0., 0., 1., 0., 0., 0.],\n       [0., 1., 0., 0., 1., 1., 0., 0., 0., 0.],\n       [1., 0., 0., 0., 1., 0., 0., 1., 0., 0.]])"
     },
     "execution_count": 28,
     "metadata": {},
     "output_type": "execute_result"
    }
   ],
   "source": [
    "Xe = enc.fit_transform(X2).toarray()\n",
    "\n",
    "Xe"
   ],
   "metadata": {
    "collapsed": false,
    "ExecuteTime": {
     "end_time": "2023-10-17T01:45:14.393053Z",
     "start_time": "2023-10-17T01:45:14.362153Z"
    }
   },
   "id": "de35675c1cae8c7f"
  }
 ],
 "metadata": {
  "kernelspec": {
   "display_name": "Python 3",
   "language": "python",
   "name": "python3"
  },
  "language_info": {
   "codemirror_mode": {
    "name": "ipython",
    "version": 2
   },
   "file_extension": ".py",
   "mimetype": "text/x-python",
   "name": "python",
   "nbconvert_exporter": "python",
   "pygments_lexer": "ipython2",
   "version": "2.7.6"
  }
 },
 "nbformat": 4,
 "nbformat_minor": 5
}
