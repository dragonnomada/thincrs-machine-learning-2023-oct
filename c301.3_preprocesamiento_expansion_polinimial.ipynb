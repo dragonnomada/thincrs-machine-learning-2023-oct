{
 "cells": [
  {
   "cell_type": "markdown",
   "source": [
    "# Caso de Estudio - Expansión polinomial sobre el conjunto de datos de la Planta Iris "
   ],
   "metadata": {
    "collapsed": false
   },
   "id": "ba366f10a442fe16"
  },
  {
   "cell_type": "code",
   "execution_count": 1,
   "id": "initial_id",
   "metadata": {
    "collapsed": true,
    "ExecuteTime": {
     "end_time": "2023-10-17T02:03:12.093694Z",
     "start_time": "2023-10-17T02:03:12.082623Z"
    }
   },
   "outputs": [
    {
     "data": {
      "text/plain": "     sepal.length  sepal.width  petal.length  petal.width     variety\n60            5.0          2.0           3.5          1.0  Versicolor\n73            6.1          2.8           4.7          1.2  Versicolor\n114           5.8          2.8           5.1          2.4   Virginica\n11            4.8          3.4           1.6          0.2      Setosa\n62            6.0          2.2           4.0          1.0  Versicolor",
      "text/html": "<div>\n<style scoped>\n    .dataframe tbody tr th:only-of-type {\n        vertical-align: middle;\n    }\n\n    .dataframe tbody tr th {\n        vertical-align: top;\n    }\n\n    .dataframe thead th {\n        text-align: right;\n    }\n</style>\n<table border=\"1\" class=\"dataframe\">\n  <thead>\n    <tr style=\"text-align: right;\">\n      <th></th>\n      <th>sepal.length</th>\n      <th>sepal.width</th>\n      <th>petal.length</th>\n      <th>petal.width</th>\n      <th>variety</th>\n    </tr>\n  </thead>\n  <tbody>\n    <tr>\n      <th>60</th>\n      <td>5.0</td>\n      <td>2.0</td>\n      <td>3.5</td>\n      <td>1.0</td>\n      <td>Versicolor</td>\n    </tr>\n    <tr>\n      <th>73</th>\n      <td>6.1</td>\n      <td>2.8</td>\n      <td>4.7</td>\n      <td>1.2</td>\n      <td>Versicolor</td>\n    </tr>\n    <tr>\n      <th>114</th>\n      <td>5.8</td>\n      <td>2.8</td>\n      <td>5.1</td>\n      <td>2.4</td>\n      <td>Virginica</td>\n    </tr>\n    <tr>\n      <th>11</th>\n      <td>4.8</td>\n      <td>3.4</td>\n      <td>1.6</td>\n      <td>0.2</td>\n      <td>Setosa</td>\n    </tr>\n    <tr>\n      <th>62</th>\n      <td>6.0</td>\n      <td>2.2</td>\n      <td>4.0</td>\n      <td>1.0</td>\n      <td>Versicolor</td>\n    </tr>\n  </tbody>\n</table>\n</div>"
     },
     "execution_count": 1,
     "metadata": {},
     "output_type": "execute_result"
    }
   ],
   "source": [
    "import pandas as pd\n",
    "\n",
    "iris = pd.read_csv(\"datasets/iris.csv\")\n",
    "\n",
    "iris.sample(5)"
   ]
  },
  {
   "cell_type": "code",
   "execution_count": 2,
   "outputs": [
    {
     "data": {
      "text/plain": "array([[5.1, 3.5],\n       [4.9, 3. ],\n       [4.7, 3.2],\n       [4.6, 3.1],\n       [5. , 3.6]])"
     },
     "execution_count": 2,
     "metadata": {},
     "output_type": "execute_result"
    }
   ],
   "source": [
    "X = iris[ [\"sepal.length\", \"sepal.width\"] ].values\n",
    "\n",
    "X[:5]"
   ],
   "metadata": {
    "collapsed": false,
    "ExecuteTime": {
     "end_time": "2023-10-17T02:03:12.099147Z",
     "start_time": "2023-10-17T02:03:12.095825Z"
    }
   },
   "id": "d636844671047e6c"
  },
  {
   "cell_type": "code",
   "execution_count": 3,
   "outputs": [
    {
     "data": {
      "text/plain": "array(['Setosa', 'Setosa', 'Setosa', 'Setosa', 'Setosa'], dtype=object)"
     },
     "execution_count": 3,
     "metadata": {},
     "output_type": "execute_result"
    }
   ],
   "source": [
    "y = iris[\"variety\"].values\n",
    "\n",
    "y[:5]"
   ],
   "metadata": {
    "collapsed": false,
    "ExecuteTime": {
     "end_time": "2023-10-17T02:03:12.104805Z",
     "start_time": "2023-10-17T02:03:12.101522Z"
    }
   },
   "id": "40937adde6bfbf16"
  },
  {
   "cell_type": "code",
   "execution_count": 4,
   "outputs": [
    {
     "name": "stderr",
     "output_type": "stream",
     "text": [
      "/Users/dragonnomada/Desktop/thincrs-machine-learning-2023-oct/venv/lib/python3.11/site-packages/sklearn/neural_network/_multilayer_perceptron.py:691: ConvergenceWarning: Stochastic Optimizer: Maximum iterations (200) reached and the optimization hasn't converged yet.\n",
      "  warnings.warn(\n"
     ]
    },
    {
     "data": {
      "text/plain": "0.72"
     },
     "execution_count": 4,
     "metadata": {},
     "output_type": "execute_result"
    }
   ],
   "source": [
    "from sklearn.neural_network import MLPClassifier\n",
    "\n",
    "clf = MLPClassifier()\n",
    "\n",
    "clf.fit(X, y)\n",
    "\n",
    "clf.score(X, y)"
   ],
   "metadata": {
    "collapsed": false,
    "ExecuteTime": {
     "end_time": "2023-10-17T02:03:12.314989Z",
     "start_time": "2023-10-17T02:03:12.105378Z"
    }
   },
   "id": "cf7fed6a65e0a2b5"
  },
  {
   "cell_type": "code",
   "execution_count": 5,
   "outputs": [
    {
     "data": {
      "text/plain": "array([[ 1.  ,  5.1 ,  3.5 , 26.01, 17.85, 12.25],\n       [ 1.  ,  4.9 ,  3.  , 24.01, 14.7 ,  9.  ],\n       [ 1.  ,  4.7 ,  3.2 , 22.09, 15.04, 10.24],\n       [ 1.  ,  4.6 ,  3.1 , 21.16, 14.26,  9.61],\n       [ 1.  ,  5.  ,  3.6 , 25.  , 18.  , 12.96]])"
     },
     "execution_count": 5,
     "metadata": {},
     "output_type": "execute_result"
    }
   ],
   "source": [
    "from sklearn.preprocessing import PolynomialFeatures\n",
    "\n",
    "Xp = PolynomialFeatures(2).fit_transform(X)\n",
    "\n",
    "Xp[:5]"
   ],
   "metadata": {
    "collapsed": false,
    "ExecuteTime": {
     "end_time": "2023-10-17T02:03:12.319516Z",
     "start_time": "2023-10-17T02:03:12.316437Z"
    }
   },
   "id": "bccdbe5650a63ff6"
  },
  {
   "cell_type": "code",
   "execution_count": 6,
   "outputs": [
    {
     "name": "stderr",
     "output_type": "stream",
     "text": [
      "/Users/dragonnomada/Desktop/thincrs-machine-learning-2023-oct/venv/lib/python3.11/site-packages/sklearn/neural_network/_multilayer_perceptron.py:691: ConvergenceWarning: Stochastic Optimizer: Maximum iterations (200) reached and the optimization hasn't converged yet.\n",
      "  warnings.warn(\n"
     ]
    },
    {
     "data": {
      "text/plain": "0.8066666666666666"
     },
     "execution_count": 6,
     "metadata": {},
     "output_type": "execute_result"
    }
   ],
   "source": [
    "from sklearn.neural_network import MLPClassifier\n",
    "\n",
    "clf = MLPClassifier()\n",
    "\n",
    "clf.fit(Xp, y)\n",
    "\n",
    "clf.score(Xp, y)"
   ],
   "metadata": {
    "collapsed": false,
    "ExecuteTime": {
     "end_time": "2023-10-17T02:03:12.385950Z",
     "start_time": "2023-10-17T02:03:12.320622Z"
    }
   },
   "id": "3ab47f0239b15489"
  },
  {
   "cell_type": "code",
   "execution_count": 7,
   "outputs": [
    {
     "data": {
      "text/plain": "array([[  1.   ,   5.1  ,   3.5  ,  26.01 ,  17.85 ,  12.25 , 132.651,\n         91.035,  62.475,  42.875],\n       [  1.   ,   4.9  ,   3.   ,  24.01 ,  14.7  ,   9.   , 117.649,\n         72.03 ,  44.1  ,  27.   ],\n       [  1.   ,   4.7  ,   3.2  ,  22.09 ,  15.04 ,  10.24 , 103.823,\n         70.688,  48.128,  32.768],\n       [  1.   ,   4.6  ,   3.1  ,  21.16 ,  14.26 ,   9.61 ,  97.336,\n         65.596,  44.206,  29.791],\n       [  1.   ,   5.   ,   3.6  ,  25.   ,  18.   ,  12.96 , 125.   ,\n         90.   ,  64.8  ,  46.656]])"
     },
     "execution_count": 7,
     "metadata": {},
     "output_type": "execute_result"
    }
   ],
   "source": [
    "from sklearn.preprocessing import PolynomialFeatures\n",
    "\n",
    "Xp3 = PolynomialFeatures(3).fit_transform(X)\n",
    "\n",
    "Xp3[:5]"
   ],
   "metadata": {
    "collapsed": false,
    "ExecuteTime": {
     "end_time": "2023-10-17T02:03:12.387523Z",
     "start_time": "2023-10-17T02:03:12.384086Z"
    }
   },
   "id": "dd12cb59e2d1873a"
  },
  {
   "cell_type": "code",
   "execution_count": 8,
   "outputs": [
    {
     "data": {
      "text/plain": "0.6266666666666667"
     },
     "execution_count": 8,
     "metadata": {},
     "output_type": "execute_result"
    }
   ],
   "source": [
    "from sklearn.neural_network import MLPClassifier\n",
    "\n",
    "clf = MLPClassifier()\n",
    "\n",
    "clf.fit(Xp3, y)\n",
    "\n",
    "clf.score(Xp3, y)"
   ],
   "metadata": {
    "collapsed": false,
    "ExecuteTime": {
     "end_time": "2023-10-17T02:03:12.479796Z",
     "start_time": "2023-10-17T02:03:12.389071Z"
    }
   },
   "id": "360868e7c24dc641"
  },
  {
   "cell_type": "code",
   "execution_count": 11,
   "outputs": [
    {
     "name": "stdout",
     "output_type": "stream",
     "text": [
      "0.82 (150, 6)\n",
      "0.8066666666666666 (150, 10)\n",
      "0.8266666666666667 (150, 15)\n",
      "0.7866666666666666 (150, 21)\n",
      "0.7733333333333333 (150, 28)\n"
     ]
    }
   ],
   "source": [
    "from sklearn.preprocessing import PolynomialFeatures\n",
    "from sklearn.svm import SVC\n",
    "\n",
    "for degree in [2, 3, 4, 5, 6]:\n",
    "    Xp = PolynomialFeatures(degree).fit_transform(X)\n",
    "    clf = SVC(kernel=\"linear\")\n",
    "    clf.fit(Xp, y)\n",
    "    print(clf.score(Xp, y), Xp.shape)"
   ],
   "metadata": {
    "collapsed": false,
    "ExecuteTime": {
     "end_time": "2023-10-17T02:03:43.622094Z",
     "start_time": "2023-10-17T02:03:33.001527Z"
    }
   },
   "id": "8e3de349d1e86519"
  }
 ],
 "metadata": {
  "kernelspec": {
   "display_name": "Python 3",
   "language": "python",
   "name": "python3"
  },
  "language_info": {
   "codemirror_mode": {
    "name": "ipython",
    "version": 2
   },
   "file_extension": ".py",
   "mimetype": "text/x-python",
   "name": "python",
   "nbconvert_exporter": "python",
   "pygments_lexer": "ipython2",
   "version": "2.7.6"
  }
 },
 "nbformat": 4,
 "nbformat_minor": 5
}
